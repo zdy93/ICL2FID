{
 "cells": [
  {
   "cell_type": "code",
   "execution_count": 13,
   "id": "f5198684-0eb5-4959-941e-59d467a9b688",
   "metadata": {
    "tags": [
     "parameters"
    ]
   },
   "outputs": [],
   "source": [
    "few_shot_path = '/scratch/dzhang5/LLM/TWEET-FID/expert.train.short.csv'\n",
    "verify_few_shot_path = '/scratch/dzhang5/LLM/TWEET-FID/Food-verify.expert.train.short.csv'\n",
    "data_path = '/scratch/dzhang5/LLM/TWEET-FID/expert.smalltest.csv'\n",
    "output_dir = '/scratch/dzhang5/LLM/TWEET-FID/test-results-autolabel-ner-qa/0.9'\n",
    "model_name = \"refuel-llm\"\n",
    "label_column = 'Food_answer'\n",
    "text_column = 'context'\n",
    "example_selection_label_column = 'has_Food'\n",
    "label_symbol = \"^^^^\"\n",
    "few_shot_num = 8\n",
    "few_shot_selection = \"semantic_similarity\"\n",
    "verify_few_shot_selection = \"semantic_similarity\"\n",
    "token_path = \"/home/dzhang5/.cache/huggingface/token\"\n",
    "cache=False\n",
    "console_output=True\n",
    "temperature=0.1\n",
    "verify=False\n",
    "label_version='v1'\n",
    "task_version='v2'\n",
    "random_shuffle_examples = True\n",
    "random_shuffle_examples_seed = 1"
   ]
  },
  {
   "cell_type": "markdown",
   "id": "6bff44b7-dd3e-4e0a-abb4-aa59b62cd78a",
   "metadata": {},
   "source": [
    "# Generation Stage"
   ]
  },
  {
   "cell_type": "code",
   "execution_count": 2,
   "id": "7be56d66-8b3a-48f1-ba9b-5aea49f4b4e6",
   "metadata": {},
   "outputs": [],
   "source": [
    "from autolabel.schema import ModelProvider, TaskType\n",
    "from autolabel.models import register_model, MODEL_REGISTRY\n",
    "from hf_pipeline_new import HFPipelineLLMNew\n",
    "from few_shot_new import NewAutoLabelConfig, NewExampleSelectorFactory\n",
    "from autolabel.few_shot import ExampleSelectorFactory\n",
    "from template_inst import update_inst_mode\n",
    "from named_entity_recognition_new import NewNamedEntityRecognitionTask\n",
    "from classification_new import NewClassificationTask\n",
    "from autolabel.tasks import TASK_TYPE_TO_IMPLEMENTATION \n",
    "from prompt_template import load_ner_task_prompt\n",
    "import sys"
   ]
  },
  {
   "cell_type": "code",
   "execution_count": 3,
   "id": "30bc6fcd-7a0f-4e12-9116-4879e308abd4",
   "metadata": {},
   "outputs": [],
   "source": [
    "update_inst_mode(model_name)\n",
    "TASK_TYPE_TO_IMPLEMENTATION[TaskType.NAMED_ENTITY_RECOGNITION] = NewNamedEntityRecognitionTask\n",
    "TASK_TYPE_TO_IMPLEMENTATION[TaskType.CLASSIFICATION] = NewClassificationTask\n",
    "sys.modules['autolabel.labeler'].ExampleSelectorFactory = NewExampleSelectorFactory\n",
    "register_model(ModelProvider.HUGGINGFACE_PIPELINE, HFPipelineLLMNew)"
   ]
  },
  {
   "cell_type": "code",
   "execution_count": 4,
   "id": "d67c0a78-0a28-4ad1-84d2-9edf12534aed",
   "metadata": {},
   "outputs": [],
   "source": [
    "from autolabel import LabelingAgent, AutolabelDataset\n",
    "import json\n",
    "import os\n",
    "import pandas as pd"
   ]
  },
  {
   "cell_type": "code",
   "execution_count": 5,
   "id": "0d69efda-a796-4ba8-9b7a-a43bc10db380",
   "metadata": {},
   "outputs": [
    {
     "name": "stdout",
     "output_type": "stream",
     "text": [
      "Token will not been saved to git credential helper. Pass `add_to_git_credential=True` if you want to set the git credential as well.\n",
      "Token is valid (permission: read).\n",
      "Your token has been saved to /home/dzhang5/.cache/huggingface/token\n",
      "Login successful\n"
     ]
    }
   ],
   "source": [
    "with open(token_path) as tfile:\n",
    "    token_str = tfile.read()\n",
    "\n",
    "from huggingface_hub import login\n",
    "login(token=token_str)"
   ]
  },
  {
   "cell_type": "code",
   "execution_count": 6,
   "id": "ae5043f6-302a-4c91-bc1c-547b760378ab",
   "metadata": {},
   "outputs": [],
   "source": [
    "no_auto = [\"microsoft/prophetnet\", \"microsoft/phi-2\", \"google/pegasus-x\"]\n",
    "if any([pre in model_name for pre in no_auto]):\n",
    "    device_map = None\n",
    "else:\n",
    "    device_map = \"auto\""
   ]
  },
  {
   "cell_type": "code",
   "execution_count": 15,
   "id": "292533f9-7851-4717-ade0-0f1ab70dfebd",
   "metadata": {},
   "outputs": [],
   "source": [
    "if not os.path.exists(output_dir):\n",
    "    # Create the directory\n",
    "    os.makedirs(output_dir)\n",
    "label_type = label_column.split('_')[0]\n",
    "output_name = os.path.split(model_name)[-1] + '_' + few_shot_selection + '_' + label_type + '_' + os.path.split(data_path)[-1]\n",
    "output_path = os.path.join(output_dir, output_name)"
   ]
  },
  {
   "cell_type": "code",
   "execution_count": 8,
   "id": "7a00bc18-8124-4baf-8c6b-65bb9b63482a",
   "metadata": {},
   "outputs": [],
   "source": [
    "refuel_models = [\"refuel-llm\", \"llama-13b-chat\"]\n",
    "if model_name in refuel_models:\n",
    "    provider = \"refuel\"\n",
    "    em_provider = \"huggingface_pipeline\"\n",
    "    model_params = {\"max_length\":4096, \"temperature\": temperature}\n",
    "    task_name = f\"FoodborneIllnessIncidentTweetNERQA_{few_shot_selection}_{label_type}_{model_name}\"\n",
    "elif model_name.startswith('gpt'):\n",
    "    provider = \"openai\"\n",
    "    em_provider = \"openai\"\n",
    "    model_params = {\"max_tokens\":4096, \"temperature\": temperature}\n",
    "    task_name = f\"FoodborneIllnessIncidentTweetNERQA_{few_shot_selection}_{label_type}_{model_name}\"\n",
    "else:\n",
    "    provider = \"huggingface_pipeline\"\n",
    "    em_provider = \"huggingface_pipeline\"\n",
    "    model_params = {\"max_length\":4096, \"temperature\": temperature,\n",
    "                    \"quantize\": 16, \"device_map\": device_map,\n",
    "                    \"token\": token_str}\n",
    "    task_name = f\"FoodborneIllnessIncidentTweetNERQA_{few_shot_selection}_{label_type}_{model_name.split('/')[1]}\""
   ]
  },
  {
   "cell_type": "code",
   "execution_count": 9,
   "id": "24584382-9105-4e3b-933d-82647a77d770",
   "metadata": {},
   "outputs": [],
   "source": [
    "sym_len = len(label_symbol)\n",
    "label_prefix, label_suffix, label_description, task_guideline, output_guideline = load_ner_task_prompt(label_type, label_symbol, label_version, task_version, False)"
   ]
  },
  {
   "cell_type": "code",
   "execution_count": 10,
   "id": "24db5348-dfef-4597-b09c-8d6d6947553c",
   "metadata": {},
   "outputs": [],
   "source": [
    "test_data = pd.read_csv(data_path)"
   ]
  },
  {
   "cell_type": "markdown",
   "id": "4c1e32dd-03c5-4b1c-bab3-cdcaf4f5ccf0",
   "metadata": {},
   "source": [
    "# Verification Stage"
   ]
  },
  {
   "cell_type": "code",
   "execution_count": 16,
   "id": "81437082-c023-4366-84fb-887549328490",
   "metadata": {},
   "outputs": [],
   "source": [
    "last_results = pd.read_csv(output_path) "
   ]
  },
  {
   "cell_type": "code",
   "execution_count": 17,
   "id": "3107cb00-b025-4ac2-9974-ff9c7febaab5",
   "metadata": {},
   "outputs": [],
   "source": [
    "from utils import get_predictions, check_prediction, get_verify_df, construct_results"
   ]
  },
  {
   "cell_type": "code",
   "execution_count": 18,
   "id": "620ea1cf-edcd-4571-b933-9ab481996026",
   "metadata": {},
   "outputs": [],
   "source": [
    "verify_question_column = f'{label_type}_verify_question'\n",
    "verify_answer_column = f'{label_type}_verify_answer'\n",
    "pos_column = f'{label_column}_pos'"
   ]
  },
  {
   "cell_type": "code",
   "execution_count": 19,
   "id": "8556623a-3c8e-4efc-8adf-882360d5aecb",
   "metadata": {},
   "outputs": [],
   "source": [
    "test_data[[verify_question_column, pos_column]] = last_results[[f'{label_column}_label']].apply(lambda x: get_predictions(x[f'{label_column}_label'], label_symbol), axis=1,result_type=\"expand\")"
   ]
  },
  {
   "cell_type": "code",
   "execution_count": 20,
   "id": "28274a9b-c585-4c3a-948e-9282f140e82f",
   "metadata": {},
   "outputs": [],
   "source": [
    "test_data[verify_answer_column] = test_data[['CategorizedLabels', verify_question_column]].apply(lambda x: check_prediction(x['CategorizedLabels'], x[verify_question_column], label_type), axis=1)"
   ]
  },
  {
   "cell_type": "code",
   "execution_count": 21,
   "id": "1b9fcf33-04ac-4ccf-b39d-e6b3b9cae196",
   "metadata": {},
   "outputs": [],
   "source": [
    "new_test_data = get_verify_df(test_data, verify_question_column, verify_answer_column, text_column, pos_column)"
   ]
  },
  {
   "cell_type": "code",
   "execution_count": 22,
   "id": "f39e79a1-8832-48fe-95c8-5ebb1a0efb89",
   "metadata": {},
   "outputs": [],
   "source": [
    "verify_task_guideline = (f\"You are an expert at identifying {label_type} entities that are related to foodborne illness incident from text. \" \n",
    "                         f\"In the given text, your task is to verify if a given word is a {label_type} entity that {label_description[label_type].replace('are ', 'is ').replace('.', '')} in the given text. \"\n",
    "                         \"Use the following examples as a guide for your analysis and format your responses similarly.\")\n",
    "question = f'''Do you think the word \"{{{verify_question_column}}}\" in the given text is a {label_type} entity that {label_description[label_type].replace('are ', 'is ').replace('.', '')}?'''"
   ]
  },
  {
   "cell_type": "code",
   "execution_count": 23,
   "id": "f299170c-dee7-4663-9c69-ba5ba1310e21",
   "metadata": {},
   "outputs": [],
   "source": [
    "if verify_few_shot_selection == few_shot_selection:\n",
    "    output_verify_name = os.path.split(model_name)[-1] + '_' + few_shot_selection + '_' + label_type + '_verify_' + os.path.split(data_path)[-1]\n",
    "    output_verify_path = os.path.join(output_dir, output_verify_name)\n",
    "    output_final_name = os.path.split(model_name)[-1] + '_' + few_shot_selection + '_' + label_type + '_final_' + os.path.split(data_path)[-1]\n",
    "else:\n",
    "    output_verify_name = os.path.split(model_name)[-1] + '_' + few_shot_selection + '_' + label_type + '_verify_' + verify_few_shot_selection + '_' + os.path.split(data_path)[-1]\n",
    "    output_verify_path = os.path.join(output_dir, output_verify_name)\n",
    "    output_final_name = os.path.split(model_name)[-1] + '_' + few_shot_selection + '_' + label_type + '_final_' + verify_few_shot_selection + '_' + os.path.split(data_path)[-1]\n",
    "output_final_path = os.path.join(output_dir, output_final_name)"
   ]
  },
  {
   "cell_type": "code",
   "execution_count": 24,
   "id": "a28d97b0-87b4-40b7-bc43-7135e3cbe7e9",
   "metadata": {},
   "outputs": [],
   "source": [
    "config = {\n",
    "    \"task_name\": task_name+'_verification',\n",
    "    \"task_type\": \"classification\",\n",
    "    \"dataset\": {\n",
    "        \"label_column\": verify_answer_column,\n",
    "        \"text_column\": text_column,\n",
    "        \"delimiter\": \",\",\n",
    "        \"label_description\": label_description \n",
    "    },\n",
    "    \"model\": {\n",
    "        \"provider\": provider,\n",
    "        \"name\": model_name,\n",
    "        \"params\": model_params\n",
    "    },\n",
    "    \"embedding\": {\n",
    "        \"provider\": em_provider,\n",
    "    },\n",
    "    \"prompt\": {\n",
    "        \"task_guidelines\": verify_task_guideline,\n",
    "        \"output_guidelines\": f'''You will answer with just the correct output label (\"Yes\" or \"No\") and nothing else.''',\n",
    "        \"labels\": [\n",
    "            \"Yes\",\n",
    "            \"No\"\n",
    "        ],\n",
    "        \"few_shot_examples\": verify_few_shot_path,\n",
    "        \"few_shot_selection\": verify_few_shot_selection,\n",
    "        \"few_shot_num\": few_shot_num,\n",
    "        \"random_shuffle_examples\": random_shuffle_examples,\n",
    "        \"random_shuffle_examples_seed\": random_shuffle_examples_seed,\n",
    "        \"example_template\": f\"Context: {{{text_column}}}\\nQuestion: {question}\\nAnswer: {{{verify_answer_column}}}\"\n",
    "    }\n",
    "}\n",
    "\n",
    "config = NewAutoLabelConfig(config)"
   ]
  },
  {
   "cell_type": "code",
   "execution_count": 25,
   "id": "27e8d888-20f0-4e12-9dbd-f52ca407b1ab",
   "metadata": {},
   "outputs": [
    {
     "name": "stderr",
     "output_type": "stream",
     "text": [
      "2024-03-11 15:07:53 autolabel.labeler WARNING: cache parameter is deprecated and will be removed soon. Please use generation_cache and transform_cache instead.\n"
     ]
    }
   ],
   "source": [
    "agent = LabelingAgent(config=config, console_output=console_output, cache=cache)"
   ]
  },
  {
   "cell_type": "code",
   "execution_count": 26,
   "id": "92763312-ebaa-48b2-9d85-546c37558f33",
   "metadata": {},
   "outputs": [],
   "source": [
    "verify_ds = AutolabelDataset(new_test_data.drop(['text_idx',pos_column], axis=1), config=config)"
   ]
  },
  {
   "cell_type": "code",
   "execution_count": 27,
   "id": "2ad700d3-2a4e-4738-872b-c3fd8e13667f",
   "metadata": {},
   "outputs": [
    {
     "name": "stderr",
     "output_type": "stream",
     "text": [
      "2024-03-11 15:08:04 sentence_transformers.SentenceTransformer INFO: Load pretrained SentenceTransformer: sentence-transformers/all-mpnet-base-v2\n",
      "/scratch/dzhang5/visa/visa39/lib/python3.9/site-packages/torch/_utils.py:776: UserWarning: TypedStorage is deprecated. It will be removed in the future and UntypedStorage will be the only storage class. This should only matter to you if you are using storages directly.  To access UntypedStorage directly, use tensor.untyped_storage() instead of tensor.storage()\n",
      "  return self.fget.__get__(instance, owner)()\n",
      "2024-03-11 15:08:06 sentence_transformers.SentenceTransformer INFO: Use pytorch device: cuda\n"
     ]
    },
    {
     "data": {
      "application/vnd.jupyter.widget-view+json": {
       "model_id": "19a2ef87fbc148c2898441f882abd00d",
       "version_major": 2,
       "version_minor": 0
      },
      "text/plain": [
       "Batches:   0%|          | 0/80 [00:00<?, ?it/s]"
      ]
     },
     "metadata": {},
     "output_type": "display_data"
    },
    {
     "data": {
      "application/vnd.jupyter.widget-view+json": {
       "model_id": "863b0d82d9984087b160bcc5580e95e1",
       "version_major": 2,
       "version_minor": 0
      },
      "text/plain": [
       "Output()"
      ]
     },
     "metadata": {},
     "output_type": "display_data"
    },
    {
     "data": {
      "application/vnd.jupyter.widget-view+json": {
       "model_id": "85c4c6fd549747a8b5909a0706236fc0",
       "version_major": 2,
       "version_minor": 0
      },
      "text/plain": [
       "Batches:   0%|          | 0/1 [00:00<?, ?it/s]"
      ]
     },
     "metadata": {},
     "output_type": "display_data"
    },
    {
     "data": {
      "text/html": [
       "<pre style=\"white-space:pre;overflow-x:auto;line-height:normal;font-family:Menlo,'DejaVu Sans Mono',consolas,'Courier New',monospace\"></pre>\n"
      ],
      "text/plain": []
     },
     "metadata": {},
     "output_type": "display_data"
    },
    {
     "data": {
      "text/html": [
       "<pre style=\"white-space:pre;overflow-x:auto;line-height:normal;font-family:Menlo,'DejaVu Sans Mono',consolas,'Courier New',monospace\">\n",
       "</pre>\n"
      ],
      "text/plain": [
       "\n"
      ]
     },
     "metadata": {},
     "output_type": "display_data"
    },
    {
     "data": {
      "text/html": [
       "<pre style=\"white-space:pre;overflow-x:auto;line-height:normal;font-family:Menlo,'DejaVu Sans Mono',consolas,'Courier New',monospace\">┌──────────────────────────┬──────┐\n",
       "│<span style=\"color: #800080; text-decoration-color: #800080; font-weight: bold\"> Total Estimated Cost     </span>│<span style=\"color: #008000; text-decoration-color: #008000; font-weight: bold\"> $0.0 </span>│\n",
       "│<span style=\"color: #800080; text-decoration-color: #800080; font-weight: bold\"> Number of Examples       </span>│<span style=\"color: #008000; text-decoration-color: #008000; font-weight: bold\"> 1    </span>│\n",
       "│<span style=\"color: #800080; text-decoration-color: #800080; font-weight: bold\"> Average cost per example </span>│<span style=\"color: #008000; text-decoration-color: #008000; font-weight: bold\"> $0.0 </span>│\n",
       "└──────────────────────────┴──────┘\n",
       "</pre>\n"
      ],
      "text/plain": [
       "┌──────────────────────────┬──────┐\n",
       "│\u001b[1;35m \u001b[0m\u001b[1;35mTotal Estimated Cost    \u001b[0m\u001b[1;35m \u001b[0m│\u001b[1;32m \u001b[0m\u001b[1;32m$0.0\u001b[0m\u001b[1;32m \u001b[0m│\n",
       "│\u001b[1;35m \u001b[0m\u001b[1;35mNumber of Examples      \u001b[0m\u001b[1;35m \u001b[0m│\u001b[1;32m \u001b[0m\u001b[1;32m1   \u001b[0m\u001b[1;32m \u001b[0m│\n",
       "│\u001b[1;35m \u001b[0m\u001b[1;35mAverage cost per example\u001b[0m\u001b[1;35m \u001b[0m│\u001b[1;32m \u001b[0m\u001b[1;32m$0.0\u001b[0m\u001b[1;32m \u001b[0m│\n",
       "└──────────────────────────┴──────┘\n"
      ]
     },
     "metadata": {},
     "output_type": "display_data"
    },
    {
     "data": {
      "text/html": [
       "<pre style=\"white-space:pre;overflow-x:auto;line-height:normal;font-family:Menlo,'DejaVu Sans Mono',consolas,'Courier New',monospace\"><span style=\"color: #00ff00; text-decoration-color: #00ff00\">───────────────────────────────────────────────── </span>Prompt Example<span style=\"color: #00ff00; text-decoration-color: #00ff00\"> ──────────────────────────────────────────────────</span>\n",
       "</pre>\n"
      ],
      "text/plain": [
       "\u001b[92m───────────────────────────────────────────────── \u001b[0mPrompt Example\u001b[92m ──────────────────────────────────────────────────\u001b[0m\n"
      ]
     },
     "metadata": {},
     "output_type": "display_data"
    },
    {
     "data": {
      "text/html": [
       "<pre style=\"white-space:pre;overflow-x:auto;line-height:normal;font-family:Menlo,'DejaVu Sans Mono',consolas,'Courier New',monospace\">\n",
       "    <span style=\"font-weight: bold\">&lt;</span><span style=\"color: #ff00ff; text-decoration-color: #ff00ff; font-weight: bold\">s</span><span style=\"color: #000000; text-decoration-color: #000000\">&gt;</span><span style=\"color: #000000; text-decoration-color: #000000; font-weight: bold\">[</span><span style=\"color: #000000; text-decoration-color: #000000\">INST</span><span style=\"color: #000000; text-decoration-color: #000000; font-weight: bold\">]</span><span style=\"color: #000000; text-decoration-color: #000000\"> &lt;&lt;SYS&gt;&gt;</span>\n",
       "<span style=\"color: #000000; text-decoration-color: #000000\">    You are an expert at extracting Food entities that are related to foodborne illness incident from text. In the </span>\n",
       "<span style=\"color: #000000; text-decoration-color: #000000\">given text, your task is to label Food entities that are specific food item that caused the potential foodborne </span>\n",
       "<span style=\"color: #000000; text-decoration-color: #000000\">illness incident.. Note that you should surround the extracted entities in the text with </span><span style=\"color: #008000; text-decoration-color: #008000\">\"^^\"</span><span style=\"color: #000000; text-decoration-color: #000000\"> and </span><span style=\"color: #008000; text-decoration-color: #008000\">\"^^\"</span><span style=\"color: #000000; text-decoration-color: #000000\">. Use the </span>\n",
       "<span style=\"color: #000000; text-decoration-color: #000000\">following examples as a guide for your predictions and format your responses similarly.You will answer with just </span>\n",
       "<span style=\"color: #000000; text-decoration-color: #000000\">the correct output label </span><span style=\"color: #000000; text-decoration-color: #000000; font-weight: bold\">(</span><span style=\"color: #008000; text-decoration-color: #008000\">\"Yes\"</span><span style=\"color: #000000; text-decoration-color: #000000\"> or </span><span style=\"color: #008000; text-decoration-color: #008000\">\"No\"</span><span style=\"color: #000000; text-decoration-color: #000000; font-weight: bold\">)</span><span style=\"color: #000000; text-decoration-color: #000000\"> and nothing else.</span>\n",
       "<span style=\"color: #000000; text-decoration-color: #000000\">Context: I think Subway gave me food poisoning </span><span style=\"color: #000000; text-decoration-color: #000000; font-weight: bold\">[</span><span style=\"color: #000000; text-decoration-color: #000000\"> EMOJI_anxious_face_with_sweat </span><span style=\"color: #000000; text-decoration-color: #000000; font-weight: bold\">]</span><span style=\"color: #000000; text-decoration-color: #000000\"> </span><span style=\"color: #000000; text-decoration-color: #000000; font-weight: bold\">[</span><span style=\"color: #000000; text-decoration-color: #000000\"> EMOJI_anxious_face_with_sweat </span><span style=\"color: #000000; text-decoration-color: #000000; font-weight: bold\">]</span>\n",
       "<span style=\"color: #000000; text-decoration-color: #000000\">Question: Do you think the word Subway in the given text is a Food entity that is specific food item that caused </span>\n",
       "<span style=\"color: #000000; text-decoration-color: #000000\">the potential foodborne illness incident.?</span>\n",
       "<span style=\"color: #000000; text-decoration-color: #000000\">Answer: Yes</span>\n",
       "<span style=\"color: #000000; text-decoration-color: #000000\">Context: Subway is definitely nasty , i ate at subway once and it gave me food poisoning and I haven't ate that </span>\n",
       "<span style=\"color: #000000; text-decoration-color: #000000\">shit since -not only that but I can make a better sub at home </span><span style=\"color: #000000; text-decoration-color: #000000; font-weight: bold\">[</span><span style=\"color: #000000; text-decoration-color: #000000\"> EMOJI_grinning_face_with_sweat </span><span style=\"color: #000000; text-decoration-color: #000000; font-weight: bold\">]</span>\n",
       "<span style=\"color: #000000; text-decoration-color: #000000\">Question: Do you think the word food poisoning in the given text is a Food entity that is specific food item that </span>\n",
       "<span style=\"color: #000000; text-decoration-color: #000000\">caused the potential foodborne illness incident.?</span>\n",
       "<span style=\"color: #000000; text-decoration-color: #000000\">Answer: Yes</span>\n",
       "<span style=\"color: #000000; text-decoration-color: #000000\">Context: Oh I hate this : </span><span style=\"color: #000000; text-decoration-color: #000000; font-weight: bold\">(</span><span style=\"color: #000000; text-decoration-color: #000000\"> I feel so sick and miserable . I'm the biggest baby when I don't feel good fuck subway </span>\n",
       "<span style=\"color: #000000; text-decoration-color: #000000\">I think they gave me food poison</span>\n",
       "<span style=\"color: #000000; text-decoration-color: #000000\">Question: Do you think the word Oh in the given text is a Food entity that is specific food item that caused the </span>\n",
       "<span style=\"color: #000000; text-decoration-color: #000000\">potential foodborne illness incident.?</span>\n",
       "<span style=\"color: #000000; text-decoration-color: #000000\">Answer: No</span>\n",
       "<span style=\"color: #000000; text-decoration-color: #000000\">Context: Either there's a flu going around and I got it or I got food poisoning from Subway last night : </span><span style=\"color: #000000; text-decoration-color: #000000; font-weight: bold\">(</span>\n",
       "<span style=\"color: #000000; text-decoration-color: #000000\">Question: Do you think the word Subway last night in the given text is a Food entity that is specific food item </span>\n",
       "<span style=\"color: #000000; text-decoration-color: #000000\">that caused the potential foodborne illness incident.?</span>\n",
       "<span style=\"color: #000000; text-decoration-color: #000000\">Answer: No</span>\n",
       "<span style=\"color: #000000; text-decoration-color: #000000\">Context: I'm never eating shit I didn't make again , this fast food giving me food poisoning</span>\n",
       "<span style=\"color: #000000; text-decoration-color: #000000\">Question: Do you think the word fast food in the given text is a Food entity that is specific food item that caused</span>\n",
       "<span style=\"color: #000000; text-decoration-color: #000000\">the potential foodborne illness incident.?</span>\n",
       "<span style=\"color: #000000; text-decoration-color: #000000\">Answer: Yes</span>\n",
       "<span style=\"color: #000000; text-decoration-color: #000000\">Context: </span><span style=\"color: #800080; text-decoration-color: #800080\">//</span><span style=\"color: #ff00ff; text-decoration-color: #ff00ff\">literally</span><span style=\"color: #000000; text-decoration-color: #000000\"> eating taco bell rn lol then again I got food poison from the one in a food court wasn't </span>\n",
       "<span style=\"color: #000000; text-decoration-color: #000000\">exactly the first joy ride tbh</span>\n",
       "<span style=\"color: #000000; text-decoration-color: #000000\">Question: Do you think the word taco bell in the given text is a Food entity that is specific food item that caused</span>\n",
       "<span style=\"color: #000000; text-decoration-color: #000000\">the potential foodborne illness incident.?</span>\n",
       "<span style=\"color: #000000; text-decoration-color: #000000\">Answer: Yes</span>\n",
       "<span style=\"color: #000000; text-decoration-color: #000000\">Context: Fuck ass McDonald's give me food poison everytime</span>\n",
       "<span style=\"color: #000000; text-decoration-color: #000000\">Question: Do you think the word McDonald's in the given text is a Food entity that is specific food item that </span>\n",
       "<span style=\"color: #000000; text-decoration-color: #000000\">caused the potential foodborne illness incident.?</span>\n",
       "<span style=\"color: #000000; text-decoration-color: #000000\">Answer: Yes</span>\n",
       "<span style=\"color: #000000; text-decoration-color: #000000\">Context: Damn i feel like subway gave me food poisoning . It fucked my stomach up . #feellikeimdying</span>\n",
       "<span style=\"color: #000000; text-decoration-color: #000000\">Question: Do you think the word #feellikeimdying in the given text is a Food entity that is specific food item that</span>\n",
       "<span style=\"color: #000000; text-decoration-color: #000000\">caused the potential foodborne illness incident.?</span>\n",
       "<span style=\"color: #000000; text-decoration-color: #000000\">Answer: No</span>\n",
       "<span style=\"color: #000000; text-decoration-color: #000000\">    &lt;&lt;SYS&gt;</span><span style=\"font-weight: bold\">&gt;</span>\n",
       "    Context: I think I have food poison poops &amp; vomit 😣 that damn subway\n",
       "Question: Do you think the word subway in the given text is a Food entity that is specific food item that caused \n",
       "the potential foodborne illness incident.?\n",
       "Answer: <span style=\"font-weight: bold\">[</span><span style=\"color: #800080; text-decoration-color: #800080\">/</span><span style=\"color: #ff00ff; text-decoration-color: #ff00ff\">INST</span><span style=\"font-weight: bold\">]</span>\n",
       "\n",
       "</pre>\n"
      ],
      "text/plain": [
       "\n",
       "    \u001b[1m<\u001b[0m\u001b[1;95ms\u001b[0m\u001b[39m>\u001b[0m\u001b[1;39m[\u001b[0m\u001b[39mINST\u001b[0m\u001b[1;39m]\u001b[0m\u001b[39m <<SYS>>\u001b[0m\n",
       "\u001b[39m    You are an expert at extracting Food entities that are related to foodborne illness incident from text. In the \u001b[0m\n",
       "\u001b[39mgiven text, your task is to label Food entities that are specific food item that caused the potential foodborne \u001b[0m\n",
       "\u001b[39millness incident.. Note that you should surround the extracted entities in the text with \u001b[0m\u001b[32m\"^^\"\u001b[0m\u001b[39m and \u001b[0m\u001b[32m\"^^\"\u001b[0m\u001b[39m. Use the \u001b[0m\n",
       "\u001b[39mfollowing examples as a guide for your predictions and format your responses similarly.You will answer with just \u001b[0m\n",
       "\u001b[39mthe correct output label \u001b[0m\u001b[1;39m(\u001b[0m\u001b[32m\"Yes\"\u001b[0m\u001b[39m or \u001b[0m\u001b[32m\"No\"\u001b[0m\u001b[1;39m)\u001b[0m\u001b[39m and nothing else.\u001b[0m\n",
       "\u001b[39mContext: I think Subway gave me food poisoning \u001b[0m\u001b[1;39m[\u001b[0m\u001b[39m EMOJI_anxious_face_with_sweat \u001b[0m\u001b[1;39m]\u001b[0m\u001b[39m \u001b[0m\u001b[1;39m[\u001b[0m\u001b[39m EMOJI_anxious_face_with_sweat \u001b[0m\u001b[1;39m]\u001b[0m\n",
       "\u001b[39mQuestion: Do you think the word Subway in the given text is a Food entity that is specific food item that caused \u001b[0m\n",
       "\u001b[39mthe potential foodborne illness incident.?\u001b[0m\n",
       "\u001b[39mAnswer: Yes\u001b[0m\n",
       "\u001b[39mContext: Subway is definitely nasty , i ate at subway once and it gave me food poisoning and I haven't ate that \u001b[0m\n",
       "\u001b[39mshit since -not only that but I can make a better sub at home \u001b[0m\u001b[1;39m[\u001b[0m\u001b[39m EMOJI_grinning_face_with_sweat \u001b[0m\u001b[1;39m]\u001b[0m\n",
       "\u001b[39mQuestion: Do you think the word food poisoning in the given text is a Food entity that is specific food item that \u001b[0m\n",
       "\u001b[39mcaused the potential foodborne illness incident.?\u001b[0m\n",
       "\u001b[39mAnswer: Yes\u001b[0m\n",
       "\u001b[39mContext: Oh I hate this : \u001b[0m\u001b[1;39m(\u001b[0m\u001b[39m I feel so sick and miserable . I'm the biggest baby when I don't feel good fuck subway \u001b[0m\n",
       "\u001b[39mI think they gave me food poison\u001b[0m\n",
       "\u001b[39mQuestion: Do you think the word Oh in the given text is a Food entity that is specific food item that caused the \u001b[0m\n",
       "\u001b[39mpotential foodborne illness incident.?\u001b[0m\n",
       "\u001b[39mAnswer: No\u001b[0m\n",
       "\u001b[39mContext: Either there's a flu going around and I got it or I got food poisoning from Subway last night : \u001b[0m\u001b[1;39m(\u001b[0m\n",
       "\u001b[39mQuestion: Do you think the word Subway last night in the given text is a Food entity that is specific food item \u001b[0m\n",
       "\u001b[39mthat caused the potential foodborne illness incident.?\u001b[0m\n",
       "\u001b[39mAnswer: No\u001b[0m\n",
       "\u001b[39mContext: I'm never eating shit I didn't make again , this fast food giving me food poisoning\u001b[0m\n",
       "\u001b[39mQuestion: Do you think the word fast food in the given text is a Food entity that is specific food item that caused\u001b[0m\n",
       "\u001b[39mthe potential foodborne illness incident.?\u001b[0m\n",
       "\u001b[39mAnswer: Yes\u001b[0m\n",
       "\u001b[39mContext: \u001b[0m\u001b[35m/\u001b[0m\u001b[35m/\u001b[0m\u001b[95mliterally\u001b[0m\u001b[39m eating taco bell rn lol then again I got food poison from the one in a food court wasn't \u001b[0m\n",
       "\u001b[39mexactly the first joy ride tbh\u001b[0m\n",
       "\u001b[39mQuestion: Do you think the word taco bell in the given text is a Food entity that is specific food item that caused\u001b[0m\n",
       "\u001b[39mthe potential foodborne illness incident.?\u001b[0m\n",
       "\u001b[39mAnswer: Yes\u001b[0m\n",
       "\u001b[39mContext: Fuck ass McDonald's give me food poison everytime\u001b[0m\n",
       "\u001b[39mQuestion: Do you think the word McDonald's in the given text is a Food entity that is specific food item that \u001b[0m\n",
       "\u001b[39mcaused the potential foodborne illness incident.?\u001b[0m\n",
       "\u001b[39mAnswer: Yes\u001b[0m\n",
       "\u001b[39mContext: Damn i feel like subway gave me food poisoning . It fucked my stomach up . #feellikeimdying\u001b[0m\n",
       "\u001b[39mQuestion: Do you think the word #feellikeimdying in the given text is a Food entity that is specific food item that\u001b[0m\n",
       "\u001b[39mcaused the potential foodborne illness incident.?\u001b[0m\n",
       "\u001b[39mAnswer: No\u001b[0m\n",
       "\u001b[39m    <<SYS>\u001b[0m\u001b[1m>\u001b[0m\n",
       "    Context: I think I have food poison poops & vomit 😣 that damn subway\n",
       "Question: Do you think the word subway in the given text is a Food entity that is specific food item that caused \n",
       "the potential foodborne illness incident.?\n",
       "Answer: \u001b[1m[\u001b[0m\u001b[35m/\u001b[0m\u001b[95mINST\u001b[0m\u001b[1m]\u001b[0m\n",
       "\n"
      ]
     },
     "metadata": {},
     "output_type": "display_data"
    },
    {
     "data": {
      "text/html": [
       "<pre style=\"white-space:pre;overflow-x:auto;line-height:normal;font-family:Menlo,'DejaVu Sans Mono',consolas,'Courier New',monospace\"><span style=\"color: #00ff00; text-decoration-color: #00ff00\">───────────────────────────────────────────────────────────────────────────────────────────────────────────────────</span>\n",
       "</pre>\n"
      ],
      "text/plain": [
       "\u001b[92m───────────────────────────────────────────────────────────────────────────────────────────────────────────────────\u001b[0m\n"
      ]
     },
     "metadata": {},
     "output_type": "display_data"
    }
   ],
   "source": [
    "agent.plan(verify_ds)"
   ]
  },
  {
   "cell_type": "code",
   "execution_count": null,
   "id": "cd6839c9-9ddb-45c5-a719-7853f8b9fd1d",
   "metadata": {},
   "outputs": [],
   "source": [
    "# now, do the actual labeling\n",
    "verify_ds = agent.run(verify_ds)"
   ]
  },
  {
   "cell_type": "code",
   "execution_count": null,
   "id": "59777587-3757-4d4b-9a6e-46922b1b555c",
   "metadata": {},
   "outputs": [],
   "source": [
    "metrics = verify_ds.eval()"
   ]
  },
  {
   "cell_type": "code",
   "execution_count": null,
   "id": "6130d151-0d22-4156-a456-0b52d897efac",
   "metadata": {},
   "outputs": [],
   "source": [
    "new_test_data[f'{verify_answer_column}_label'] = verify_ds.df[f'{verify_answer_column}_label']"
   ]
  },
  {
   "cell_type": "code",
   "execution_count": null,
   "id": "2288fcfb-7934-434a-aa70-2c03e51b5144",
   "metadata": {},
   "outputs": [],
   "source": [
    "verify_ds.df['text_idx'] = new_test_data['text_idx']"
   ]
  },
  {
   "cell_type": "code",
   "execution_count": null,
   "id": "64ba58de-265c-4ec5-9e22-ba2497e09257",
   "metadata": {},
   "outputs": [],
   "source": [
    "verify_ds.df.to_csv(output_verify_path, index=False)\n",
    "verify_ds.df.to_pickle(output_verify_path.replace('.csv', '.pkl'))"
   ]
  },
  {
   "cell_type": "code",
   "execution_count": null,
   "id": "77168401-84f4-4c23-a4cc-3ca9613cac79",
   "metadata": {},
   "outputs": [],
   "source": [
    "new_result = construct_results(last_results, new_test_data, f'{label_column}_label', f'{verify_answer_column}_label', \"text_idx\", pos_column, label_symbol)"
   ]
  },
  {
   "cell_type": "code",
   "execution_count": null,
   "id": "96f40a09-e1e0-4781-85fb-63d91caf9b6b",
   "metadata": {},
   "outputs": [],
   "source": [
    "new_result.to_csv(output_final_path, index=False)\n",
    "new_result.to_pickle(output_final_path.replace('.csv', '.pkl'))"
   ]
  }
 ],
 "metadata": {
  "kernelspec": {
   "display_name": "py3.9-visa",
   "language": "python",
   "name": "py3.9-visa"
  },
  "language_info": {
   "codemirror_mode": {
    "name": "ipython",
    "version": 3
   },
   "file_extension": ".py",
   "mimetype": "text/x-python",
   "name": "python",
   "nbconvert_exporter": "python",
   "pygments_lexer": "ipython3",
   "version": "3.9.12"
  }
 },
 "nbformat": 4,
 "nbformat_minor": 5
}
