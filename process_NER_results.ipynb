{
 "cells": [
  {
   "cell_type": "code",
   "execution_count": 1,
   "id": "3d2bf8a3-222c-4409-9977-ccd497c7de7a",
   "metadata": {
    "ExecuteTime": {
     "end_time": "2024-03-07T09:00:13.333224100Z",
     "start_time": "2024-03-07T09:00:09.951147900Z"
    }
   },
   "outputs": [],
   "source": [
    "import pandas as pd\n",
    "from IPython.display import display\n",
    "import argparse\n",
    "import os\n",
    "from aggregate_entity_results import collect_results, aggregate_results\n",
    "from utils import generate_explanation_prediction"
   ]
  },
  {
   "cell_type": "code",
   "execution_count": 2,
   "id": "d853f316-d278-48cc-8928-72d9b9111229",
   "metadata": {
    "ExecuteTime": {
     "end_time": "2024-03-07T09:00:13.334174900Z",
     "start_time": "2024-03-07T09:00:13.333224100Z"
    }
   },
   "outputs": [],
   "source": [
    "data_dir = '/scratch/dzhang5/LLM/TWEET-FID/'\n",
    "output_dir = '/scratch/dzhang5/LLM/TWEET-FID/unlabeled-results-autolabel-ner-qa-mv/0.1'\n",
    "model_name = \"refuel-llm\"\n",
    "few_shot_selection = \"semantic_similarity\"\n",
    "text_column = \"context\"\n",
    "label_symbol = \"^^^^\"\n",
    "verified = False\n",
    "result_dir = '/scratch/dzhang5/LLM/TWEET-FID/unlabeled-results-autolabel-ner-qa-mv/0.1'\n",
    "unlabeled_dir = '/scratch/dzhang5/LLM/TWEET-FID/second-round/'"
   ]
  },
  {
   "cell_type": "code",
   "execution_count": 3,
   "id": "ba6cbd2d12ed7f1",
   "metadata": {
    "ExecuteTime": {
     "end_time": "2024-03-07T09:00:13.463140700Z",
     "start_time": "2024-03-07T09:00:13.333224100Z"
    },
    "collapsed": false
   },
   "outputs": [],
   "source": [
    "def process_multiple_files():\n",
    "    ori_df = pd.read_csv(data_path)\n",
    "    predictions_list = []\n",
    "    for label_type in ['Food', 'Location', 'Symptom', 'Keyword']:\n",
    "        if verified:\n",
    "            output_name = os.path.split(model_name)[-1] + '_' + few_shot_selection + '_' + label_type + '_final_' + os.path.split(data_path)[-1]\n",
    "        else:\n",
    "            output_name = os.path.split(model_name)[-1] + '_' + few_shot_selection + '_' + label_type + '_' + os.path.split(data_path)[-1]\n",
    "        output_path = os.path.join(output_dir, output_name)\n",
    "        predictions = pd.read_csv(output_path)\n",
    "        predictions_list.append(predictions)\n",
    "    merged_predictions = predictions_list[0]\n",
    "    for i in range(1, len(predictions_list)):\n",
    "        next_prediction = predictions_list[i]\n",
    "        assert (merged_predictions[text_column] == next_prediction[text_column]).all()\n",
    "        cols_to_merge = next_prediction.columns.difference(merged_predictions.columns)\n",
    "        merged_predictions = merged_predictions.join(next_prediction[cols_to_merge], validate='1:1')\n",
    "    assert (ori_df['context'] == merged_predictions['context']).all()\n",
    "    merged_predictions['All_answer_successfully_labeled'] = (merged_predictions['Food_answer_successfully_labeled'] & merged_predictions['Location_answer_successfully_labeled'] & merged_predictions['Symptom_answer_successfully_labeled'] & merged_predictions['Keyword_answer_successfully_labeled'])\n",
    "    for label_type in ['Food', 'Location', 'Symptom', 'Keyword', 'All']:\n",
    "        display(merged_predictions[f'{label_type}_answer_successfully_labeled'].value_counts())\n",
    "    unlabeled_dict = {}\n",
    "    for label_type in ['Food', 'Location', 'Symptom', 'Keyword']:\n",
    "        unlabeled_dict[label_type] = ori_df.loc[~merged_predictions[f'{label_type}_answer_successfully_labeled']].copy()\n",
    "        unlabeled_dict[label_type].reset_index(inplace=True)\n",
    "        unlabeled_dict[label_type].rename(columns={'index':'ori_index'}, inplace=True)\n",
    "    labeled_df = ori_df.loc[merged_predictions['All_answer_successfully_labeled']].copy()\n",
    "    labeled_df.reset_index(inplace=True)\n",
    "    labeled_df.rename(columns={'index':'ori_index'},inplace=True)\n",
    "    keep_predictions = merged_predictions.loc[merged_predictions['All_answer_successfully_labeled']].copy()\n",
    "    words_list = []\n",
    "    for label_type in ['Food', 'Location', 'Symptom', 'Keyword']:\n",
    "        candidate_words = collect_results(keep_predictions, text_column, label_type, label_symbol)\n",
    "        words_list.append(candidate_words)\n",
    "    labeled_df['CategorizedLabels_prediction'] = aggregate_results(words_list)\n",
    "    labeled_df['sentence_explanation_prediction'] = labeled_df['CategorizedLabels_prediction'].apply(lambda x: generate_explanation_prediction(x, 'N/A'))\n",
    "    agg_output_suffix_name = os.path.split(data_path)[-1].replace('unlabeled', 'unlabeled-first')\n",
    "    unlabeled_output_suffix_name = os.path.split(data_path)[-1].replace('unlabeled', 'unlabeled-second')\n",
    "    if verified:\n",
    "        agg_output_name = os.path.split(model_name)[-1] + '_' + few_shot_selection + '_aggregated_final_' + agg_output_suffix_name\n",
    "    else:\n",
    "        agg_output_name = os.path.split(model_name)[-1] + '_' + few_shot_selection + '_aggregated_' + agg_output_suffix_name\n",
    "    agg_output_path = os.path.join(result_dir, agg_output_name)\n",
    "    print(agg_output_path)\n",
    "    labeled_df.to_csv(agg_output_path, index=False)\n",
    "    for label_type in ['Food', 'Location', 'Symptom', 'Keyword']:\n",
    "        unlabeled_output_name = f'{label_type}-{unlabeled_output_suffix_name}'\n",
    "        unlabeled_output_path = os.path.join(unlabeled_dir, unlabeled_output_name)\n",
    "        print(unlabeled_output_path)\n",
    "        unlabeled_dict[label_type].to_csv(unlabeled_output_path, index=False)\n",
    "    return len(labeled_df)"
   ]
  },
  {
   "cell_type": "code",
   "execution_count": 4,
   "id": "f2e7d2bd6c461efd",
   "metadata": {
    "ExecuteTime": {
     "end_time": "2024-03-07T09:03:38.887439200Z",
     "start_time": "2024-03-07T09:00:13.492058800Z"
    },
    "collapsed": false
   },
   "outputs": [
    {
     "data": {
      "text/plain": [
       "Food_answer_successfully_labeled\n",
       "True     1364\n",
       "False    1136\n",
       "Name: count, dtype: int64"
      ]
     },
     "metadata": {},
     "output_type": "display_data"
    },
    {
     "data": {
      "text/plain": [
       "Location_answer_successfully_labeled\n",
       "True     1283\n",
       "False    1217\n",
       "Name: count, dtype: int64"
      ]
     },
     "metadata": {},
     "output_type": "display_data"
    },
    {
     "data": {
      "text/plain": [
       "Symptom_answer_successfully_labeled\n",
       "True     1388\n",
       "False    1112\n",
       "Name: count, dtype: int64"
      ]
     },
     "metadata": {},
     "output_type": "display_data"
    },
    {
     "data": {
      "text/plain": [
       "Keyword_answer_successfully_labeled\n",
       "True     1367\n",
       "False    1133\n",
       "Name: count, dtype: int64"
      ]
     },
     "metadata": {},
     "output_type": "display_data"
    },
    {
     "data": {
      "text/plain": [
       "All_answer_successfully_labeled\n",
       "False    2191\n",
       "True      309\n",
       "Name: count, dtype: int64"
      ]
     },
     "metadata": {},
     "output_type": "display_data"
    },
    {
     "name": "stdout",
     "output_type": "stream",
     "text": [
      "aggregate entities results ...\n",
      "aggregate entities results ...\n",
      "aggregate entities results ...\n",
      "aggregate entities results ...\n",
      "/scratch/dzhang5/LLM/TWEET-FID/unlabeled-results-autolabel-ner-qa-mv/0.1/refuel-llm_semantic_similarity_aggregated_unlabeled-first-1.csv\n",
      "/scratch/dzhang5/LLM/TWEET-FID/second-round/Food-unlabeled-second-1.csv\n",
      "/scratch/dzhang5/LLM/TWEET-FID/second-round/Location-unlabeled-second-1.csv\n",
      "/scratch/dzhang5/LLM/TWEET-FID/second-round/Symptom-unlabeled-second-1.csv\n",
      "/scratch/dzhang5/LLM/TWEET-FID/second-round/Keyword-unlabeled-second-1.csv\n"
     ]
    },
    {
     "data": {
      "text/plain": [
       "Food_answer_successfully_labeled\n",
       "True     1447\n",
       "False    1053\n",
       "Name: count, dtype: int64"
      ]
     },
     "metadata": {},
     "output_type": "display_data"
    },
    {
     "data": {
      "text/plain": [
       "Location_answer_successfully_labeled\n",
       "True     1521\n",
       "False     979\n",
       "Name: count, dtype: int64"
      ]
     },
     "metadata": {},
     "output_type": "display_data"
    },
    {
     "data": {
      "text/plain": [
       "Symptom_answer_successfully_labeled\n",
       "True     1678\n",
       "False     822\n",
       "Name: count, dtype: int64"
      ]
     },
     "metadata": {},
     "output_type": "display_data"
    },
    {
     "data": {
      "text/plain": [
       "Keyword_answer_successfully_labeled\n",
       "True     1549\n",
       "False     951\n",
       "Name: count, dtype: int64"
      ]
     },
     "metadata": {},
     "output_type": "display_data"
    },
    {
     "data": {
      "text/plain": [
       "All_answer_successfully_labeled\n",
       "False    2064\n",
       "True      436\n",
       "Name: count, dtype: int64"
      ]
     },
     "metadata": {},
     "output_type": "display_data"
    },
    {
     "name": "stdout",
     "output_type": "stream",
     "text": [
      "aggregate entities results ...\n",
      "aggregate entities results ...\n",
      "aggregate entities results ...\n",
      "aggregate entities results ...\n",
      "/scratch/dzhang5/LLM/TWEET-FID/unlabeled-results-autolabel-ner-qa-mv/0.1/refuel-llm_semantic_similarity_aggregated_unlabeled-first-2.csv\n",
      "/scratch/dzhang5/LLM/TWEET-FID/second-round/Food-unlabeled-second-2.csv\n",
      "/scratch/dzhang5/LLM/TWEET-FID/second-round/Location-unlabeled-second-2.csv\n",
      "/scratch/dzhang5/LLM/TWEET-FID/second-round/Symptom-unlabeled-second-2.csv\n",
      "/scratch/dzhang5/LLM/TWEET-FID/second-round/Keyword-unlabeled-second-2.csv\n"
     ]
    },
    {
     "data": {
      "text/plain": [
       "Food_answer_successfully_labeled\n",
       "True     1403\n",
       "False    1097\n",
       "Name: count, dtype: int64"
      ]
     },
     "metadata": {},
     "output_type": "display_data"
    },
    {
     "data": {
      "text/plain": [
       "Location_answer_successfully_labeled\n",
       "True     1273\n",
       "False    1227\n",
       "Name: count, dtype: int64"
      ]
     },
     "metadata": {},
     "output_type": "display_data"
    },
    {
     "data": {
      "text/plain": [
       "Symptom_answer_successfully_labeled\n",
       "True     1485\n",
       "False    1015\n",
       "Name: count, dtype: int64"
      ]
     },
     "metadata": {},
     "output_type": "display_data"
    },
    {
     "data": {
      "text/plain": [
       "Keyword_answer_successfully_labeled\n",
       "True     1412\n",
       "False    1088\n",
       "Name: count, dtype: int64"
      ]
     },
     "metadata": {},
     "output_type": "display_data"
    },
    {
     "data": {
      "text/plain": [
       "All_answer_successfully_labeled\n",
       "False    2176\n",
       "True      324\n",
       "Name: count, dtype: int64"
      ]
     },
     "metadata": {},
     "output_type": "display_data"
    },
    {
     "name": "stdout",
     "output_type": "stream",
     "text": [
      "aggregate entities results ...\n",
      "aggregate entities results ...\n",
      "aggregate entities results ...\n",
      "aggregate entities results ...\n",
      "/scratch/dzhang5/LLM/TWEET-FID/unlabeled-results-autolabel-ner-qa-mv/0.1/refuel-llm_semantic_similarity_aggregated_unlabeled-first-3.csv\n",
      "/scratch/dzhang5/LLM/TWEET-FID/second-round/Food-unlabeled-second-3.csv\n",
      "/scratch/dzhang5/LLM/TWEET-FID/second-round/Location-unlabeled-second-3.csv\n",
      "/scratch/dzhang5/LLM/TWEET-FID/second-round/Symptom-unlabeled-second-3.csv\n",
      "/scratch/dzhang5/LLM/TWEET-FID/second-round/Keyword-unlabeled-second-3.csv\n"
     ]
    },
    {
     "data": {
      "text/plain": [
       "Food_answer_successfully_labeled\n",
       "True     1388\n",
       "False    1112\n",
       "Name: count, dtype: int64"
      ]
     },
     "metadata": {},
     "output_type": "display_data"
    },
    {
     "data": {
      "text/plain": [
       "Location_answer_successfully_labeled\n",
       "True     1535\n",
       "False     965\n",
       "Name: count, dtype: int64"
      ]
     },
     "metadata": {},
     "output_type": "display_data"
    },
    {
     "data": {
      "text/plain": [
       "Symptom_answer_successfully_labeled\n",
       "True     1624\n",
       "False     876\n",
       "Name: count, dtype: int64"
      ]
     },
     "metadata": {},
     "output_type": "display_data"
    },
    {
     "data": {
      "text/plain": [
       "Keyword_answer_successfully_labeled\n",
       "True     1564\n",
       "False     936\n",
       "Name: count, dtype: int64"
      ]
     },
     "metadata": {},
     "output_type": "display_data"
    },
    {
     "data": {
      "text/plain": [
       "All_answer_successfully_labeled\n",
       "False    2099\n",
       "True      401\n",
       "Name: count, dtype: int64"
      ]
     },
     "metadata": {},
     "output_type": "display_data"
    },
    {
     "name": "stdout",
     "output_type": "stream",
     "text": [
      "aggregate entities results ...\n",
      "aggregate entities results ...\n",
      "aggregate entities results ...\n",
      "aggregate entities results ...\n",
      "/scratch/dzhang5/LLM/TWEET-FID/unlabeled-results-autolabel-ner-qa-mv/0.1/refuel-llm_semantic_similarity_aggregated_unlabeled-first-4.csv\n",
      "/scratch/dzhang5/LLM/TWEET-FID/second-round/Food-unlabeled-second-4.csv\n",
      "/scratch/dzhang5/LLM/TWEET-FID/second-round/Location-unlabeled-second-4.csv\n",
      "/scratch/dzhang5/LLM/TWEET-FID/second-round/Symptom-unlabeled-second-4.csv\n",
      "/scratch/dzhang5/LLM/TWEET-FID/second-round/Keyword-unlabeled-second-4.csv\n"
     ]
    },
    {
     "data": {
      "text/plain": [
       "Food_answer_successfully_labeled\n",
       "True     1406\n",
       "False    1094\n",
       "Name: count, dtype: int64"
      ]
     },
     "metadata": {},
     "output_type": "display_data"
    },
    {
     "data": {
      "text/plain": [
       "Location_answer_successfully_labeled\n",
       "True     1411\n",
       "False    1089\n",
       "Name: count, dtype: int64"
      ]
     },
     "metadata": {},
     "output_type": "display_data"
    },
    {
     "data": {
      "text/plain": [
       "Symptom_answer_successfully_labeled\n",
       "True     1537\n",
       "False     963\n",
       "Name: count, dtype: int64"
      ]
     },
     "metadata": {},
     "output_type": "display_data"
    },
    {
     "data": {
      "text/plain": [
       "Keyword_answer_successfully_labeled\n",
       "True     1422\n",
       "False    1078\n",
       "Name: count, dtype: int64"
      ]
     },
     "metadata": {},
     "output_type": "display_data"
    },
    {
     "data": {
      "text/plain": [
       "All_answer_successfully_labeled\n",
       "False    2114\n",
       "True      386\n",
       "Name: count, dtype: int64"
      ]
     },
     "metadata": {},
     "output_type": "display_data"
    },
    {
     "name": "stdout",
     "output_type": "stream",
     "text": [
      "aggregate entities results ...\n",
      "aggregate entities results ...\n",
      "aggregate entities results ...\n",
      "aggregate entities results ...\n",
      "/scratch/dzhang5/LLM/TWEET-FID/unlabeled-results-autolabel-ner-qa-mv/0.1/refuel-llm_semantic_similarity_aggregated_unlabeled-first-5.csv\n",
      "/scratch/dzhang5/LLM/TWEET-FID/second-round/Food-unlabeled-second-5.csv\n",
      "/scratch/dzhang5/LLM/TWEET-FID/second-round/Location-unlabeled-second-5.csv\n",
      "/scratch/dzhang5/LLM/TWEET-FID/second-round/Symptom-unlabeled-second-5.csv\n",
      "/scratch/dzhang5/LLM/TWEET-FID/second-round/Keyword-unlabeled-second-5.csv\n"
     ]
    },
    {
     "data": {
      "text/plain": [
       "Food_answer_successfully_labeled\n",
       "True     1606\n",
       "False     894\n",
       "Name: count, dtype: int64"
      ]
     },
     "metadata": {},
     "output_type": "display_data"
    },
    {
     "data": {
      "text/plain": [
       "Location_answer_successfully_labeled\n",
       "True     1617\n",
       "False     883\n",
       "Name: count, dtype: int64"
      ]
     },
     "metadata": {},
     "output_type": "display_data"
    },
    {
     "data": {
      "text/plain": [
       "Symptom_answer_successfully_labeled\n",
       "True     1572\n",
       "False     928\n",
       "Name: count, dtype: int64"
      ]
     },
     "metadata": {},
     "output_type": "display_data"
    },
    {
     "data": {
      "text/plain": [
       "Keyword_answer_successfully_labeled\n",
       "True     1592\n",
       "False     908\n",
       "Name: count, dtype: int64"
      ]
     },
     "metadata": {},
     "output_type": "display_data"
    },
    {
     "data": {
      "text/plain": [
       "All_answer_successfully_labeled\n",
       "False    2000\n",
       "True      500\n",
       "Name: count, dtype: int64"
      ]
     },
     "metadata": {},
     "output_type": "display_data"
    },
    {
     "name": "stdout",
     "output_type": "stream",
     "text": [
      "aggregate entities results ...\n",
      "aggregate entities results ...\n",
      "aggregate entities results ...\n",
      "aggregate entities results ...\n",
      "/scratch/dzhang5/LLM/TWEET-FID/unlabeled-results-autolabel-ner-qa-mv/0.1/refuel-llm_semantic_similarity_aggregated_unlabeled-first-6.csv\n",
      "/scratch/dzhang5/LLM/TWEET-FID/second-round/Food-unlabeled-second-6.csv\n",
      "/scratch/dzhang5/LLM/TWEET-FID/second-round/Location-unlabeled-second-6.csv\n",
      "/scratch/dzhang5/LLM/TWEET-FID/second-round/Symptom-unlabeled-second-6.csv\n",
      "/scratch/dzhang5/LLM/TWEET-FID/second-round/Keyword-unlabeled-second-6.csv\n"
     ]
    },
    {
     "data": {
      "text/plain": [
       "Food_answer_successfully_labeled\n",
       "True     1508\n",
       "False     992\n",
       "Name: count, dtype: int64"
      ]
     },
     "metadata": {},
     "output_type": "display_data"
    },
    {
     "data": {
      "text/plain": [
       "Location_answer_successfully_labeled\n",
       "True     1625\n",
       "False     875\n",
       "Name: count, dtype: int64"
      ]
     },
     "metadata": {},
     "output_type": "display_data"
    },
    {
     "data": {
      "text/plain": [
       "Symptom_answer_successfully_labeled\n",
       "True     1709\n",
       "False     791\n",
       "Name: count, dtype: int64"
      ]
     },
     "metadata": {},
     "output_type": "display_data"
    },
    {
     "data": {
      "text/plain": [
       "Keyword_answer_successfully_labeled\n",
       "True     1624\n",
       "False     876\n",
       "Name: count, dtype: int64"
      ]
     },
     "metadata": {},
     "output_type": "display_data"
    },
    {
     "data": {
      "text/plain": [
       "All_answer_successfully_labeled\n",
       "False    1942\n",
       "True      558\n",
       "Name: count, dtype: int64"
      ]
     },
     "metadata": {},
     "output_type": "display_data"
    },
    {
     "name": "stdout",
     "output_type": "stream",
     "text": [
      "aggregate entities results ...\n",
      "aggregate entities results ...\n",
      "aggregate entities results ...\n",
      "aggregate entities results ...\n",
      "/scratch/dzhang5/LLM/TWEET-FID/unlabeled-results-autolabel-ner-qa-mv/0.1/refuel-llm_semantic_similarity_aggregated_unlabeled-first-7.csv\n",
      "/scratch/dzhang5/LLM/TWEET-FID/second-round/Food-unlabeled-second-7.csv\n",
      "/scratch/dzhang5/LLM/TWEET-FID/second-round/Location-unlabeled-second-7.csv\n",
      "/scratch/dzhang5/LLM/TWEET-FID/second-round/Symptom-unlabeled-second-7.csv\n",
      "/scratch/dzhang5/LLM/TWEET-FID/second-round/Keyword-unlabeled-second-7.csv\n"
     ]
    },
    {
     "data": {
      "text/plain": [
       "Food_answer_successfully_labeled\n",
       "True     1306\n",
       "False    1194\n",
       "Name: count, dtype: int64"
      ]
     },
     "metadata": {},
     "output_type": "display_data"
    },
    {
     "data": {
      "text/plain": [
       "Location_answer_successfully_labeled\n",
       "True     1365\n",
       "False    1135\n",
       "Name: count, dtype: int64"
      ]
     },
     "metadata": {},
     "output_type": "display_data"
    },
    {
     "data": {
      "text/plain": [
       "Symptom_answer_successfully_labeled\n",
       "True     1477\n",
       "False    1023\n",
       "Name: count, dtype: int64"
      ]
     },
     "metadata": {},
     "output_type": "display_data"
    },
    {
     "data": {
      "text/plain": [
       "Keyword_answer_successfully_labeled\n",
       "True     1354\n",
       "False    1146\n",
       "Name: count, dtype: int64"
      ]
     },
     "metadata": {},
     "output_type": "display_data"
    },
    {
     "data": {
      "text/plain": [
       "All_answer_successfully_labeled\n",
       "False    2154\n",
       "True      346\n",
       "Name: count, dtype: int64"
      ]
     },
     "metadata": {},
     "output_type": "display_data"
    },
    {
     "name": "stdout",
     "output_type": "stream",
     "text": [
      "aggregate entities results ...\n",
      "aggregate entities results ...\n",
      "aggregate entities results ...\n",
      "aggregate entities results ...\n",
      "/scratch/dzhang5/LLM/TWEET-FID/unlabeled-results-autolabel-ner-qa-mv/0.1/refuel-llm_semantic_similarity_aggregated_unlabeled-first-8.csv\n",
      "/scratch/dzhang5/LLM/TWEET-FID/second-round/Food-unlabeled-second-8.csv\n",
      "/scratch/dzhang5/LLM/TWEET-FID/second-round/Location-unlabeled-second-8.csv\n",
      "/scratch/dzhang5/LLM/TWEET-FID/second-round/Symptom-unlabeled-second-8.csv\n",
      "/scratch/dzhang5/LLM/TWEET-FID/second-round/Keyword-unlabeled-second-8.csv\n"
     ]
    },
    {
     "data": {
      "text/plain": [
       "Food_answer_successfully_labeled\n",
       "True     1361\n",
       "False    1139\n",
       "Name: count, dtype: int64"
      ]
     },
     "metadata": {},
     "output_type": "display_data"
    },
    {
     "data": {
      "text/plain": [
       "Location_answer_successfully_labeled\n",
       "True     1403\n",
       "False    1097\n",
       "Name: count, dtype: int64"
      ]
     },
     "metadata": {},
     "output_type": "display_data"
    },
    {
     "data": {
      "text/plain": [
       "Symptom_answer_successfully_labeled\n",
       "True     1451\n",
       "False    1049\n",
       "Name: count, dtype: int64"
      ]
     },
     "metadata": {},
     "output_type": "display_data"
    },
    {
     "data": {
      "text/plain": [
       "Keyword_answer_successfully_labeled\n",
       "True     1353\n",
       "False    1147\n",
       "Name: count, dtype: int64"
      ]
     },
     "metadata": {},
     "output_type": "display_data"
    },
    {
     "data": {
      "text/plain": [
       "All_answer_successfully_labeled\n",
       "False    2167\n",
       "True      333\n",
       "Name: count, dtype: int64"
      ]
     },
     "metadata": {},
     "output_type": "display_data"
    },
    {
     "name": "stdout",
     "output_type": "stream",
     "text": [
      "aggregate entities results ...\n",
      "aggregate entities results ...\n",
      "aggregate entities results ...\n",
      "aggregate entities results ...\n",
      "/scratch/dzhang5/LLM/TWEET-FID/unlabeled-results-autolabel-ner-qa-mv/0.1/refuel-llm_semantic_similarity_aggregated_unlabeled-first-9.csv\n",
      "/scratch/dzhang5/LLM/TWEET-FID/second-round/Food-unlabeled-second-9.csv\n",
      "/scratch/dzhang5/LLM/TWEET-FID/second-round/Location-unlabeled-second-9.csv\n",
      "/scratch/dzhang5/LLM/TWEET-FID/second-round/Symptom-unlabeled-second-9.csv\n",
      "/scratch/dzhang5/LLM/TWEET-FID/second-round/Keyword-unlabeled-second-9.csv\n"
     ]
    },
    {
     "data": {
      "text/plain": [
       "Food_answer_successfully_labeled\n",
       "True     1539\n",
       "False     961\n",
       "Name: count, dtype: int64"
      ]
     },
     "metadata": {},
     "output_type": "display_data"
    },
    {
     "data": {
      "text/plain": [
       "Location_answer_successfully_labeled\n",
       "True     1484\n",
       "False    1016\n",
       "Name: count, dtype: int64"
      ]
     },
     "metadata": {},
     "output_type": "display_data"
    },
    {
     "data": {
      "text/plain": [
       "Symptom_answer_successfully_labeled\n",
       "True     1449\n",
       "False    1051\n",
       "Name: count, dtype: int64"
      ]
     },
     "metadata": {},
     "output_type": "display_data"
    },
    {
     "data": {
      "text/plain": [
       "Keyword_answer_successfully_labeled\n",
       "True     1474\n",
       "False    1026\n",
       "Name: count, dtype: int64"
      ]
     },
     "metadata": {},
     "output_type": "display_data"
    },
    {
     "data": {
      "text/plain": [
       "All_answer_successfully_labeled\n",
       "False    2154\n",
       "True      346\n",
       "Name: count, dtype: int64"
      ]
     },
     "metadata": {},
     "output_type": "display_data"
    },
    {
     "name": "stdout",
     "output_type": "stream",
     "text": [
      "aggregate entities results ...\n",
      "aggregate entities results ...\n",
      "aggregate entities results ...\n",
      "aggregate entities results ...\n",
      "/scratch/dzhang5/LLM/TWEET-FID/unlabeled-results-autolabel-ner-qa-mv/0.1/refuel-llm_semantic_similarity_aggregated_unlabeled-first-10.csv\n",
      "/scratch/dzhang5/LLM/TWEET-FID/second-round/Food-unlabeled-second-10.csv\n",
      "/scratch/dzhang5/LLM/TWEET-FID/second-round/Location-unlabeled-second-10.csv\n",
      "/scratch/dzhang5/LLM/TWEET-FID/second-round/Symptom-unlabeled-second-10.csv\n",
      "/scratch/dzhang5/LLM/TWEET-FID/second-round/Keyword-unlabeled-second-10.csv\n"
     ]
    },
    {
     "data": {
      "text/plain": [
       "Food_answer_successfully_labeled\n",
       "True     1501\n",
       "False     999\n",
       "Name: count, dtype: int64"
      ]
     },
     "metadata": {},
     "output_type": "display_data"
    },
    {
     "data": {
      "text/plain": [
       "Location_answer_successfully_labeled\n",
       "True     1469\n",
       "False    1031\n",
       "Name: count, dtype: int64"
      ]
     },
     "metadata": {},
     "output_type": "display_data"
    },
    {
     "data": {
      "text/plain": [
       "Symptom_answer_successfully_labeled\n",
       "True     1465\n",
       "False    1035\n",
       "Name: count, dtype: int64"
      ]
     },
     "metadata": {},
     "output_type": "display_data"
    },
    {
     "data": {
      "text/plain": [
       "Keyword_answer_successfully_labeled\n",
       "True     1427\n",
       "False    1073\n",
       "Name: count, dtype: int64"
      ]
     },
     "metadata": {},
     "output_type": "display_data"
    },
    {
     "data": {
      "text/plain": [
       "All_answer_successfully_labeled\n",
       "False    2184\n",
       "True      316\n",
       "Name: count, dtype: int64"
      ]
     },
     "metadata": {},
     "output_type": "display_data"
    },
    {
     "name": "stdout",
     "output_type": "stream",
     "text": [
      "aggregate entities results ...\n",
      "aggregate entities results ...\n",
      "aggregate entities results ...\n",
      "aggregate entities results ...\n",
      "/scratch/dzhang5/LLM/TWEET-FID/unlabeled-results-autolabel-ner-qa-mv/0.1/refuel-llm_semantic_similarity_aggregated_unlabeled-first-11.csv\n",
      "/scratch/dzhang5/LLM/TWEET-FID/second-round/Food-unlabeled-second-11.csv\n",
      "/scratch/dzhang5/LLM/TWEET-FID/second-round/Location-unlabeled-second-11.csv\n",
      "/scratch/dzhang5/LLM/TWEET-FID/second-round/Symptom-unlabeled-second-11.csv\n",
      "/scratch/dzhang5/LLM/TWEET-FID/second-round/Keyword-unlabeled-second-11.csv\n"
     ]
    },
    {
     "data": {
      "text/plain": [
       "Food_answer_successfully_labeled\n",
       "True     1539\n",
       "False     961\n",
       "Name: count, dtype: int64"
      ]
     },
     "metadata": {},
     "output_type": "display_data"
    },
    {
     "data": {
      "text/plain": [
       "Location_answer_successfully_labeled\n",
       "True     1425\n",
       "False    1075\n",
       "Name: count, dtype: int64"
      ]
     },
     "metadata": {},
     "output_type": "display_data"
    },
    {
     "data": {
      "text/plain": [
       "Symptom_answer_successfully_labeled\n",
       "True     1533\n",
       "False     967\n",
       "Name: count, dtype: int64"
      ]
     },
     "metadata": {},
     "output_type": "display_data"
    },
    {
     "data": {
      "text/plain": [
       "Keyword_answer_successfully_labeled\n",
       "True     1559\n",
       "False     941\n",
       "Name: count, dtype: int64"
      ]
     },
     "metadata": {},
     "output_type": "display_data"
    },
    {
     "data": {
      "text/plain": [
       "All_answer_successfully_labeled\n",
       "False    2156\n",
       "True      344\n",
       "Name: count, dtype: int64"
      ]
     },
     "metadata": {},
     "output_type": "display_data"
    },
    {
     "name": "stdout",
     "output_type": "stream",
     "text": [
      "aggregate entities results ...\n",
      "aggregate entities results ...\n",
      "aggregate entities results ...\n",
      "aggregate entities results ...\n",
      "/scratch/dzhang5/LLM/TWEET-FID/unlabeled-results-autolabel-ner-qa-mv/0.1/refuel-llm_semantic_similarity_aggregated_unlabeled-first-12.csv\n",
      "/scratch/dzhang5/LLM/TWEET-FID/second-round/Food-unlabeled-second-12.csv\n",
      "/scratch/dzhang5/LLM/TWEET-FID/second-round/Location-unlabeled-second-12.csv\n",
      "/scratch/dzhang5/LLM/TWEET-FID/second-round/Symptom-unlabeled-second-12.csv\n",
      "/scratch/dzhang5/LLM/TWEET-FID/second-round/Keyword-unlabeled-second-12.csv\n"
     ]
    },
    {
     "data": {
      "text/plain": [
       "Food_answer_successfully_labeled\n",
       "True     1430\n",
       "False    1070\n",
       "Name: count, dtype: int64"
      ]
     },
     "metadata": {},
     "output_type": "display_data"
    },
    {
     "data": {
      "text/plain": [
       "Location_answer_successfully_labeled\n",
       "True     1457\n",
       "False    1043\n",
       "Name: count, dtype: int64"
      ]
     },
     "metadata": {},
     "output_type": "display_data"
    },
    {
     "data": {
      "text/plain": [
       "Symptom_answer_successfully_labeled\n",
       "True     1462\n",
       "False    1038\n",
       "Name: count, dtype: int64"
      ]
     },
     "metadata": {},
     "output_type": "display_data"
    },
    {
     "data": {
      "text/plain": [
       "Keyword_answer_successfully_labeled\n",
       "True     1449\n",
       "False    1051\n",
       "Name: count, dtype: int64"
      ]
     },
     "metadata": {},
     "output_type": "display_data"
    },
    {
     "data": {
      "text/plain": [
       "All_answer_successfully_labeled\n",
       "False    2166\n",
       "True      334\n",
       "Name: count, dtype: int64"
      ]
     },
     "metadata": {},
     "output_type": "display_data"
    },
    {
     "name": "stdout",
     "output_type": "stream",
     "text": [
      "aggregate entities results ...\n",
      "aggregate entities results ...\n",
      "aggregate entities results ...\n",
      "aggregate entities results ...\n",
      "/scratch/dzhang5/LLM/TWEET-FID/unlabeled-results-autolabel-ner-qa-mv/0.1/refuel-llm_semantic_similarity_aggregated_unlabeled-first-13.csv\n",
      "/scratch/dzhang5/LLM/TWEET-FID/second-round/Food-unlabeled-second-13.csv\n",
      "/scratch/dzhang5/LLM/TWEET-FID/second-round/Location-unlabeled-second-13.csv\n",
      "/scratch/dzhang5/LLM/TWEET-FID/second-round/Symptom-unlabeled-second-13.csv\n",
      "/scratch/dzhang5/LLM/TWEET-FID/second-round/Keyword-unlabeled-second-13.csv\n"
     ]
    },
    {
     "data": {
      "text/plain": [
       "Food_answer_successfully_labeled\n",
       "True     1451\n",
       "False    1049\n",
       "Name: count, dtype: int64"
      ]
     },
     "metadata": {},
     "output_type": "display_data"
    },
    {
     "data": {
      "text/plain": [
       "Location_answer_successfully_labeled\n",
       "True     1369\n",
       "False    1131\n",
       "Name: count, dtype: int64"
      ]
     },
     "metadata": {},
     "output_type": "display_data"
    },
    {
     "data": {
      "text/plain": [
       "Symptom_answer_successfully_labeled\n",
       "True     1382\n",
       "False    1118\n",
       "Name: count, dtype: int64"
      ]
     },
     "metadata": {},
     "output_type": "display_data"
    },
    {
     "data": {
      "text/plain": [
       "Keyword_answer_successfully_labeled\n",
       "True     1450\n",
       "False    1050\n",
       "Name: count, dtype: int64"
      ]
     },
     "metadata": {},
     "output_type": "display_data"
    },
    {
     "data": {
      "text/plain": [
       "All_answer_successfully_labeled\n",
       "False    2179\n",
       "True      321\n",
       "Name: count, dtype: int64"
      ]
     },
     "metadata": {},
     "output_type": "display_data"
    },
    {
     "name": "stdout",
     "output_type": "stream",
     "text": [
      "aggregate entities results ...\n",
      "aggregate entities results ...\n",
      "aggregate entities results ...\n",
      "aggregate entities results ...\n",
      "/scratch/dzhang5/LLM/TWEET-FID/unlabeled-results-autolabel-ner-qa-mv/0.1/refuel-llm_semantic_similarity_aggregated_unlabeled-first-14.csv\n",
      "/scratch/dzhang5/LLM/TWEET-FID/second-round/Food-unlabeled-second-14.csv\n",
      "/scratch/dzhang5/LLM/TWEET-FID/second-round/Location-unlabeled-second-14.csv\n",
      "/scratch/dzhang5/LLM/TWEET-FID/second-round/Symptom-unlabeled-second-14.csv\n",
      "/scratch/dzhang5/LLM/TWEET-FID/second-round/Keyword-unlabeled-second-14.csv\n"
     ]
    },
    {
     "data": {
      "text/plain": [
       "Food_answer_successfully_labeled\n",
       "True     1653\n",
       "False     847\n",
       "Name: count, dtype: int64"
      ]
     },
     "metadata": {},
     "output_type": "display_data"
    },
    {
     "data": {
      "text/plain": [
       "Location_answer_successfully_labeled\n",
       "True     1563\n",
       "False     937\n",
       "Name: count, dtype: int64"
      ]
     },
     "metadata": {},
     "output_type": "display_data"
    },
    {
     "data": {
      "text/plain": [
       "Symptom_answer_successfully_labeled\n",
       "True     1525\n",
       "False     975\n",
       "Name: count, dtype: int64"
      ]
     },
     "metadata": {},
     "output_type": "display_data"
    },
    {
     "data": {
      "text/plain": [
       "Keyword_answer_successfully_labeled\n",
       "True     1484\n",
       "False    1016\n",
       "Name: count, dtype: int64"
      ]
     },
     "metadata": {},
     "output_type": "display_data"
    },
    {
     "data": {
      "text/plain": [
       "All_answer_successfully_labeled\n",
       "False    2074\n",
       "True      426\n",
       "Name: count, dtype: int64"
      ]
     },
     "metadata": {},
     "output_type": "display_data"
    },
    {
     "name": "stdout",
     "output_type": "stream",
     "text": [
      "aggregate entities results ...\n",
      "aggregate entities results ...\n",
      "aggregate entities results ...\n",
      "aggregate entities results ...\n",
      "/scratch/dzhang5/LLM/TWEET-FID/unlabeled-results-autolabel-ner-qa-mv/0.1/refuel-llm_semantic_similarity_aggregated_unlabeled-first-15.csv\n",
      "/scratch/dzhang5/LLM/TWEET-FID/second-round/Food-unlabeled-second-15.csv\n",
      "/scratch/dzhang5/LLM/TWEET-FID/second-round/Location-unlabeled-second-15.csv\n",
      "/scratch/dzhang5/LLM/TWEET-FID/second-round/Symptom-unlabeled-second-15.csv\n",
      "/scratch/dzhang5/LLM/TWEET-FID/second-round/Keyword-unlabeled-second-15.csv\n"
     ]
    },
    {
     "data": {
      "text/plain": [
       "Food_answer_successfully_labeled\n",
       "True     1981\n",
       "False     519\n",
       "Name: count, dtype: int64"
      ]
     },
     "metadata": {},
     "output_type": "display_data"
    },
    {
     "data": {
      "text/plain": [
       "Location_answer_successfully_labeled\n",
       "True     2131\n",
       "False     369\n",
       "Name: count, dtype: int64"
      ]
     },
     "metadata": {},
     "output_type": "display_data"
    },
    {
     "data": {
      "text/plain": [
       "Symptom_answer_successfully_labeled\n",
       "True     1967\n",
       "False     533\n",
       "Name: count, dtype: int64"
      ]
     },
     "metadata": {},
     "output_type": "display_data"
    },
    {
     "data": {
      "text/plain": [
       "Keyword_answer_successfully_labeled\n",
       "True     1745\n",
       "False     755\n",
       "Name: count, dtype: int64"
      ]
     },
     "metadata": {},
     "output_type": "display_data"
    },
    {
     "data": {
      "text/plain": [
       "All_answer_successfully_labeled\n",
       "False    1511\n",
       "True      989\n",
       "Name: count, dtype: int64"
      ]
     },
     "metadata": {},
     "output_type": "display_data"
    },
    {
     "name": "stdout",
     "output_type": "stream",
     "text": [
      "aggregate entities results ...\n",
      "aggregate entities results ...\n",
      "aggregate entities results ...\n",
      "aggregate entities results ...\n",
      "/scratch/dzhang5/LLM/TWEET-FID/unlabeled-results-autolabel-ner-qa-mv/0.1/refuel-llm_semantic_similarity_aggregated_unlabeled-first-16.csv\n",
      "/scratch/dzhang5/LLM/TWEET-FID/second-round/Food-unlabeled-second-16.csv\n",
      "/scratch/dzhang5/LLM/TWEET-FID/second-round/Location-unlabeled-second-16.csv\n",
      "/scratch/dzhang5/LLM/TWEET-FID/second-round/Symptom-unlabeled-second-16.csv\n",
      "/scratch/dzhang5/LLM/TWEET-FID/second-round/Keyword-unlabeled-second-16.csv\n"
     ]
    },
    {
     "data": {
      "text/plain": [
       "Food_answer_successfully_labeled\n",
       "True     1723\n",
       "False     777\n",
       "Name: count, dtype: int64"
      ]
     },
     "metadata": {},
     "output_type": "display_data"
    },
    {
     "data": {
      "text/plain": [
       "Location_answer_successfully_labeled\n",
       "True     1854\n",
       "False     646\n",
       "Name: count, dtype: int64"
      ]
     },
     "metadata": {},
     "output_type": "display_data"
    },
    {
     "data": {
      "text/plain": [
       "Symptom_answer_successfully_labeled\n",
       "True     1932\n",
       "False     568\n",
       "Name: count, dtype: int64"
      ]
     },
     "metadata": {},
     "output_type": "display_data"
    },
    {
     "data": {
      "text/plain": [
       "Keyword_answer_successfully_labeled\n",
       "True     1791\n",
       "False     709\n",
       "Name: count, dtype: int64"
      ]
     },
     "metadata": {},
     "output_type": "display_data"
    },
    {
     "data": {
      "text/plain": [
       "All_answer_successfully_labeled\n",
       "False    1671\n",
       "True      829\n",
       "Name: count, dtype: int64"
      ]
     },
     "metadata": {},
     "output_type": "display_data"
    },
    {
     "name": "stdout",
     "output_type": "stream",
     "text": [
      "aggregate entities results ...\n",
      "aggregate entities results ...\n",
      "aggregate entities results ...\n",
      "aggregate entities results ...\n",
      "/scratch/dzhang5/LLM/TWEET-FID/unlabeled-results-autolabel-ner-qa-mv/0.1/refuel-llm_semantic_similarity_aggregated_unlabeled-first-17.csv\n",
      "/scratch/dzhang5/LLM/TWEET-FID/second-round/Food-unlabeled-second-17.csv\n",
      "/scratch/dzhang5/LLM/TWEET-FID/second-round/Location-unlabeled-second-17.csv\n",
      "/scratch/dzhang5/LLM/TWEET-FID/second-round/Symptom-unlabeled-second-17.csv\n",
      "/scratch/dzhang5/LLM/TWEET-FID/second-round/Keyword-unlabeled-second-17.csv\n"
     ]
    },
    {
     "data": {
      "text/plain": [
       "Food_answer_successfully_labeled\n",
       "True     1284\n",
       "False    1216\n",
       "Name: count, dtype: int64"
      ]
     },
     "metadata": {},
     "output_type": "display_data"
    },
    {
     "data": {
      "text/plain": [
       "Location_answer_successfully_labeled\n",
       "True     1673\n",
       "False     827\n",
       "Name: count, dtype: int64"
      ]
     },
     "metadata": {},
     "output_type": "display_data"
    },
    {
     "data": {
      "text/plain": [
       "Symptom_answer_successfully_labeled\n",
       "True     2033\n",
       "False     467\n",
       "Name: count, dtype: int64"
      ]
     },
     "metadata": {},
     "output_type": "display_data"
    },
    {
     "data": {
      "text/plain": [
       "Keyword_answer_successfully_labeled\n",
       "True     1521\n",
       "False     979\n",
       "Name: count, dtype: int64"
      ]
     },
     "metadata": {},
     "output_type": "display_data"
    },
    {
     "data": {
      "text/plain": [
       "All_answer_successfully_labeled\n",
       "False    2020\n",
       "True      480\n",
       "Name: count, dtype: int64"
      ]
     },
     "metadata": {},
     "output_type": "display_data"
    },
    {
     "name": "stdout",
     "output_type": "stream",
     "text": [
      "aggregate entities results ...\n",
      "aggregate entities results ...\n",
      "aggregate entities results ...\n",
      "aggregate entities results ...\n",
      "/scratch/dzhang5/LLM/TWEET-FID/unlabeled-results-autolabel-ner-qa-mv/0.1/refuel-llm_semantic_similarity_aggregated_unlabeled-first-18.csv\n",
      "/scratch/dzhang5/LLM/TWEET-FID/second-round/Food-unlabeled-second-18.csv\n",
      "/scratch/dzhang5/LLM/TWEET-FID/second-round/Location-unlabeled-second-18.csv\n",
      "/scratch/dzhang5/LLM/TWEET-FID/second-round/Symptom-unlabeled-second-18.csv\n",
      "/scratch/dzhang5/LLM/TWEET-FID/second-round/Keyword-unlabeled-second-18.csv\n"
     ]
    },
    {
     "data": {
      "text/plain": [
       "Food_answer_successfully_labeled\n",
       "True     1924\n",
       "False     576\n",
       "Name: count, dtype: int64"
      ]
     },
     "metadata": {},
     "output_type": "display_data"
    },
    {
     "data": {
      "text/plain": [
       "Location_answer_successfully_labeled\n",
       "True     1566\n",
       "False     934\n",
       "Name: count, dtype: int64"
      ]
     },
     "metadata": {},
     "output_type": "display_data"
    },
    {
     "data": {
      "text/plain": [
       "Symptom_answer_successfully_labeled\n",
       "True     1616\n",
       "False     884\n",
       "Name: count, dtype: int64"
      ]
     },
     "metadata": {},
     "output_type": "display_data"
    },
    {
     "data": {
      "text/plain": [
       "Keyword_answer_successfully_labeled\n",
       "True     1622\n",
       "False     878\n",
       "Name: count, dtype: int64"
      ]
     },
     "metadata": {},
     "output_type": "display_data"
    },
    {
     "data": {
      "text/plain": [
       "All_answer_successfully_labeled\n",
       "False    2017\n",
       "True      483\n",
       "Name: count, dtype: int64"
      ]
     },
     "metadata": {},
     "output_type": "display_data"
    },
    {
     "name": "stdout",
     "output_type": "stream",
     "text": [
      "aggregate entities results ...\n",
      "aggregate entities results ...\n",
      "aggregate entities results ...\n",
      "aggregate entities results ...\n",
      "/scratch/dzhang5/LLM/TWEET-FID/unlabeled-results-autolabel-ner-qa-mv/0.1/refuel-llm_semantic_similarity_aggregated_unlabeled-first-19.csv\n",
      "/scratch/dzhang5/LLM/TWEET-FID/second-round/Food-unlabeled-second-19.csv\n",
      "/scratch/dzhang5/LLM/TWEET-FID/second-round/Location-unlabeled-second-19.csv\n",
      "/scratch/dzhang5/LLM/TWEET-FID/second-round/Symptom-unlabeled-second-19.csv\n",
      "/scratch/dzhang5/LLM/TWEET-FID/second-round/Keyword-unlabeled-second-19.csv\n"
     ]
    },
    {
     "data": {
      "text/plain": [
       "Food_answer_successfully_labeled\n",
       "True     1295\n",
       "False    1205\n",
       "Name: count, dtype: int64"
      ]
     },
     "metadata": {},
     "output_type": "display_data"
    },
    {
     "data": {
      "text/plain": [
       "Location_answer_successfully_labeled\n",
       "True     1706\n",
       "False     794\n",
       "Name: count, dtype: int64"
      ]
     },
     "metadata": {},
     "output_type": "display_data"
    },
    {
     "data": {
      "text/plain": [
       "Symptom_answer_successfully_labeled\n",
       "True     1847\n",
       "False     653\n",
       "Name: count, dtype: int64"
      ]
     },
     "metadata": {},
     "output_type": "display_data"
    },
    {
     "data": {
      "text/plain": [
       "Keyword_answer_successfully_labeled\n",
       "True     1841\n",
       "False     659\n",
       "Name: count, dtype: int64"
      ]
     },
     "metadata": {},
     "output_type": "display_data"
    },
    {
     "data": {
      "text/plain": [
       "All_answer_successfully_labeled\n",
       "False    2006\n",
       "True      494\n",
       "Name: count, dtype: int64"
      ]
     },
     "metadata": {},
     "output_type": "display_data"
    },
    {
     "name": "stdout",
     "output_type": "stream",
     "text": [
      "aggregate entities results ...\n",
      "aggregate entities results ...\n",
      "aggregate entities results ...\n",
      "aggregate entities results ...\n",
      "/scratch/dzhang5/LLM/TWEET-FID/unlabeled-results-autolabel-ner-qa-mv/0.1/refuel-llm_semantic_similarity_aggregated_unlabeled-first-20.csv\n",
      "/scratch/dzhang5/LLM/TWEET-FID/second-round/Food-unlabeled-second-20.csv\n",
      "/scratch/dzhang5/LLM/TWEET-FID/second-round/Location-unlabeled-second-20.csv\n",
      "/scratch/dzhang5/LLM/TWEET-FID/second-round/Symptom-unlabeled-second-20.csv\n",
      "/scratch/dzhang5/LLM/TWEET-FID/second-round/Keyword-unlabeled-second-20.csv\n",
      "Total Labeled: 8955 missing files: 0\n"
     ]
    }
   ],
   "source": [
    "count_labeled = 0\n",
    "missing_file = 0\n",
    "for ix in range(1,21):\n",
    "    data_name = f'unlabeled-{ix}.csv'\n",
    "    data_path = os.path.join(data_dir, data_name)\n",
    "    try:\n",
    "        count_labeled += process_multiple_files()\n",
    "    except FileNotFoundError:\n",
    "        print(f'{data_name} has missing files')\n",
    "        missing_file +=1\n",
    "        continue\n",
    "print(\"Total Labeled:\", count_labeled, 'missing files:', missing_file)"
   ]
  }
 ],
 "metadata": {
  "kernelspec": {
   "display_name": "py3.9-visa",
   "language": "python",
   "name": "py3.9-visa"
  },
  "language_info": {
   "codemirror_mode": {
    "name": "ipython",
    "version": 3
   },
   "file_extension": ".py",
   "mimetype": "text/x-python",
   "name": "python",
   "nbconvert_exporter": "python",
   "pygments_lexer": "ipython3",
   "version": "3.9.12"
  }
 },
 "nbformat": 4,
 "nbformat_minor": 5
}
