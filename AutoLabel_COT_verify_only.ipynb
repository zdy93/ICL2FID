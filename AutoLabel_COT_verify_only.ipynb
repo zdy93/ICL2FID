{
 "cells": [
  {
   "cell_type": "code",
   "execution_count": 1,
   "id": "f5198684-0eb5-4959-941e-59d467a9b688",
   "metadata": {
    "tags": [
     "parameters"
    ]
   },
   "outputs": [],
   "source": [
    "few_shot_path = '/scratch/dzhang5/LLM/TWEET-FID/expert.train.short.csv'\n",
    "data_path = '/scratch/dzhang5/LLM/TWEET-FID/expert.smalltest.csv'\n",
    "output_dir = '/scratch/dzhang5/LLM/TWEET-FID/test-results-autolabel'\n",
    "model_name = \"gpt-3.5-turbo\"\n",
    "label_column = 'sentence_class'\n",
    "text_column = 'tweet'\n",
    "explanation_column = 'sentence_explanation'\n",
    "few_shot_num = 8\n",
    "few_shot_selection = \"semantic_similarity\"\n",
    "verify_few_shot_selection = \"semantic_similarity\"\n",
    "use_current_explanation = False\n",
    "use_ground_explanation = False\n",
    "token_path = \"/home/dzhang5/.cache/huggingface/token\" \n",
    "cache=False\n",
    "console_output=True\n",
    "temperature=0.1\n",
    "random_shuffle_examples = True\n",
    "random_shuffle_examples_seed = 1"
   ]
  },
  {
   "cell_type": "markdown",
   "id": "23471cd2-22af-48bb-8548-38db2276c782",
   "metadata": {},
   "source": [
    "# Generation Stage"
   ]
  },
  {
   "cell_type": "code",
   "execution_count": 2,
   "id": "e3ff6901-384c-4d0f-8989-ea59657c37e3",
   "metadata": {},
   "outputs": [],
   "source": [
    "from autolabel.schema import ModelProvider, TaskType\n",
    "from autolabel.models import register_model, MODEL_REGISTRY\n",
    "from hf_pipeline_new import HFPipelineLLMNew\n",
    "from few_shot_new import NewAutoLabelConfig, NewExampleSelectorFactory\n",
    "from autolabel.few_shot import ExampleSelectorFactory\n",
    "from template_inst import update_inst_mode\n",
    "from named_entity_recognition_new import NewNamedEntityRecognitionTask\n",
    "from classification_new import NewClassificationTask\n",
    "from autolabel.tasks import TASK_TYPE_TO_IMPLEMENTATION \n",
    "import sys"
   ]
  },
  {
   "cell_type": "code",
   "execution_count": 3,
   "id": "5fbc9b8a-32ff-4a8a-b1b0-db5697b3d861",
   "metadata": {},
   "outputs": [],
   "source": [
    "update_inst_mode(model_name)\n",
    "TASK_TYPE_TO_IMPLEMENTATION[TaskType.NAMED_ENTITY_RECOGNITION] = NewNamedEntityRecognitionTask\n",
    "TASK_TYPE_TO_IMPLEMENTATION[TaskType.CLASSIFICATION] = NewClassificationTask\n",
    "sys.modules['autolabel.labeler'].ExampleSelectorFactory = NewExampleSelectorFactory\n",
    "register_model(ModelProvider.HUGGINGFACE_PIPELINE, HFPipelineLLMNew)"
   ]
  },
  {
   "cell_type": "code",
   "execution_count": 4,
   "id": "d67c0a78-0a28-4ad1-84d2-9edf12534aed",
   "metadata": {},
   "outputs": [],
   "source": [
    "from autolabel import LabelingAgent, AutolabelDataset\n",
    "import json\n",
    "import os\n",
    "import pandas as pd"
   ]
  },
  {
   "cell_type": "code",
   "execution_count": 5,
   "id": "9b470589-0c67-4fc7-aba1-b0345eed23f4",
   "metadata": {},
   "outputs": [
    {
     "name": "stdout",
     "output_type": "stream",
     "text": [
      "Token will not been saved to git credential helper. Pass `add_to_git_credential=True` if you want to set the git credential as well.\n",
      "Token is valid (permission: read).\n",
      "Your token has been saved to /home/dzhang5/.cache/huggingface/token\n",
      "Login successful\n"
     ]
    }
   ],
   "source": [
    "with open(token_path) as tfile:\n",
    "    token_str = tfile.read()\n",
    "\n",
    "from huggingface_hub import login\n",
    "login(token=token_str)"
   ]
  },
  {
   "cell_type": "code",
   "execution_count": 6,
   "id": "ae5043f6-302a-4c91-bc1c-547b760378ab",
   "metadata": {},
   "outputs": [],
   "source": [
    "no_auto = [\"microsoft/prophetnet\", \"microsoft/phi-2\", \"google/pegasus-x\"]\n",
    "if any([pre in model_name for pre in no_auto]):\n",
    "    device_map = None\n",
    "else:\n",
    "    device_map = \"auto\""
   ]
  },
  {
   "cell_type": "code",
   "execution_count": 7,
   "id": "940ce33a-51e5-45e1-97fc-aeaf94491727",
   "metadata": {},
   "outputs": [],
   "source": [
    "refuel_models = [\"refuel-llm\", \"llama-13b-chat\"]\n",
    "if model_name in refuel_models:\n",
    "    provider = \"refuel\"\n",
    "    em_provider = \"huggingface_pipeline\"\n",
    "    model_params = {\"max_length\":4096, \"temperature\": temperature}\n",
    "    task_name = f\"FoodborneIllnessIncidentTweetClassification_{few_shot_selection}_{model_name}\"\n",
    "elif model_name.startswith('gpt'):\n",
    "    provider = \"openai\"\n",
    "    em_provider = \"openai\"\n",
    "    model_params = {\"max_tokens\":4096, \"temperature\": temperature}\n",
    "    task_name = f\"FoodborneIllnessIncidentTweetClassification_{few_shot_selection}_{model_name}\"\n",
    "else:\n",
    "    provider = \"huggingface_pipeline\"\n",
    "    em_provider = \"huggingface_pipeline\"\n",
    "    model_params = {\"max_length\":4096, \"temperature\": temperature,\n",
    "                    \"quantize\": 16, \"device_map\": device_map,\n",
    "                    \"token\": token_str}\n",
    "    task_name = f\"FoodborneIllnessIncidentTweetClassification_{few_shot_selection}_{model_name.split('/')[1]}\""
   ]
  },
  {
   "cell_type": "code",
   "execution_count": 8,
   "id": "6ef8a6dd-7773-46be-8b94-695363657877",
   "metadata": {},
   "outputs": [],
   "source": [
    "if not os.path.exists(output_dir):\n",
    "    # Create the directory\n",
    "    os.makedirs(output_dir)\n",
    "output_name = os.path.split(model_name)[-1] + '_' + few_shot_selection + '_COT_' + '_cur_' + str(use_current_explanation) + '_ground_' + str(use_ground_explanation) + '_' + os.path.split(data_path)[-1]\n",
    "output_path = os.path.join(output_dir, output_name)"
   ]
  },
  {
   "cell_type": "code",
   "execution_count": 9,
   "id": "e2ab5c16-a103-45e2-af9e-c31d98292779",
   "metadata": {},
   "outputs": [],
   "source": [
    "test_data = pd.read_csv(data_path)"
   ]
  },
  {
   "cell_type": "code",
   "execution_count": 10,
   "id": "031cbcdf-65b8-4733-9c79-00e3fd1e458b",
   "metadata": {},
   "outputs": [],
   "source": [
    "if use_current_explanation and not use_ground_explanation:\n",
    "    explanation_column = explanation_column + \"_prediction\""
   ]
  },
  {
   "cell_type": "markdown",
   "id": "b089ebc4-d0ef-46ed-80e3-9b75399d9c15",
   "metadata": {},
   "source": [
    "# Verification Stage"
   ]
  },
  {
   "cell_type": "code",
   "execution_count": 11,
   "id": "a766bcfa-17da-41cb-b65a-de3a4fd42f45",
   "metadata": {},
   "outputs": [],
   "source": [
    "last_results = pd.read_csv(output_path)"
   ]
  },
  {
   "cell_type": "code",
   "execution_count": 30,
   "id": "56d9b883-cd35-43ba-a221-f664aac04b87",
   "metadata": {},
   "outputs": [],
   "source": [
    "from utils import generate_tweet_verify_ans, generate_tweet_verify_ref, construct_sen_results, generate_word_explanation_prediction\n",
    "import random"
   ]
  },
  {
   "cell_type": "code",
   "execution_count": 13,
   "id": "a230e4c6-c8a5-4bd5-ade6-f2c69f205127",
   "metadata": {},
   "outputs": [],
   "source": [
    "verify_question_column = f'sentence_class_verify_question'\n",
    "verify_explanation_column = f'sentence_class_verify_explanation'\n",
    "verify_answer_column = f'sentence_class_verify_answer'\n",
    "verify_example_selection_label_column = f'sentence_class_verify_example_label'"
   ]
  },
  {
   "cell_type": "code",
   "execution_count": 14,
   "id": "f76f1621-398b-40c4-a60d-b18944a202f4",
   "metadata": {},
   "outputs": [],
   "source": [
    "test_data[verify_question_column] = last_results[f'{label_column}_label'].apply(generate_tweet_verify_ref)\n",
    "verify_few_shot_data = pd.read_csv(few_shot_path)\n",
    "random.seed(1)\n",
    "verify_few_shot_data[[verify_question_column, verify_explanation_column, verify_answer_column, verify_example_selection_label_column]] = verify_few_shot_data[[label_column]].apply(lambda x: generate_tweet_verify_ans(x[label_column]), axis=1, result_type=\"expand\")\n",
    "verify_few_shot_data.to_csv(few_shot_path, index=False)"
   ]
  },
  {
   "cell_type": "code",
   "execution_count": 15,
   "id": "a7fd5ea1-c684-4868-9cb6-aed220e0b8a6",
   "metadata": {},
   "outputs": [
    {
     "data": {
      "text/plain": [
       "array(['Yes'], dtype=object)"
      ]
     },
     "execution_count": 15,
     "metadata": {},
     "output_type": "execute_result"
    }
   ],
   "source": [
    "last_results[\"sentence_class_label\"].unique()"
   ]
  },
  {
   "cell_type": "code",
   "execution_count": 16,
   "id": "535d681e-171c-4ae2-b34e-7b3a7a3301cf",
   "metadata": {},
   "outputs": [],
   "source": [
    "verify_task_guideline = (f\"You are an expert at identifying foodborne illness incident information.\"\n",
    "                         '''your task is to verify if the prediction about \"whether the given text describes a potential foodborne illness event.\" is correct or not. '''\n",
    "                         \"Use the following examples as a guide for your analysis and format your responses similarly.\")\n",
    "question = f'''Do you think the prediction \"{{{verify_question_column}}}\" for the given text is correct or not?'''"
   ]
  },
  {
   "cell_type": "code",
   "execution_count": 17,
   "id": "b39cc9bd-a803-4278-bb55-50be4294b3b2",
   "metadata": {},
   "outputs": [],
   "source": [
    "if verify_few_shot_selection == few_shot_selection:\n",
    "    output_verify_name = os.path.split(model_name)[-1] + '_' + few_shot_selection + '_COT_' + '_cur_' + str(use_current_explanation) + '_ground_' + str(use_ground_explanation) + '_verify_COT_' + os.path.split(data_path)[-1]\n",
    "    output_final_name = os.path.split(model_name)[-1] + '_' + few_shot_selection + '_COT_' + '_cur_' + str(use_current_explanation) + '_ground_' + str(use_ground_explanation) + '_final_COT_' + os.path.split(data_path)[-1]\n",
    "else:\n",
    "    output_verify_name = os.path.split(model_name)[-1] + '_' + few_shot_selection + '_COT_' + '_cur_' + str(use_current_explanation) + '_ground_' + str(use_ground_explanation) + '_verify_COT_' + verify_few_shot_selection + '_' + os.path.split(data_path)[-1]\n",
    "    output_final_name = os.path.split(model_name)[-1] + '_' + few_shot_selection + '_COT_' + '_cur_' + str(use_current_explanation) + '_ground_' + str(use_ground_explanation) + '_final_COT_' + verify_few_shot_selection + '_' + os.path.split(data_path)[-1]\n",
    "output_verify_path = os.path.join(output_dir, output_verify_name)\n",
    "output_final_path = os.path.join(output_dir, output_final_name)"
   ]
  },
  {
   "cell_type": "code",
   "execution_count": 18,
   "id": "cf68e887-f3c4-4dc8-ae0e-8f8f4d88586f",
   "metadata": {},
   "outputs": [],
   "source": [
    "config = {\n",
    "    \"task_name\": task_name+'_verification',\n",
    "    \"task_type\": \"classification\",\n",
    "    \"dataset\": {\n",
    "        \"label_column\": verify_answer_column,\n",
    "        \"text_column\": text_column,\n",
    "        \"explanation_column\": verify_explanation_column,\n",
    "        \"example_selection_label_column\": verify_example_selection_label_column,\n",
    "        \"delimiter\": \",\",\n",
    "    },\n",
    "    \"model\": {\n",
    "        \"provider\": provider,\n",
    "        \"name\": model_name,\n",
    "        \"params\": model_params\n",
    "    },\n",
    "    \"embedding\": {\n",
    "        \"provider\": em_provider,\n",
    "    },\n",
    "    \"prompt\": {\n",
    "        \"task_guidelines\": verify_task_guideline,\n",
    "        \"output_guidelines\": ('''Your answer will consist of an explanation, followed by the correct answer (\"correct\" or \"not correct\").'''\n",
    "                              f'''Please answer with \"correct\" if the given prediction is correct, otherwise answer with \"not correct\".'''\n",
    "                              '''The last line of the response should always be JSON format with one key: {\"label\": \"the correct answer\"}.\\n'''\n",
    "                             ),\n",
    "        \"labels\": [\n",
    "            \"correct\",\n",
    "            \"not correct\"\n",
    "        ],\n",
    "        \"example_selection_labels\":[\n",
    "            \"CorrectYes\",\n",
    "            \"CorrectNo\",\n",
    "            \"NotCorrectYes\",\n",
    "            \"NotCorrectNo\",\n",
    "        ],\n",
    "        \"few_shot_examples\": few_shot_path,\n",
    "        \"few_shot_selection\": verify_few_shot_selection,\n",
    "        \"few_shot_num\": few_shot_num,\n",
    "        \"use_current_explanation\": use_current_explanation,\n",
    "        \"random_shuffle_examples\": random_shuffle_examples,\n",
    "        \"random_shuffle_examples_seed\": random_shuffle_examples_seed,\n",
    "        \"example_template\": f\"Context: {{{text_column}}}\\nQuestion: {question}\\nAnswer: Let's think step by step.\\n{{{verify_explanation_column}}}\\n{{{verify_answer_column}}}\",\n",
    "        \"chain_of_thought\": True\n",
    "    }\n",
    "}\n",
    "\n",
    "config = NewAutoLabelConfig(config)"
   ]
  },
  {
   "cell_type": "code",
   "execution_count": 19,
   "id": "4dcb7e0a-03f9-47cb-bcfa-963bed914dd3",
   "metadata": {},
   "outputs": [],
   "source": [
    "verify_few_shot_data =  AutolabelDataset(verify_few_shot_data, config=config)"
   ]
  },
  {
   "cell_type": "code",
   "execution_count": 20,
   "id": "70c31473-f178-4d52-92cf-13c1a8f4a40b",
   "metadata": {},
   "outputs": [
    {
     "name": "stderr",
     "output_type": "stream",
     "text": [
      "2024-03-28 06:06:59 autolabel.labeler WARNING: cache parameter is deprecated and will be removed soon. Please use generation_cache and transform_cache instead.\n",
      "/scratch/dzhang5/visa/visa39/lib/python3.9/site-packages/langchain_core/_api/deprecation.py:117: LangChainDeprecationWarning: The class `langchain_community.chat_models.openai.ChatOpenAI` was deprecated in langchain-community 0.0.10 and will be removed in 0.2.0. An updated version of the class exists in the langchain-openai package and should be used instead. To use it run `pip install -U langchain-openai` and import as `from langchain_openai import ChatOpenAI`.\n",
      "  warn_deprecated(\n"
     ]
    }
   ],
   "source": [
    "agent = LabelingAgent(config=config, console_output=console_output, cache=cache)"
   ]
  },
  {
   "cell_type": "code",
   "execution_count": 21,
   "id": "e4e9bcd3-e96e-44d6-a16a-51c39b0f9bdb",
   "metadata": {},
   "outputs": [],
   "source": [
    "verify_ds = AutolabelDataset(test_data[[text_column, verify_question_column]], config=config)"
   ]
  },
  {
   "cell_type": "code",
   "execution_count": 22,
   "id": "a714d3ce-493c-4e8a-8296-9d2c9fb1b46e",
   "metadata": {},
   "outputs": [
    {
     "name": "stderr",
     "output_type": "stream",
     "text": [
      "/scratch/dzhang5/visa/visa39/lib/python3.9/site-packages/langchain_core/_api/deprecation.py:117: LangChainDeprecationWarning: The class `langchain_community.embeddings.openai.OpenAIEmbeddings` was deprecated in langchain-community 0.1.0 and will be removed in 0.2.0. An updated version of the class exists in the langchain-openai package and should be used instead. To use it run `pip install -U langchain-openai` and import as `from langchain_openai import OpenAIEmbeddings`.\n",
      "  warn_deprecated(\n",
      "2024-03-28 06:07:03 httpx INFO: HTTP Request: POST https://api.openai.com/v1/embeddings \"HTTP/1.1 200 OK\"\n",
      "2024-03-28 06:07:07 httpx INFO: HTTP Request: POST https://api.openai.com/v1/embeddings \"HTTP/1.1 200 OK\"\n",
      "2024-03-28 06:07:11 httpx INFO: HTTP Request: POST https://api.openai.com/v1/embeddings \"HTTP/1.1 200 OK\"\n"
     ]
    },
    {
     "data": {
      "application/vnd.jupyter.widget-view+json": {
       "model_id": "7034040786d643fab7be11f78af1ac5a",
       "version_major": 2,
       "version_minor": 0
      },
      "text/plain": [
       "Output()"
      ]
     },
     "metadata": {},
     "output_type": "display_data"
    },
    {
     "name": "stderr",
     "output_type": "stream",
     "text": [
      "2024-03-28 06:07:13 httpx INFO: HTTP Request: POST https://api.openai.com/v1/embeddings \"HTTP/1.1 200 OK\"\n",
      "2024-03-28 06:07:13 httpx INFO: HTTP Request: POST https://api.openai.com/v1/embeddings \"HTTP/1.1 200 OK\"\n",
      "2024-03-28 06:07:14 httpx INFO: HTTP Request: POST https://api.openai.com/v1/embeddings \"HTTP/1.1 200 OK\"\n",
      "2024-03-28 06:07:14 httpx INFO: HTTP Request: POST https://api.openai.com/v1/embeddings \"HTTP/1.1 200 OK\"\n",
      "2024-03-28 06:07:14 httpx INFO: HTTP Request: POST https://api.openai.com/v1/embeddings \"HTTP/1.1 200 OK\"\n",
      "2024-03-28 06:07:14 httpx INFO: HTTP Request: POST https://api.openai.com/v1/embeddings \"HTTP/1.1 200 OK\"\n",
      "2024-03-28 06:07:14 httpx INFO: HTTP Request: POST https://api.openai.com/v1/embeddings \"HTTP/1.1 200 OK\"\n",
      "2024-03-28 06:07:14 httpx INFO: HTTP Request: POST https://api.openai.com/v1/embeddings \"HTTP/1.1 200 OK\"\n",
      "2024-03-28 06:07:14 httpx INFO: HTTP Request: POST https://api.openai.com/v1/embeddings \"HTTP/1.1 200 OK\"\n",
      "2024-03-28 06:07:15 httpx INFO: HTTP Request: POST https://api.openai.com/v1/embeddings \"HTTP/1.1 200 OK\"\n"
     ]
    },
    {
     "data": {
      "text/html": [
       "<pre style=\"white-space:pre;overflow-x:auto;line-height:normal;font-family:Menlo,'DejaVu Sans Mono',consolas,'Courier New',monospace\"></pre>\n"
      ],
      "text/plain": []
     },
     "metadata": {},
     "output_type": "display_data"
    },
    {
     "data": {
      "text/html": [
       "<pre style=\"white-space:pre;overflow-x:auto;line-height:normal;font-family:Menlo,'DejaVu Sans Mono',consolas,'Courier New',monospace\">\n",
       "</pre>\n"
      ],
      "text/plain": [
       "\n"
      ]
     },
     "metadata": {},
     "output_type": "display_data"
    },
    {
     "data": {
      "text/html": [
       "<pre style=\"white-space:pre;overflow-x:auto;line-height:normal;font-family:Menlo,'DejaVu Sans Mono',consolas,'Courier New',monospace\">┌──────────────────────────┬─────────┐\n",
       "│<span style=\"color: #800080; text-decoration-color: #800080; font-weight: bold\"> Total Estimated Cost     </span>│<span style=\"color: #008000; text-decoration-color: #008000; font-weight: bold\"> $0.0947 </span>│\n",
       "│<span style=\"color: #800080; text-decoration-color: #800080; font-weight: bold\"> Number of Examples       </span>│<span style=\"color: #008000; text-decoration-color: #008000; font-weight: bold\"> 10      </span>│\n",
       "│<span style=\"color: #800080; text-decoration-color: #800080; font-weight: bold\"> Average cost per example </span>│<span style=\"color: #008000; text-decoration-color: #008000; font-weight: bold\"> $0.0095 </span>│\n",
       "└──────────────────────────┴─────────┘\n",
       "</pre>\n"
      ],
      "text/plain": [
       "┌──────────────────────────┬─────────┐\n",
       "│\u001b[1;35m \u001b[0m\u001b[1;35mTotal Estimated Cost    \u001b[0m\u001b[1;35m \u001b[0m│\u001b[1;32m \u001b[0m\u001b[1;32m$0.0947\u001b[0m\u001b[1;32m \u001b[0m│\n",
       "│\u001b[1;35m \u001b[0m\u001b[1;35mNumber of Examples      \u001b[0m\u001b[1;35m \u001b[0m│\u001b[1;32m \u001b[0m\u001b[1;32m10     \u001b[0m\u001b[1;32m \u001b[0m│\n",
       "│\u001b[1;35m \u001b[0m\u001b[1;35mAverage cost per example\u001b[0m\u001b[1;35m \u001b[0m│\u001b[1;32m \u001b[0m\u001b[1;32m$0.0095\u001b[0m\u001b[1;32m \u001b[0m│\n",
       "└──────────────────────────┴─────────┘\n"
      ]
     },
     "metadata": {},
     "output_type": "display_data"
    },
    {
     "data": {
      "text/html": [
       "<pre style=\"white-space:pre;overflow-x:auto;line-height:normal;font-family:Menlo,'DejaVu Sans Mono',consolas,'Courier New',monospace\"><span style=\"color: #00ff00; text-decoration-color: #00ff00\">───────────────────────────────────────────────── </span>Prompt Example<span style=\"color: #00ff00; text-decoration-color: #00ff00\"> ──────────────────────────────────────────────────</span>\n",
       "</pre>\n"
      ],
      "text/plain": [
       "\u001b[92m───────────────────────────────────────────────── \u001b[0mPrompt Example\u001b[92m ──────────────────────────────────────────────────\u001b[0m\n"
      ]
     },
     "metadata": {},
     "output_type": "display_data"
    },
    {
     "data": {
      "text/html": [
       "<pre style=\"white-space:pre;overflow-x:auto;line-height:normal;font-family:Menlo,'DejaVu Sans Mono',consolas,'Courier New',monospace\">You are an expert at identifying foodborne illness incident information.your task is to verify if the prediction \n",
       "about <span style=\"color: #008000; text-decoration-color: #008000\">\"whether the given text describes a potential foodborne illness event.\"</span> is correct or not. Use the following \n",
       "examples as a guide for your analysis and format your responses similarly.\n",
       "\n",
       "Your answer will consist of an explanation, followed by the correct answer <span style=\"font-weight: bold\">(</span><span style=\"color: #008000; text-decoration-color: #008000\">\"correct\"</span> or <span style=\"color: #008000; text-decoration-color: #008000\">\"not correct\"</span><span style=\"font-weight: bold\">)</span>.Please \n",
       "answer with <span style=\"color: #008000; text-decoration-color: #008000\">\"correct\"</span> if the given prediction is correct, otherwise answer with <span style=\"color: #008000; text-decoration-color: #008000\">\"not correct\"</span>.The last line of the \n",
       "response should always be JSON format with one key: <span style=\"font-weight: bold\">{</span><span style=\"color: #008000; text-decoration-color: #008000\">\"label\"</span>: <span style=\"color: #008000; text-decoration-color: #008000\">\"the correct answer\"</span><span style=\"font-weight: bold\">}</span>.\n",
       "\n",
       "\n",
       "Some examples with their output answers are provided below:\n",
       "\n",
       "Context: @USER LOL I know! I've had a stomach bug or food poisoning since yesterday afternoon\n",
       "Question: Do you think the prediction <span style=\"color: #008000; text-decoration-color: #008000\">\"The text indicates a foodborne illness incident. \"</span> for the given text is \n",
       "correct or not?\n",
       "Answer: Let's think step by step.\n",
       "This answer is correct.I also think this text indicates a foodborne illness incident.\n",
       "<span style=\"font-weight: bold\">{</span><span style=\"color: #008000; text-decoration-color: #008000\">\"label\"</span>: <span style=\"color: #008000; text-decoration-color: #008000\">\"correct\"</span><span style=\"font-weight: bold\">}</span>\n",
       "Context: I've had food poisoning all day and I'm just miserable\n",
       "Question: Do you think the prediction <span style=\"color: #008000; text-decoration-color: #008000\">\"The text indicates a foodborne illness incident. \"</span> for the given text is \n",
       "correct or not?\n",
       "Answer: Let's think step by step.\n",
       "This answer is correct.I also think this text indicates a foodborne illness incident.\n",
       "<span style=\"font-weight: bold\">{</span><span style=\"color: #008000; text-decoration-color: #008000\">\"label\"</span>: <span style=\"color: #008000; text-decoration-color: #008000\">\"correct\"</span><span style=\"font-weight: bold\">}</span>\n",
       "Context: @USER Awww :<span style=\"font-weight: bold\">(</span> I hope it clears up. I just got food poisoning I think ~ throwing up all morning :<span style=\"color: #800080; text-decoration-color: #800080\">/</span>\n",
       "Question: Do you think the prediction <span style=\"color: #008000; text-decoration-color: #008000\">\"The text indicates a foodborne illness incident. \"</span> for the given text is \n",
       "correct or not?\n",
       "Answer: Let's think step by step.\n",
       "This answer is correct.I also think this text indicates a foodborne illness incident.\n",
       "<span style=\"font-weight: bold\">{</span><span style=\"color: #008000; text-decoration-color: #008000\">\"label\"</span>: <span style=\"color: #008000; text-decoration-color: #008000\">\"correct\"</span><span style=\"font-weight: bold\">}</span>\n",
       "Context: I think i have food poisoning hehe so fun xoxo\n",
       "Question: Do you think the prediction <span style=\"color: #008000; text-decoration-color: #008000\">\"The text indicates a foodborne illness incident. \"</span> for the given text is \n",
       "correct or not?\n",
       "Answer: Let's think step by step.\n",
       "This answer is correct.I also think this text indicates a foodborne illness incident.\n",
       "<span style=\"font-weight: bold\">{</span><span style=\"color: #008000; text-decoration-color: #008000\">\"label\"</span>: <span style=\"color: #008000; text-decoration-color: #008000\">\"correct\"</span><span style=\"font-weight: bold\">}</span>\n",
       "Context: @USER @USER I'm literally sick to my stomach I have no words.\n",
       "Question: Do you think the prediction <span style=\"color: #008000; text-decoration-color: #008000\">\"The text indicates a foodborne illness incident. \"</span> for the given text is \n",
       "correct or not?\n",
       "Answer: Let's think step by step.\n",
       "This answer is not correct.Instead, I think this text does not indicate a foodborne illness incident.\n",
       "<span style=\"font-weight: bold\">{</span><span style=\"color: #008000; text-decoration-color: #008000\">\"label\"</span>: <span style=\"color: #008000; text-decoration-color: #008000\">\"not correct\"</span><span style=\"font-weight: bold\">}</span>\n",
       "Context: @USER That shit is nasty and I got food poisoning\n",
       "Question: Do you think the prediction <span style=\"color: #008000; text-decoration-color: #008000\">\"The text indicates a foodborne illness incident. \"</span> for the given text is \n",
       "correct or not?\n",
       "Answer: Let's think step by step.\n",
       "This answer is correct.I also think this text indicates a foodborne illness incident.\n",
       "<span style=\"font-weight: bold\">{</span><span style=\"color: #008000; text-decoration-color: #008000\">\"label\"</span>: <span style=\"color: #008000; text-decoration-color: #008000\">\"correct\"</span><span style=\"font-weight: bold\">}</span>\n",
       "Context: @USER hope you get food poisoning\n",
       "Question: Do you think the prediction <span style=\"color: #008000; text-decoration-color: #008000\">\"The text indicates a foodborne illness incident. \"</span> for the given text is \n",
       "correct or not?\n",
       "Answer: Let's think step by step.\n",
       "This answer is not correct.Instead, I think this text does not indicate a foodborne illness incident.\n",
       "<span style=\"font-weight: bold\">{</span><span style=\"color: #008000; text-decoration-color: #008000\">\"label\"</span>: <span style=\"color: #008000; text-decoration-color: #008000\">\"not correct\"</span><span style=\"font-weight: bold\">}</span>\n",
       "Context: I feel like poooo #headache #stomachache #Fml\n",
       "Question: Do you think the prediction <span style=\"color: #008000; text-decoration-color: #008000\">\"The text indicates a foodborne illness incident. \"</span> for the given text is \n",
       "correct or not?\n",
       "Answer: Let's think step by step.\n",
       "This answer is not correct.Instead, I think this text does not indicate a foodborne illness incident.\n",
       "<span style=\"font-weight: bold\">{</span><span style=\"color: #008000; text-decoration-color: #008000\">\"label\"</span>: <span style=\"color: #008000; text-decoration-color: #008000\">\"not correct\"</span><span style=\"font-weight: bold\">}</span>\n",
       "\n",
       "Now I want you to label the following example:\n",
       "Context: @USER As much fun as I can. Woke up with food poisoning or stomach flu. Been bugging me all day #tmi \n",
       "Almost done driving for the day\n",
       "Question: Do you think the prediction <span style=\"color: #008000; text-decoration-color: #008000\">\"The text indicates a foodborne illness incident. \"</span> for the given text is \n",
       "correct or not?\n",
       "Answer: Let's think step by step.\n",
       "\n",
       "\n",
       "</pre>\n"
      ],
      "text/plain": [
       "You are an expert at identifying foodborne illness incident information.your task is to verify if the prediction \n",
       "about \u001b[32m\"whether the given text describes a potential foodborne illness event.\"\u001b[0m is correct or not. Use the following \n",
       "examples as a guide for your analysis and format your responses similarly.\n",
       "\n",
       "Your answer will consist of an explanation, followed by the correct answer \u001b[1m(\u001b[0m\u001b[32m\"correct\"\u001b[0m or \u001b[32m\"not correct\"\u001b[0m\u001b[1m)\u001b[0m.Please \n",
       "answer with \u001b[32m\"correct\"\u001b[0m if the given prediction is correct, otherwise answer with \u001b[32m\"not correct\"\u001b[0m.The last line of the \n",
       "response should always be JSON format with one key: \u001b[1m{\u001b[0m\u001b[32m\"label\"\u001b[0m: \u001b[32m\"the correct answer\"\u001b[0m\u001b[1m}\u001b[0m.\n",
       "\n",
       "\n",
       "Some examples with their output answers are provided below:\n",
       "\n",
       "Context: @USER LOL I know! I've had a stomach bug or food poisoning since yesterday afternoon\n",
       "Question: Do you think the prediction \u001b[32m\"The text indicates a foodborne illness incident. \"\u001b[0m for the given text is \n",
       "correct or not?\n",
       "Answer: Let's think step by step.\n",
       "This answer is correct.I also think this text indicates a foodborne illness incident.\n",
       "\u001b[1m{\u001b[0m\u001b[32m\"label\"\u001b[0m: \u001b[32m\"correct\"\u001b[0m\u001b[1m}\u001b[0m\n",
       "Context: I've had food poisoning all day and I'm just miserable\n",
       "Question: Do you think the prediction \u001b[32m\"The text indicates a foodborne illness incident. \"\u001b[0m for the given text is \n",
       "correct or not?\n",
       "Answer: Let's think step by step.\n",
       "This answer is correct.I also think this text indicates a foodborne illness incident.\n",
       "\u001b[1m{\u001b[0m\u001b[32m\"label\"\u001b[0m: \u001b[32m\"correct\"\u001b[0m\u001b[1m}\u001b[0m\n",
       "Context: @USER Awww :\u001b[1m(\u001b[0m I hope it clears up. I just got food poisoning I think ~ throwing up all morning :\u001b[35m/\u001b[0m\n",
       "Question: Do you think the prediction \u001b[32m\"The text indicates a foodborne illness incident. \"\u001b[0m for the given text is \n",
       "correct or not?\n",
       "Answer: Let's think step by step.\n",
       "This answer is correct.I also think this text indicates a foodborne illness incident.\n",
       "\u001b[1m{\u001b[0m\u001b[32m\"label\"\u001b[0m: \u001b[32m\"correct\"\u001b[0m\u001b[1m}\u001b[0m\n",
       "Context: I think i have food poisoning hehe so fun xoxo\n",
       "Question: Do you think the prediction \u001b[32m\"The text indicates a foodborne illness incident. \"\u001b[0m for the given text is \n",
       "correct or not?\n",
       "Answer: Let's think step by step.\n",
       "This answer is correct.I also think this text indicates a foodborne illness incident.\n",
       "\u001b[1m{\u001b[0m\u001b[32m\"label\"\u001b[0m: \u001b[32m\"correct\"\u001b[0m\u001b[1m}\u001b[0m\n",
       "Context: @USER @USER I'm literally sick to my stomach I have no words.\n",
       "Question: Do you think the prediction \u001b[32m\"The text indicates a foodborne illness incident. \"\u001b[0m for the given text is \n",
       "correct or not?\n",
       "Answer: Let's think step by step.\n",
       "This answer is not correct.Instead, I think this text does not indicate a foodborne illness incident.\n",
       "\u001b[1m{\u001b[0m\u001b[32m\"label\"\u001b[0m: \u001b[32m\"not correct\"\u001b[0m\u001b[1m}\u001b[0m\n",
       "Context: @USER That shit is nasty and I got food poisoning\n",
       "Question: Do you think the prediction \u001b[32m\"The text indicates a foodborne illness incident. \"\u001b[0m for the given text is \n",
       "correct or not?\n",
       "Answer: Let's think step by step.\n",
       "This answer is correct.I also think this text indicates a foodborne illness incident.\n",
       "\u001b[1m{\u001b[0m\u001b[32m\"label\"\u001b[0m: \u001b[32m\"correct\"\u001b[0m\u001b[1m}\u001b[0m\n",
       "Context: @USER hope you get food poisoning\n",
       "Question: Do you think the prediction \u001b[32m\"The text indicates a foodborne illness incident. \"\u001b[0m for the given text is \n",
       "correct or not?\n",
       "Answer: Let's think step by step.\n",
       "This answer is not correct.Instead, I think this text does not indicate a foodborne illness incident.\n",
       "\u001b[1m{\u001b[0m\u001b[32m\"label\"\u001b[0m: \u001b[32m\"not correct\"\u001b[0m\u001b[1m}\u001b[0m\n",
       "Context: I feel like poooo #headache #stomachache #Fml\n",
       "Question: Do you think the prediction \u001b[32m\"The text indicates a foodborne illness incident. \"\u001b[0m for the given text is \n",
       "correct or not?\n",
       "Answer: Let's think step by step.\n",
       "This answer is not correct.Instead, I think this text does not indicate a foodborne illness incident.\n",
       "\u001b[1m{\u001b[0m\u001b[32m\"label\"\u001b[0m: \u001b[32m\"not correct\"\u001b[0m\u001b[1m}\u001b[0m\n",
       "\n",
       "Now I want you to label the following example:\n",
       "Context: @USER As much fun as I can. Woke up with food poisoning or stomach flu. Been bugging me all day #tmi \n",
       "Almost done driving for the day\n",
       "Question: Do you think the prediction \u001b[32m\"The text indicates a foodborne illness incident. \"\u001b[0m for the given text is \n",
       "correct or not?\n",
       "Answer: Let's think step by step.\n",
       "\n",
       "\n"
      ]
     },
     "metadata": {},
     "output_type": "display_data"
    },
    {
     "data": {
      "text/html": [
       "<pre style=\"white-space:pre;overflow-x:auto;line-height:normal;font-family:Menlo,'DejaVu Sans Mono',consolas,'Courier New',monospace\"><span style=\"color: #00ff00; text-decoration-color: #00ff00\">───────────────────────────────────────────────────────────────────────────────────────────────────────────────────</span>\n",
       "</pre>\n"
      ],
      "text/plain": [
       "\u001b[92m───────────────────────────────────────────────────────────────────────────────────────────────────────────────────\u001b[0m\n"
      ]
     },
     "metadata": {},
     "output_type": "display_data"
    }
   ],
   "source": [
    "agent.plan(verify_ds)"
   ]
  },
  {
   "cell_type": "code",
   "execution_count": 23,
   "id": "d9931f2e-57cd-4388-90e2-dbab0134153f",
   "metadata": {},
   "outputs": [
    {
     "data": {
      "application/vnd.jupyter.widget-view+json": {
       "model_id": "4e77952c7cc34f12b26aac3ffb802c8c",
       "version_major": 2,
       "version_minor": 0
      },
      "text/plain": [
       "Output()"
      ]
     },
     "metadata": {},
     "output_type": "display_data"
    },
    {
     "name": "stderr",
     "output_type": "stream",
     "text": [
      "2024-03-28 06:07:15 httpx INFO: HTTP Request: POST https://api.openai.com/v1/embeddings \"HTTP/1.1 200 OK\"\n",
      "2024-03-28 06:07:16 httpx INFO: HTTP Request: POST https://api.openai.com/v1/chat/completions \"HTTP/1.1 200 OK\"\n",
      "2024-03-28 06:07:16 httpx INFO: HTTP Request: POST https://api.openai.com/v1/embeddings \"HTTP/1.1 200 OK\"\n",
      "2024-03-28 06:07:17 httpx INFO: HTTP Request: POST https://api.openai.com/v1/chat/completions \"HTTP/1.1 200 OK\"\n",
      "2024-03-28 06:07:17 httpx INFO: HTTP Request: POST https://api.openai.com/v1/embeddings \"HTTP/1.1 200 OK\"\n",
      "2024-03-28 06:07:17 httpx INFO: HTTP Request: POST https://api.openai.com/v1/chat/completions \"HTTP/1.1 200 OK\"\n",
      "2024-03-28 06:07:17 httpx INFO: HTTP Request: POST https://api.openai.com/v1/embeddings \"HTTP/1.1 200 OK\"\n",
      "2024-03-28 06:07:19 httpx INFO: HTTP Request: POST https://api.openai.com/v1/chat/completions \"HTTP/1.1 200 OK\"\n",
      "2024-03-28 06:07:19 httpx INFO: HTTP Request: POST https://api.openai.com/v1/embeddings \"HTTP/1.1 200 OK\"\n",
      "2024-03-28 06:07:21 httpx INFO: HTTP Request: POST https://api.openai.com/v1/chat/completions \"HTTP/1.1 200 OK\"\n",
      "2024-03-28 06:07:21 httpx INFO: HTTP Request: POST https://api.openai.com/v1/embeddings \"HTTP/1.1 200 OK\"\n",
      "2024-03-28 06:07:22 httpx INFO: HTTP Request: POST https://api.openai.com/v1/chat/completions \"HTTP/1.1 200 OK\"\n",
      "2024-03-28 06:07:22 httpx INFO: HTTP Request: POST https://api.openai.com/v1/embeddings \"HTTP/1.1 200 OK\"\n",
      "2024-03-28 06:07:23 httpx INFO: HTTP Request: POST https://api.openai.com/v1/chat/completions \"HTTP/1.1 200 OK\"\n",
      "2024-03-28 06:07:23 httpx INFO: HTTP Request: POST https://api.openai.com/v1/embeddings \"HTTP/1.1 200 OK\"\n",
      "2024-03-28 06:07:24 httpx INFO: HTTP Request: POST https://api.openai.com/v1/chat/completions \"HTTP/1.1 200 OK\"\n",
      "2024-03-28 06:07:25 httpx INFO: HTTP Request: POST https://api.openai.com/v1/embeddings \"HTTP/1.1 200 OK\"\n",
      "2024-03-28 06:07:26 httpx INFO: HTTP Request: POST https://api.openai.com/v1/chat/completions \"HTTP/1.1 200 OK\"\n",
      "2024-03-28 06:07:26 httpx INFO: HTTP Request: POST https://api.openai.com/v1/embeddings \"HTTP/1.1 200 OK\"\n",
      "2024-03-28 06:07:27 httpx INFO: HTTP Request: POST https://api.openai.com/v1/chat/completions \"HTTP/1.1 200 OK\"\n"
     ]
    },
    {
     "data": {
      "text/html": [
       "<pre style=\"white-space:pre;overflow-x:auto;line-height:normal;font-family:Menlo,'DejaVu Sans Mono',consolas,'Courier New',monospace\"></pre>\n"
      ],
      "text/plain": []
     },
     "metadata": {},
     "output_type": "display_data"
    },
    {
     "data": {
      "text/html": [
       "<pre style=\"white-space:pre;overflow-x:auto;line-height:normal;font-family:Menlo,'DejaVu Sans Mono',consolas,'Courier New',monospace\">Actual Cost: <span style=\"color: #008080; text-decoration-color: #008080; font-weight: bold\">0.0133</span>\n",
       "</pre>\n"
      ],
      "text/plain": [
       "Actual Cost: \u001b[1;36m0.0133\u001b[0m\n"
      ]
     },
     "metadata": {},
     "output_type": "display_data"
    },
    {
     "data": {
      "text/html": [
       "<pre style=\"white-space:pre;overflow-x:auto;line-height:normal;font-family:Menlo,'DejaVu Sans Mono',consolas,'Courier New',monospace\">\n",
       "</pre>\n"
      ],
      "text/plain": [
       "\n"
      ]
     },
     "metadata": {},
     "output_type": "display_data"
    }
   ],
   "source": [
    "# now, do the actual labeling\n",
    "verify_ds = agent.run(verify_ds)"
   ]
  },
  {
   "cell_type": "code",
   "execution_count": 24,
   "id": "273bcca7-da2d-40bf-a224-ec24d0045cc9",
   "metadata": {},
   "outputs": [],
   "source": [
    "new_results = last_results.copy()\n",
    "new_results[f'{verify_answer_column}_label'] = verify_ds.df[f'{verify_answer_column}_label']"
   ]
  },
  {
   "cell_type": "code",
   "execution_count": 25,
   "id": "e08910c4-f3a2-4c4e-a92d-984aa39fadac",
   "metadata": {},
   "outputs": [],
   "source": [
    "verify_ds.df.to_csv(output_verify_path, index=False)\n",
    "verify_ds.df.to_pickle(output_verify_path.replace('.csv', '.pkl'))"
   ]
  },
  {
   "cell_type": "code",
   "execution_count": 26,
   "id": "cc1c81cb-f350-4232-9549-9f326fa28645",
   "metadata": {},
   "outputs": [],
   "source": [
    "new_results[f'{label_column}_label'] = new_results[[f'{label_column}_label', f'{verify_answer_column}_label']].apply(lambda x: construct_sen_results(x[f'{label_column}_label'], x[f'{verify_answer_column}_label']), axis=1)"
   ]
  },
  {
   "cell_type": "code",
   "execution_count": 31,
   "id": "5f345cee-a6c8-458f-bdb3-36e5bfa08fe8",
   "metadata": {},
   "outputs": [],
   "source": [
    "new_results['word_check_reference'] = new_results[f'{label_column}_label'].apply(generate_word_explanation_prediction)"
   ]
  },
  {
   "cell_type": "code",
   "execution_count": 28,
   "id": "899e08c9-290e-43f2-bf88-9186f951ed39",
   "metadata": {},
   "outputs": [],
   "source": [
    "new_results.to_csv(output_final_path, index=False)\n",
    "new_results.to_pickle(output_final_path.replace('.csv', '.pkl'))"
   ]
  }
 ],
 "metadata": {
  "kernelspec": {
   "display_name": "py3.9-visa",
   "language": "python",
   "name": "py3.9-visa"
  },
  "language_info": {
   "codemirror_mode": {
    "name": "ipython",
    "version": 3
   },
   "file_extension": ".py",
   "mimetype": "text/x-python",
   "name": "python",
   "nbconvert_exporter": "python",
   "pygments_lexer": "ipython3",
   "version": "3.9.12"
  }
 },
 "nbformat": 4,
 "nbformat_minor": 5
}
