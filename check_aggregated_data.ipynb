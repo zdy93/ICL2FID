{
 "cells": [
  {
   "cell_type": "code",
   "execution_count": 1,
   "id": "f4d79cdc-3781-4a67-a4de-af91cc2189c5",
   "metadata": {},
   "outputs": [],
   "source": [
    "import pandas as pd\n",
    "import argparse\n",
    "import os\n",
    "import sklearn.metrics\n",
    "from aggregate_entity_results import aggregate_results\n",
    "from utils import generate_explanation_prediction\n",
    "import json"
   ]
  },
  {
   "cell_type": "code",
   "execution_count": 2,
   "id": "bfb13a16-b965-4962-b9d0-6e89f885ca64",
   "metadata": {},
   "outputs": [],
   "source": [
    "size = 1.0\n",
    "version_str = \"lv_v1_tv_v1\"\n",
    "agg_method = \"expert\"\n",
    "model_name = \"gpt-3.5-turbo\"\n",
    "# few_shot_selection = \"label_diversity_similarity\"\n",
    "few_shot_selection=\"semantic_similarity\"\n",
    "# verify_few_shot_selection = \"label_diversity_similarity\"\n",
    "verify_few_shot_selection=\"semantic_similarity\"\n",
    "temperature = 0.1\n",
    "verified = True\n",
    "explanation_column = \"two_step\"\n",
    "check_mode = \"strict\"\n",
    "CoT = True\n",
    "verify_CoT = False\n",
    "use_current_explanation = False\n",
    "use_ground_explanation = False\n",
    "data_path = '/scratch/dzhang5/LLM/TWEET-FID/expert.traintestfortest.csv'\n",
    "output_dir = '/scratch/dzhang5/LLM/TWEET-FID/traintestfortest-results-autolabel-ner-qa-' + agg_method\n",
    "label_symbol = \"^^^^\"\n",
    "text_column = \"context\"\n",
    "result_dir = '/scratch/dzhang5/LLM/TWEET-FID/traintestfortest-results-autolabel-ner-qa-' + agg_method\n",
    "archive = False\n",
    "if archive:\n",
    "    output_dir = os.path.join(output_dir, 'archive', str(temperature), str(size), version_str)\n",
    "    result_dir = os.path.join(result_dir, 'archive', str(temperature), str(size), version_str)\n",
    "else:\n",
    "    output_dir = os.path.join(output_dir, str(temperature), str(size), version_str)\n",
    "    result_dir = os.path.join(result_dir, str(temperature), str(size), version_str)"
   ]
  },
  {
   "cell_type": "code",
   "execution_count": 3,
   "id": "16a114c3-77a8-437b-934c-d1e47a91e562",
   "metadata": {},
   "outputs": [
    {
     "name": "stdout",
     "output_type": "stream",
     "text": [
      "/scratch/dzhang5/LLM/TWEET-FID/traintestfortest-results-autolabel-ner-qa-expert/0.1/1.0/lv_v1_tv_v1/gpt-3.5-turbo_strict_semantic_similarity_COT_two_step_cur_False_ground_False_aggregated_final_expert.traintestfortest.csv\n"
     ]
    }
   ],
   "source": [
    "if verified:\n",
    "    final_name = '_aggregated_final_COT_' if verify_CoT else '_aggregated_final_'\n",
    "    if few_shot_selection != verify_few_shot_selection:\n",
    "            final_name = final_name + verify_few_shot_selection + '_'\n",
    "    if CoT:\n",
    "        agg_output_name = os.path.split(model_name)[-1] + '_' + check_mode + '_' + few_shot_selection + '_COT_' + str(explanation_column) + '_cur_' + str(use_current_explanation) + '_ground_' + str(use_ground_explanation) + final_name + os.path.split(data_path)[-1]\n",
    "    else:\n",
    "        agg_output_name = os.path.split(model_name)[-1] + '_' + check_mode + '_' + few_shot_selection + '_' + final_name + os.path.split(data_path)[-1]\n",
    "else:\n",
    "    if CoT:\n",
    "        agg_output_name = os.path.split(model_name)[-1] + '_' + check_mode + '_' + few_shot_selection + '_COT_' + str(explanation_column) + '_cur_' + str(use_current_explanation) + '_ground_' + str(use_ground_explanation) + '_aggregated_' + os.path.split(data_path)[-1]\n",
    "    else:\n",
    "        agg_output_name = os.path.split(model_name)[-1] + '_' + check_mode + '_' + few_shot_selection + '_aggregated_' + os.path.split(data_path)[-1]\n",
    "output_path = os.path.join(output_dir, agg_output_name)\n",
    "print(output_path)\n",
    "output_df = pd.read_csv(output_path)"
   ]
  },
  {
   "cell_type": "code",
   "execution_count": 4,
   "id": "ee5116fb-bb10-4076-842e-671133e08298",
   "metadata": {},
   "outputs": [
    {
     "data": {
      "text/plain": [
       "Index(['id', 'tweet', 'tweet_tokens', 'entity_label', 'related_label',\n",
       "       'sentence_class', 'relevant_entity_label',\n",
       "       'relevance_entity_class_label', 'real_relevant_entity_label',\n",
       "       'IndividualLabels', 'CategorizedLabels', 'Food_answer',\n",
       "       'Location_answer', 'Symptom_answer', 'Keyword_answer', 'has_Food',\n",
       "       'has_Location', 'has_Symptom', 'has_Keyword', 'has_all', 'context',\n",
       "       'sentence_explanation', 'word_explanation',\n",
       "       'CategorizedLabels_prediction', 'sentence_explanation_prediction'],\n",
       "      dtype='object')"
      ]
     },
     "execution_count": 4,
     "metadata": {},
     "output_type": "execute_result"
    }
   ],
   "source": [
    "output_df.columns"
   ]
  },
  {
   "cell_type": "code",
   "execution_count": 5,
   "id": "e0a8bdaf-ed1f-4938-b991-be0df1e6f277",
   "metadata": {},
   "outputs": [
    {
     "data": {
      "text/plain": [
       "has_Food\n",
       "no     3338\n",
       "yes     372\n",
       "Name: count, dtype: int64"
      ]
     },
     "execution_count": 5,
     "metadata": {},
     "output_type": "execute_result"
    }
   ],
   "source": [
    "output_df['has_Food'].value_counts()"
   ]
  },
  {
   "cell_type": "code",
   "execution_count": 6,
   "id": "1d6d602b-031d-43f4-ae96-6dd145ca5cdb",
   "metadata": {},
   "outputs": [
    {
     "data": {
      "text/plain": [
       "has_all\n",
       "no     2485\n",
       "yes    1225\n",
       "Name: count, dtype: int64"
      ]
     },
     "execution_count": 6,
     "metadata": {},
     "output_type": "execute_result"
    }
   ],
   "source": [
    "output_df['has_all'].value_counts()"
   ]
  },
  {
   "cell_type": "code",
   "execution_count": 7,
   "id": "cca9dc8b-8b89-490e-bbc2-884e1012acac",
   "metadata": {},
   "outputs": [],
   "source": [
    "word_pred = output_df['sentence_explanation_prediction'].str.startswith('The word')"
   ]
  },
  {
   "cell_type": "code",
   "execution_count": 8,
   "id": "f9ba1734-72b8-4cd4-ae11-1a6923db77b0",
   "metadata": {},
   "outputs": [],
   "source": [
    "word_label = output_df[['CategorizedLabels', 'sentence_class']].apply(lambda x: generate_explanation_prediction(x['CategorizedLabels'], x['sentence_class']), axis=1).str.startswith('The word')"
   ]
  },
  {
   "cell_type": "code",
   "execution_count": 9,
   "id": "0999083d-1de9-4476-8d4a-5650c2508e03",
   "metadata": {},
   "outputs": [],
   "source": [
    "def count_entities(label_dict):\n",
    "    label_dict = json.loads(label_dict)\n",
    "    cnt = 0\n",
    "    for key, val in label_dict.items():\n",
    "        cnt += len(val)\n",
    "    return cnt"
   ]
  },
  {
   "cell_type": "code",
   "execution_count": 10,
   "id": "61791f9c-ffbc-43ce-8bdd-af0d7d378d7f",
   "metadata": {},
   "outputs": [
    {
     "data": {
      "text/plain": [
       "2648"
      ]
     },
     "execution_count": 10,
     "metadata": {},
     "output_type": "execute_result"
    }
   ],
   "source": [
    "output_df['CategorizedLabels'].apply(count_entities).sum()"
   ]
  },
  {
   "cell_type": "code",
   "execution_count": 11,
   "id": "e84d5137-1ff5-4ae1-9788-45c6c197fdd5",
   "metadata": {},
   "outputs": [
    {
     "data": {
      "text/plain": [
       "4709"
      ]
     },
     "execution_count": 11,
     "metadata": {},
     "output_type": "execute_result"
    }
   ],
   "source": [
    "output_df['CategorizedLabels_prediction'].apply(count_entities).sum()"
   ]
  },
  {
   "cell_type": "code",
   "execution_count": 12,
   "id": "f6810a20-c4d2-4543-b37e-025c49d2f4c6",
   "metadata": {},
   "outputs": [],
   "source": [
    "label = output_df['sentence_class'] == 'Yes'"
   ]
  },
  {
   "cell_type": "code",
   "execution_count": 13,
   "id": "6eefcf97-5c24-4f86-ab09-370c742d7131",
   "metadata": {},
   "outputs": [
    {
     "data": {
      "text/plain": [
       "0.6622641509433962"
      ]
     },
     "execution_count": 13,
     "metadata": {},
     "output_type": "execute_result"
    }
   ],
   "source": [
    "sklearn.metrics.accuracy_score(label, word_pred)"
   ]
  },
  {
   "cell_type": "code",
   "execution_count": 14,
   "id": "f37ce114-69c4-4d2b-b0d8-aecc9ab9f9de",
   "metadata": {},
   "outputs": [
    {
     "data": {
      "text/plain": [
       "0.6491178941472977"
      ]
     },
     "execution_count": 14,
     "metadata": {},
     "output_type": "execute_result"
    }
   ],
   "source": [
    "sklearn.metrics.f1_score(label, word_pred)"
   ]
  },
  {
   "cell_type": "code",
   "execution_count": 15,
   "id": "2dfbb4c9-e2b5-4486-874f-cb8be00538df",
   "metadata": {},
   "outputs": [
    {
     "data": {
      "text/plain": [
       "0.4940323955669224"
      ]
     },
     "execution_count": 15,
     "metadata": {},
     "output_type": "execute_result"
    }
   ],
   "source": [
    "sklearn.metrics.precision_score(label, word_pred)"
   ]
  },
  {
   "cell_type": "code",
   "execution_count": 16,
   "id": "40bdd9c0-f86b-44c4-ae63-898480820eb0",
   "metadata": {},
   "outputs": [
    {
     "data": {
      "text/plain": [
       "0.9461224489795919"
      ]
     },
     "execution_count": 16,
     "metadata": {},
     "output_type": "execute_result"
    }
   ],
   "source": [
    "sklearn.metrics.recall_score(label, word_pred)"
   ]
  },
  {
   "cell_type": "code",
   "execution_count": 17,
   "id": "d7a667cc-72f7-4a49-95b5-3076be74b5e3",
   "metadata": {},
   "outputs": [
    {
     "data": {
      "text/plain": [
       "1.0"
      ]
     },
     "execution_count": 17,
     "metadata": {},
     "output_type": "execute_result"
    }
   ],
   "source": [
    "sklearn.metrics.accuracy_score(label, word_label)"
   ]
  },
  {
   "cell_type": "code",
   "execution_count": 18,
   "id": "178817a4-90e6-47cb-be95-313555b7e3e2",
   "metadata": {},
   "outputs": [
    {
     "data": {
      "text/plain": [
       "1.0"
      ]
     },
     "execution_count": 18,
     "metadata": {},
     "output_type": "execute_result"
    }
   ],
   "source": [
    "sklearn.metrics.f1_score(label, word_label)"
   ]
  }
 ],
 "metadata": {
  "kernelspec": {
   "display_name": "py3.9-visa",
   "language": "python",
   "name": "py3.9-visa"
  },
  "language_info": {
   "codemirror_mode": {
    "name": "ipython",
    "version": 3
   },
   "file_extension": ".py",
   "mimetype": "text/x-python",
   "name": "python",
   "nbconvert_exporter": "python",
   "pygments_lexer": "ipython3",
   "version": "3.9.12"
  }
 },
 "nbformat": 4,
 "nbformat_minor": 5
}
