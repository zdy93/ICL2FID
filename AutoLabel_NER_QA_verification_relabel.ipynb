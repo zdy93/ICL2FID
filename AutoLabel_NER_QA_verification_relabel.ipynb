{
 "cells": [
  {
   "cell_type": "code",
   "execution_count": 1,
   "id": "f5198684-0eb5-4959-941e-59d467a9b688",
   "metadata": {
    "tags": [
     "parameters"
    ]
   },
   "outputs": [],
   "source": [
    "few_shot_path = '/scratch/dzhang5/LLM/TWEET-FID/expert.train.short.csv'\n",
    "verify_few_shot_path = '/scratch/dzhang5/LLM/TWEET-FID/Food-verify.expert.train.short.csv'\n",
    "data_path = '/scratch/dzhang5/LLM/TWEET-FID/expert.smalltest.csv'\n",
    "output_dir = '/scratch/dzhang5/LLM/TWEET-FID/test-results-autolabel-ner-qa'\n",
    "model_name = \"gpt-3.5-turbo\"\n",
    "label_column = 'Food_answer'\n",
    "text_column = 'context'\n",
    "example_selection_label_column = 'has_Food'\n",
    "label_symbol = \"^^^^\"\n",
    "few_shot_num = 8\n",
    "few_shot_selection = 'label_diversity_similarity'\n",
    "token_path = \"/home/dzhang5/.cache/huggingface/token\"\n",
    "cache=False\n",
    "console_output=True\n",
    "temperature=0.1\n",
    "verify=True\n",
    "label_version='v1'\n",
    "task_version='v2'\n",
    "random_shuffle_examples = True\n",
    "random_shuffle_examples_seed = 1"
   ]
  },
  {
   "cell_type": "markdown",
   "id": "6bff44b7-dd3e-4e0a-abb4-aa59b62cd78a",
   "metadata": {},
   "source": [
    "# Generation Stage"
   ]
  },
  {
   "cell_type": "code",
   "execution_count": 3,
   "id": "7be56d66-8b3a-48f1-ba9b-5aea49f4b4e6",
   "metadata": {},
   "outputs": [],
   "source": [
    "from autolabel.schema import ModelProvider, TaskType\n",
    "from autolabel.models import register_model, MODEL_REGISTRY\n",
    "from hf_pipeline_new import HFPipelineLLMNew\n",
    "from few_shot_new import NewAutoLabelConfig, NewExampleSelectorFactory\n",
    "from autolabel.few_shot import ExampleSelectorFactory\n",
    "from template_inst import update_inst_mode\n",
    "from named_entity_recognition_new import NewNamedEntityRecognitionTask\n",
    "from classification_new import NewClassificationTask\n",
    "from autolabel.tasks import TASK_TYPE_TO_IMPLEMENTATION \n",
    "from prompt_template import load_ner_task_prompt\n",
    "import sys"
   ]
  },
  {
   "cell_type": "code",
   "execution_count": 4,
   "id": "30bc6fcd-7a0f-4e12-9116-4879e308abd4",
   "metadata": {},
   "outputs": [],
   "source": [
    "update_inst_mode(model_name)\n",
    "TASK_TYPE_TO_IMPLEMENTATION[TaskType.NAMED_ENTITY_RECOGNITION] = NewNamedEntityRecognitionTask\n",
    "TASK_TYPE_TO_IMPLEMENTATION[TaskType.CLASSIFICATION] = NewClassificationTask\n",
    "sys.modules['autolabel.labeler'].ExampleSelectorFactory = NewExampleSelectorFactory\n",
    "register_model(ModelProvider.HUGGINGFACE_PIPELINE, HFPipelineLLMNew)"
   ]
  },
  {
   "cell_type": "code",
   "execution_count": 5,
   "id": "d67c0a78-0a28-4ad1-84d2-9edf12534aed",
   "metadata": {},
   "outputs": [],
   "source": [
    "from autolabel import LabelingAgent, AutolabelDataset\n",
    "import json\n",
    "import os\n",
    "import pandas as pd"
   ]
  },
  {
   "cell_type": "code",
   "execution_count": 6,
   "id": "0d69efda-a796-4ba8-9b7a-a43bc10db380",
   "metadata": {},
   "outputs": [
    {
     "name": "stdout",
     "output_type": "stream",
     "text": [
      "Token will not been saved to git credential helper. Pass `add_to_git_credential=True` if you want to set the git credential as well.\n",
      "Token is valid (permission: read).\n",
      "Your token has been saved to /home/dzhang5/.cache/huggingface/token\n",
      "Login successful\n"
     ]
    }
   ],
   "source": [
    "with open(token_path) as tfile:\n",
    "    token_str = tfile.read()\n",
    "\n",
    "from huggingface_hub import login\n",
    "login(token=token_str)"
   ]
  },
  {
   "cell_type": "code",
   "execution_count": 7,
   "id": "ae5043f6-302a-4c91-bc1c-547b760378ab",
   "metadata": {},
   "outputs": [],
   "source": [
    "no_auto = [\"microsoft/prophetnet\", \"microsoft/phi-2\", \"google/pegasus-x\"]\n",
    "if any([pre in model_name for pre in no_auto]):\n",
    "    device_map = None\n",
    "else:\n",
    "    device_map = \"auto\""
   ]
  },
  {
   "cell_type": "code",
   "execution_count": 8,
   "id": "292533f9-7851-4717-ade0-0f1ab70dfebd",
   "metadata": {},
   "outputs": [],
   "source": [
    "if not os.path.exists(output_dir):\n",
    "    # Create the directory\n",
    "    os.makedirs(output_dir)\n",
    "label_type = label_column.split('_')[0]\n",
    "output_name = os.path.split(model_name)[-1] + '_' + few_shot_selection + '_' + label_type + '_' + os.path.split(data_path)[-1]\n",
    "output_path = os.path.join(output_dir, output_name)"
   ]
  },
  {
   "cell_type": "code",
   "execution_count": null,
   "id": "4288fd4a-24fb-44fd-bcef-86182724f9e8",
   "metadata": {},
   "outputs": [],
   "source": [
    "ori_output = pd.read_csv(output_path)"
   ]
  },
  {
   "cell_type": "code",
   "execution_count": 9,
   "id": "7a00bc18-8124-4baf-8c6b-65bb9b63482a",
   "metadata": {},
   "outputs": [],
   "source": [
    "refuel_models = [\"refuel-llm\", \"llama-13b-chat\"]\n",
    "if model_name in refuel_models:\n",
    "    provider = \"refuel\"\n",
    "    em_provider = \"huggingface_pipeline\"\n",
    "    model_params = {\"max_length\":4096, \"temperature\": temperature}\n",
    "    task_name = f\"FoodborneIllnessIncidentTweetNERQA_{few_shot_selection}_{label_type}_{model_name}\"\n",
    "elif model_name.startswith('gpt'):\n",
    "    provider = \"openai\"\n",
    "    em_provider = \"openai\"\n",
    "    model_params = {\"max_tokens\":4096, \"temperature\": temperature}\n",
    "    task_name = f\"FoodborneIllnessIncidentTweetNERQA_{few_shot_selection}_{label_type}_{model_name}\"\n",
    "else:\n",
    "    provider = \"huggingface_pipeline\"\n",
    "    em_provider = \"huggingface_pipeline\"\n",
    "    model_params = {\"max_length\":4096, \"temperature\": temperature,\n",
    "                    \"quantize\": 16, \"device_map\": device_map,\n",
    "                    \"token\": token_str}\n",
    "    task_name = f\"FoodborneIllnessIncidentTweetNERQA_{few_shot_selection}_{label_type}_{model_name.split('/')[1]}\""
   ]
  },
  {
   "cell_type": "code",
   "execution_count": null,
   "id": "002bb019-0c8b-436a-ae4e-c9d5bcb8b377",
   "metadata": {},
   "outputs": [],
   "source": [
    "sym_len = len(label_symbol)\n",
    "label_prefix, label_suffix, label_description, task_guideline, output_guideline = load_ner_task_prompt(label_type, label_symbol, label_version, task_version, False)"
   ]
  },
  {
   "cell_type": "code",
   "execution_count": 11,
   "id": "24db5348-dfef-4597-b09c-8d6d6947553c",
   "metadata": {},
   "outputs": [],
   "source": [
    "test_data = pd.read_csv(data_path)"
   ]
  },
  {
   "cell_type": "code",
   "execution_count": null,
   "id": "abf764d3-709c-4b3c-b54e-fa8517e73456",
   "metadata": {},
   "outputs": [],
   "source": [
    "assert (test_data.index == ori_output.index).all()\n",
    "assert (test_data[text_column] == ori_output[text_column]).all()"
   ]
  },
  {
   "cell_type": "code",
   "execution_count": null,
   "id": "ffc44f5e-d6eb-4381-bcf1-e7859efd9915",
   "metadata": {},
   "outputs": [],
   "source": [
    "relabel_test_data = test_data.loc[ori_output[f'{label_column}_error'].notna()].copy()"
   ]
  },
  {
   "cell_type": "code",
   "execution_count": null,
   "id": "15567ff5-37f7-4b35-a48b-83b310b410bb",
   "metadata": {},
   "outputs": [],
   "source": [
    "config = {\n",
    "    \"task_name\": task_name,\n",
    "    \"task_type\": \"question_answering\",\n",
    "    \"dataset\": {\n",
    "        \"label_column\": label_column,\n",
    "        \"text_column\": text_column,\n",
    "        \"example_selection_label_column\": example_selection_label_column,\n",
    "        \"delimiter\": \",\",\n",
    "        \"label_description\": label_description \n",
    "    },\n",
    "    \"model\": {\n",
    "        \"provider\": provider,\n",
    "        \"name\": model_name,\n",
    "        \"params\": model_params\n",
    "    },\n",
    "    \"embedding\": {\n",
    "        \"provider\": em_provider,\n",
    "    },\n",
    "    \"prompt\": {\n",
    "        \"task_guidelines\": task_guideline,\n",
    "        \"output_guidelines\": output_guideline,\n",
    "        \"labels\": [\n",
    "            \"Food\",\n",
    "            \"Symptom\",\n",
    "            \"Location\",\n",
    "            \"Keyword\"\n",
    "        ],\n",
    "        \"few_shot_examples\": few_shot_path,\n",
    "        \"few_shot_selection\": few_shot_selection,\n",
    "        \"few_shot_num\": few_shot_num,\n",
    "        \"random_shuffle_examples\": random_shuffle_examples,\n",
    "        \"random_shuffle_examples_seed\": random_shuffle_examples_seed,\n",
    "        \"example_template\": f\"Input: {{{text_column}}}\\nOutput: {{{label_column}}}\"\n",
    "    }\n",
    "}\n",
    "\n",
    "config = NewAutoLabelConfig(config)"
   ]
  },
  {
   "cell_type": "code",
   "execution_count": null,
   "id": "e28122bc-1337-497b-8410-54fd17249452",
   "metadata": {},
   "outputs": [
    {
     "name": "stderr",
     "output_type": "stream",
     "text": [
      "2024-03-12 18:18:28 autolabel.labeler WARNING: cache parameter is deprecated and will be removed soon. Please use generation_cache and transform_cache instead.\n",
      "/scratch/dzhang5/visa/visa39/lib/python3.9/site-packages/langchain_core/_api/deprecation.py:117: LangChainDeprecationWarning: The class `langchain_community.chat_models.openai.ChatOpenAI` was deprecated in langchain-community 0.0.10 and will be removed in 0.2.0. An updated version of the class exists in the langchain-openai package and should be used instead. To use it run `pip install -U langchain-openai` and import as `from langchain_openai import ChatOpenAI`.\n",
      "  warn_deprecated(\n"
     ]
    }
   ],
   "source": [
    "agent = LabelingAgent(config=config, console_output=console_output, cache=cache)"
   ]
  },
  {
   "cell_type": "code",
   "execution_count": null,
   "id": "e0e5ddc3-5f37-4ba5-81b4-49affb91acef",
   "metadata": {},
   "outputs": [],
   "source": [
    "ds = AutolabelDataset(test_data[[relabel_text_column, example_selection_label_column, label_column]], config=config)"
   ]
  },
  {
   "cell_type": "code",
   "execution_count": null,
   "id": "c175c7c0-a61e-4d63-bc23-b06c51c8d72e",
   "metadata": {},
   "outputs": [
    {
     "name": "stderr",
     "output_type": "stream",
     "text": [
      "/scratch/dzhang5/visa/visa39/lib/python3.9/site-packages/langchain_core/_api/deprecation.py:117: LangChainDeprecationWarning: The class `langchain_community.embeddings.openai.OpenAIEmbeddings` was deprecated in langchain-community 0.1.0 and will be removed in 0.2.0. An updated version of the class exists in the langchain-openai package and should be used instead. To use it run `pip install -U langchain-openai` and import as `from langchain_openai import OpenAIEmbeddings`.\n",
      "  warn_deprecated(\n",
      "2024-03-12 18:18:30 httpx INFO: HTTP Request: POST https://api.openai.com/v1/embeddings \"HTTP/1.1 200 OK\"\n"
     ]
    },
    {
     "data": {
      "application/vnd.jupyter.widget-view+json": {
       "model_id": "b3c311ccb25543e498abcbcaecb61dcc",
       "version_major": 2,
       "version_minor": 0
      },
      "text/plain": [
       "Output()"
      ]
     },
     "metadata": {},
     "output_type": "display_data"
    },
    {
     "name": "stderr",
     "output_type": "stream",
     "text": [
      "2024-03-12 18:18:32 httpx INFO: HTTP Request: POST https://api.openai.com/v1/embeddings \"HTTP/1.1 200 OK\"\n",
      "2024-03-12 18:18:32 httpx INFO: HTTP Request: POST https://api.openai.com/v1/embeddings \"HTTP/1.1 200 OK\"\n",
      "2024-03-12 18:18:32 httpx INFO: HTTP Request: POST https://api.openai.com/v1/embeddings \"HTTP/1.1 200 OK\"\n",
      "2024-03-12 18:18:33 httpx INFO: HTTP Request: POST https://api.openai.com/v1/embeddings \"HTTP/1.1 200 OK\"\n",
      "2024-03-12 18:18:33 httpx INFO: HTTP Request: POST https://api.openai.com/v1/embeddings \"HTTP/1.1 200 OK\"\n",
      "2024-03-12 18:18:33 httpx INFO: HTTP Request: POST https://api.openai.com/v1/embeddings \"HTTP/1.1 200 OK\"\n",
      "2024-03-12 18:18:33 httpx INFO: HTTP Request: POST https://api.openai.com/v1/embeddings \"HTTP/1.1 200 OK\"\n",
      "2024-03-12 18:18:33 httpx INFO: HTTP Request: POST https://api.openai.com/v1/embeddings \"HTTP/1.1 200 OK\"\n",
      "2024-03-12 18:18:33 httpx INFO: HTTP Request: POST https://api.openai.com/v1/embeddings \"HTTP/1.1 200 OK\"\n",
      "2024-03-12 18:18:34 httpx INFO: HTTP Request: POST https://api.openai.com/v1/embeddings \"HTTP/1.1 200 OK\"\n",
      "2024-03-12 18:18:34 httpx INFO: HTTP Request: POST https://api.openai.com/v1/embeddings \"HTTP/1.1 200 OK\"\n",
      "2024-03-12 18:18:34 httpx INFO: HTTP Request: POST https://api.openai.com/v1/embeddings \"HTTP/1.1 200 OK\"\n",
      "2024-03-12 18:18:34 httpx INFO: HTTP Request: POST https://api.openai.com/v1/embeddings \"HTTP/1.1 200 OK\"\n",
      "2024-03-12 18:18:34 httpx INFO: HTTP Request: POST https://api.openai.com/v1/embeddings \"HTTP/1.1 200 OK\"\n",
      "2024-03-12 18:18:34 httpx INFO: HTTP Request: POST https://api.openai.com/v1/embeddings \"HTTP/1.1 200 OK\"\n",
      "2024-03-12 18:18:35 httpx INFO: HTTP Request: POST https://api.openai.com/v1/embeddings \"HTTP/1.1 200 OK\"\n",
      "2024-03-12 18:18:35 httpx INFO: HTTP Request: POST https://api.openai.com/v1/embeddings \"HTTP/1.1 200 OK\"\n",
      "2024-03-12 18:18:35 httpx INFO: HTTP Request: POST https://api.openai.com/v1/embeddings \"HTTP/1.1 200 OK\"\n",
      "2024-03-12 18:18:35 httpx INFO: HTTP Request: POST https://api.openai.com/v1/embeddings \"HTTP/1.1 200 OK\"\n",
      "2024-03-12 18:18:35 httpx INFO: HTTP Request: POST https://api.openai.com/v1/embeddings \"HTTP/1.1 200 OK\"\n",
      "2024-03-12 18:18:35 httpx INFO: HTTP Request: POST https://api.openai.com/v1/embeddings \"HTTP/1.1 200 OK\"\n",
      "2024-03-12 18:18:36 httpx INFO: HTTP Request: POST https://api.openai.com/v1/embeddings \"HTTP/1.1 200 OK\"\n",
      "2024-03-12 18:18:36 httpx INFO: HTTP Request: POST https://api.openai.com/v1/embeddings \"HTTP/1.1 200 OK\"\n",
      "2024-03-12 18:18:36 httpx INFO: HTTP Request: POST https://api.openai.com/v1/embeddings \"HTTP/1.1 200 OK\"\n",
      "2024-03-12 18:18:36 httpx INFO: HTTP Request: POST https://api.openai.com/v1/embeddings \"HTTP/1.1 200 OK\"\n",
      "2024-03-12 18:18:36 httpx INFO: HTTP Request: POST https://api.openai.com/v1/embeddings \"HTTP/1.1 200 OK\"\n",
      "2024-03-12 18:18:36 httpx INFO: HTTP Request: POST https://api.openai.com/v1/embeddings \"HTTP/1.1 200 OK\"\n",
      "2024-03-12 18:18:37 httpx INFO: HTTP Request: POST https://api.openai.com/v1/embeddings \"HTTP/1.1 200 OK\"\n",
      "2024-03-12 18:18:37 httpx INFO: HTTP Request: POST https://api.openai.com/v1/embeddings \"HTTP/1.1 200 OK\"\n",
      "2024-03-12 18:18:37 httpx INFO: HTTP Request: POST https://api.openai.com/v1/embeddings \"HTTP/1.1 200 OK\"\n",
      "2024-03-12 18:18:37 httpx INFO: HTTP Request: POST https://api.openai.com/v1/embeddings \"HTTP/1.1 200 OK\"\n",
      "2024-03-12 18:18:37 httpx INFO: HTTP Request: POST https://api.openai.com/v1/embeddings \"HTTP/1.1 200 OK\"\n",
      "2024-03-12 18:18:37 httpx INFO: HTTP Request: POST https://api.openai.com/v1/embeddings \"HTTP/1.1 200 OK\"\n",
      "2024-03-12 18:18:37 httpx INFO: HTTP Request: POST https://api.openai.com/v1/embeddings \"HTTP/1.1 200 OK\"\n",
      "2024-03-12 18:18:38 httpx INFO: HTTP Request: POST https://api.openai.com/v1/embeddings \"HTTP/1.1 200 OK\"\n",
      "2024-03-12 18:18:38 httpx INFO: HTTP Request: POST https://api.openai.com/v1/embeddings \"HTTP/1.1 200 OK\"\n",
      "2024-03-12 18:18:38 httpx INFO: HTTP Request: POST https://api.openai.com/v1/embeddings \"HTTP/1.1 200 OK\"\n",
      "2024-03-12 18:18:38 httpx INFO: HTTP Request: POST https://api.openai.com/v1/embeddings \"HTTP/1.1 200 OK\"\n",
      "2024-03-12 18:18:38 httpx INFO: HTTP Request: POST https://api.openai.com/v1/embeddings \"HTTP/1.1 200 OK\"\n",
      "2024-03-12 18:18:38 httpx INFO: HTTP Request: POST https://api.openai.com/v1/embeddings \"HTTP/1.1 200 OK\"\n",
      "2024-03-12 18:18:39 httpx INFO: HTTP Request: POST https://api.openai.com/v1/embeddings \"HTTP/1.1 200 OK\"\n",
      "2024-03-12 18:18:39 httpx INFO: HTTP Request: POST https://api.openai.com/v1/embeddings \"HTTP/1.1 200 OK\"\n",
      "2024-03-12 18:18:39 httpx INFO: HTTP Request: POST https://api.openai.com/v1/embeddings \"HTTP/1.1 200 OK\"\n",
      "2024-03-12 18:18:39 httpx INFO: HTTP Request: POST https://api.openai.com/v1/embeddings \"HTTP/1.1 200 OK\"\n",
      "2024-03-12 18:18:39 httpx INFO: HTTP Request: POST https://api.openai.com/v1/embeddings \"HTTP/1.1 200 OK\"\n",
      "2024-03-12 18:18:39 httpx INFO: HTTP Request: POST https://api.openai.com/v1/embeddings \"HTTP/1.1 200 OK\"\n",
      "2024-03-12 18:18:40 httpx INFO: HTTP Request: POST https://api.openai.com/v1/embeddings \"HTTP/1.1 200 OK\"\n",
      "2024-03-12 18:18:40 httpx INFO: HTTP Request: POST https://api.openai.com/v1/embeddings \"HTTP/1.1 200 OK\"\n",
      "2024-03-12 18:18:40 httpx INFO: HTTP Request: POST https://api.openai.com/v1/embeddings \"HTTP/1.1 200 OK\"\n",
      "2024-03-12 18:18:40 httpx INFO: HTTP Request: POST https://api.openai.com/v1/embeddings \"HTTP/1.1 200 OK\"\n",
      "2024-03-12 18:18:40 httpx INFO: HTTP Request: POST https://api.openai.com/v1/embeddings \"HTTP/1.1 200 OK\"\n",
      "2024-03-12 18:18:40 httpx INFO: HTTP Request: POST https://api.openai.com/v1/embeddings \"HTTP/1.1 200 OK\"\n",
      "2024-03-12 18:18:41 httpx INFO: HTTP Request: POST https://api.openai.com/v1/embeddings \"HTTP/1.1 200 OK\"\n",
      "2024-03-12 18:18:41 httpx INFO: HTTP Request: POST https://api.openai.com/v1/embeddings \"HTTP/1.1 200 OK\"\n",
      "2024-03-12 18:18:41 httpx INFO: HTTP Request: POST https://api.openai.com/v1/embeddings \"HTTP/1.1 200 OK\"\n",
      "2024-03-12 18:18:41 httpx INFO: HTTP Request: POST https://api.openai.com/v1/embeddings \"HTTP/1.1 200 OK\"\n",
      "2024-03-12 18:18:41 httpx INFO: HTTP Request: POST https://api.openai.com/v1/embeddings \"HTTP/1.1 200 OK\"\n",
      "2024-03-12 18:18:41 httpx INFO: HTTP Request: POST https://api.openai.com/v1/embeddings \"HTTP/1.1 200 OK\"\n",
      "2024-03-12 18:18:42 httpx INFO: HTTP Request: POST https://api.openai.com/v1/embeddings \"HTTP/1.1 200 OK\"\n",
      "2024-03-12 18:18:42 httpx INFO: HTTP Request: POST https://api.openai.com/v1/embeddings \"HTTP/1.1 200 OK\"\n",
      "2024-03-12 18:18:42 httpx INFO: HTTP Request: POST https://api.openai.com/v1/embeddings \"HTTP/1.1 200 OK\"\n",
      "2024-03-12 18:18:42 httpx INFO: HTTP Request: POST https://api.openai.com/v1/embeddings \"HTTP/1.1 200 OK\"\n",
      "2024-03-12 18:18:42 httpx INFO: HTTP Request: POST https://api.openai.com/v1/embeddings \"HTTP/1.1 200 OK\"\n",
      "2024-03-12 18:18:42 httpx INFO: HTTP Request: POST https://api.openai.com/v1/embeddings \"HTTP/1.1 200 OK\"\n",
      "2024-03-12 18:18:43 httpx INFO: HTTP Request: POST https://api.openai.com/v1/embeddings \"HTTP/1.1 200 OK\"\n",
      "2024-03-12 18:18:43 httpx INFO: HTTP Request: POST https://api.openai.com/v1/embeddings \"HTTP/1.1 200 OK\"\n",
      "2024-03-12 18:18:43 httpx INFO: HTTP Request: POST https://api.openai.com/v1/embeddings \"HTTP/1.1 200 OK\"\n",
      "2024-03-12 18:18:43 httpx INFO: HTTP Request: POST https://api.openai.com/v1/embeddings \"HTTP/1.1 200 OK\"\n",
      "2024-03-12 18:18:43 httpx INFO: HTTP Request: POST https://api.openai.com/v1/embeddings \"HTTP/1.1 200 OK\"\n",
      "2024-03-12 18:18:43 httpx INFO: HTTP Request: POST https://api.openai.com/v1/embeddings \"HTTP/1.1 200 OK\"\n",
      "2024-03-12 18:18:44 httpx INFO: HTTP Request: POST https://api.openai.com/v1/embeddings \"HTTP/1.1 200 OK\"\n",
      "2024-03-12 18:18:44 httpx INFO: HTTP Request: POST https://api.openai.com/v1/embeddings \"HTTP/1.1 200 OK\"\n",
      "2024-03-12 18:18:44 httpx INFO: HTTP Request: POST https://api.openai.com/v1/embeddings \"HTTP/1.1 200 OK\"\n",
      "2024-03-12 18:18:44 httpx INFO: HTTP Request: POST https://api.openai.com/v1/embeddings \"HTTP/1.1 200 OK\"\n",
      "2024-03-12 18:18:44 httpx INFO: HTTP Request: POST https://api.openai.com/v1/embeddings \"HTTP/1.1 200 OK\"\n",
      "2024-03-12 18:18:44 httpx INFO: HTTP Request: POST https://api.openai.com/v1/embeddings \"HTTP/1.1 200 OK\"\n",
      "2024-03-12 18:18:45 httpx INFO: HTTP Request: POST https://api.openai.com/v1/embeddings \"HTTP/1.1 200 OK\"\n",
      "2024-03-12 18:18:46 httpx INFO: HTTP Request: POST https://api.openai.com/v1/embeddings \"HTTP/1.1 200 OK\"\n",
      "2024-03-12 18:18:46 httpx INFO: HTTP Request: POST https://api.openai.com/v1/embeddings \"HTTP/1.1 200 OK\"\n",
      "2024-03-12 18:18:46 httpx INFO: HTTP Request: POST https://api.openai.com/v1/embeddings \"HTTP/1.1 200 OK\"\n",
      "2024-03-12 18:18:46 httpx INFO: HTTP Request: POST https://api.openai.com/v1/embeddings \"HTTP/1.1 200 OK\"\n",
      "2024-03-12 18:18:46 httpx INFO: HTTP Request: POST https://api.openai.com/v1/embeddings \"HTTP/1.1 200 OK\"\n",
      "2024-03-12 18:18:46 httpx INFO: HTTP Request: POST https://api.openai.com/v1/embeddings \"HTTP/1.1 200 OK\"\n",
      "2024-03-12 18:18:47 httpx INFO: HTTP Request: POST https://api.openai.com/v1/embeddings \"HTTP/1.1 200 OK\"\n",
      "2024-03-12 18:18:47 httpx INFO: HTTP Request: POST https://api.openai.com/v1/embeddings \"HTTP/1.1 200 OK\"\n",
      "2024-03-12 18:18:47 httpx INFO: HTTP Request: POST https://api.openai.com/v1/embeddings \"HTTP/1.1 200 OK\"\n",
      "2024-03-12 18:18:47 httpx INFO: HTTP Request: POST https://api.openai.com/v1/embeddings \"HTTP/1.1 200 OK\"\n",
      "2024-03-12 18:18:47 httpx INFO: HTTP Request: POST https://api.openai.com/v1/embeddings \"HTTP/1.1 200 OK\"\n",
      "2024-03-12 18:18:47 httpx INFO: HTTP Request: POST https://api.openai.com/v1/embeddings \"HTTP/1.1 200 OK\"\n",
      "2024-03-12 18:18:48 httpx INFO: HTTP Request: POST https://api.openai.com/v1/embeddings \"HTTP/1.1 200 OK\"\n",
      "2024-03-12 18:18:48 httpx INFO: HTTP Request: POST https://api.openai.com/v1/embeddings \"HTTP/1.1 200 OK\"\n",
      "2024-03-12 18:18:48 httpx INFO: HTTP Request: POST https://api.openai.com/v1/embeddings \"HTTP/1.1 200 OK\"\n",
      "2024-03-12 18:18:48 httpx INFO: HTTP Request: POST https://api.openai.com/v1/embeddings \"HTTP/1.1 200 OK\"\n",
      "2024-03-12 18:18:48 httpx INFO: HTTP Request: POST https://api.openai.com/v1/embeddings \"HTTP/1.1 200 OK\"\n",
      "2024-03-12 18:18:48 httpx INFO: HTTP Request: POST https://api.openai.com/v1/embeddings \"HTTP/1.1 200 OK\"\n",
      "2024-03-12 18:18:48 httpx INFO: HTTP Request: POST https://api.openai.com/v1/embeddings \"HTTP/1.1 200 OK\"\n",
      "2024-03-12 18:18:49 httpx INFO: HTTP Request: POST https://api.openai.com/v1/embeddings \"HTTP/1.1 200 OK\"\n",
      "2024-03-12 18:18:49 httpx INFO: HTTP Request: POST https://api.openai.com/v1/embeddings \"HTTP/1.1 200 OK\"\n",
      "2024-03-12 18:18:49 httpx INFO: HTTP Request: POST https://api.openai.com/v1/embeddings \"HTTP/1.1 200 OK\"\n",
      "2024-03-12 18:18:49 httpx INFO: HTTP Request: POST https://api.openai.com/v1/embeddings \"HTTP/1.1 200 OK\"\n"
     ]
    },
    {
     "data": {
      "text/html": [
       "<pre style=\"white-space:pre;overflow-x:auto;line-height:normal;font-family:Menlo,'DejaVu Sans Mono',consolas,'Courier New',monospace\"></pre>\n"
      ],
      "text/plain": []
     },
     "metadata": {},
     "output_type": "display_data"
    },
    {
     "data": {
      "text/html": [
       "<pre style=\"white-space:pre;overflow-x:auto;line-height:normal;font-family:Menlo,'DejaVu Sans Mono',consolas,'Courier New',monospace\">\n",
       "</pre>\n"
      ],
      "text/plain": [
       "\n"
      ]
     },
     "metadata": {},
     "output_type": "display_data"
    },
    {
     "data": {
      "text/html": [
       "<pre style=\"white-space:pre;overflow-x:auto;line-height:normal;font-family:Menlo,'DejaVu Sans Mono',consolas,'Courier New',monospace\">┌──────────────────────────┬──────────┐\n",
       "│<span style=\"color: #800080; text-decoration-color: #800080; font-weight: bold\"> Total Estimated Cost     </span>│<span style=\"color: #008000; text-decoration-color: #008000; font-weight: bold\"> $34.2387 </span>│\n",
       "│<span style=\"color: #800080; text-decoration-color: #800080; font-weight: bold\"> Number of Examples       </span>│<span style=\"color: #008000; text-decoration-color: #008000; font-weight: bold\"> 3710     </span>│\n",
       "│<span style=\"color: #800080; text-decoration-color: #800080; font-weight: bold\"> Average cost per example </span>│<span style=\"color: #008000; text-decoration-color: #008000; font-weight: bold\"> $0.0092  </span>│\n",
       "└──────────────────────────┴──────────┘\n",
       "</pre>\n"
      ],
      "text/plain": [
       "┌──────────────────────────┬──────────┐\n",
       "│\u001b[1;35m \u001b[0m\u001b[1;35mTotal Estimated Cost    \u001b[0m\u001b[1;35m \u001b[0m│\u001b[1;32m \u001b[0m\u001b[1;32m$34.2387\u001b[0m\u001b[1;32m \u001b[0m│\n",
       "│\u001b[1;35m \u001b[0m\u001b[1;35mNumber of Examples      \u001b[0m\u001b[1;35m \u001b[0m│\u001b[1;32m \u001b[0m\u001b[1;32m3710    \u001b[0m\u001b[1;32m \u001b[0m│\n",
       "│\u001b[1;35m \u001b[0m\u001b[1;35mAverage cost per example\u001b[0m\u001b[1;35m \u001b[0m│\u001b[1;32m \u001b[0m\u001b[1;32m$0.0092 \u001b[0m\u001b[1;32m \u001b[0m│\n",
       "└──────────────────────────┴──────────┘\n"
      ]
     },
     "metadata": {},
     "output_type": "display_data"
    },
    {
     "data": {
      "text/html": [
       "<pre style=\"white-space:pre;overflow-x:auto;line-height:normal;font-family:Menlo,'DejaVu Sans Mono',consolas,'Courier New',monospace\"><span style=\"color: #00ff00; text-decoration-color: #00ff00\">───────────────────────────────────────────────── </span>Prompt Example<span style=\"color: #00ff00; text-decoration-color: #00ff00\"> ──────────────────────────────────────────────────</span>\n",
       "</pre>\n"
      ],
      "text/plain": [
       "\u001b[92m───────────────────────────────────────────────── \u001b[0mPrompt Example\u001b[92m ──────────────────────────────────────────────────\u001b[0m\n"
      ]
     },
     "metadata": {},
     "output_type": "display_data"
    },
    {
     "data": {
      "text/html": [
       "<pre style=\"white-space:pre;overflow-x:auto;line-height:normal;font-family:Menlo,'DejaVu Sans Mono',consolas,'Courier New',monospace\">You are an expert at extracting Symptom entities that are related to foodborne illness incident from text. In the \n",
       "given text, your task is to label Symptom entities that are specific symptoms experienced by the affected person as\n",
       "a result of the suspected foodborne illness.. Note that you should surround the extracted entities in the text with\n",
       "<span style=\"color: #008000; text-decoration-color: #008000\">\"^^\"</span> and <span style=\"color: #008000; text-decoration-color: #008000\">\"^^\"</span>. Use the following examples as a guide for your predictions and format your responses similarly.\n",
       "\n",
       "You will answer with just the correct labeled sentence and nothing else. Note that if the given text does not \n",
       "include any Symptom entity related to foodborne illness, you will answer with the input text.\n",
       "\n",
       "Some examples with their output answers are provided below:\n",
       "\n",
       "Input: I'm not sending this my stomach again . . . . I'm wearing these fire outfits <span style=\"font-weight: bold\">[</span> \n",
       "EMOJI_smiling_face_with_heart-eyes <span style=\"font-weight: bold\">]</span> <span style=\"font-weight: bold\">[</span> EMOJI_smiling_face_with_heart-eyes <span style=\"font-weight: bold\">]</span>\n",
       "Output: I'm not sending this my stomach again . . . . I'm wearing these fire outfits <span style=\"font-weight: bold\">[</span> \n",
       "EMOJI_smiling_face_with_heart-eyes <span style=\"font-weight: bold\">]</span> <span style=\"font-weight: bold\">[</span> EMOJI_smiling_face_with_heart-eyes <span style=\"font-weight: bold\">]</span>\n",
       "\n",
       "Input: How you gone say stop kicking my stomach but you fighting while pregnant . . . . . . <span style=\"font-weight: bold\">[</span> EMOJI_thinking_face <span style=\"font-weight: bold\">]</span>\n",
       "<span style=\"font-weight: bold\">[</span> EMOJI_thinking_face <span style=\"font-weight: bold\">]</span> <span style=\"font-weight: bold\">[</span> EMOJI_thinking_face <span style=\"font-weight: bold\">]</span>\n",
       "Output: How you gone say stop kicking my stomach but you fighting while pregnant . . . . . . <span style=\"font-weight: bold\">[</span> EMOJI_thinking_face \n",
       "<span style=\"font-weight: bold\">]</span> <span style=\"font-weight: bold\">[</span> EMOJI_thinking_face <span style=\"font-weight: bold\">]</span> <span style=\"font-weight: bold\">[</span> EMOJI_thinking_face <span style=\"font-weight: bold\">]</span>\n",
       "\n",
       "Input: I'm fina punch my stomach so hard <span style=\"font-weight: bold\">[</span> EMOJI_loudly_crying_face <span style=\"font-weight: bold\">]</span> Bc why tf is it hurting .\n",
       "Output: I'm fina punch my stomach so hard <span style=\"font-weight: bold\">[</span> EMOJI_loudly_crying_face <span style=\"font-weight: bold\">]</span> Bc why tf is it hurting .\n",
       "\n",
       "Input: Really hope I don't have a stomach bug or food poisoning <span style=\"font-weight: bold\">[</span> EMOJI_disappointed_face <span style=\"font-weight: bold\">]</span>\n",
       "Output: Really hope I don't have a stomach bug or food poisoning <span style=\"font-weight: bold\">[</span> EMOJI_disappointed_face <span style=\"font-weight: bold\">]</span>\n",
       "\n",
       "Input: Watching The abduction of Lisa Mcvey : Believe me and my stomach is in absolute knots <span style=\"font-weight: bold\">[</span> EMOJI_crying_face <span style=\"font-weight: bold\">]</span> \n",
       "that poor poor girl <span style=\"font-weight: bold\">[</span> EMOJI_loudly_crying_face <span style=\"font-weight: bold\">]</span> <span style=\"font-weight: bold\">[</span> EMOJI_loudly_crying_face <span style=\"font-weight: bold\">]</span>\n",
       "Output: Watching The abduction of Lisa Mcvey : Believe me and my stomach is in absolute knots <span style=\"font-weight: bold\">[</span> EMOJI_crying_face <span style=\"font-weight: bold\">]</span>\n",
       "that poor poor girl <span style=\"font-weight: bold\">[</span> EMOJI_loudly_crying_face <span style=\"font-weight: bold\">]</span> <span style=\"font-weight: bold\">[</span> EMOJI_loudly_crying_face <span style=\"font-weight: bold\">]</span>\n",
       "\n",
       "Input: @USER @USER @USER when i was younger i knew a girl that had to get reconstructive surgery on her nose \n",
       "multiple times cause her mom got kicked in the stomach fighting while pregnant <span style=\"font-weight: bold\">[</span> EMOJI_confused_face <span style=\"font-weight: bold\">]</span> jail !\n",
       "Output: @USER @USER @USER when i was younger i knew a girl that had to get reconstructive surgery on her nose \n",
       "multiple times cause her mom got kicked in the stomach fighting while pregnant <span style=\"font-weight: bold\">[</span> EMOJI_confused_face <span style=\"font-weight: bold\">]</span> jail !\n",
       "\n",
       "Input: my heart aches all the time from how much i wuv you and when youre there i feel like ill puke my heart out <span style=\"font-weight: bold\">[</span>\n",
       "EMOJI_angry_face <span style=\"font-weight: bold\">]</span> <span style=\"font-weight: bold\">[</span> EMOJI_angry_face <span style=\"font-weight: bold\">]</span> <span style=\"font-weight: bold\">[</span> EMOJI_angry_face <span style=\"font-weight: bold\">]</span>\n",
       "Output: my heart aches all the time from how much i wuv you and when youre there i feel like ill puke my heart out \n",
       "<span style=\"font-weight: bold\">[</span> EMOJI_angry_face <span style=\"font-weight: bold\">]</span> <span style=\"font-weight: bold\">[</span> EMOJI_angry_face <span style=\"font-weight: bold\">]</span> <span style=\"font-weight: bold\">[</span> EMOJI_angry_face <span style=\"font-weight: bold\">]</span>\n",
       "\n",
       "Input: I cannot believe I've got food poisoning <span style=\"color: #008080; text-decoration-color: #008080; font-weight: bold\">2</span> days before I go on holiday <span style=\"font-weight: bold\">[</span> EMOJI_upside-down_face <span style=\"font-weight: bold\">]</span>\n",
       "Output: I cannot believe I've got food poisoning <span style=\"color: #008080; text-decoration-color: #008080; font-weight: bold\">2</span> days before I go on holiday <span style=\"font-weight: bold\">[</span> EMOJI_upside-down_face <span style=\"font-weight: bold\">]</span>\n",
       "\n",
       "Now I want you to label the following example:\n",
       "Input: I know my tubes tied but When Mother Nature be playing I give my stomach a extra punch just in case cause \n",
       "bitch don't play with me <span style=\"font-weight: bold\">[</span> EMOJI_face_with_raised_eyebrow <span style=\"font-weight: bold\">]</span> <span style=\"font-weight: bold\">[</span> EMOJI_unamused_face <span style=\"font-weight: bold\">]</span> <span style=\"font-weight: bold\">[</span> EMOJI_loudly_crying_face <span style=\"font-weight: bold\">]</span>\n",
       "Output: \n",
       "</pre>\n"
      ],
      "text/plain": [
       "You are an expert at extracting Symptom entities that are related to foodborne illness incident from text. In the \n",
       "given text, your task is to label Symptom entities that are specific symptoms experienced by the affected person as\n",
       "a result of the suspected foodborne illness.. Note that you should surround the extracted entities in the text with\n",
       "\u001b[32m\"^^\"\u001b[0m and \u001b[32m\"^^\"\u001b[0m. Use the following examples as a guide for your predictions and format your responses similarly.\n",
       "\n",
       "You will answer with just the correct labeled sentence and nothing else. Note that if the given text does not \n",
       "include any Symptom entity related to foodborne illness, you will answer with the input text.\n",
       "\n",
       "Some examples with their output answers are provided below:\n",
       "\n",
       "Input: I'm not sending this my stomach again . . . . I'm wearing these fire outfits \u001b[1m[\u001b[0m \n",
       "EMOJI_smiling_face_with_heart-eyes \u001b[1m]\u001b[0m \u001b[1m[\u001b[0m EMOJI_smiling_face_with_heart-eyes \u001b[1m]\u001b[0m\n",
       "Output: I'm not sending this my stomach again . . . . I'm wearing these fire outfits \u001b[1m[\u001b[0m \n",
       "EMOJI_smiling_face_with_heart-eyes \u001b[1m]\u001b[0m \u001b[1m[\u001b[0m EMOJI_smiling_face_with_heart-eyes \u001b[1m]\u001b[0m\n",
       "\n",
       "Input: How you gone say stop kicking my stomach but you fighting while pregnant . . . . . . \u001b[1m[\u001b[0m EMOJI_thinking_face \u001b[1m]\u001b[0m\n",
       "\u001b[1m[\u001b[0m EMOJI_thinking_face \u001b[1m]\u001b[0m \u001b[1m[\u001b[0m EMOJI_thinking_face \u001b[1m]\u001b[0m\n",
       "Output: How you gone say stop kicking my stomach but you fighting while pregnant . . . . . . \u001b[1m[\u001b[0m EMOJI_thinking_face \n",
       "\u001b[1m]\u001b[0m \u001b[1m[\u001b[0m EMOJI_thinking_face \u001b[1m]\u001b[0m \u001b[1m[\u001b[0m EMOJI_thinking_face \u001b[1m]\u001b[0m\n",
       "\n",
       "Input: I'm fina punch my stomach so hard \u001b[1m[\u001b[0m EMOJI_loudly_crying_face \u001b[1m]\u001b[0m Bc why tf is it hurting .\n",
       "Output: I'm fina punch my stomach so hard \u001b[1m[\u001b[0m EMOJI_loudly_crying_face \u001b[1m]\u001b[0m Bc why tf is it hurting .\n",
       "\n",
       "Input: Really hope I don't have a stomach bug or food poisoning \u001b[1m[\u001b[0m EMOJI_disappointed_face \u001b[1m]\u001b[0m\n",
       "Output: Really hope I don't have a stomach bug or food poisoning \u001b[1m[\u001b[0m EMOJI_disappointed_face \u001b[1m]\u001b[0m\n",
       "\n",
       "Input: Watching The abduction of Lisa Mcvey : Believe me and my stomach is in absolute knots \u001b[1m[\u001b[0m EMOJI_crying_face \u001b[1m]\u001b[0m \n",
       "that poor poor girl \u001b[1m[\u001b[0m EMOJI_loudly_crying_face \u001b[1m]\u001b[0m \u001b[1m[\u001b[0m EMOJI_loudly_crying_face \u001b[1m]\u001b[0m\n",
       "Output: Watching The abduction of Lisa Mcvey : Believe me and my stomach is in absolute knots \u001b[1m[\u001b[0m EMOJI_crying_face \u001b[1m]\u001b[0m\n",
       "that poor poor girl \u001b[1m[\u001b[0m EMOJI_loudly_crying_face \u001b[1m]\u001b[0m \u001b[1m[\u001b[0m EMOJI_loudly_crying_face \u001b[1m]\u001b[0m\n",
       "\n",
       "Input: @USER @USER @USER when i was younger i knew a girl that had to get reconstructive surgery on her nose \n",
       "multiple times cause her mom got kicked in the stomach fighting while pregnant \u001b[1m[\u001b[0m EMOJI_confused_face \u001b[1m]\u001b[0m jail !\n",
       "Output: @USER @USER @USER when i was younger i knew a girl that had to get reconstructive surgery on her nose \n",
       "multiple times cause her mom got kicked in the stomach fighting while pregnant \u001b[1m[\u001b[0m EMOJI_confused_face \u001b[1m]\u001b[0m jail !\n",
       "\n",
       "Input: my heart aches all the time from how much i wuv you and when youre there i feel like ill puke my heart out \u001b[1m[\u001b[0m\n",
       "EMOJI_angry_face \u001b[1m]\u001b[0m \u001b[1m[\u001b[0m EMOJI_angry_face \u001b[1m]\u001b[0m \u001b[1m[\u001b[0m EMOJI_angry_face \u001b[1m]\u001b[0m\n",
       "Output: my heart aches all the time from how much i wuv you and when youre there i feel like ill puke my heart out \n",
       "\u001b[1m[\u001b[0m EMOJI_angry_face \u001b[1m]\u001b[0m \u001b[1m[\u001b[0m EMOJI_angry_face \u001b[1m]\u001b[0m \u001b[1m[\u001b[0m EMOJI_angry_face \u001b[1m]\u001b[0m\n",
       "\n",
       "Input: I cannot believe I've got food poisoning \u001b[1;36m2\u001b[0m days before I go on holiday \u001b[1m[\u001b[0m EMOJI_upside-down_face \u001b[1m]\u001b[0m\n",
       "Output: I cannot believe I've got food poisoning \u001b[1;36m2\u001b[0m days before I go on holiday \u001b[1m[\u001b[0m EMOJI_upside-down_face \u001b[1m]\u001b[0m\n",
       "\n",
       "Now I want you to label the following example:\n",
       "Input: I know my tubes tied but When Mother Nature be playing I give my stomach a extra punch just in case cause \n",
       "bitch don't play with me \u001b[1m[\u001b[0m EMOJI_face_with_raised_eyebrow \u001b[1m]\u001b[0m \u001b[1m[\u001b[0m EMOJI_unamused_face \u001b[1m]\u001b[0m \u001b[1m[\u001b[0m EMOJI_loudly_crying_face \u001b[1m]\u001b[0m\n",
       "Output: \n"
      ]
     },
     "metadata": {},
     "output_type": "display_data"
    },
    {
     "data": {
      "text/html": [
       "<pre style=\"white-space:pre;overflow-x:auto;line-height:normal;font-family:Menlo,'DejaVu Sans Mono',consolas,'Courier New',monospace\"><span style=\"color: #00ff00; text-decoration-color: #00ff00\">───────────────────────────────────────────────────────────────────────────────────────────────────────────────────</span>\n",
       "</pre>\n"
      ],
      "text/plain": [
       "\u001b[92m───────────────────────────────────────────────────────────────────────────────────────────────────────────────────\u001b[0m\n"
      ]
     },
     "metadata": {},
     "output_type": "display_data"
    }
   ],
   "source": [
    "agent.plan(ds)"
   ]
  },
  {
   "cell_type": "code",
   "execution_count": null,
   "id": "066e6a3b-86ff-47ca-826a-e2690bfeee7e",
   "metadata": {},
   "outputs": [],
   "source": [
    "# now, do the actual labeling\n",
    "ds = agent.run(ds)"
   ]
  },
  {
   "cell_type": "code",
   "execution_count": null,
   "id": "7045720a-3e2a-432c-8f86-9d996e9a7980",
   "metadata": {},
   "outputs": [],
   "source": [
    "metrics = ds.eval()"
   ]
  },
  {
   "cell_type": "code",
   "execution_count": null,
   "id": "2884ab24-13c9-4667-96d7-26f9b575c70f",
   "metadata": {},
   "outputs": [],
   "source": [
    "new_output = ds.df.copy()"
   ]
  },
  {
   "cell_type": "code",
   "execution_count": null,
   "id": "2a072caa-a072-458c-b475-8ff2bbb04421",
   "metadata": {},
   "outputs": [],
   "source": [
    "new_output.index = ori_output.loc[ori_output[f'{label_column}_error'].notna()].index"
   ]
  },
  {
   "cell_type": "code",
   "execution_count": null,
   "id": "8da6698e-65c9-4220-acb9-6771a8ebc15a",
   "metadata": {},
   "outputs": [],
   "source": [
    "ori_output.loc[ori_output[f'{label_column}_error'].notna()] = new_output"
   ]
  },
  {
   "cell_type": "code",
   "execution_count": null,
   "id": "4bcbd487-91d5-44af-85e5-c85798e68704",
   "metadata": {},
   "outputs": [],
   "source": [
    "ori_output.to_csv(output_path, index=False)\n",
    "ori_output.to_pickle(output_path.replace('.csv', '.pkl'))"
   ]
  },
  {
   "cell_type": "code",
   "execution_count": null,
   "id": "fe50c93c-4f7a-49d4-9f10-b494559ff6d1",
   "metadata": {},
   "outputs": [],
   "source": [
    "class StopExecution(Exception):\n",
    "    def _render_traceback_(self):\n",
    "        return []\n",
    "    \n",
    "if not verify:\n",
    "    raise StopExecution"
   ]
  },
  {
   "cell_type": "markdown",
   "id": "4c1e32dd-03c5-4b1c-bab3-cdcaf4f5ccf0",
   "metadata": {},
   "source": [
    "# Verification Stage"
   ]
  },
  {
   "cell_type": "code",
   "execution_count": null,
   "id": "3107cb00-b025-4ac2-9974-ff9c7febaab5",
   "metadata": {},
   "outputs": [],
   "source": [
    "from utils import get_predictions, check_prediction, get_verify_df, construct_results"
   ]
  },
  {
   "cell_type": "code",
   "execution_count": null,
   "id": "620ea1cf-edcd-4571-b933-9ab481996026",
   "metadata": {},
   "outputs": [],
   "source": [
    "verify_question_column = f'{label_type}_verify_question'\n",
    "verify_answer_column = f'{label_type}_verify_answer'\n",
    "pos_column = f'{label_column}_pos'"
   ]
  },
  {
   "cell_type": "code",
   "execution_count": null,
   "id": "8556623a-3c8e-4efc-8adf-882360d5aecb",
   "metadata": {},
   "outputs": [],
   "source": [
    "test_data[[verify_question_column, pos_column]] = ds.df[[f'{label_column}_label']].apply(lambda x: get_predictions(x[f'{label_column}_label'], label_symbol), axis=1,result_type=\"expand\")"
   ]
  },
  {
   "cell_type": "code",
   "execution_count": null,
   "id": "28274a9b-c585-4c3a-948e-9282f140e82f",
   "metadata": {},
   "outputs": [],
   "source": [
    "test_data[verify_answer_column] = test_data[['CategorizedLabels', verify_question_column]].apply(lambda x: check_prediction(x['CategorizedLabels'], x[verify_question_column], label_type), axis=1)"
   ]
  },
  {
   "cell_type": "code",
   "execution_count": null,
   "id": "1b9fcf33-04ac-4ccf-b39d-e6b3b9cae196",
   "metadata": {},
   "outputs": [],
   "source": [
    "new_test_data = get_verify_df(test_data, verify_question_column, verify_answer_column, text_column, pos_column)"
   ]
  },
  {
   "cell_type": "code",
   "execution_count": null,
   "id": "f39e79a1-8832-48fe-95c8-5ebb1a0efb89",
   "metadata": {},
   "outputs": [],
   "source": [
    "verify_task_guideline = (f\"You are an expert at identifying {label_type} entities that are related to foodborne illness incident from text. \" \n",
    "                         f\"In the given text, your task is to verify if a given word is a {label_type} entity that {label_description[label_type].replace('are ', 'is ').replace('.', '')} in the given text. \"\n",
    "                         \"Use the following examples as a guide for your analysis and format your responses similarly.\")\n",
    "question = f'''Do you think the word \"{{{verify_question_column}}}\" in the given text is a {label_type} entity that {label_description[label_type].replace('are ', 'is ').replace('.', '')}?'''"
   ]
  },
  {
   "cell_type": "code",
   "execution_count": null,
   "id": "f299170c-dee7-4663-9c69-ba5ba1310e21",
   "metadata": {},
   "outputs": [],
   "source": [
    "output_verify_name = os.path.split(model_name)[-1] + '_' + few_shot_selection + '_' + label_type + '_verify_' + os.path.split(data_path)[-1]\n",
    "output_verify_path = os.path.join(output_dir, output_verify_name)\n",
    "output_final_name = os.path.split(model_name)[-1] + '_' + few_shot_selection + '_' + label_type + '_final_' + os.path.split(data_path)[-1]\n",
    "output_final_path = os.path.join(output_dir, output_final_name)"
   ]
  },
  {
   "cell_type": "code",
   "execution_count": null,
   "id": "a28d97b0-87b4-40b7-bc43-7135e3cbe7e9",
   "metadata": {},
   "outputs": [],
   "source": [
    "config = {\n",
    "    \"task_name\": task_name+'_verification',\n",
    "    \"task_type\": \"classification\",\n",
    "    \"dataset\": {\n",
    "        \"label_column\": verify_answer_column,\n",
    "        \"text_column\": text_column,\n",
    "        \"delimiter\": \",\",\n",
    "        \"label_description\": label_description \n",
    "    },\n",
    "    \"model\": {\n",
    "        \"provider\": em_provider,\n",
    "        \"name\": model_name,\n",
    "        \"params\": model_params\n",
    "    },\n",
    "    \"embedding\": {\n",
    "        \"provider\": em_provider,\n",
    "    },\n",
    "    \"prompt\": {\n",
    "        \"task_guidelines\": verify_task_guideline,\n",
    "        \"output_guidelines\": f'''You will answer with just the correct output label (\"Yes\" or \"No\") and nothing else.''',\n",
    "        \"labels\": [\n",
    "            \"Yes\",\n",
    "            \"No\"\n",
    "        ],\n",
    "        \"few_shot_examples\": verify_few_shot_path,\n",
    "        \"few_shot_selection\": few_shot_selection,\n",
    "        \"few_shot_num\": few_shot_num,\n",
    "        \"random_shuffle_examples\": random_shuffle_examples,\n",
    "        \"random_shuffle_examples_seed\": random_shuffle_examples_seed,\n",
    "        \"example_template\": f\"Context: {{{text_column}}}\\nQuestion: {question}\\nAnswer: {{{verify_answer_column}}}\"\n",
    "    }\n",
    "}\n",
    "\n",
    "config = NewAutoLabelConfig(config)"
   ]
  },
  {
   "cell_type": "code",
   "execution_count": null,
   "id": "27e8d888-20f0-4e12-9dbd-f52ca407b1ab",
   "metadata": {},
   "outputs": [],
   "source": [
    "agent = LabelingAgent(config=config, console_output=console_output, cache=cache)"
   ]
  },
  {
   "cell_type": "code",
   "execution_count": null,
   "id": "92763312-ebaa-48b2-9d85-546c37558f33",
   "metadata": {},
   "outputs": [],
   "source": [
    "verify_ds = AutolabelDataset(new_test_data.drop(['text_idx',pos_column], axis=1), config=config)"
   ]
  },
  {
   "cell_type": "code",
   "execution_count": null,
   "id": "2ad700d3-2a4e-4738-872b-c3fd8e13667f",
   "metadata": {},
   "outputs": [],
   "source": [
    "agent.plan(verify_ds)"
   ]
  },
  {
   "cell_type": "code",
   "execution_count": null,
   "id": "cd6839c9-9ddb-45c5-a719-7853f8b9fd1d",
   "metadata": {},
   "outputs": [],
   "source": [
    "# now, do the actual labeling\n",
    "verify_ds = agent.run(verify_ds)"
   ]
  },
  {
   "cell_type": "code",
   "execution_count": null,
   "id": "59777587-3757-4d4b-9a6e-46922b1b555c",
   "metadata": {},
   "outputs": [],
   "source": [
    "metrics = verify_ds.eval()"
   ]
  },
  {
   "cell_type": "code",
   "execution_count": null,
   "id": "6130d151-0d22-4156-a456-0b52d897efac",
   "metadata": {},
   "outputs": [],
   "source": [
    "new_test_data[f'{verify_answer_column}_label'] = verify_ds.df[f'{verify_answer_column}_label']"
   ]
  },
  {
   "cell_type": "code",
   "execution_count": null,
   "id": "2288fcfb-7934-434a-aa70-2c03e51b5144",
   "metadata": {},
   "outputs": [],
   "source": [
    "verify_ds.df['text_idx'] = new_test_data['text_idx']"
   ]
  },
  {
   "cell_type": "code",
   "execution_count": null,
   "id": "64ba58de-265c-4ec5-9e22-ba2497e09257",
   "metadata": {},
   "outputs": [],
   "source": [
    "verify_ds.df.to_csv(output_verify_path, index=False)\n",
    "verify_ds.df.to_pickle(output_verify_path.replace('.csv', '.pkl'))"
   ]
  },
  {
   "cell_type": "code",
   "execution_count": null,
   "id": "77168401-84f4-4c23-a4cc-3ca9613cac79",
   "metadata": {},
   "outputs": [],
   "source": [
    "new_result = construct_results(ds.df, new_test_data, f'{label_column}_label', f'{verify_answer_column}_label', \"text_idx\", pos_column, label_symbol)"
   ]
  },
  {
   "cell_type": "code",
   "execution_count": null,
   "id": "ccc112ac-5d11-4a10-92da-a67844115f83",
   "metadata": {},
   "outputs": [],
   "source": [
    "metrics = ds.eval()"
   ]
  },
  {
   "cell_type": "code",
   "execution_count": null,
   "id": "96f40a09-e1e0-4781-85fb-63d91caf9b6b",
   "metadata": {},
   "outputs": [],
   "source": [
    "new_result.to_csv(output_final_path, index=False)\n",
    "new_result.to_pickle(output_final_path.replace('.csv', '.pkl'))"
   ]
  }
 ],
 "metadata": {
  "kernelspec": {
   "display_name": "py3.9-visa",
   "language": "python",
   "name": "py3.9-visa"
  },
  "language_info": {
   "codemirror_mode": {
    "name": "ipython",
    "version": 3
   },
   "file_extension": ".py",
   "mimetype": "text/x-python",
   "name": "python",
   "nbconvert_exporter": "python",
   "pygments_lexer": "ipython3",
   "version": "3.9.12"
  }
 },
 "nbformat": 4,
 "nbformat_minor": 5
}
