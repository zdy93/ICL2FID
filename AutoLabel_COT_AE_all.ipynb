{
 "cells": [
  {
   "cell_type": "code",
   "execution_count": 1,
   "id": "f5198684-0eb5-4959-941e-59d467a9b688",
   "metadata": {
    "tags": [
     "parameters"
    ]
   },
   "outputs": [],
   "source": [
    "few_shot_path = '/scratch/dzhang5/LLM/TWEET-FID/expert.train.short.csv'\n",
    "data_path = '/scratch/dzhang5/LLM/TWEET-FID/expert.smalltest.csv'\n",
    "output_dir = '/scratch/dzhang5/LLM/TWEET-FID/test-results-autolabel-all-ae'\n",
    "model_name = \"gpt-3.5-turbo\"\n",
    "text_column = 'context'\n",
    "explanation_column = 'entity_explanation'\n",
    "example_selection_label_column = 'has_all'\n",
    "label_symbol = \"^^^^\"\n",
    "few_shot_num = 8\n",
    "few_shot_selection = 'label_diversity_similarity'\n",
    "use_current_explanation = False\n",
    "use_ground_explanation = False\n",
    "token_path = \"/home/dzhang5/.cache/huggingface/token\"\n",
    "cache=False\n",
    "console_output=True\n",
    "temperature=0.1\n",
    "label_version='v1'\n",
    "task_version='v1'\n",
    "random_shuffle_examples = True\n",
    "random_shuffle_examples_seed = 1"
   ]
  },
  {
   "cell_type": "markdown",
   "id": "6bff44b7-dd3e-4e0a-abb4-aa59b62cd78a",
   "metadata": {},
   "source": [
    "# Generation Stage"
   ]
  },
  {
   "cell_type": "code",
   "execution_count": 2,
   "id": "7be56d66-8b3a-48f1-ba9b-5aea49f4b4e6",
   "metadata": {},
   "outputs": [],
   "source": [
    "from autolabel.schema import ModelProvider, TaskType\n",
    "from autolabel.models import register_model, MODEL_REGISTRY\n",
    "from hf_pipeline_new import HFPipelineLLMNew\n",
    "from few_shot_new import NewAutoLabelConfig, NewExampleSelectorFactory\n",
    "from autolabel.few_shot import ExampleSelectorFactory\n",
    "from template_inst import update_inst_mode\n",
    "from named_entity_recognition_new import NewNamedEntityRecognitionTask\n",
    "from classification_new import NewClassificationTask\n",
    "from question_answering_new import NewQuestionAnsweringTask\n",
    "from attribute_extraction_new import NewAttributeExtractionTask\n",
    "from autolabel.tasks import TASK_TYPE_TO_IMPLEMENTATION \n",
    "from prompt_template import load_all_in_one_prompt\n",
    "from dataset_new import process_labels\n",
    "import sys"
   ]
  },
  {
   "cell_type": "code",
   "execution_count": 3,
   "id": "30bc6fcd-7a0f-4e12-9116-4879e308abd4",
   "metadata": {},
   "outputs": [],
   "source": [
    "update_inst_mode(model_name)\n",
    "TASK_TYPE_TO_IMPLEMENTATION[TaskType.NAMED_ENTITY_RECOGNITION] = NewNamedEntityRecognitionTask\n",
    "TASK_TYPE_TO_IMPLEMENTATION[TaskType.CLASSIFICATION] = NewClassificationTask\n",
    "TASK_TYPE_TO_IMPLEMENTATION[TaskType.QUESTION_ANSWERING] = NewQuestionAnsweringTask\n",
    "TASK_TYPE_TO_IMPLEMENTATION[TaskType.ATTRIBUTE_EXTRACTION] = NewAttributeExtractionTask\n",
    "sys.modules['autolabel.labeler'].ExampleSelectorFactory = NewExampleSelectorFactory\n",
    "sys.modules['autolabel.dataset'].AutolabelDataset.process_labels = process_labels\n",
    "register_model(ModelProvider.HUGGINGFACE_PIPELINE, HFPipelineLLMNew)"
   ]
  },
  {
   "cell_type": "code",
   "execution_count": 4,
   "id": "d67c0a78-0a28-4ad1-84d2-9edf12534aed",
   "metadata": {},
   "outputs": [],
   "source": [
    "from autolabel import LabelingAgent, AutolabelDataset\n",
    "import json\n",
    "import os\n",
    "import pandas as pd"
   ]
  },
  {
   "cell_type": "code",
   "execution_count": 5,
   "id": "0d69efda-a796-4ba8-9b7a-a43bc10db380",
   "metadata": {},
   "outputs": [
    {
     "name": "stdout",
     "output_type": "stream",
     "text": [
      "Token will not been saved to git credential helper. Pass `add_to_git_credential=True` if you want to set the git credential as well.\n",
      "Token is valid (permission: read).\n",
      "Your token has been saved to /home/dzhang5/.cache/huggingface/token\n",
      "Login successful\n"
     ]
    }
   ],
   "source": [
    "with open(token_path) as tfile:\n",
    "    token_str = tfile.read()\n",
    "\n",
    "from huggingface_hub import login\n",
    "login(token=token_str)"
   ]
  },
  {
   "cell_type": "code",
   "execution_count": 6,
   "id": "ae5043f6-302a-4c91-bc1c-547b760378ab",
   "metadata": {},
   "outputs": [],
   "source": [
    "no_auto = [\"microsoft/prophetnet\", \"microsoft/phi-2\", \"google/pegasus-x\"]\n",
    "if any([pre in model_name for pre in no_auto]):\n",
    "    device_map = None\n",
    "else:\n",
    "    device_map = \"auto\""
   ]
  },
  {
   "cell_type": "code",
   "execution_count": 7,
   "id": "292533f9-7851-4717-ade0-0f1ab70dfebd",
   "metadata": {},
   "outputs": [],
   "source": [
    "if not os.path.exists(output_dir):\n",
    "    # Create the directory\n",
    "    os.makedirs(output_dir)\n",
    "output_name = os.path.split(model_name)[-1] + '_' + few_shot_selection + '_COT_AE_' + str(explanation_column) + '_cur_' + str(use_current_explanation) + '_ground_' + str(use_ground_explanation) + '_' + os.path.split(data_path)[-1]\n",
    "output_path = os.path.join(output_dir, output_name)"
   ]
  },
  {
   "cell_type": "code",
   "execution_count": 8,
   "id": "7a00bc18-8124-4baf-8c6b-65bb9b63482a",
   "metadata": {},
   "outputs": [],
   "source": [
    "refuel_models = [\"refuel-llm\", \"llama-13b-chat\"]\n",
    "if model_name in refuel_models:\n",
    "    provider = \"refuel\"\n",
    "    em_provider = \"huggingface_pipeline\"\n",
    "    model_params = {\"max_length\":4096, \"temperature\": temperature}\n",
    "    task_name = f\"FoodborneIllnessIncidentTweetNERAE_{few_shot_selection}_{model_name}\"\n",
    "elif model_name.startswith('gpt'):\n",
    "    provider = \"openai\"\n",
    "    em_provider = \"openai\"\n",
    "    model_params = {\"max_tokens\":4096, \"temperature\": temperature}\n",
    "    task_name = f\"FoodborneIllnessIncidentTweetNERAE_{few_shot_selection}_{model_name}\"\n",
    "else:\n",
    "    provider = \"huggingface_pipeline\"\n",
    "    em_provider = \"huggingface_pipeline\"\n",
    "    model_params = {\"max_length\":4096, \"temperature\": temperature,\n",
    "                    \"quantize\": 16, \"device_map\": device_map,\n",
    "                    \"token\": token_str}\n",
    "    task_name = f\"FoodborneIllnessIncidentTweetNERAE_{few_shot_selection}_{model_name.split('/')[1]}\""
   ]
  },
  {
   "cell_type": "code",
   "execution_count": 10,
   "id": "2fc43570-d3c0-439b-82e3-e85aa5ccc069",
   "metadata": {},
   "outputs": [],
   "source": [
    "sym_len = len(label_symbol)\n",
    "label_prefix, label_suffix, label_description, task_guideline, output_guideline = load_all_in_one_prompt(label_symbol, label_version, task_version, True)"
   ]
  },
  {
   "cell_type": "code",
   "execution_count": 11,
   "id": "24db5348-dfef-4597-b09c-8d6d6947553c",
   "metadata": {},
   "outputs": [],
   "source": [
    "test_data = pd.read_csv(data_path)"
   ]
  },
  {
   "cell_type": "code",
   "execution_count": 12,
   "id": "eadd57f3-0da9-4f71-ab88-f73ea72d2f13",
   "metadata": {},
   "outputs": [],
   "source": [
    "if use_current_explanation and not use_ground_explanation:\n",
    "    explanation_column = explanation_column + \"_prediction\""
   ]
  },
  {
   "cell_type": "code",
   "execution_count": 13,
   "id": "2325e234-618a-484b-838c-15e74a2795d7",
   "metadata": {},
   "outputs": [],
   "source": [
    "attribute_description = [{'name': k+'_answer', 'description': f'{k} entities {v}'} for k, v in label_description.items()]"
   ]
  },
  {
   "cell_type": "code",
   "execution_count": 15,
   "id": "67398b77-7583-4408-8f3c-6752f511c812",
   "metadata": {},
   "outputs": [],
   "source": [
    "attribute_description.append({'name':'sentence_class', 'description': 'If the text describes a potential foodborne illness event','options':['Yes', 'No']})"
   ]
  },
  {
   "cell_type": "code",
   "execution_count": 16,
   "id": "15567ff5-37f7-4b35-a48b-83b310b410bb",
   "metadata": {},
   "outputs": [],
   "source": [
    "config = {\n",
    "    \"task_name\": task_name,\n",
    "    \"task_type\": \"attribute_extraction\",\n",
    "    \"dataset\": {\n",
    "        \"text_column\": text_column,\n",
    "        \"explanation_column\": explanation_column,\n",
    "        \"example_selection_label_column\": example_selection_label_column,\n",
    "        \"delimiter\": \",\",\n",
    "        \"label_description\": label_description \n",
    "    },\n",
    "    \"model\": {\n",
    "        \"provider\": provider,\n",
    "        \"name\": model_name,\n",
    "        \"params\": model_params\n",
    "    },\n",
    "    \"embedding\": {\n",
    "        \"provider\": em_provider,\n",
    "    },\n",
    "    \"prompt\": {\n",
    "        \"task_guidelines\": task_guideline,\n",
    "        \"output_guidelines\": output_guideline,\n",
    "        \"attributes\": attribute_description,\n",
    "        \"example_selection_labels\":[\n",
    "            \"yes\",\n",
    "            \"no\"\n",
    "        ],\n",
    "        \"few_shot_examples\": few_shot_path,\n",
    "        \"few_shot_selection\": few_shot_selection,\n",
    "        \"few_shot_num\": few_shot_num,\n",
    "        \"use_current_explanation\": use_current_explanation,\n",
    "        \"random_shuffle_examples\": random_shuffle_examples,\n",
    "        \"random_shuffle_examples_seed\": random_shuffle_examples_seed,\n",
    "        \"example_template\": f\"Input: {{{text_column}}}\\nOutput: Let's think step by step.\\n{{{explanation_column}}}\\n\"+\"{output_dict}\",\n",
    "        \"chain_of_thought\": True\n",
    "    }\n",
    "}\n",
    "\n",
    "config = NewAutoLabelConfig(config)"
   ]
  },
  {
   "cell_type": "code",
   "execution_count": 17,
   "id": "e28122bc-1337-497b-8410-54fd17249452",
   "metadata": {},
   "outputs": [
    {
     "name": "stderr",
     "output_type": "stream",
     "text": [
      "2024-04-04 22:59:15 autolabel.labeler WARNING: cache parameter is deprecated and will be removed soon. Please use generation_cache and transform_cache instead.\n",
      "/scratch/dzhang5/visa/visa39/lib/python3.9/site-packages/langchain_core/_api/deprecation.py:117: LangChainDeprecationWarning: The class `langchain_community.chat_models.openai.ChatOpenAI` was deprecated in langchain-community 0.0.10 and will be removed in 0.2.0. An updated version of the class exists in the langchain-openai package and should be used instead. To use it run `pip install -U langchain-openai` and import as `from langchain_openai import ChatOpenAI`.\n",
      "  warn_deprecated(\n"
     ]
    }
   ],
   "source": [
    "agent = LabelingAgent(config=config, console_output=console_output, cache=cache)"
   ]
  },
  {
   "cell_type": "code",
   "execution_count": 18,
   "id": "71804f65-5f78-406e-9cce-7d4eb8c3bad9",
   "metadata": {},
   "outputs": [],
   "source": [
    "label_columns = [i['name'] for i in attribute_description]"
   ]
  },
  {
   "cell_type": "code",
   "execution_count": 19,
   "id": "05bbac1b-14ee-4c3d-8658-849159373b4a",
   "metadata": {},
   "outputs": [],
   "source": [
    "if use_current_explanation:\n",
    "    ds = AutolabelDataset(test_data[[text_column, explanation_column, example_selection_label_column] + label_columns], config=config)\n",
    "else:\n",
    "    ds = AutolabelDataset(test_data[[text_column, example_selection_label_column] + label_columns], config=config)"
   ]
  },
  {
   "cell_type": "code",
   "execution_count": 20,
   "id": "c175c7c0-a61e-4d63-bc23-b06c51c8d72e",
   "metadata": {},
   "outputs": [
    {
     "name": "stderr",
     "output_type": "stream",
     "text": [
      "/scratch/dzhang5/visa/visa39/lib/python3.9/site-packages/langchain_core/_api/deprecation.py:117: LangChainDeprecationWarning: The class `langchain_community.embeddings.openai.OpenAIEmbeddings` was deprecated in langchain-community 0.1.0 and will be removed in 0.2.0. An updated version of the class exists in the langchain-openai package and should be used instead. To use it run `pip install -U langchain-openai` and import as `from langchain_openai import OpenAIEmbeddings`.\n",
      "  warn_deprecated(\n",
      "2024-04-04 22:59:53 httpx INFO: HTTP Request: POST https://api.openai.com/v1/embeddings \"HTTP/1.1 200 OK\"\n",
      "2024-04-04 23:00:00 httpx INFO: HTTP Request: POST https://api.openai.com/v1/embeddings \"HTTP/1.1 200 OK\"\n",
      "2024-04-04 23:00:05 httpx INFO: HTTP Request: POST https://api.openai.com/v1/embeddings \"HTTP/1.1 200 OK\"\n"
     ]
    },
    {
     "data": {
      "application/vnd.jupyter.widget-view+json": {
       "model_id": "9cc7f4160f4841e291b4af27dbb5920d",
       "version_major": 2,
       "version_minor": 0
      },
      "text/plain": [
       "Output()"
      ]
     },
     "metadata": {},
     "output_type": "display_data"
    },
    {
     "name": "stderr",
     "output_type": "stream",
     "text": [
      "2024-04-04 23:00:08 httpx INFO: HTTP Request: POST https://api.openai.com/v1/embeddings \"HTTP/1.1 200 OK\"\n",
      "2024-04-04 23:00:09 httpx INFO: HTTP Request: POST https://api.openai.com/v1/embeddings \"HTTP/1.1 200 OK\"\n",
      "2024-04-04 23:00:09 httpx INFO: HTTP Request: POST https://api.openai.com/v1/embeddings \"HTTP/1.1 200 OK\"\n",
      "2024-04-04 23:00:09 httpx INFO: HTTP Request: POST https://api.openai.com/v1/embeddings \"HTTP/1.1 200 OK\"\n",
      "2024-04-04 23:00:10 httpx INFO: HTTP Request: POST https://api.openai.com/v1/embeddings \"HTTP/1.1 200 OK\"\n",
      "2024-04-04 23:00:10 httpx INFO: HTTP Request: POST https://api.openai.com/v1/embeddings \"HTTP/1.1 200 OK\"\n",
      "2024-04-04 23:00:10 httpx INFO: HTTP Request: POST https://api.openai.com/v1/embeddings \"HTTP/1.1 200 OK\"\n",
      "2024-04-04 23:00:11 httpx INFO: HTTP Request: POST https://api.openai.com/v1/embeddings \"HTTP/1.1 200 OK\"\n",
      "2024-04-04 23:00:11 httpx INFO: HTTP Request: POST https://api.openai.com/v1/embeddings \"HTTP/1.1 200 OK\"\n",
      "2024-04-04 23:00:11 httpx INFO: HTTP Request: POST https://api.openai.com/v1/embeddings \"HTTP/1.1 200 OK\"\n"
     ]
    },
    {
     "data": {
      "text/html": [
       "<pre style=\"white-space:pre;overflow-x:auto;line-height:normal;font-family:Menlo,'DejaVu Sans Mono',consolas,'Courier New',monospace\"></pre>\n"
      ],
      "text/plain": []
     },
     "metadata": {},
     "output_type": "display_data"
    },
    {
     "data": {
      "text/html": [
       "<pre style=\"white-space:pre;overflow-x:auto;line-height:normal;font-family:Menlo,'DejaVu Sans Mono',consolas,'Courier New',monospace\">\n",
       "</pre>\n"
      ],
      "text/plain": [
       "\n"
      ]
     },
     "metadata": {},
     "output_type": "display_data"
    },
    {
     "data": {
      "text/html": [
       "<pre style=\"white-space:pre;overflow-x:auto;line-height:normal;font-family:Menlo,'DejaVu Sans Mono',consolas,'Courier New',monospace\">┌──────────────────────────┬─────────┐\n",
       "│<span style=\"color: #800080; text-decoration-color: #800080; font-weight: bold\"> Total Estimated Cost     </span>│<span style=\"color: #008000; text-decoration-color: #008000; font-weight: bold\"> $0.1124 </span>│\n",
       "│<span style=\"color: #800080; text-decoration-color: #800080; font-weight: bold\"> Number of Examples       </span>│<span style=\"color: #008000; text-decoration-color: #008000; font-weight: bold\"> 10      </span>│\n",
       "│<span style=\"color: #800080; text-decoration-color: #800080; font-weight: bold\"> Average cost per example </span>│<span style=\"color: #008000; text-decoration-color: #008000; font-weight: bold\"> $0.0112 </span>│\n",
       "└──────────────────────────┴─────────┘\n",
       "</pre>\n"
      ],
      "text/plain": [
       "┌──────────────────────────┬─────────┐\n",
       "│\u001b[1;35m \u001b[0m\u001b[1;35mTotal Estimated Cost    \u001b[0m\u001b[1;35m \u001b[0m│\u001b[1;32m \u001b[0m\u001b[1;32m$0.1124\u001b[0m\u001b[1;32m \u001b[0m│\n",
       "│\u001b[1;35m \u001b[0m\u001b[1;35mNumber of Examples      \u001b[0m\u001b[1;35m \u001b[0m│\u001b[1;32m \u001b[0m\u001b[1;32m10     \u001b[0m\u001b[1;32m \u001b[0m│\n",
       "│\u001b[1;35m \u001b[0m\u001b[1;35mAverage cost per example\u001b[0m\u001b[1;35m \u001b[0m│\u001b[1;32m \u001b[0m\u001b[1;32m$0.0112\u001b[0m\u001b[1;32m \u001b[0m│\n",
       "└──────────────────────────┴─────────┘\n"
      ]
     },
     "metadata": {},
     "output_type": "display_data"
    },
    {
     "data": {
      "text/html": [
       "<pre style=\"white-space:pre;overflow-x:auto;line-height:normal;font-family:Menlo,'DejaVu Sans Mono',consolas,'Courier New',monospace\"><span style=\"color: #00ff00; text-decoration-color: #00ff00\">───────────────────────────────────────────────── </span>Prompt Example<span style=\"color: #00ff00; text-decoration-color: #00ff00\"> ──────────────────────────────────────────────────</span>\n",
       "</pre>\n"
      ],
      "text/plain": [
       "\u001b[92m───────────────────────────────────────────────── \u001b[0mPrompt Example\u001b[92m ──────────────────────────────────────────────────\u001b[0m\n"
      ]
     },
     "metadata": {},
     "output_type": "display_data"
    },
    {
     "data": {
      "text/html": [
       "<pre style=\"white-space:pre;overflow-x:auto;line-height:normal;font-family:Menlo,'DejaVu Sans Mono',consolas,'Courier New',monospace\">You are an expert at extracting entities that are related to foodborne illness incident from text. In the given \n",
       "text, your task is to label multiple types of entity that are related to foodborne illness incident, and answer if \n",
       "the text describes a potential foodborne illness incident event. Note that you should surround the extracted \n",
       "entities in the text with <span style=\"color: #008000; text-decoration-color: #008000\">\"^^\"</span> and <span style=\"color: #008000; text-decoration-color: #008000\">\"^^\"</span>. Use the following examples as a guide for your predictions and format your\n",
       "responses similarly.\n",
       "\n",
       "Your answer will consist of an explanation, followed by the correct labeled sentences for all types of entity and \n",
       "the answer to the text relevance question in json format. Note that if the given text does not include any certain \n",
       "type entity related to foodborne illness, your labeled sentence for this type of entity will be the input text.The \n",
       "keys of the json output and the definitions for all type of relevant entity are provided below: \n",
       "<span style=\"font-weight: bold\">{</span>\n",
       "    <span style=\"color: #008000; text-decoration-color: #008000\">\"Food_answer\"</span>: <span style=\"color: #008000; text-decoration-color: #008000\">\"Food entities are specific food item that caused the potential foodborne illness incident.\"</span>,\n",
       "    <span style=\"color: #008000; text-decoration-color: #008000\">\"Symptom_answer\"</span>: <span style=\"color: #008000; text-decoration-color: #008000\">\"Symptom entities are specific symptoms experienced by the affected person as a result of the</span>\n",
       "<span style=\"color: #008000; text-decoration-color: #008000\">suspected foodborne illness.\"</span>,\n",
       "    <span style=\"color: #008000; text-decoration-color: #008000\">\"Location_answer\"</span>: <span style=\"color: #008000; text-decoration-color: #008000\">\"Location entities pretrain to the location where the affected person purchased or acquired </span>\n",
       "<span style=\"color: #008000; text-decoration-color: #008000\">the food associated with the potential foodborne illness.\"</span>,\n",
       "    <span style=\"color: #008000; text-decoration-color: #008000\">\"Keyword_answer\"</span>: <span style=\"color: #008000; text-decoration-color: #008000\">\"Keyword entities include other relevant keywords or terms associated with foodborne </span>\n",
       "<span style=\"color: #008000; text-decoration-color: #008000\">illnesses, such as \\\"food poisoning\\\".\"</span>,\n",
       "    <span style=\"color: #008000; text-decoration-color: #008000\">\"sentence_class\"</span>: <span style=\"color: #008000; text-decoration-color: #008000\">\"If the text describes a potential foodborne illness event\\nOptions:\\nYes,No\"</span>\n",
       "<span style=\"font-weight: bold\">}</span>\n",
       "\n",
       "Some examples with their output answers are provided below:\n",
       "\n",
       "Input: @USER @USER @USER Flu , food poisoning , hangover I dont care , gimme MJ\n",
       "Output: Let's think step by step.\n",
       "The text does not indicate a foodborne illness incident. So, no entity in the text is related to foodborne illness \n",
       "incident.\n",
       "<span style=\"font-weight: bold\">{</span><span style=\"color: #008000; text-decoration-color: #008000\">\"Food_answer\"</span>: <span style=\"color: #008000; text-decoration-color: #008000\">\"@USER @USER @USER Flu , food poisoning , hangover I dont care , gimme MJ\"</span>, <span style=\"color: #008000; text-decoration-color: #008000\">\"Symptom_answer\"</span>: \n",
       "<span style=\"color: #008000; text-decoration-color: #008000\">\"@USER @USER @USER Flu , food poisoning , hangover I dont care , gimme MJ\"</span>, <span style=\"color: #008000; text-decoration-color: #008000\">\"Location_answer\"</span>: <span style=\"color: #008000; text-decoration-color: #008000\">\"@USER @USER @USER </span>\n",
       "<span style=\"color: #008000; text-decoration-color: #008000\">Flu , food poisoning , hangover I dont care , gimme MJ\"</span>, <span style=\"color: #008000; text-decoration-color: #008000\">\"Keyword_answer\"</span>: <span style=\"color: #008000; text-decoration-color: #008000\">\"@USER @USER @USER Flu , food poisoning </span>\n",
       "<span style=\"color: #008000; text-decoration-color: #008000\">, hangover I dont care , gimme MJ\"</span>, <span style=\"color: #008000; text-decoration-color: #008000\">\"sentence_class\"</span>: <span style=\"color: #008000; text-decoration-color: #008000\">\"No\"</span><span style=\"font-weight: bold\">}</span>\n",
       "\n",
       "Input: @USER @USER well I've been off with food poisoning , so if you fancy sick in your face , come get it ! ! ; <span style=\"font-weight: bold\">)</span>\n",
       "Output: Let's think step by step.\n",
       "The text indicates a foodborne illness incident. No Food entity in the text is relevant to foodborne illness \n",
       "incident.No Location entity in the text is relevant to foodborne illness incident.No Symptom entity in the text is \n",
       "relevant to foodborne illness incident.The word <span style=\"color: #008000; text-decoration-color: #008000\">\"food poisoning\"</span> in the text is a Keyword entity, which is other \n",
       "relevant keyword or term associated with foodborne illnesses, such as <span style=\"color: #008000; text-decoration-color: #008000\">\"food poisoning\"</span>. \n",
       "<span style=\"font-weight: bold\">{</span><span style=\"color: #008000; text-decoration-color: #008000\">\"Food_answer\"</span>: <span style=\"color: #008000; text-decoration-color: #008000\">\"@USER @USER well I've been off with food poisoning , so if you fancy sick in your face , come get </span>\n",
       "<span style=\"color: #008000; text-decoration-color: #008000\">it ! ! ; )\"</span>, <span style=\"color: #008000; text-decoration-color: #008000\">\"Symptom_answer\"</span>: <span style=\"color: #008000; text-decoration-color: #008000\">\"@USER @USER well I've been off with food poisoning , so if you fancy sick in your </span>\n",
       "<span style=\"color: #008000; text-decoration-color: #008000\">face , come get it ! ! ; )\"</span>, <span style=\"color: #008000; text-decoration-color: #008000\">\"Location_answer\"</span>: <span style=\"color: #008000; text-decoration-color: #008000\">\"@USER @USER well I've been off with food poisoning , so if you </span>\n",
       "<span style=\"color: #008000; text-decoration-color: #008000\">fancy sick in your face , come get it ! ! ; )\"</span>, <span style=\"color: #008000; text-decoration-color: #008000\">\"Keyword_answer\"</span>: <span style=\"color: #008000; text-decoration-color: #008000\">\"@USER @USER well I've been off with ^^food </span>\n",
       "<span style=\"color: #008000; text-decoration-color: #008000\">poisoning^^ , so if you fancy sick in your face , come get it ! ! ; )\"</span>, <span style=\"color: #008000; text-decoration-color: #008000\">\"sentence_class\"</span>: <span style=\"color: #008000; text-decoration-color: #008000\">\"Yes\"</span><span style=\"font-weight: bold\">}</span>\n",
       "\n",
       "Input: Think I might have gotten a mild case of food-poisoning today - so that's been super fun .\n",
       "Output: Let's think step by step.\n",
       "The text does not indicate a foodborne illness incident. So, no entity in the text is related to foodborne illness \n",
       "incident.\n",
       "<span style=\"font-weight: bold\">{</span><span style=\"color: #008000; text-decoration-color: #008000\">\"Food_answer\"</span>: <span style=\"color: #008000; text-decoration-color: #008000\">\"Think I might have gotten a mild case of food-poisoning today - so that's been super fun .\"</span>, \n",
       "<span style=\"color: #008000; text-decoration-color: #008000\">\"Symptom_answer\"</span>: <span style=\"color: #008000; text-decoration-color: #008000\">\"Think I might have gotten a mild case of food-poisoning today - so that's been super fun .\"</span>, \n",
       "<span style=\"color: #008000; text-decoration-color: #008000\">\"Location_answer\"</span>: <span style=\"color: #008000; text-decoration-color: #008000\">\"Think I might have gotten a mild case of food-poisoning today - so that's been super fun .\"</span>, \n",
       "<span style=\"color: #008000; text-decoration-color: #008000\">\"Keyword_answer\"</span>: <span style=\"color: #008000; text-decoration-color: #008000\">\"Think I might have gotten a mild case of food-poisoning today - so that's been super fun .\"</span>, \n",
       "<span style=\"color: #008000; text-decoration-color: #008000\">\"sentence_class\"</span>: <span style=\"color: #008000; text-decoration-color: #008000\">\"No\"</span><span style=\"font-weight: bold\">}</span>\n",
       "\n",
       "Input: I can't tell if I'm hideously overtired or if I got food poisoning , but I have been nauseous since lunch \n",
       "yesterday and it has not been the most fun I've ever had , let me tell you .\n",
       "Output: Let's think step by step.\n",
       "The text indicates a foodborne illness incident. No Food entity in the text is relevant to foodborne illness \n",
       "incident.No Location entity in the text is relevant to foodborne illness incident.The word <span style=\"color: #008000; text-decoration-color: #008000\">\"nauseous\"</span> in the text \n",
       "is a Symptom entity, which is a specific symptom experienced by the affected person as a result of the suspected \n",
       "foodborne illness. The word <span style=\"color: #008000; text-decoration-color: #008000\">\"food poisoning\"</span> in the text is a Keyword entity, which is other relevant keyword or \n",
       "term associated with foodborne illnesses, such as <span style=\"color: #008000; text-decoration-color: #008000\">\"food poisoning\"</span>. \n",
       "<span style=\"font-weight: bold\">{</span><span style=\"color: #008000; text-decoration-color: #008000\">\"Food_answer\"</span>: <span style=\"color: #008000; text-decoration-color: #008000\">\"I can't tell if I'm hideously overtired or if I got food poisoning , but I have been nauseous </span>\n",
       "<span style=\"color: #008000; text-decoration-color: #008000\">since lunch yesterday and it has not been the most fun I've ever had , let me tell you .\"</span>, <span style=\"color: #008000; text-decoration-color: #008000\">\"Symptom_answer\"</span>: <span style=\"color: #008000; text-decoration-color: #008000\">\"I </span>\n",
       "<span style=\"color: #008000; text-decoration-color: #008000\">can't tell if I'm hideously overtired or if I got food poisoning , but I have been ^^nauseous^^ since lunch </span>\n",
       "<span style=\"color: #008000; text-decoration-color: #008000\">yesterday and it has not been the most fun I've ever had , let me tell you .\"</span>, <span style=\"color: #008000; text-decoration-color: #008000\">\"Location_answer\"</span>: <span style=\"color: #008000; text-decoration-color: #008000\">\"I can't tell if </span>\n",
       "<span style=\"color: #008000; text-decoration-color: #008000\">I'm hideously overtired or if I got food poisoning , but I have been nauseous since lunch yesterday and it has not </span>\n",
       "<span style=\"color: #008000; text-decoration-color: #008000\">been the most fun I've ever had , let me tell you .\"</span>, <span style=\"color: #008000; text-decoration-color: #008000\">\"Keyword_answer\"</span>: <span style=\"color: #008000; text-decoration-color: #008000\">\"I can't tell if I'm hideously overtired or</span>\n",
       "<span style=\"color: #008000; text-decoration-color: #008000\">if I got ^^food poisoning^^ , but I have been nauseous since lunch yesterday and it has not been the most fun I've </span>\n",
       "<span style=\"color: #008000; text-decoration-color: #008000\">ever had , let me tell you .\"</span>, <span style=\"color: #008000; text-decoration-color: #008000\">\"sentence_class\"</span>: <span style=\"color: #008000; text-decoration-color: #008000\">\"Yes\"</span><span style=\"font-weight: bold\">}</span>\n",
       "\n",
       "Input: Feeling sick as fuck either stomach flu or my mom food gave me food poison .\n",
       "Output: Let's think step by step.\n",
       "The text indicates a foodborne illness incident. No Food entity in the text is relevant to foodborne illness \n",
       "incident.No Location entity in the text is relevant to foodborne illness incident.The word <span style=\"color: #008000; text-decoration-color: #008000\">\"sick\"</span> in the text is a \n",
       "Symptom entity, which is a specific symptom experienced by the affected person as a result of the suspected \n",
       "foodborne illness. The word <span style=\"color: #008000; text-decoration-color: #008000\">\"food poison\"</span> in the text is a Keyword entity, which is other relevant keyword or term \n",
       "associated with foodborne illnesses, such as <span style=\"color: #008000; text-decoration-color: #008000\">\"food poisoning\"</span>. \n",
       "<span style=\"font-weight: bold\">{</span><span style=\"color: #008000; text-decoration-color: #008000\">\"Food_answer\"</span>: <span style=\"color: #008000; text-decoration-color: #008000\">\"Feeling sick as fuck either stomach flu or my mom food gave me food poison .\"</span>, <span style=\"color: #008000; text-decoration-color: #008000\">\"Symptom_answer\"</span>: \n",
       "<span style=\"color: #008000; text-decoration-color: #008000\">\"Feeling ^^sick^^ as fuck either stomach flu or my mom food gave me food poison .\"</span>, <span style=\"color: #008000; text-decoration-color: #008000\">\"Location_answer\"</span>: <span style=\"color: #008000; text-decoration-color: #008000\">\"Feeling </span>\n",
       "<span style=\"color: #008000; text-decoration-color: #008000\">sick as fuck either stomach flu or my mom food gave me food poison .\"</span>, <span style=\"color: #008000; text-decoration-color: #008000\">\"Keyword_answer\"</span>: <span style=\"color: #008000; text-decoration-color: #008000\">\"Feeling sick as fuck </span>\n",
       "<span style=\"color: #008000; text-decoration-color: #008000\">either stomach flu or my mom food gave me ^^food poison^^ .\"</span>, <span style=\"color: #008000; text-decoration-color: #008000\">\"sentence_class\"</span>: <span style=\"color: #008000; text-decoration-color: #008000\">\"Yes\"</span><span style=\"font-weight: bold\">}</span>\n",
       "\n",
       "Input: @USER Sure its food poisoning ? Really bad stomach flu going around the whole country . Feels like food \n",
       "poisoning .\n",
       "Output: Let's think step by step.\n",
       "The text does not indicate a foodborne illness incident. So, no entity in the text is related to foodborne illness \n",
       "incident.\n",
       "<span style=\"font-weight: bold\">{</span><span style=\"color: #008000; text-decoration-color: #008000\">\"Food_answer\"</span>: <span style=\"color: #008000; text-decoration-color: #008000\">\"@USER Sure its food poisoning ? Really bad stomach flu going around the whole country . Feels like</span>\n",
       "<span style=\"color: #008000; text-decoration-color: #008000\">food poisoning .\"</span>, <span style=\"color: #008000; text-decoration-color: #008000\">\"Symptom_answer\"</span>: <span style=\"color: #008000; text-decoration-color: #008000\">\"@USER Sure its food poisoning ? Really bad stomach flu going around the whole</span>\n",
       "<span style=\"color: #008000; text-decoration-color: #008000\">country . Feels like food poisoning .\"</span>, <span style=\"color: #008000; text-decoration-color: #008000\">\"Location_answer\"</span>: <span style=\"color: #008000; text-decoration-color: #008000\">\"@USER Sure its food poisoning ? Really bad stomach flu </span>\n",
       "<span style=\"color: #008000; text-decoration-color: #008000\">going around the whole country . Feels like food poisoning .\"</span>, <span style=\"color: #008000; text-decoration-color: #008000\">\"Keyword_answer\"</span>: <span style=\"color: #008000; text-decoration-color: #008000\">\"@USER Sure its food poisoning ? </span>\n",
       "<span style=\"color: #008000; text-decoration-color: #008000\">Really bad stomach flu going around the whole country . Feels like food poisoning .\"</span>, <span style=\"color: #008000; text-decoration-color: #008000\">\"sentence_class\"</span>: <span style=\"color: #008000; text-decoration-color: #008000\">\"No\"</span><span style=\"font-weight: bold\">}</span>\n",
       "\n",
       "Input: @USER LOL I know ! I've had a stomach bug or food poisoning since yesterday afternoon\n",
       "Output: Let's think step by step.\n",
       "The text indicates a foodborne illness incident. No Food entity in the text is relevant to foodborne illness \n",
       "incident.No Location entity in the text is relevant to foodborne illness incident.No Symptom entity in the text is \n",
       "relevant to foodborne illness incident.The word <span style=\"color: #008000; text-decoration-color: #008000\">\"food poisoning\"</span> in the text is a Keyword entity, which is other \n",
       "relevant keyword or term associated with foodborne illnesses, such as <span style=\"color: #008000; text-decoration-color: #008000\">\"food poisoning\"</span>. \n",
       "<span style=\"font-weight: bold\">{</span><span style=\"color: #008000; text-decoration-color: #008000\">\"Food_answer\"</span>: <span style=\"color: #008000; text-decoration-color: #008000\">\"@USER LOL I know ! I've had a stomach bug or food poisoning since yesterday afternoon\"</span>, \n",
       "<span style=\"color: #008000; text-decoration-color: #008000\">\"Symptom_answer\"</span>: <span style=\"color: #008000; text-decoration-color: #008000\">\"@USER LOL I know ! I've had a stomach bug or food poisoning since yesterday afternoon\"</span>, \n",
       "<span style=\"color: #008000; text-decoration-color: #008000\">\"Location_answer\"</span>: <span style=\"color: #008000; text-decoration-color: #008000\">\"@USER LOL I know ! I've had a stomach bug or food poisoning since yesterday afternoon\"</span>, \n",
       "<span style=\"color: #008000; text-decoration-color: #008000\">\"Keyword_answer\"</span>: <span style=\"color: #008000; text-decoration-color: #008000\">\"@USER LOL I know ! I've had a stomach bug or ^^food poisoning^^ since yesterday afternoon\"</span>, \n",
       "<span style=\"color: #008000; text-decoration-color: #008000\">\"sentence_class\"</span>: <span style=\"color: #008000; text-decoration-color: #008000\">\"Yes\"</span><span style=\"font-weight: bold\">}</span>\n",
       "\n",
       "Input: @USER I got food poisoning today wbu\n",
       "Output: Let's think step by step.\n",
       "The text does not indicate a foodborne illness incident. So, no entity in the text is related to foodborne illness \n",
       "incident.\n",
       "<span style=\"font-weight: bold\">{</span><span style=\"color: #008000; text-decoration-color: #008000\">\"Food_answer\"</span>: <span style=\"color: #008000; text-decoration-color: #008000\">\"@USER I got food poisoning today wbu\"</span>, <span style=\"color: #008000; text-decoration-color: #008000\">\"Symptom_answer\"</span>: <span style=\"color: #008000; text-decoration-color: #008000\">\"@USER I got food poisoning today wbu\"</span>, \n",
       "<span style=\"color: #008000; text-decoration-color: #008000\">\"Location_answer\"</span>: <span style=\"color: #008000; text-decoration-color: #008000\">\"@USER I got food poisoning today wbu\"</span>, <span style=\"color: #008000; text-decoration-color: #008000\">\"Keyword_answer\"</span>: <span style=\"color: #008000; text-decoration-color: #008000\">\"@USER I got food poisoning today </span>\n",
       "<span style=\"color: #008000; text-decoration-color: #008000\">wbu\"</span>, <span style=\"color: #008000; text-decoration-color: #008000\">\"sentence_class\"</span>: <span style=\"color: #008000; text-decoration-color: #008000\">\"No\"</span><span style=\"font-weight: bold\">}</span>\n",
       "\n",
       "Now I want you to label the following example:\n",
       "Input: @USER As much fun as I can . Woke up with food poisoning or stomach flu . Been bugging me all day #tmi \n",
       "Almost done driving for the day\n",
       "Output: Let's think step by step.\n",
       "\n",
       "\n",
       "</pre>\n"
      ],
      "text/plain": [
       "You are an expert at extracting entities that are related to foodborne illness incident from text. In the given \n",
       "text, your task is to label multiple types of entity that are related to foodborne illness incident, and answer if \n",
       "the text describes a potential foodborne illness incident event. Note that you should surround the extracted \n",
       "entities in the text with \u001b[32m\"^^\"\u001b[0m and \u001b[32m\"^^\"\u001b[0m. Use the following examples as a guide for your predictions and format your\n",
       "responses similarly.\n",
       "\n",
       "Your answer will consist of an explanation, followed by the correct labeled sentences for all types of entity and \n",
       "the answer to the text relevance question in json format. Note that if the given text does not include any certain \n",
       "type entity related to foodborne illness, your labeled sentence for this type of entity will be the input text.The \n",
       "keys of the json output and the definitions for all type of relevant entity are provided below: \n",
       "\u001b[1m{\u001b[0m\n",
       "    \u001b[32m\"Food_answer\"\u001b[0m: \u001b[32m\"Food entities are specific food item that caused the potential foodborne illness incident.\"\u001b[0m,\n",
       "    \u001b[32m\"Symptom_answer\"\u001b[0m: \u001b[32m\"Symptom entities are specific symptoms experienced by the affected person as a result of the\u001b[0m\n",
       "\u001b[32msuspected foodborne illness.\"\u001b[0m,\n",
       "    \u001b[32m\"Location_answer\"\u001b[0m: \u001b[32m\"Location entities pretrain to the location where the affected person purchased or acquired \u001b[0m\n",
       "\u001b[32mthe food associated with the potential foodborne illness.\"\u001b[0m,\n",
       "    \u001b[32m\"Keyword_answer\"\u001b[0m: \u001b[32m\"Keyword entities include other relevant keywords or terms associated with foodborne \u001b[0m\n",
       "\u001b[32millnesses, such as \\\"food poisoning\\\".\"\u001b[0m,\n",
       "    \u001b[32m\"sentence_class\"\u001b[0m: \u001b[32m\"If the text describes a potential foodborne illness event\\nOptions:\\nYes,No\"\u001b[0m\n",
       "\u001b[1m}\u001b[0m\n",
       "\n",
       "Some examples with their output answers are provided below:\n",
       "\n",
       "Input: @USER @USER @USER Flu , food poisoning , hangover I dont care , gimme MJ\n",
       "Output: Let's think step by step.\n",
       "The text does not indicate a foodborne illness incident. So, no entity in the text is related to foodborne illness \n",
       "incident.\n",
       "\u001b[1m{\u001b[0m\u001b[32m\"Food_answer\"\u001b[0m: \u001b[32m\"@USER @USER @USER Flu , food poisoning , hangover I dont care , gimme MJ\"\u001b[0m, \u001b[32m\"Symptom_answer\"\u001b[0m: \n",
       "\u001b[32m\"@USER @USER @USER Flu , food poisoning , hangover I dont care , gimme MJ\"\u001b[0m, \u001b[32m\"Location_answer\"\u001b[0m: \u001b[32m\"@USER @USER @USER \u001b[0m\n",
       "\u001b[32mFlu , food poisoning , hangover I dont care , gimme MJ\"\u001b[0m, \u001b[32m\"Keyword_answer\"\u001b[0m: \u001b[32m\"@USER @USER @USER Flu , food poisoning \u001b[0m\n",
       "\u001b[32m, hangover I dont care , gimme MJ\"\u001b[0m, \u001b[32m\"sentence_class\"\u001b[0m: \u001b[32m\"No\"\u001b[0m\u001b[1m}\u001b[0m\n",
       "\n",
       "Input: @USER @USER well I've been off with food poisoning , so if you fancy sick in your face , come get it ! ! ; \u001b[1m)\u001b[0m\n",
       "Output: Let's think step by step.\n",
       "The text indicates a foodborne illness incident. No Food entity in the text is relevant to foodborne illness \n",
       "incident.No Location entity in the text is relevant to foodborne illness incident.No Symptom entity in the text is \n",
       "relevant to foodborne illness incident.The word \u001b[32m\"food poisoning\"\u001b[0m in the text is a Keyword entity, which is other \n",
       "relevant keyword or term associated with foodborne illnesses, such as \u001b[32m\"food poisoning\"\u001b[0m. \n",
       "\u001b[1m{\u001b[0m\u001b[32m\"Food_answer\"\u001b[0m: \u001b[32m\"@USER @USER well I've been off with food poisoning , so if you fancy sick in your face , come get \u001b[0m\n",
       "\u001b[32mit ! ! ; \u001b[0m\u001b[32m)\u001b[0m\u001b[32m\"\u001b[0m, \u001b[32m\"Symptom_answer\"\u001b[0m: \u001b[32m\"@USER @USER well I've been off with food poisoning , so if you fancy sick in your \u001b[0m\n",
       "\u001b[32mface , come get it ! ! ; \u001b[0m\u001b[32m)\u001b[0m\u001b[32m\"\u001b[0m, \u001b[32m\"Location_answer\"\u001b[0m: \u001b[32m\"@USER @USER well I've been off with food poisoning , so if you \u001b[0m\n",
       "\u001b[32mfancy sick in your face , come get it ! ! ; \u001b[0m\u001b[32m)\u001b[0m\u001b[32m\"\u001b[0m, \u001b[32m\"Keyword_answer\"\u001b[0m: \u001b[32m\"@USER @USER well I've been off with ^^food \u001b[0m\n",
       "\u001b[32mpoisoning^^ , so if you fancy sick in your face , come get it ! ! ; \u001b[0m\u001b[32m)\u001b[0m\u001b[32m\"\u001b[0m, \u001b[32m\"sentence_class\"\u001b[0m: \u001b[32m\"Yes\"\u001b[0m\u001b[1m}\u001b[0m\n",
       "\n",
       "Input: Think I might have gotten a mild case of food-poisoning today - so that's been super fun .\n",
       "Output: Let's think step by step.\n",
       "The text does not indicate a foodborne illness incident. So, no entity in the text is related to foodborne illness \n",
       "incident.\n",
       "\u001b[1m{\u001b[0m\u001b[32m\"Food_answer\"\u001b[0m: \u001b[32m\"Think I might have gotten a mild case of food-poisoning today - so that's been super fun .\"\u001b[0m, \n",
       "\u001b[32m\"Symptom_answer\"\u001b[0m: \u001b[32m\"Think I might have gotten a mild case of food-poisoning today - so that's been super fun .\"\u001b[0m, \n",
       "\u001b[32m\"Location_answer\"\u001b[0m: \u001b[32m\"Think I might have gotten a mild case of food-poisoning today - so that's been super fun .\"\u001b[0m, \n",
       "\u001b[32m\"Keyword_answer\"\u001b[0m: \u001b[32m\"Think I might have gotten a mild case of food-poisoning today - so that's been super fun .\"\u001b[0m, \n",
       "\u001b[32m\"sentence_class\"\u001b[0m: \u001b[32m\"No\"\u001b[0m\u001b[1m}\u001b[0m\n",
       "\n",
       "Input: I can't tell if I'm hideously overtired or if I got food poisoning , but I have been nauseous since lunch \n",
       "yesterday and it has not been the most fun I've ever had , let me tell you .\n",
       "Output: Let's think step by step.\n",
       "The text indicates a foodborne illness incident. No Food entity in the text is relevant to foodborne illness \n",
       "incident.No Location entity in the text is relevant to foodborne illness incident.The word \u001b[32m\"nauseous\"\u001b[0m in the text \n",
       "is a Symptom entity, which is a specific symptom experienced by the affected person as a result of the suspected \n",
       "foodborne illness. The word \u001b[32m\"food poisoning\"\u001b[0m in the text is a Keyword entity, which is other relevant keyword or \n",
       "term associated with foodborne illnesses, such as \u001b[32m\"food poisoning\"\u001b[0m. \n",
       "\u001b[1m{\u001b[0m\u001b[32m\"Food_answer\"\u001b[0m: \u001b[32m\"I can't tell if I'm hideously overtired or if I got food poisoning , but I have been nauseous \u001b[0m\n",
       "\u001b[32msince lunch yesterday and it has not been the most fun I've ever had , let me tell you .\"\u001b[0m, \u001b[32m\"Symptom_answer\"\u001b[0m: \u001b[32m\"I \u001b[0m\n",
       "\u001b[32mcan't tell if I'm hideously overtired or if I got food poisoning , but I have been ^^nauseous^^ since lunch \u001b[0m\n",
       "\u001b[32myesterday and it has not been the most fun I've ever had , let me tell you .\"\u001b[0m, \u001b[32m\"Location_answer\"\u001b[0m: \u001b[32m\"I can't tell if \u001b[0m\n",
       "\u001b[32mI'm hideously overtired or if I got food poisoning , but I have been nauseous since lunch yesterday and it has not \u001b[0m\n",
       "\u001b[32mbeen the most fun I've ever had , let me tell you .\"\u001b[0m, \u001b[32m\"Keyword_answer\"\u001b[0m: \u001b[32m\"I can't tell if I'm hideously overtired or\u001b[0m\n",
       "\u001b[32mif I got ^^food poisoning^^ , but I have been nauseous since lunch yesterday and it has not been the most fun I've \u001b[0m\n",
       "\u001b[32mever had , let me tell you .\"\u001b[0m, \u001b[32m\"sentence_class\"\u001b[0m: \u001b[32m\"Yes\"\u001b[0m\u001b[1m}\u001b[0m\n",
       "\n",
       "Input: Feeling sick as fuck either stomach flu or my mom food gave me food poison .\n",
       "Output: Let's think step by step.\n",
       "The text indicates a foodborne illness incident. No Food entity in the text is relevant to foodborne illness \n",
       "incident.No Location entity in the text is relevant to foodborne illness incident.The word \u001b[32m\"sick\"\u001b[0m in the text is a \n",
       "Symptom entity, which is a specific symptom experienced by the affected person as a result of the suspected \n",
       "foodborne illness. The word \u001b[32m\"food poison\"\u001b[0m in the text is a Keyword entity, which is other relevant keyword or term \n",
       "associated with foodborne illnesses, such as \u001b[32m\"food poisoning\"\u001b[0m. \n",
       "\u001b[1m{\u001b[0m\u001b[32m\"Food_answer\"\u001b[0m: \u001b[32m\"Feeling sick as fuck either stomach flu or my mom food gave me food poison .\"\u001b[0m, \u001b[32m\"Symptom_answer\"\u001b[0m: \n",
       "\u001b[32m\"Feeling ^^sick^^ as fuck either stomach flu or my mom food gave me food poison .\"\u001b[0m, \u001b[32m\"Location_answer\"\u001b[0m: \u001b[32m\"Feeling \u001b[0m\n",
       "\u001b[32msick as fuck either stomach flu or my mom food gave me food poison .\"\u001b[0m, \u001b[32m\"Keyword_answer\"\u001b[0m: \u001b[32m\"Feeling sick as fuck \u001b[0m\n",
       "\u001b[32meither stomach flu or my mom food gave me ^^food poison^^ .\"\u001b[0m, \u001b[32m\"sentence_class\"\u001b[0m: \u001b[32m\"Yes\"\u001b[0m\u001b[1m}\u001b[0m\n",
       "\n",
       "Input: @USER Sure its food poisoning ? Really bad stomach flu going around the whole country . Feels like food \n",
       "poisoning .\n",
       "Output: Let's think step by step.\n",
       "The text does not indicate a foodborne illness incident. So, no entity in the text is related to foodborne illness \n",
       "incident.\n",
       "\u001b[1m{\u001b[0m\u001b[32m\"Food_answer\"\u001b[0m: \u001b[32m\"@USER Sure its food poisoning ? Really bad stomach flu going around the whole country . Feels like\u001b[0m\n",
       "\u001b[32mfood poisoning .\"\u001b[0m, \u001b[32m\"Symptom_answer\"\u001b[0m: \u001b[32m\"@USER Sure its food poisoning ? Really bad stomach flu going around the whole\u001b[0m\n",
       "\u001b[32mcountry . Feels like food poisoning .\"\u001b[0m, \u001b[32m\"Location_answer\"\u001b[0m: \u001b[32m\"@USER Sure its food poisoning ? Really bad stomach flu \u001b[0m\n",
       "\u001b[32mgoing around the whole country . Feels like food poisoning .\"\u001b[0m, \u001b[32m\"Keyword_answer\"\u001b[0m: \u001b[32m\"@USER Sure its food poisoning ? \u001b[0m\n",
       "\u001b[32mReally bad stomach flu going around the whole country . Feels like food poisoning .\"\u001b[0m, \u001b[32m\"sentence_class\"\u001b[0m: \u001b[32m\"No\"\u001b[0m\u001b[1m}\u001b[0m\n",
       "\n",
       "Input: @USER LOL I know ! I've had a stomach bug or food poisoning since yesterday afternoon\n",
       "Output: Let's think step by step.\n",
       "The text indicates a foodborne illness incident. No Food entity in the text is relevant to foodborne illness \n",
       "incident.No Location entity in the text is relevant to foodborne illness incident.No Symptom entity in the text is \n",
       "relevant to foodborne illness incident.The word \u001b[32m\"food poisoning\"\u001b[0m in the text is a Keyword entity, which is other \n",
       "relevant keyword or term associated with foodborne illnesses, such as \u001b[32m\"food poisoning\"\u001b[0m. \n",
       "\u001b[1m{\u001b[0m\u001b[32m\"Food_answer\"\u001b[0m: \u001b[32m\"@USER LOL I know ! I've had a stomach bug or food poisoning since yesterday afternoon\"\u001b[0m, \n",
       "\u001b[32m\"Symptom_answer\"\u001b[0m: \u001b[32m\"@USER LOL I know ! I've had a stomach bug or food poisoning since yesterday afternoon\"\u001b[0m, \n",
       "\u001b[32m\"Location_answer\"\u001b[0m: \u001b[32m\"@USER LOL I know ! I've had a stomach bug or food poisoning since yesterday afternoon\"\u001b[0m, \n",
       "\u001b[32m\"Keyword_answer\"\u001b[0m: \u001b[32m\"@USER LOL I know ! I've had a stomach bug or ^^food poisoning^^ since yesterday afternoon\"\u001b[0m, \n",
       "\u001b[32m\"sentence_class\"\u001b[0m: \u001b[32m\"Yes\"\u001b[0m\u001b[1m}\u001b[0m\n",
       "\n",
       "Input: @USER I got food poisoning today wbu\n",
       "Output: Let's think step by step.\n",
       "The text does not indicate a foodborne illness incident. So, no entity in the text is related to foodborne illness \n",
       "incident.\n",
       "\u001b[1m{\u001b[0m\u001b[32m\"Food_answer\"\u001b[0m: \u001b[32m\"@USER I got food poisoning today wbu\"\u001b[0m, \u001b[32m\"Symptom_answer\"\u001b[0m: \u001b[32m\"@USER I got food poisoning today wbu\"\u001b[0m, \n",
       "\u001b[32m\"Location_answer\"\u001b[0m: \u001b[32m\"@USER I got food poisoning today wbu\"\u001b[0m, \u001b[32m\"Keyword_answer\"\u001b[0m: \u001b[32m\"@USER I got food poisoning today \u001b[0m\n",
       "\u001b[32mwbu\"\u001b[0m, \u001b[32m\"sentence_class\"\u001b[0m: \u001b[32m\"No\"\u001b[0m\u001b[1m}\u001b[0m\n",
       "\n",
       "Now I want you to label the following example:\n",
       "Input: @USER As much fun as I can . Woke up with food poisoning or stomach flu . Been bugging me all day #tmi \n",
       "Almost done driving for the day\n",
       "Output: Let's think step by step.\n",
       "\n",
       "\n"
      ]
     },
     "metadata": {},
     "output_type": "display_data"
    },
    {
     "data": {
      "text/html": [
       "<pre style=\"white-space:pre;overflow-x:auto;line-height:normal;font-family:Menlo,'DejaVu Sans Mono',consolas,'Courier New',monospace\"><span style=\"color: #00ff00; text-decoration-color: #00ff00\">───────────────────────────────────────────────────────────────────────────────────────────────────────────────────</span>\n",
       "</pre>\n"
      ],
      "text/plain": [
       "\u001b[92m───────────────────────────────────────────────────────────────────────────────────────────────────────────────────\u001b[0m\n"
      ]
     },
     "metadata": {},
     "output_type": "display_data"
    }
   ],
   "source": [
    "agent.plan(ds)"
   ]
  },
  {
   "cell_type": "code",
   "execution_count": 21,
   "id": "066e6a3b-86ff-47ca-826a-e2690bfeee7e",
   "metadata": {},
   "outputs": [
    {
     "data": {
      "application/vnd.jupyter.widget-view+json": {
       "model_id": "b7e69de02e1d4b33937bd136b203d377",
       "version_major": 2,
       "version_minor": 0
      },
      "text/plain": [
       "Output()"
      ]
     },
     "metadata": {},
     "output_type": "display_data"
    },
    {
     "name": "stderr",
     "output_type": "stream",
     "text": [
      "2024-04-04 23:01:04 httpx INFO: HTTP Request: POST https://api.openai.com/v1/embeddings \"HTTP/1.1 200 OK\"\n",
      "2024-04-04 23:01:09 httpx INFO: HTTP Request: POST https://api.openai.com/v1/chat/completions \"HTTP/1.1 200 OK\"\n",
      "2024-04-04 23:01:09 httpx INFO: HTTP Request: POST https://api.openai.com/v1/embeddings \"HTTP/1.1 200 OK\"\n",
      "2024-04-04 23:01:12 httpx INFO: HTTP Request: POST https://api.openai.com/v1/chat/completions \"HTTP/1.1 200 OK\"\n",
      "2024-04-04 23:01:13 httpx INFO: HTTP Request: POST https://api.openai.com/v1/embeddings \"HTTP/1.1 200 OK\"\n",
      "2024-04-04 23:01:18 httpx INFO: HTTP Request: POST https://api.openai.com/v1/chat/completions \"HTTP/1.1 200 OK\"\n",
      "2024-04-04 23:01:18 httpx INFO: HTTP Request: POST https://api.openai.com/v1/embeddings \"HTTP/1.1 200 OK\"\n",
      "2024-04-04 23:01:20 httpx INFO: HTTP Request: POST https://api.openai.com/v1/chat/completions \"HTTP/1.1 200 OK\"\n",
      "2024-04-04 23:01:20 httpx INFO: HTTP Request: POST https://api.openai.com/v1/embeddings \"HTTP/1.1 200 OK\"\n",
      "2024-04-04 23:01:24 httpx INFO: HTTP Request: POST https://api.openai.com/v1/chat/completions \"HTTP/1.1 200 OK\"\n",
      "2024-04-04 23:01:24 httpx INFO: HTTP Request: POST https://api.openai.com/v1/embeddings \"HTTP/1.1 200 OK\"\n",
      "2024-04-04 23:01:29 httpx INFO: HTTP Request: POST https://api.openai.com/v1/chat/completions \"HTTP/1.1 200 OK\"\n",
      "2024-04-04 23:01:29 httpx INFO: HTTP Request: POST https://api.openai.com/v1/embeddings \"HTTP/1.1 200 OK\"\n",
      "2024-04-04 23:01:35 httpx INFO: HTTP Request: POST https://api.openai.com/v1/chat/completions \"HTTP/1.1 200 OK\"\n",
      "2024-04-04 23:01:35 httpx INFO: HTTP Request: POST https://api.openai.com/v1/embeddings \"HTTP/1.1 200 OK\"\n",
      "2024-04-04 23:01:38 httpx INFO: HTTP Request: POST https://api.openai.com/v1/chat/completions \"HTTP/1.1 200 OK\"\n",
      "2024-04-04 23:01:38 httpx INFO: HTTP Request: POST https://api.openai.com/v1/embeddings \"HTTP/1.1 200 OK\"\n",
      "2024-04-04 23:01:42 httpx INFO: HTTP Request: POST https://api.openai.com/v1/chat/completions \"HTTP/1.1 200 OK\"\n",
      "2024-04-04 23:01:42 httpx INFO: HTTP Request: POST https://api.openai.com/v1/embeddings \"HTTP/1.1 200 OK\"\n",
      "2024-04-04 23:01:45 httpx INFO: HTTP Request: POST https://api.openai.com/v1/chat/completions \"HTTP/1.1 200 OK\"\n"
     ]
    },
    {
     "data": {
      "text/html": [
       "<pre style=\"white-space:pre;overflow-x:auto;line-height:normal;font-family:Menlo,'DejaVu Sans Mono',consolas,'Courier New',monospace\"></pre>\n"
      ],
      "text/plain": []
     },
     "metadata": {},
     "output_type": "display_data"
    },
    {
     "data": {
      "text/html": [
       "<pre style=\"white-space:pre;overflow-x:auto;line-height:normal;font-family:Menlo,'DejaVu Sans Mono',consolas,'Courier New',monospace\">Actual Cost: <span style=\"color: #008080; text-decoration-color: #008080; font-weight: bold\">0.0354</span>\n",
       "</pre>\n"
      ],
      "text/plain": [
       "Actual Cost: \u001b[1;36m0.0354\u001b[0m\n"
      ]
     },
     "metadata": {},
     "output_type": "display_data"
    },
    {
     "data": {
      "text/html": [
       "<pre style=\"white-space:pre;overflow-x:auto;line-height:normal;font-family:Menlo,'DejaVu Sans Mono',consolas,'Courier New',monospace\">┏━━━━━━━┳━━━━━━━┳━━━━━━━┳━━━━━━━┳━━━━━━┳━━━━━━━┳━━━━━━┳━━━━━━━┳━━━━━━┳━━━━━━━┳━━━━━━┳━━━━━━━┳━━━━━━┳━━━━━━━┳━━━━━━┓\n",
       "┃<span style=\"font-weight: bold\"> Food… </span>┃<span style=\"font-weight: bold\"> Food… </span>┃<span style=\"font-weight: bold\"> Food… </span>┃<span style=\"font-weight: bold\"> Symp… </span>┃<span style=\"font-weight: bold\"> Sym… </span>┃<span style=\"font-weight: bold\"> Symp… </span>┃<span style=\"font-weight: bold\"> Loc… </span>┃<span style=\"font-weight: bold\"> Loca… </span>┃<span style=\"font-weight: bold\"> Loc… </span>┃<span style=\"font-weight: bold\"> Keyw… </span>┃<span style=\"font-weight: bold\"> Key… </span>┃<span style=\"font-weight: bold\"> Keyw… </span>┃<span style=\"font-weight: bold\"> sen… </span>┃<span style=\"font-weight: bold\"> sent… </span>┃<span style=\"font-weight: bold\"> sen… </span>┃\n",
       "┡━━━━━━━╇━━━━━━━╇━━━━━━━╇━━━━━━━╇━━━━━━╇━━━━━━━╇━━━━━━╇━━━━━━━╇━━━━━━╇━━━━━━━╇━━━━━━╇━━━━━━━╇━━━━━━╇━━━━━━━╇━━━━━━┩\n",
       "│<span style=\"color: #008080; text-decoration-color: #008080; font-weight: bold\"> 10    </span>│<span style=\"color: #008080; text-decoration-color: #008080; font-weight: bold\"> 1.0   </span>│<span style=\"color: #008080; text-decoration-color: #008080; font-weight: bold\"> 0.9   </span>│<span style=\"color: #008080; text-decoration-color: #008080; font-weight: bold\"> 10    </span>│<span style=\"color: #008080; text-decoration-color: #008080; font-weight: bold\"> 1.0  </span>│<span style=\"color: #008080; text-decoration-color: #008080; font-weight: bold\"> 0.9   </span>│<span style=\"color: #008080; text-decoration-color: #008080; font-weight: bold\"> 10   </span>│<span style=\"color: #008080; text-decoration-color: #008080; font-weight: bold\"> 1.0   </span>│<span style=\"color: #008080; text-decoration-color: #008080; font-weight: bold\"> 0.8  </span>│<span style=\"color: #008080; text-decoration-color: #008080; font-weight: bold\"> 10    </span>│<span style=\"color: #008080; text-decoration-color: #008080; font-weight: bold\"> 1.0  </span>│<span style=\"color: #008080; text-decoration-color: #008080; font-weight: bold\"> 0.9   </span>│<span style=\"color: #008080; text-decoration-color: #008080; font-weight: bold\"> 10   </span>│<span style=\"color: #008080; text-decoration-color: #008080; font-weight: bold\"> 1.0   </span>│<span style=\"color: #008080; text-decoration-color: #008080; font-weight: bold\"> 0.8  </span>│\n",
       "└───────┴───────┴───────┴───────┴──────┴───────┴──────┴───────┴──────┴───────┴──────┴───────┴──────┴───────┴──────┘\n",
       "</pre>\n"
      ],
      "text/plain": [
       "┏━━━━━━━┳━━━━━━━┳━━━━━━━┳━━━━━━━┳━━━━━━┳━━━━━━━┳━━━━━━┳━━━━━━━┳━━━━━━┳━━━━━━━┳━━━━━━┳━━━━━━━┳━━━━━━┳━━━━━━━┳━━━━━━┓\n",
       "┃\u001b[1m \u001b[0m\u001b[1mFood…\u001b[0m\u001b[1m \u001b[0m┃\u001b[1m \u001b[0m\u001b[1mFood…\u001b[0m\u001b[1m \u001b[0m┃\u001b[1m \u001b[0m\u001b[1mFood…\u001b[0m\u001b[1m \u001b[0m┃\u001b[1m \u001b[0m\u001b[1mSymp…\u001b[0m\u001b[1m \u001b[0m┃\u001b[1m \u001b[0m\u001b[1mSym…\u001b[0m\u001b[1m \u001b[0m┃\u001b[1m \u001b[0m\u001b[1mSymp…\u001b[0m\u001b[1m \u001b[0m┃\u001b[1m \u001b[0m\u001b[1mLoc…\u001b[0m\u001b[1m \u001b[0m┃\u001b[1m \u001b[0m\u001b[1mLoca…\u001b[0m\u001b[1m \u001b[0m┃\u001b[1m \u001b[0m\u001b[1mLoc…\u001b[0m\u001b[1m \u001b[0m┃\u001b[1m \u001b[0m\u001b[1mKeyw…\u001b[0m\u001b[1m \u001b[0m┃\u001b[1m \u001b[0m\u001b[1mKey…\u001b[0m\u001b[1m \u001b[0m┃\u001b[1m \u001b[0m\u001b[1mKeyw…\u001b[0m\u001b[1m \u001b[0m┃\u001b[1m \u001b[0m\u001b[1msen…\u001b[0m\u001b[1m \u001b[0m┃\u001b[1m \u001b[0m\u001b[1msent…\u001b[0m\u001b[1m \u001b[0m┃\u001b[1m \u001b[0m\u001b[1msen…\u001b[0m\u001b[1m \u001b[0m┃\n",
       "┡━━━━━━━╇━━━━━━━╇━━━━━━━╇━━━━━━━╇━━━━━━╇━━━━━━━╇━━━━━━╇━━━━━━━╇━━━━━━╇━━━━━━━╇━━━━━━╇━━━━━━━╇━━━━━━╇━━━━━━━╇━━━━━━┩\n",
       "│\u001b[1;36m \u001b[0m\u001b[1;36m10   \u001b[0m\u001b[1;36m \u001b[0m│\u001b[1;36m \u001b[0m\u001b[1;36m1.0  \u001b[0m\u001b[1;36m \u001b[0m│\u001b[1;36m \u001b[0m\u001b[1;36m0.9  \u001b[0m\u001b[1;36m \u001b[0m│\u001b[1;36m \u001b[0m\u001b[1;36m10   \u001b[0m\u001b[1;36m \u001b[0m│\u001b[1;36m \u001b[0m\u001b[1;36m1.0 \u001b[0m\u001b[1;36m \u001b[0m│\u001b[1;36m \u001b[0m\u001b[1;36m0.9  \u001b[0m\u001b[1;36m \u001b[0m│\u001b[1;36m \u001b[0m\u001b[1;36m10  \u001b[0m\u001b[1;36m \u001b[0m│\u001b[1;36m \u001b[0m\u001b[1;36m1.0  \u001b[0m\u001b[1;36m \u001b[0m│\u001b[1;36m \u001b[0m\u001b[1;36m0.8 \u001b[0m\u001b[1;36m \u001b[0m│\u001b[1;36m \u001b[0m\u001b[1;36m10   \u001b[0m\u001b[1;36m \u001b[0m│\u001b[1;36m \u001b[0m\u001b[1;36m1.0 \u001b[0m\u001b[1;36m \u001b[0m│\u001b[1;36m \u001b[0m\u001b[1;36m0.9  \u001b[0m\u001b[1;36m \u001b[0m│\u001b[1;36m \u001b[0m\u001b[1;36m10  \u001b[0m\u001b[1;36m \u001b[0m│\u001b[1;36m \u001b[0m\u001b[1;36m1.0  \u001b[0m\u001b[1;36m \u001b[0m│\u001b[1;36m \u001b[0m\u001b[1;36m0.8 \u001b[0m\u001b[1;36m \u001b[0m│\n",
       "└───────┴───────┴───────┴───────┴──────┴───────┴──────┴───────┴──────┴───────┴──────┴───────┴──────┴───────┴──────┘\n"
      ]
     },
     "metadata": {},
     "output_type": "display_data"
    }
   ],
   "source": [
    "# now, do the actual labeling\n",
    "ds = agent.run(ds)"
   ]
  },
  {
   "cell_type": "code",
   "execution_count": 22,
   "id": "7045720a-3e2a-432c-8f86-9d996e9a7980",
   "metadata": {},
   "outputs": [
    {
     "data": {
      "text/html": [
       "<pre style=\"white-space:pre;overflow-x:auto;line-height:normal;font-family:Menlo,'DejaVu Sans Mono',consolas,'Courier New',monospace\">┏━━━━━━━┳━━━━━━━┳━━━━━━━┳━━━━━━━┳━━━━━━┳━━━━━━━┳━━━━━━┳━━━━━━━┳━━━━━━┳━━━━━━━┳━━━━━━┳━━━━━━━┳━━━━━━┳━━━━━━━┳━━━━━━┓\n",
       "┃<span style=\"font-weight: bold\"> Food… </span>┃<span style=\"font-weight: bold\"> Food… </span>┃<span style=\"font-weight: bold\"> Food… </span>┃<span style=\"font-weight: bold\"> Symp… </span>┃<span style=\"font-weight: bold\"> Sym… </span>┃<span style=\"font-weight: bold\"> Symp… </span>┃<span style=\"font-weight: bold\"> Loc… </span>┃<span style=\"font-weight: bold\"> Loca… </span>┃<span style=\"font-weight: bold\"> Loc… </span>┃<span style=\"font-weight: bold\"> Keyw… </span>┃<span style=\"font-weight: bold\"> Key… </span>┃<span style=\"font-weight: bold\"> Keyw… </span>┃<span style=\"font-weight: bold\"> sen… </span>┃<span style=\"font-weight: bold\"> sent… </span>┃<span style=\"font-weight: bold\"> sen… </span>┃\n",
       "┡━━━━━━━╇━━━━━━━╇━━━━━━━╇━━━━━━━╇━━━━━━╇━━━━━━━╇━━━━━━╇━━━━━━━╇━━━━━━╇━━━━━━━╇━━━━━━╇━━━━━━━╇━━━━━━╇━━━━━━━╇━━━━━━┩\n",
       "│<span style=\"color: #008080; text-decoration-color: #008080; font-weight: bold\"> 10    </span>│<span style=\"color: #008080; text-decoration-color: #008080; font-weight: bold\"> 1.0   </span>│<span style=\"color: #008080; text-decoration-color: #008080; font-weight: bold\"> 0.9   </span>│<span style=\"color: #008080; text-decoration-color: #008080; font-weight: bold\"> 10    </span>│<span style=\"color: #008080; text-decoration-color: #008080; font-weight: bold\"> 1.0  </span>│<span style=\"color: #008080; text-decoration-color: #008080; font-weight: bold\"> 0.9   </span>│<span style=\"color: #008080; text-decoration-color: #008080; font-weight: bold\"> 10   </span>│<span style=\"color: #008080; text-decoration-color: #008080; font-weight: bold\"> 1.0   </span>│<span style=\"color: #008080; text-decoration-color: #008080; font-weight: bold\"> 0.8  </span>│<span style=\"color: #008080; text-decoration-color: #008080; font-weight: bold\"> 10    </span>│<span style=\"color: #008080; text-decoration-color: #008080; font-weight: bold\"> 1.0  </span>│<span style=\"color: #008080; text-decoration-color: #008080; font-weight: bold\"> 0.9   </span>│<span style=\"color: #008080; text-decoration-color: #008080; font-weight: bold\"> 10   </span>│<span style=\"color: #008080; text-decoration-color: #008080; font-weight: bold\"> 1.0   </span>│<span style=\"color: #008080; text-decoration-color: #008080; font-weight: bold\"> 0.8  </span>│\n",
       "└───────┴───────┴───────┴───────┴──────┴───────┴──────┴───────┴──────┴───────┴──────┴───────┴──────┴───────┴──────┘\n",
       "</pre>\n"
      ],
      "text/plain": [
       "┏━━━━━━━┳━━━━━━━┳━━━━━━━┳━━━━━━━┳━━━━━━┳━━━━━━━┳━━━━━━┳━━━━━━━┳━━━━━━┳━━━━━━━┳━━━━━━┳━━━━━━━┳━━━━━━┳━━━━━━━┳━━━━━━┓\n",
       "┃\u001b[1m \u001b[0m\u001b[1mFood…\u001b[0m\u001b[1m \u001b[0m┃\u001b[1m \u001b[0m\u001b[1mFood…\u001b[0m\u001b[1m \u001b[0m┃\u001b[1m \u001b[0m\u001b[1mFood…\u001b[0m\u001b[1m \u001b[0m┃\u001b[1m \u001b[0m\u001b[1mSymp…\u001b[0m\u001b[1m \u001b[0m┃\u001b[1m \u001b[0m\u001b[1mSym…\u001b[0m\u001b[1m \u001b[0m┃\u001b[1m \u001b[0m\u001b[1mSymp…\u001b[0m\u001b[1m \u001b[0m┃\u001b[1m \u001b[0m\u001b[1mLoc…\u001b[0m\u001b[1m \u001b[0m┃\u001b[1m \u001b[0m\u001b[1mLoca…\u001b[0m\u001b[1m \u001b[0m┃\u001b[1m \u001b[0m\u001b[1mLoc…\u001b[0m\u001b[1m \u001b[0m┃\u001b[1m \u001b[0m\u001b[1mKeyw…\u001b[0m\u001b[1m \u001b[0m┃\u001b[1m \u001b[0m\u001b[1mKey…\u001b[0m\u001b[1m \u001b[0m┃\u001b[1m \u001b[0m\u001b[1mKeyw…\u001b[0m\u001b[1m \u001b[0m┃\u001b[1m \u001b[0m\u001b[1msen…\u001b[0m\u001b[1m \u001b[0m┃\u001b[1m \u001b[0m\u001b[1msent…\u001b[0m\u001b[1m \u001b[0m┃\u001b[1m \u001b[0m\u001b[1msen…\u001b[0m\u001b[1m \u001b[0m┃\n",
       "┡━━━━━━━╇━━━━━━━╇━━━━━━━╇━━━━━━━╇━━━━━━╇━━━━━━━╇━━━━━━╇━━━━━━━╇━━━━━━╇━━━━━━━╇━━━━━━╇━━━━━━━╇━━━━━━╇━━━━━━━╇━━━━━━┩\n",
       "│\u001b[1;36m \u001b[0m\u001b[1;36m10   \u001b[0m\u001b[1;36m \u001b[0m│\u001b[1;36m \u001b[0m\u001b[1;36m1.0  \u001b[0m\u001b[1;36m \u001b[0m│\u001b[1;36m \u001b[0m\u001b[1;36m0.9  \u001b[0m\u001b[1;36m \u001b[0m│\u001b[1;36m \u001b[0m\u001b[1;36m10   \u001b[0m\u001b[1;36m \u001b[0m│\u001b[1;36m \u001b[0m\u001b[1;36m1.0 \u001b[0m\u001b[1;36m \u001b[0m│\u001b[1;36m \u001b[0m\u001b[1;36m0.9  \u001b[0m\u001b[1;36m \u001b[0m│\u001b[1;36m \u001b[0m\u001b[1;36m10  \u001b[0m\u001b[1;36m \u001b[0m│\u001b[1;36m \u001b[0m\u001b[1;36m1.0  \u001b[0m\u001b[1;36m \u001b[0m│\u001b[1;36m \u001b[0m\u001b[1;36m0.8 \u001b[0m\u001b[1;36m \u001b[0m│\u001b[1;36m \u001b[0m\u001b[1;36m10   \u001b[0m\u001b[1;36m \u001b[0m│\u001b[1;36m \u001b[0m\u001b[1;36m1.0 \u001b[0m\u001b[1;36m \u001b[0m│\u001b[1;36m \u001b[0m\u001b[1;36m0.9  \u001b[0m\u001b[1;36m \u001b[0m│\u001b[1;36m \u001b[0m\u001b[1;36m10  \u001b[0m\u001b[1;36m \u001b[0m│\u001b[1;36m \u001b[0m\u001b[1;36m1.0  \u001b[0m\u001b[1;36m \u001b[0m│\u001b[1;36m \u001b[0m\u001b[1;36m0.8 \u001b[0m\u001b[1;36m \u001b[0m│\n",
       "└───────┴───────┴───────┴───────┴──────┴───────┴──────┴───────┴──────┴───────┴──────┴───────┴──────┴───────┴──────┘\n"
      ]
     },
     "metadata": {},
     "output_type": "display_data"
    }
   ],
   "source": [
    "metrics = ds.eval()"
   ]
  },
  {
   "cell_type": "code",
   "execution_count": 23,
   "id": "4bcbd487-91d5-44af-85e5-c85798e68704",
   "metadata": {},
   "outputs": [],
   "source": [
    "ds.df.to_csv(output_path, index=False)\n",
    "ds.df.to_pickle(output_path.replace('.csv', '.pkl'))"
   ]
  }
 ],
 "metadata": {
  "kernelspec": {
   "display_name": "py3.9-visa",
   "language": "python",
   "name": "py3.9-visa"
  },
  "language_info": {
   "codemirror_mode": {
    "name": "ipython",
    "version": 3
   },
   "file_extension": ".py",
   "mimetype": "text/x-python",
   "name": "python",
   "nbconvert_exporter": "python",
   "pygments_lexer": "ipython3",
   "version": "3.9.12"
  }
 },
 "nbformat": 4,
 "nbformat_minor": 5
}
