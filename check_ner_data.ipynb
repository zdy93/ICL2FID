{
 "cells": [
  {
   "cell_type": "code",
   "execution_count": 1,
   "id": "f4d79cdc-3781-4a67-a4de-af91cc2189c5",
   "metadata": {},
   "outputs": [],
   "source": [
    "import pandas as pd\n",
    "import argparse\n",
    "import os\n",
    "import sklearn.metrics\n",
    "from aggregate_entity_results import aggregate_results\n",
    "from utils import generate_explanation_prediction\n",
    "import json"
   ]
  },
  {
   "cell_type": "code",
   "execution_count": 49,
   "id": "bfb13a16-b965-4962-b9d0-6e89f885ca64",
   "metadata": {},
   "outputs": [],
   "source": [
    "size = 1.0\n",
    "version_str = \"lv_v1_tv_v3\"\n",
    "agg_method = \"expert\"\n",
    "model_name = \"gpt-3.5-turbo\"\n",
    "few_shot_selection = \"label_diversity_similarity\"\n",
    "temperature = 0.1\n",
    "verified = False\n",
    "explanation_column = \"two_step\"\n",
    "check_mode = \"strict\"\n",
    "CoT = True\n",
    "verify_CoT = False\n",
    "use_current_explanation = False\n",
    "use_ground_explanation = False\n",
    "data_path = '/scratch/dzhang5/LLM/TWEET-FID/expert.traintestfortest.csv'\n",
    "output_dir = '/scratch/dzhang5/LLM/TWEET-FID/traintestfortest-results-autolabel-ner-qa-' + agg_method\n",
    "label_symbol = \"^^^^\"\n",
    "text_column = \"context\"\n",
    "result_dir = '/scratch/dzhang5/LLM/TWEET-FID/traintestfortest-results-autolabel-ner-qa-' + agg_method\n",
    "output_dir = os.path.join(output_dir, str(temperature), str(size), version_str)\n",
    "result_dir = os.path.join(result_dir, str(temperature), str(size), version_str)"
   ]
  },
  {
   "cell_type": "code",
   "execution_count": 50,
   "id": "16a114c3-77a8-437b-934c-d1e47a91e562",
   "metadata": {},
   "outputs": [
    {
     "name": "stdout",
     "output_type": "stream",
     "text": [
      "/scratch/dzhang5/LLM/TWEET-FID/traintestfortest-results-autolabel-ner-qa-expert/0.1/1.0/lv_v1_tv_v3/gpt-3.5-turbo_label_diversity_similarity_COT_Two_step_Food_explanation_cur_False_ground_False_Food_expert.traintestfortest.csv\n",
      "/scratch/dzhang5/LLM/TWEET-FID/traintestfortest-results-autolabel-ner-qa-expert/0.1/1.0/lv_v1_tv_v3/gpt-3.5-turbo_label_diversity_similarity_COT_Two_step_Location_explanation_cur_False_ground_False_Location_expert.traintestfortest.csv\n",
      "/scratch/dzhang5/LLM/TWEET-FID/traintestfortest-results-autolabel-ner-qa-expert/0.1/1.0/lv_v1_tv_v3/gpt-3.5-turbo_label_diversity_similarity_COT_Two_step_Symptom_explanation_cur_False_ground_False_Symptom_expert.traintestfortest.csv\n",
      "/scratch/dzhang5/LLM/TWEET-FID/traintestfortest-results-autolabel-ner-qa-expert/0.1/1.0/lv_v1_tv_v3/gpt-3.5-turbo_label_diversity_similarity_COT_Two_step_Keyword_explanation_cur_False_ground_False_Keyword_expert.traintestfortest.csv\n"
     ]
    }
   ],
   "source": [
    "output_df_list = []\n",
    "for label_type in ['Food', 'Location', 'Symptom', 'Keyword']:\n",
    "    if explanation_column == \"two_step\":\n",
    "        label_explanation_column = \"Two_step_\" + label_type + \"_explanation\"\n",
    "    else:\n",
    "        label_explanation_column = label_type + \"_explanation\"\n",
    "    if verified:\n",
    "        final_name = '_final_COT_' if verify_CoT else '_final_'\n",
    "        if CoT:\n",
    "            agg_output_name = os.path.split(model_name)[-1] + '_' + few_shot_selection + '_COT_' + str(label_explanation_column) + '_cur_' + str(use_current_explanation) + '_ground_' + str(use_ground_explanation) + '_' + label_type + final_name + os.path.split(data_path)[-1]\n",
    "        else:\n",
    "            agg_output_name = os.path.split(model_name)[-1] + '_' + few_shot_selection + '_' + label_type + final_name + os.path.split(data_path)[-1]\n",
    "    else:\n",
    "        if CoT:\n",
    "            agg_output_name = os.path.split(model_name)[-1] + '_' + few_shot_selection + '_COT_' + str(label_explanation_column) + '_cur_' + str(use_current_explanation) + '_ground_' + str(use_ground_explanation) + '_' + label_type + '_' + os.path.split(data_path)[-1]\n",
    "        else:\n",
    "            agg_output_name = os.path.split(model_name)[-1] + '_' + few_shot_selection + '_' + label_type + '_' + os.path.split(data_path)[-1]\n",
    "    output_path = os.path.join(result_dir, agg_output_name)\n",
    "    print(output_path)\n",
    "    output_df = pd.read_csv(output_path)\n",
    "    output_df_list.append(output_df)"
   ]
  },
  {
   "cell_type": "code",
   "execution_count": 51,
   "id": "c36ec61d-347b-4b19-88e2-8fbd8250181f",
   "metadata": {},
   "outputs": [
    {
     "data": {
      "text/plain": [
       "Index([   3,    7,   14,   21,   41,   55,   79,  151,  159,  160,\n",
       "       ...\n",
       "       3492, 3512, 3524, 3579, 3610, 3629, 3644, 3646, 3648, 3662],\n",
       "      dtype='int64', length=256)"
      ]
     },
     "execution_count": 51,
     "metadata": {},
     "output_type": "execute_result"
    }
   ],
   "source": [
    "output_df[f\"{label_type}_answer_annotation\"].loc[output_df[f\"{label_type}_answer_error\"].notna()].index"
   ]
  },
  {
   "cell_type": "code",
   "execution_count": 52,
   "id": "3760df4c-dfd7-488a-aa91-d8af26de5e9f",
   "metadata": {},
   "outputs": [
    {
     "data": {
      "text/plain": [
       "'You are an expert at extracting Keyword entities that are related to foodborne illness incident from text. In the given text, your task is to label Keyword entities that include other relevant keywords or terms associated with foodborne illnesses, such as \"food poisoning\". If a Keyword entity is not associated with a potential foodborne illnesses incident, the entity should not be labeled as relevant entities.\\n\\nYour answer will consist of an explanation, followed by the correct labeled sentence. In the last line of the response, you should present the input text with Keyword entities related to foodborne illness incidents distinctly marked. To highlight these Keyword entities, prepend each with \"^^\" and append \"^^\". Refer to the provided examples to structure your predictions correctly.\\n\\nSome examples with their output answers are provided below:\\n\\nInput: My Stomach Ughh Food Poison : (\\nOutput: Let\\'s think step by step.\\nThe text indicates a foodborne illness incident. The word \"Food Poison\" in the text is a Keyword entity, which is other relevant keyword or term associated with foodborne illnesses, such as \"food poisoning\".\\n{\"label\": \"My Stomach Ughh ^^Food Poison^^ : (\"}\\n\\nInput: I\\'m not sending this my stomach again . . . . I\\'m wearing these fire outfits [ EMOJI_smiling_face_with_heart-eyes ] [ EMOJI_smiling_face_with_heart-eyes ]\\nOutput: Let\\'s think step by step.\\nSo, no Keyword entity in the text is relevant to foodborne illness incident.\\n{\"label\": \"I\\'m not sending this my stomach again . . . . I\\'m wearing these fire outfits [ EMOJI_smiling_face_with_heart-eyes ] [ EMOJI_smiling_face_with_heart-eyes ]\"}\\n\\nInput: Food poisoning af [ EMOJI_grinning_face_with_sweat ] [ EMOJI_confounded_face ] [ EMOJI_upside-down_face ]\\nOutput: Let\\'s think step by step.\\nThe text indicates a foodborne illness incident. The word \"Food poisoning\" in the text is a Keyword entity, which is other relevant keyword or term associated with foodborne illnesses, such as \"food poisoning\".\\n{\"label\": \"^^Food poisoning^^ af [ EMOJI_grinning_face_with_sweat ] [ EMOJI_confounded_face ] [ EMOJI_upside-down_face ]\"}\\n\\nInput: How you gone say stop kicking my stomach but you fighting while pregnant . . . . . . [ EMOJI_thinking_face ] [ EMOJI_thinking_face ] [ EMOJI_thinking_face ]\\nOutput: Let\\'s think step by step.\\nSo, no Keyword entity in the text is relevant to foodborne illness incident.\\n{\"label\": \"How you gone say stop kicking my stomach but you fighting while pregnant . . . . . . [ EMOJI_thinking_face ] [ EMOJI_thinking_face ] [ EMOJI_thinking_face ]\"}\\n\\nNow I want you to label the following example:\\nInput: I know my tubes tied but When Mother Nature be playing I give my stomach a extra punch just in case cause bitch don\\'t play with me [ EMOJI_face_with_raised_eyebrow ] [ EMOJI_unamused_face ] [ EMOJI_loudly_crying_face ]\\nOutput: Let\\'s think step by step.\\n\\n'"
      ]
     },
     "execution_count": 52,
     "metadata": {},
     "output_type": "execute_result"
    }
   ],
   "source": [
    "output_df[f'{label_type}_answer_prompt'][0]"
   ]
  },
  {
   "cell_type": "code",
   "execution_count": 45,
   "id": "a864476e-400f-424e-abd3-c32307c14e2f",
   "metadata": {},
   "outputs": [
    {
     "data": {
      "text/plain": [
       "'successfully_labeled=False label=\\'NO_LABEL\\' curr_sample=b\"\\\\x80\\\\x04\\\\x95\\\\xf9\\\\x00\\\\x00\\\\x00\\\\x00\\\\x00\\\\x00\\\\x00}\\\\x94(\\\\x8c\\\\x07context\\\\x94\\\\x8c`@USER @USER they think its food poisoning . She\\'s home already thank God . I\\'ll keep you updated\\\\x94\\\\x8c\\\\x0bhas_Keyword\\\\x94\\\\x8c\\\\x02no\\\\x94\\\\x8c\\\\x0eKeyword_answer\\\\x94\\\\x8c`@USER @USER they think its food poisoning . She\\'s home already thank God . I\\'ll keep you updated\\\\x94u.\" confidence_score=None generation_info={\\'finish_reason\\': \\'stop\\', \\'logprobs\\': None} raw_response=\\'The text indicates a foodborne illness incident. The phrase \"food poisoning\" in the text is a Keyword entity, which is other relevant keyword or term associated with foodborne illnesses, such as \"food poisoning\".\\\\n{\"label\": \"@USER @USER they think its ^^food poisoning^^ . She\\\\\\'s home already thank God . I\\\\\\'ll keep you updated\"}\\\\n\\\\nInput text with Keyword entities related to foodborne illness incidents distinctly marked:\\\\n@USER @USER they think its ^^food poisoning^^ . She\\\\\\'s home already thank God . I\\\\\\'ll keep you updated\\' explanation=\\'The text indicates a foodborne illness incident. The phrase \"food poisoning\" in the text is a Keyword entity, which is other relevant keyword or term associated with foodborne illnesses, such as \"food poisoning\".\\' prompt=\\'You are an expert at extracting Keyword entities that are related to foodborne illness incident from text. In the given text, your task is to label Keyword entities that include other relevant keywords or terms associated with foodborne illnesses, such as \"food poisoning\". If a Keyword entity is not associated with a potential foodborne illnesses incident, the entity should not be labeled as relevant entities.\\\\n\\\\nYour answer will consist of an explanation, followed by the correct labeled sentence. In the last line of the response, you should present the input text with Keyword entities related to foodborne illness incidents distinctly marked. To highlight these Keyword entities, prepend each with \"^^\" and append \"^^\". Refer to the provided examples to structure your predictions correctly.\\\\n\\\\nSome examples with their output answers are provided below:\\\\n\\\\nInput: @USER hell , it sounds like you got food poison .\\\\nOutput: Let\\\\\\'s think step by step.\\\\nThe text indicates a foodborne illness incident. The word \"food poison\" in the text is a Keyword entity, which is other relevant keyword or term associated with foodborne illnesses, such as \"food poisoning\".\\\\n{\"label\": \"@USER hell , it sounds like you got ^^food poison^^ .\"}\\\\n\\\\nInput: @USER awwww thank you for caring but I know for a fact that it\\\\\\'s not food poisoning or the flu : ) I know how both those feel .\\\\nOutput: Let\\\\\\'s think step by step.\\\\nSo, no Keyword entity in the text is relevant to foodborne illness incident.\\\\n{\"label\": \"@USER awwww thank you for caring but I know for a fact that it\\\\\\'s not food poisoning or the flu : ) I know how both those feel .\"}\\\\n\\\\nInput: @USER heated them up . . think iv food poisoning\\\\nOutput: Let\\\\\\'s think step by step.\\\\nThe text indicates a foodborne illness incident. The word \"food poisoning\" in the text is a Keyword entity, which is other relevant keyword or term associated with foodborne illnesses, such as \"food poisoning\".\\\\n{\"label\": \"@USER heated them up . . think iv ^^food poisoning^^\"}\\\\n\\\\nInput: @USER You have to expect a food poisoning tho [ EMOJI_eyes ]\\\\nOutput: Let\\\\\\'s think step by step.\\\\nSo, no Keyword entity in the text is relevant to foodborne illness incident.\\\\n{\"label\": \"@USER You have to expect a food poisoning tho [ EMOJI_eyes ]\"}\\\\n\\\\nNow I want you to label the following example:\\\\nInput: @USER @USER they think its food poisoning . She\\\\\\'s home already thank God . I\\\\\\'ll keep you updated\\\\nOutput: Let\\\\\\'s think step by step.\\\\n\\\\n\\' error=LabelingError(error_type=<ErrorType.PARSING_ERROR: \\'parsing_error\\'>, error_message=\\'Error parsing LLM response: The text indicates a foodborne illness incident. The phrase \"food poisoning\" in the text is a Keyword entity, which is other relevant keyword or term associated with foodborne illnesses, such as \"food poisoning\".\\\\n{\"label\": \"@USER @USER they think its ^^food poisoning^^ . She\\\\\\'s home already thank God . I\\\\\\'ll keep you updated\"}\\\\n\\\\nInput text with Keyword entities related to foodborne illness incidents distinctly marked:\\\\n@USER @USER they think its ^^food poisoning^^ . She\\\\\\'s home already thank God . I\\\\\\'ll keep you updated\\')'"
      ]
     },
     "execution_count": 45,
     "metadata": {},
     "output_type": "execute_result"
    }
   ],
   "source": [
    "output_df[f\"{label_type}_answer_annotation\"].loc[output_df[f\"{label_type}_answer_error\"].notna()][3]"
   ]
  },
  {
   "cell_type": "code",
   "execution_count": 30,
   "id": "5b5ba2a0-e039-4acb-91b7-f22a8c974d23",
   "metadata": {},
   "outputs": [
    {
     "data": {
      "text/plain": [
       "\"@USER @USER they think its food poisoning . She's home already thank God . I'll keep you updated\""
      ]
     },
     "execution_count": 30,
     "metadata": {},
     "output_type": "execute_result"
    }
   ],
   "source": [
    "output_df[\"Keyword_answer\"][3]"
   ]
  },
  {
   "cell_type": "code",
   "execution_count": null,
   "id": "8aea0a7e-0a7c-47dd-8af7-b976206f413f",
   "metadata": {},
   "outputs": [],
   "source": [
    "output_df[\"Keyword_answer\"][3]"
   ]
  },
  {
   "cell_type": "code",
   "execution_count": 31,
   "id": "15bacbbf-b65c-4ad8-993c-5b8f80183d99",
   "metadata": {},
   "outputs": [
    {
     "data": {
      "text/plain": [
       "\"@USER @USER they think its food poisoning . She's home already thank God . I'll keep you updated\""
      ]
     },
     "execution_count": 31,
     "metadata": {},
     "output_type": "execute_result"
    }
   ],
   "source": [
    "output_df[\"context\"][3]"
   ]
  },
  {
   "cell_type": "code",
   "execution_count": 5,
   "id": "e6b09782-7d6e-4d8c-bcab-b6a6e31333b0",
   "metadata": {},
   "outputs": [
    {
     "data": {
      "text/plain": [
       "Index(['id', 'tweet', 'tweet_tokens', 'entity_label', 'related_label',\n",
       "       'sentence_class', 'relevant_entity_label',\n",
       "       'relevance_entity_class_label', 'real_relevant_entity_label',\n",
       "       'IndividualLabels', 'CategorizedLabels', 'Food_answer',\n",
       "       'Location_answer', 'Symptom_answer', 'Keyword_answer', 'has_Food',\n",
       "       'has_Location', 'has_Symptom', 'has_Keyword', 'has_all', 'context',\n",
       "       'sentence_explanation', 'word_explanation',\n",
       "       'CategorizedLabels_prediction', 'sentence_explanation_prediction'],\n",
       "      dtype='object')"
      ]
     },
     "execution_count": 5,
     "metadata": {},
     "output_type": "execute_result"
    }
   ],
   "source": [
    "output_df.columns"
   ]
  },
  {
   "cell_type": "code",
   "execution_count": 6,
   "id": "e0a8bdaf-ed1f-4938-b991-be0df1e6f277",
   "metadata": {},
   "outputs": [
    {
     "data": {
      "text/plain": [
       "has_Food\n",
       "no     3338\n",
       "yes     372\n",
       "Name: count, dtype: int64"
      ]
     },
     "execution_count": 6,
     "metadata": {},
     "output_type": "execute_result"
    }
   ],
   "source": [
    "output_df['has_Food'].value_counts()"
   ]
  },
  {
   "cell_type": "code",
   "execution_count": 7,
   "id": "1d6d602b-031d-43f4-ae96-6dd145ca5cdb",
   "metadata": {},
   "outputs": [
    {
     "data": {
      "text/plain": [
       "has_all\n",
       "no     2485\n",
       "yes    1225\n",
       "Name: count, dtype: int64"
      ]
     },
     "execution_count": 7,
     "metadata": {},
     "output_type": "execute_result"
    }
   ],
   "source": [
    "output_df['has_all'].value_counts()"
   ]
  },
  {
   "cell_type": "code",
   "execution_count": 8,
   "id": "cca9dc8b-8b89-490e-bbc2-884e1012acac",
   "metadata": {},
   "outputs": [],
   "source": [
    "word_pred = ~output_df['sentence_explanation_prediction'].str.startswith('No')"
   ]
  },
  {
   "cell_type": "code",
   "execution_count": 9,
   "id": "f9ba1734-72b8-4cd4-ae11-1a6923db77b0",
   "metadata": {},
   "outputs": [],
   "source": [
    "word_label = ~output_df[['CategorizedLabels', 'sentence_class']].apply(lambda x: generate_explanation_prediction(x['CategorizedLabels'], x['sentence_class']), axis=1).str.startswith('No')"
   ]
  },
  {
   "cell_type": "code",
   "execution_count": 10,
   "id": "0999083d-1de9-4476-8d4a-5650c2508e03",
   "metadata": {},
   "outputs": [],
   "source": [
    "def count_entities(label_dict):\n",
    "    label_dict = json.loads(label_dict)\n",
    "    cnt = 0\n",
    "    for key, val in label_dict.items():\n",
    "        cnt += len(val)\n",
    "    return cnt"
   ]
  },
  {
   "cell_type": "code",
   "execution_count": 11,
   "id": "61791f9c-ffbc-43ce-8bdd-af0d7d378d7f",
   "metadata": {},
   "outputs": [
    {
     "data": {
      "text/plain": [
       "2648"
      ]
     },
     "execution_count": 11,
     "metadata": {},
     "output_type": "execute_result"
    }
   ],
   "source": [
    "output_df['CategorizedLabels'].apply(count_entities).sum()"
   ]
  },
  {
   "cell_type": "code",
   "execution_count": 12,
   "id": "e84d5137-1ff5-4ae1-9788-45c6c197fdd5",
   "metadata": {},
   "outputs": [
    {
     "data": {
      "text/plain": [
       "1861"
      ]
     },
     "execution_count": 12,
     "metadata": {},
     "output_type": "execute_result"
    }
   ],
   "source": [
    "output_df['CategorizedLabels_prediction'].apply(count_entities).sum()"
   ]
  },
  {
   "cell_type": "code",
   "execution_count": 13,
   "id": "f6810a20-c4d2-4543-b37e-025c49d2f4c6",
   "metadata": {},
   "outputs": [],
   "source": [
    "label = output_df['sentence_class'] == 'Yes'"
   ]
  },
  {
   "cell_type": "code",
   "execution_count": 14,
   "id": "6eefcf97-5c24-4f86-ab09-370c742d7131",
   "metadata": {},
   "outputs": [
    {
     "data": {
      "text/plain": [
       "0.7466307277628033"
      ]
     },
     "execution_count": 14,
     "metadata": {},
     "output_type": "execute_result"
    }
   ],
   "source": [
    "sklearn.metrics.accuracy_score(label, word_pred)"
   ]
  },
  {
   "cell_type": "code",
   "execution_count": 15,
   "id": "f37ce114-69c4-4d2b-b0d8-aecc9ab9f9de",
   "metadata": {},
   "outputs": [
    {
     "data": {
      "text/plain": [
       "0.637904468412943"
      ]
     },
     "execution_count": 15,
     "metadata": {},
     "output_type": "execute_result"
    }
   ],
   "source": [
    "sklearn.metrics.f1_score(label, word_pred)"
   ]
  },
  {
   "cell_type": "code",
   "execution_count": 16,
   "id": "2dfbb4c9-e2b5-4486-874f-cb8be00538df",
   "metadata": {},
   "outputs": [
    {
     "data": {
      "text/plain": [
       "0.6039387308533917"
      ]
     },
     "execution_count": 16,
     "metadata": {},
     "output_type": "execute_result"
    }
   ],
   "source": [
    "sklearn.metrics.precision_score(label, word_pred)"
   ]
  },
  {
   "cell_type": "code",
   "execution_count": 17,
   "id": "40bdd9c0-f86b-44c4-ae63-898480820eb0",
   "metadata": {},
   "outputs": [
    {
     "data": {
      "text/plain": [
       "0.6759183673469388"
      ]
     },
     "execution_count": 17,
     "metadata": {},
     "output_type": "execute_result"
    }
   ],
   "source": [
    "sklearn.metrics.recall_score(label, word_pred)"
   ]
  },
  {
   "cell_type": "code",
   "execution_count": 18,
   "id": "d7a667cc-72f7-4a49-95b5-3076be74b5e3",
   "metadata": {},
   "outputs": [
    {
     "data": {
      "text/plain": [
       "1.0"
      ]
     },
     "execution_count": 18,
     "metadata": {},
     "output_type": "execute_result"
    }
   ],
   "source": [
    "sklearn.metrics.accuracy_score(label, word_label)"
   ]
  },
  {
   "cell_type": "code",
   "execution_count": 19,
   "id": "178817a4-90e6-47cb-be95-313555b7e3e2",
   "metadata": {},
   "outputs": [
    {
     "data": {
      "text/plain": [
       "1.0"
      ]
     },
     "execution_count": 19,
     "metadata": {},
     "output_type": "execute_result"
    }
   ],
   "source": [
    "sklearn.metrics.f1_score(label, word_label)"
   ]
  }
 ],
 "metadata": {
  "kernelspec": {
   "display_name": "py3.9-visa",
   "language": "python",
   "name": "py3.9-visa"
  },
  "language_info": {
   "codemirror_mode": {
    "name": "ipython",
    "version": 3
   },
   "file_extension": ".py",
   "mimetype": "text/x-python",
   "name": "python",
   "nbconvert_exporter": "python",
   "pygments_lexer": "ipython3",
   "version": "3.9.12"
  }
 },
 "nbformat": 4,
 "nbformat_minor": 5
}
