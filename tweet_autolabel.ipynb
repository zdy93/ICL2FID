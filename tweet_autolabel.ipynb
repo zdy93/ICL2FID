{
 "cells": [
  {
   "cell_type": "code",
   "execution_count": 1,
   "id": "70aecd7c-108a-46ab-b1be-1a2e7a0d9347",
   "metadata": {},
   "outputs": [],
   "source": [
    "import pandas as pd\n",
    "import numpy as np\n",
    "import string\n",
    "import re\n",
    "import json\n",
    "import os\n",
    "import matplotlib.pyplot as plt\n",
    "import warnings\n",
    "import random\n",
    "from utils import generate_explanation, generate_explanation_prediction, label_description_plural, get_verification_label,\\\n",
    "label_description_singular, generate_word_explanation, generate_word_explanation_prediction, generate_entity_explanation, \\\n",
    "generate_word_entity_explanation, generate_check_refer_ans, generate_dummy_check_refer_ans, generate_aggregated_word_explanation"
   ]
  },
  {
   "cell_type": "code",
   "execution_count": 2,
   "id": "e563e2c9-3dcd-4c56-930c-74ee04f46e31",
   "metadata": {},
   "outputs": [],
   "source": [
    "tweet_dir = '/scratch/dzhang5/usda_project/tweet-fid-application'\n",
    "output_dir = '/scratch/dzhang5/LLM/TWEET-FID'\n",
    "label_symbol = '^^^^'"
   ]
  },
  {
   "cell_type": "code",
   "execution_count": 3,
   "id": "036008a4-05ce-4ef3-8e81-1afa5edeee82",
   "metadata": {},
   "outputs": [],
   "source": [
    "train_mv_name = 'mrc-ner.mv.train'\n",
    "train_expert_name = 'mrc-ner.expert.train'\n",
    "train_bsc_name = 'mrc-ner.bsc.train'\n",
    "short_train_expert_name = 'mrc-ner.expert.train.short'\n",
    "short_train_mv_name = 'mrc-ner.mv.train.short'\n",
    "short_train_bsc_name = 'mrc-ner.bsc.train.short'\n",
    "unlabeled_name = 'mrc-ner.unlabeled'\n",
    "test_expert_name = 'mrc-ner.expert.test'\n",
    "dev_expert_name = 'mrc-ner.expert.dev'\n",
    "small_test_expert_name = 'mrc-ner.expert.smalltest'\n",
    "dev_bsc_name = 'mrc-ner.bsc.dev'\n",
    "dev_mv_name = 'mrc-ner.mv.dev'\n",
    "\n",
    "train_dev_expert_for_test_name = 'mrc-ner.expert.traindevfortest'\n",
    "train_test_expert_for_test_name = 'mrc-ner.expert.traintestfortest'\n",
    "train_expert_for_test_name = 'mrc-ner.expert.trainfortest'\n",
    "\n",
    "short_test_expert_for_train_name = 'mrc-ner.expert.testfortrain.short'\n",
    "short_test_mv_for_train_name = 'mrc-ner.mv.testfortrain.short'\n",
    "short_test_bsc_for_train_name = 'mrc-ner.bsc.testfortrain.short'\n",
    "test_expert_for_train_name = 'mrc-ner.expert.testfortrain'\n",
    "test_mv_for_train_name = 'mrc-ner.mv.testfortrain'\n",
    "test_bsc_for_train_name = 'mrc-ner.bsc.testfortrain'\n",
    "\n",
    "short_dev_expert_for_train_name = 'mrc-ner.expert.devfortrain.short'\n",
    "short_dev_mv_for_train_name = 'mrc-ner.mv.devfortrain.short'\n",
    "short_dev_bsc_for_train_name = 'mrc-ner.bsc.devfortrain.short'\n",
    "dev_expert_for_train_name = 'mrc-ner.expert.devfortrain'\n",
    "dev_mv_for_train_name = 'mrc-ner.mv.devfortrain'\n",
    "dev_bsc_for_train_name = 'mrc-ner.bsc.devfortrain'"
   ]
  },
  {
   "cell_type": "code",
   "execution_count": 4,
   "id": "79b358c0-9654-4813-8351-a9e415c58450",
   "metadata": {},
   "outputs": [],
   "source": [
    "train_mv_data = pd.read_pickle(f\"{tweet_dir}/tweet-fid/LREC_mv/train.p\")\n",
    "train_expert_data = pd.read_pickle(f\"{tweet_dir}/tweet-fid/LREC_expert_label/train.p\")\n",
    "train_bsc_data = pd.read_pickle(f\"{tweet_dir}/tweet-fid/LREC_BSC/train.p\")\n",
    "unlabeled_data = pd.read_pickle(f\"{tweet_dir}/tweet-fid-unlabeled.p\")"
   ]
  },
  {
   "cell_type": "code",
   "execution_count": 5,
   "id": "e83ca1fb-1ef5-4093-95bd-e346327f0575",
   "metadata": {},
   "outputs": [],
   "source": [
    "test_expert_data = pd.read_pickle(f\"{tweet_dir}/tweet-fid/LREC_expert_label/test.p\")\n",
    "test_mv_data = pd.read_pickle(f\"{tweet_dir}/tweet-fid/LREC_mv/test.p\")\n",
    "test_bsc_data = pd.read_pickle(f\"{tweet_dir}/tweet-fid/LREC_BSC/test.p\")\n",
    "dev_expert_data = pd.read_pickle(f\"{tweet_dir}/tweet-fid/LREC_expert_label/dev.p\")\n",
    "dev_mv_data = pd.read_pickle(f\"{tweet_dir}/tweet-fid/LREC_mv/dev.p\")\n",
    "dev_bsc_data = pd.read_pickle(f\"{tweet_dir}/tweet-fid/LREC_BSC/dev.p\")"
   ]
  },
  {
   "cell_type": "code",
   "execution_count": 6,
   "id": "2f8fd268-d7e5-45d0-8fc8-6a82f5fc3c7e",
   "metadata": {},
   "outputs": [
    {
     "data": {
      "text/plain": [
       "True"
      ]
     },
     "execution_count": 6,
     "metadata": {},
     "output_type": "execute_result"
    }
   ],
   "source": [
    "(test_expert_data['sentence_class'] == test_mv_data['sentence_class']).all()"
   ]
  },
  {
   "cell_type": "code",
   "execution_count": 7,
   "id": "4361ee6c-95ca-45f9-aa15-3cf62afc6f19",
   "metadata": {},
   "outputs": [
    {
     "data": {
      "text/plain": [
       "True"
      ]
     },
     "execution_count": 7,
     "metadata": {},
     "output_type": "execute_result"
    }
   ],
   "source": [
    "(test_mv_data['sentence_class'] == test_bsc_data['sentence_class']).all()"
   ]
  },
  {
   "cell_type": "code",
   "execution_count": 8,
   "id": "4fa20431-2414-48c9-8ce2-d7567b470e95",
   "metadata": {},
   "outputs": [],
   "source": [
    "small_test_expert_data = test_expert_data.iloc[:10].copy()"
   ]
  },
  {
   "cell_type": "code",
   "execution_count": 9,
   "id": "45f6daa8-8de8-46d1-a08a-04a2ec601c44",
   "metadata": {},
   "outputs": [],
   "source": [
    "unlabeled_data.rename(columns={'tweet_token':\"tweet_tokens\"}, inplace=True)"
   ]
  },
  {
   "cell_type": "code",
   "execution_count": 10,
   "id": "a5bbb57b-24de-4b7b-b815-b9b712ff2963",
   "metadata": {},
   "outputs": [],
   "source": [
    "unlabeled_data.rename(columns={'tweet_text':\"tweet\"},inplace=True)"
   ]
  },
  {
   "cell_type": "code",
   "execution_count": 11,
   "id": "c1529ccc-996a-4397-a1c5-130879276e4a",
   "metadata": {},
   "outputs": [],
   "source": [
    "unlabeled_data.rename(columns={'sentence_prediction':\"sentence_class\"}, inplace=True)"
   ]
  },
  {
   "cell_type": "code",
   "execution_count": 12,
   "id": "991e1c69-702e-47b5-b5c7-556fdcb5071a",
   "metadata": {},
   "outputs": [],
   "source": [
    "unlabeled_data['relevant_entity_label'] = unlabeled_data['token_prediction'].apply(lambda x: x.split(\",\"))"
   ]
  },
  {
   "cell_type": "code",
   "execution_count": 13,
   "id": "54e221c5-3740-4220-a4d9-1ea9381f6045",
   "metadata": {},
   "outputs": [
    {
     "data": {
      "text/plain": [
       "array(['O', 'B-other', 'I-other', 'B-food', 'I-food', 'B-loc',\n",
       "       'B-symptom', 'I-loc', 'I-symptom'], dtype=object)"
      ]
     },
     "execution_count": 13,
     "metadata": {},
     "output_type": "execute_result"
    }
   ],
   "source": [
    "train_expert_data['relevant_entity_label'].explode().unique()"
   ]
  },
  {
   "cell_type": "code",
   "execution_count": 14,
   "id": "82e37a97-9839-41ce-9283-e432b0406347",
   "metadata": {},
   "outputs": [
    {
     "data": {
      "text/plain": [
       "\"And then there was that time we woke up to great dane diarrhea all over our room......... 💀 \\rAnyone want a dog? She's real cute😇\""
      ]
     },
     "execution_count": 14,
     "metadata": {},
     "output_type": "execute_result"
    }
   ],
   "source": [
    "unlabeled_data.loc[204529]['tweet']"
   ]
  },
  {
   "cell_type": "code",
   "execution_count": 15,
   "id": "fd0c2870-df8c-49ff-9ba7-8f7b8f0aee25",
   "metadata": {},
   "outputs": [],
   "source": [
    "unlabeled_data.loc[unlabeled_data['tweet'].str.contains('\\r'), 'tweet'] = unlabeled_data['tweet'].loc[unlabeled_data['tweet'].str.contains('\\r')].str.replace('\\r', '')"
   ]
  },
  {
   "cell_type": "code",
   "execution_count": 16,
   "id": "25eb4d3a-5426-4fd3-bc0d-b0c91ccd8e09",
   "metadata": {},
   "outputs": [
    {
     "data": {
      "text/plain": [
       "False"
      ]
     },
     "execution_count": 16,
     "metadata": {},
     "output_type": "execute_result"
    }
   ],
   "source": [
    "unlabeled_data['tweet'].str.contains('\\r').any()"
   ]
  },
  {
   "cell_type": "code",
   "execution_count": 17,
   "id": "cc6a1bd4-d494-47fd-b916-c5a29b0b3137",
   "metadata": {},
   "outputs": [
    {
     "data": {
      "text/plain": [
       "\"And then there was that time we woke up to great dane diarrhea all over our room......... 💀 Anyone want a dog? She's real cute😇\""
      ]
     },
     "execution_count": 17,
     "metadata": {},
     "output_type": "execute_result"
    }
   ],
   "source": [
    "unlabeled_data.loc[204529]['tweet']"
   ]
  },
  {
   "cell_type": "code",
   "execution_count": 18,
   "id": "1149baf3-6808-4aaf-a9ca-53dedc250d35",
   "metadata": {},
   "outputs": [
    {
     "data": {
      "text/plain": [
       "count     50000\n",
       "unique        1\n",
       "top       False\n",
       "freq      50000\n",
       "Name: tweet, dtype: object"
      ]
     },
     "execution_count": 18,
     "metadata": {},
     "output_type": "execute_result"
    }
   ],
   "source": [
    "unlabeled_data['tweet'].apply(lambda x: '>' in x).describe()"
   ]
  },
  {
   "cell_type": "code",
   "execution_count": 19,
   "id": "159cc082-7834-4ca2-ab6a-6973f9e55994",
   "metadata": {},
   "outputs": [
    {
     "data": {
      "text/plain": [
       "count     50000\n",
       "unique        2\n",
       "top       False\n",
       "freq      49997\n",
       "Name: tweet, dtype: object"
      ]
     },
     "execution_count": 19,
     "metadata": {},
     "output_type": "execute_result"
    }
   ],
   "source": [
    "unlabeled_data['tweet'].apply(lambda x: '^^' in x).describe()"
   ]
  },
  {
   "cell_type": "code",
   "execution_count": 20,
   "id": "f87f6e53-a246-4611-92e1-23ba53e5c47b",
   "metadata": {},
   "outputs": [
    {
     "data": {
      "text/plain": [
       "<AxesSubplot: >"
      ]
     },
     "execution_count": 20,
     "metadata": {},
     "output_type": "execute_result"
    },
    {
     "data": {
      "image/png": "[encoded data removed]",
      "text/plain": [
       "<Figure size 640x480 with 1 Axes>"
      ]
     },
     "metadata": {},
     "output_type": "display_data"
    }
   ],
   "source": [
    "train_expert_data['tweet_tokens'].apply(len).hist()"
   ]
  },
  {
   "cell_type": "code",
   "execution_count": 21,
   "id": "4ef4753b-0d27-4dde-9505-03d737349e90",
   "metadata": {},
   "outputs": [
    {
     "data": {
      "text/plain": [
       "<AxesSubplot: >"
      ]
     },
     "execution_count": 21,
     "metadata": {},
     "output_type": "execute_result"
    },
    {
     "data": {
      "image/png": "[encoded data removed]",
      "text/plain": [
       "<Figure size 640x480 with 1 Axes>"
      ]
     },
     "metadata": {},
     "output_type": "display_data"
    }
   ],
   "source": [
    "test_expert_data['tweet_tokens'].apply(len).hist()"
   ]
  },
  {
   "cell_type": "code",
   "execution_count": 22,
   "id": "c720f1c1-64d0-45f5-8204-44f62082402c",
   "metadata": {},
   "outputs": [
    {
     "data": {
      "image/png": "[encoded data removed]",
      "text/plain": [
       "<Figure size 640x480 with 1 Axes>"
      ]
     },
     "metadata": {},
     "output_type": "display_data"
    }
   ],
   "source": [
    "plt.boxplot(train_expert_data['tweet_tokens'].apply(len))\n",
    "plt.show()"
   ]
  },
  {
   "cell_type": "code",
   "execution_count": 23,
   "id": "90e7cfcd-c5d1-4f70-9fcf-9da4a1e296f5",
   "metadata": {},
   "outputs": [
    {
     "data": {
      "image/png": "[encoded data removed]",
      "text/plain": [
       "<Figure size 640x480 with 1 Axes>"
      ]
     },
     "metadata": {},
     "output_type": "display_data"
    }
   ],
   "source": [
    "plt.boxplot(test_expert_data['tweet_tokens'].apply(len))\n",
    "plt.show()"
   ]
  },
  {
   "cell_type": "code",
   "execution_count": 24,
   "id": "cddf0a21-821d-4672-8276-ac40a3a47702",
   "metadata": {},
   "outputs": [
    {
     "data": {
      "text/plain": [
       "count    3298.000000\n",
       "mean       30.482717\n",
       "std        15.565096\n",
       "min         4.000000\n",
       "25%        18.000000\n",
       "50%        28.000000\n",
       "75%        41.000000\n",
       "max       113.000000\n",
       "Name: tweet_tokens, dtype: float64"
      ]
     },
     "execution_count": 24,
     "metadata": {},
     "output_type": "execute_result"
    }
   ],
   "source": [
    "train_expert_data['tweet_tokens'].apply(len).describe()"
   ]
  },
  {
   "cell_type": "code",
   "execution_count": 25,
   "id": "aa7de745-84cf-491a-add5-7af6be99560a",
   "metadata": {},
   "outputs": [
    {
     "data": {
      "text/plain": [
       "count    412.000000\n",
       "mean      30.864078\n",
       "std       15.392385\n",
       "min        5.000000\n",
       "25%       18.000000\n",
       "50%       28.000000\n",
       "75%       42.000000\n",
       "max       94.000000\n",
       "Name: tweet_tokens, dtype: float64"
      ]
     },
     "execution_count": 25,
     "metadata": {},
     "output_type": "execute_result"
    }
   ],
   "source": [
    "dev_expert_data['tweet_tokens'].apply(len).describe()"
   ]
  },
  {
   "cell_type": "code",
   "execution_count": 26,
   "id": "65ad4265-4227-46fc-9197-15f81a81f611",
   "metadata": {},
   "outputs": [
    {
     "data": {
      "text/plain": [
       "count    412.000000\n",
       "mean      30.779126\n",
       "std       15.780651\n",
       "min        5.000000\n",
       "25%       18.000000\n",
       "50%       27.000000\n",
       "75%       43.000000\n",
       "max       83.000000\n",
       "Name: tweet_tokens, dtype: float64"
      ]
     },
     "execution_count": 26,
     "metadata": {},
     "output_type": "execute_result"
    }
   ],
   "source": [
    "test_expert_data['tweet_tokens'].apply(len).describe()"
   ]
  },
  {
   "cell_type": "code",
   "execution_count": 27,
   "id": "0cfcf21a-9cc2-4cbb-a196-baa749737565",
   "metadata": {},
   "outputs": [
    {
     "name": "stdout",
     "output_type": "stream",
     "text": [
      "True\n",
      "True\n",
      "True\n",
      "True\n",
      "True\n",
      "True\n",
      "True\n",
      "True\n",
      "True\n"
     ]
    }
   ],
   "source": [
    "print((test_expert_data['tweet_tokens'].apply(len) == test_expert_data['relevant_entity_label'].apply(len)).all())\n",
    "print((test_mv_data['tweet_tokens'].apply(len) == test_mv_data['relevant_entity_label'].apply(len)).all())\n",
    "print((test_bsc_data['tweet_tokens'].apply(len) == test_bsc_data['relevant_entity_label'].apply(len)).all())\n",
    "\n",
    "print((train_expert_data['tweet_tokens'].apply(len) == train_expert_data['relevant_entity_label'].apply(len)).all())\n",
    "print((train_mv_data['tweet_tokens'].apply(len) == train_mv_data['relevant_entity_label'].apply(len)).all())\n",
    "print((train_bsc_data['tweet_tokens'].apply(len) == train_bsc_data['relevant_entity_label'].apply(len)).all())\n",
    "\n",
    "print((dev_expert_data['tweet_tokens'].apply(len) == dev_expert_data['relevant_entity_label'].apply(len)).all())\n",
    "print((dev_mv_data['tweet_tokens'].apply(len) == dev_mv_data['relevant_entity_label'].apply(len)).all())\n",
    "print((dev_bsc_data['tweet_tokens'].apply(len) == dev_bsc_data['relevant_entity_label'].apply(len)).all())"
   ]
  },
  {
   "cell_type": "code",
   "execution_count": 28,
   "id": "be1940a7-339b-4ce9-9391-bb8ae29a6d1c",
   "metadata": {},
   "outputs": [
    {
     "name": "stdout",
     "output_type": "stream",
     "text": [
      "True\n",
      "True\n",
      "True\n",
      "True\n",
      "True\n",
      "True\n"
     ]
    }
   ],
   "source": [
    "print((dev_bsc_data['tweet'] == dev_expert_data['tweet']).all() and (dev_bsc_data['tweet'] == dev_mv_data['tweet']).all())\n",
    "print((test_bsc_data['tweet'] == test_expert_data['tweet']).all() and (test_bsc_data['tweet'] == test_mv_data['tweet']).all())\n",
    "print((train_bsc_data['tweet'] == train_expert_data['tweet']).all() and (train_bsc_data['tweet'] == train_mv_data['tweet']).all())\n",
    "\n",
    "print((dev_bsc_data.index == dev_expert_data.index).all() and (dev_bsc_data.index == dev_mv_data.index).all())\n",
    "print((test_bsc_data.index == test_expert_data.index).all() and (test_bsc_data.index == test_mv_data.index).all())\n",
    "print((train_bsc_data.index == train_expert_data.index).all() and (train_bsc_data.index == train_mv_data.index).all())"
   ]
  },
  {
   "cell_type": "code",
   "execution_count": 29,
   "id": "f4dcf91c-c226-46b7-9617-0c1df47f06ff",
   "metadata": {},
   "outputs": [
    {
     "name": "stdout",
     "output_type": "stream",
     "text": [
      "False\n",
      "True\n",
      "False\n"
     ]
    }
   ],
   "source": [
    "print((dev_bsc_data['tweet_tokens'] == dev_expert_data['tweet_tokens']).all() and (dev_bsc_data['tweet_tokens'] == dev_mv_data['tweet_tokens']).all())\n",
    "print((test_bsc_data['tweet_tokens'] == test_expert_data['tweet_tokens']).all() and (test_bsc_data['tweet_tokens'] == test_mv_data['tweet_tokens']).all())\n",
    "print((train_bsc_data['tweet_tokens'] == train_expert_data['tweet_tokens']).all() and (train_bsc_data['tweet_tokens'] == train_mv_data['tweet_tokens']).all())"
   ]
  },
  {
   "cell_type": "code",
   "execution_count": 30,
   "id": "00a2aaa1-3b87-436e-9d88-34effc70b3d5",
   "metadata": {},
   "outputs": [
    {
     "name": "stdout",
     "output_type": "stream",
     "text": [
      "False\n",
      "False\n",
      "False\n",
      "False\n",
      "False\n",
      "False\n"
     ]
    }
   ],
   "source": [
    "print((train_mv_data['tweet_tokens'] == train_bsc_data['tweet_tokens']).all())\n",
    "print((train_mv_data['tweet_tokens'] == train_expert_data['tweet_tokens']).all())\n",
    "print((train_bsc_data['tweet_tokens'] == train_expert_data['tweet_tokens']).all())\n",
    "print((dev_mv_data['tweet_tokens'] == dev_expert_data['tweet_tokens']).all())\n",
    "print((dev_mv_data['tweet_tokens'] == dev_bsc_data['tweet_tokens']).all())\n",
    "print((dev_bsc_data['tweet_tokens'] == dev_expert_data['tweet_tokens']).all())"
   ]
  },
  {
   "cell_type": "code",
   "execution_count": 31,
   "id": "8139c571-9118-4565-b722-f0e059bd88e8",
   "metadata": {},
   "outputs": [
    {
     "name": "stdout",
     "output_type": "stream",
     "text": [
      "False\n",
      "False\n",
      "False\n",
      "False\n",
      "False\n",
      "False\n",
      "True\n",
      "True\n",
      "True\n"
     ]
    }
   ],
   "source": [
    "print((train_mv_data['relevant_entity_label'].apply(len) == train_bsc_data['relevant_entity_label'].apply(len)).all())\n",
    "print((train_mv_data['relevant_entity_label'].apply(len) == train_expert_data['relevant_entity_label'].apply(len)).all())\n",
    "print((train_bsc_data['relevant_entity_label'].apply(len) == train_expert_data['relevant_entity_label'].apply(len)).all())\n",
    "print((dev_mv_data['relevant_entity_label'].apply(len) == dev_expert_data['relevant_entity_label'].apply(len)).all())\n",
    "print((dev_mv_data['relevant_entity_label'].apply(len) == dev_bsc_data['relevant_entity_label'].apply(len)).all())\n",
    "print((dev_bsc_data['relevant_entity_label'].apply(len) == dev_expert_data['relevant_entity_label'].apply(len)).all())\n",
    "print((test_mv_data['relevant_entity_label'].apply(len) == test_expert_data['relevant_entity_label'].apply(len)).all())\n",
    "print((test_mv_data['relevant_entity_label'].apply(len) == test_bsc_data['relevant_entity_label'].apply(len)).all())\n",
    "print((test_bsc_data['relevant_entity_label'].apply(len) == test_expert_data['relevant_entity_label'].apply(len)).all())"
   ]
  },
  {
   "cell_type": "code",
   "execution_count": 32,
   "id": "040bb8a0-b04d-49af-9eb8-2c04d5b2c520",
   "metadata": {},
   "outputs": [
    {
     "name": "stdout",
     "output_type": "stream",
     "text": [
      "True\n",
      "True\n",
      "True\n"
     ]
    }
   ],
   "source": [
    "print((test_mv_data['relevant_entity_label'] == test_expert_data['relevant_entity_label']).all())\n",
    "print((test_mv_data['relevant_entity_label'] == test_bsc_data['relevant_entity_label']).all())\n",
    "print((test_bsc_data['relevant_entity_label'] == test_expert_data['relevant_entity_label']).all())"
   ]
  },
  {
   "cell_type": "code",
   "execution_count": 33,
   "id": "a14d107f-2eb1-403e-aa19-cc05c66b83f4",
   "metadata": {},
   "outputs": [
    {
     "name": "stdout",
     "output_type": "stream",
     "text": [
      "['I', 'know', 'my', 'tubes', 'tied', 'but', 'When', 'Mother', 'Nature', 'be', 'playing', 'I', 'give', 'my', 'stomach', 'a', 'extra', 'punch', 'just', 'in', 'case', 'cause', 'bitch', \"don't\", 'play', 'with', 'me', '🤨', '😒', '😭']\n",
      "['I', 'know', 'my', 'tubes', 'tied', 'but', 'When', 'Mother', 'Nature', 'be', 'playing', 'I', 'give', 'my', 'stomach', 'a', 'extra', 'punch', 'just', 'in', 'case', 'cause', 'bitch', \"don't\", 'play', 'with', 'me', '[', 'EMOJI_face_with_raised_eyebrow', ']', '[', 'EMOJI_unamused_face', ']', '[', 'EMOJI_loudly_crying_face', ']']\n",
      "['O', 'O', 'O', 'O', 'O', 'O', 'O', 'O', 'O', 'O', 'O', 'O', 'O', 'O', 'O', 'O', 'O', 'O', 'O', 'O', 'O', 'O', 'O', 'O', 'O', 'O', 'O', 'O', 'O', 'O']\n",
      "['O', 'O', 'O', 'O', 'O', 'O', 'O', 'O', 'O', 'O', 'O', 'O', 'O', 'O', 'O', 'O', 'O', 'O', 'O', 'O', 'O', 'O', 'O', 'O', 'O', 'O', 'O', 'O', 'O', 'O', 'O', 'O', 'O', 'O', 'O', 'O']\n"
     ]
    }
   ],
   "source": [
    "print(train_mv_data.loc[train_mv_data['tweet_tokens'] != train_bsc_data['tweet_tokens'], 'tweet_tokens'].iloc[0])\n",
    "\n",
    "print(train_bsc_data.loc[train_mv_data['tweet_tokens'] != train_bsc_data['tweet_tokens'], 'tweet_tokens'].iloc[0])\n",
    "\n",
    "print(train_mv_data.loc[train_mv_data['tweet_tokens'] != train_bsc_data['tweet_tokens'], 'relevant_entity_label'].iloc[0])\n",
    "\n",
    "print(train_bsc_data.loc[train_mv_data['tweet_tokens'] != train_bsc_data['tweet_tokens'], 'relevant_entity_label'].iloc[0])"
   ]
  },
  {
   "cell_type": "code",
   "execution_count": 34,
   "id": "fc3d558f-f590-4786-8479-c38e1a2d1462",
   "metadata": {},
   "outputs": [
    {
     "name": "stdout",
     "output_type": "stream",
     "text": [
      "['i', 'got', 'home', 'and', 'ate', 'dinner', 'so', 'mfing', 'fast', 'that', 'my', 'stomach', 'hurts', 'and', 'somehow', \"i'm\", 'still', '“hungry”', '?', '?', '?', 'this', \"ain't\", 'right']\n",
      "['i', 'got', 'home', 'and', 'ate', 'dinner', 'so', 'mfing', 'fast', 'that', 'my', 'stomach', 'hurts', 'and', 'somehow', \"i'm\", 'still', '“', 'hungry', '”', '?', '?', '?', 'this', \"ain't\", 'right']\n",
      "['O', 'O', 'O', 'O', 'O', 'O', 'O', 'O', 'O', 'O', 'O', 'O', 'O', 'O', 'O', 'O', 'O', 'O', 'O', 'O', 'O', 'O', 'O', 'O']\n",
      "['O', 'O', 'O', 'O', 'O', 'O', 'O', 'O', 'O', 'O', 'O', 'O', 'O', 'O', 'O', 'O', 'O', 'O', 'O', 'O', 'O', 'O', 'O', 'O', 'O', 'O', 'O', 'O', 'O', 'O']\n"
     ]
    }
   ],
   "source": [
    "print(train_expert_data.loc[train_expert_data['tweet_tokens'] != train_bsc_data['tweet_tokens'], 'tweet_tokens'].iloc[0])\n",
    "\n",
    "print(train_bsc_data.loc[train_expert_data['tweet_tokens'] != train_bsc_data['tweet_tokens'], 'tweet_tokens'].iloc[0])\n",
    "\n",
    "print(train_expert_data.loc[train_expert_data['tweet_tokens'] != train_bsc_data['tweet_tokens'], 'relevant_entity_label'].iloc[0])\n",
    "\n",
    "print(train_mv_data.loc[train_mv_data['tweet_tokens'] != train_bsc_data['tweet_tokens'], 'relevant_entity_label'].iloc[0])"
   ]
  },
  {
   "cell_type": "code",
   "execution_count": 35,
   "id": "2ffb7b68-6284-4b38-9b12-2564efc1216b",
   "metadata": {},
   "outputs": [],
   "source": [
    "short_train_index = train_expert_data.loc[train_expert_data['tweet_tokens'].apply(len) <= 41].index\n",
    "short_train_expert_data = train_expert_data.loc[short_train_index].copy()\n",
    "short_train_mv_data = train_mv_data.loc[short_train_index].copy()\n",
    "short_train_bsc_data = train_bsc_data.loc[short_train_index].copy()\n",
    "\n",
    "short_test_index = test_expert_data.loc[test_expert_data['tweet_tokens'].apply(len) <= 43].index\n",
    "short_test_expert_data_for_train = test_expert_data.loc[short_test_index].copy()\n",
    "short_test_mv_data_for_train = test_mv_data.loc[short_test_index].copy()\n",
    "short_test_bsc_data_for_train = test_bsc_data.loc[short_test_index].copy()\n",
    "\n",
    "short_dev_index = dev_expert_data.loc[dev_expert_data['tweet_tokens'].apply(len) <= 42].index\n",
    "short_dev_expert_data_for_train = dev_expert_data.loc[short_dev_index].copy()\n",
    "short_dev_mv_data_for_train = dev_mv_data.loc[short_dev_index].copy()\n",
    "short_dev_bsc_data_for_train = dev_bsc_data.loc[short_dev_index].copy()"
   ]
  },
  {
   "cell_type": "code",
   "execution_count": 36,
   "id": "efeafaea-b282-4d13-8ecf-1e5793ceab93",
   "metadata": {},
   "outputs": [],
   "source": [
    "train_dev_expert_data_for_test = pd.concat([train_expert_data, dev_expert_data])\n",
    "train_test_expert_data_for_test = pd.concat([train_expert_data, test_expert_data])\n",
    "\n",
    "train_expert_data_for_test = train_expert_data.copy()\n",
    "\n",
    "dev_expert_data_for_train = dev_expert_data.copy()\n",
    "dev_mv_data_for_train = dev_mv_data.copy()\n",
    "dev_bsc_data_for_train = dev_bsc_data.copy()\n",
    "\n",
    "test_expert_data_for_train = test_expert_data.copy()\n",
    "test_mv_data_for_train = test_mv_data.copy()\n",
    "test_bsc_data_for_train = test_bsc_data.copy()"
   ]
  },
  {
   "cell_type": "code",
   "execution_count": 37,
   "id": "167cbf85-d830-4667-b8ef-a141c1485675",
   "metadata": {},
   "outputs": [],
   "source": [
    "def get_labeled_text(labels, tokens, label_symbol, entity_type):\n",
    "    sym_len = len(label_symbol)\n",
    "    label_prefix, label_suffix = label_symbol[:sym_len//2], label_symbol[sym_len//2:]\n",
    "    labeled_tokens = []\n",
    "    flag = False\n",
    "    for label, token in zip(labels, tokens):\n",
    "        if label.startswith('B-'):\n",
    "            if flag:\n",
    "                last_token = labeled_tokens[-1]\n",
    "                last_token += label_suffix\n",
    "                labeled_tokens[-1] = last_token\n",
    "                flag = False\n",
    "            entity_label = label[2:]\n",
    "            if entity_label == entity_type:\n",
    "                token = label_prefix + token\n",
    "                flag = True\n",
    "            labeled_tokens.append(token)\n",
    "        elif label.startswith('I-'):\n",
    "            entity_label = label[2:]\n",
    "            if (not flag) and entity_label == entity_type:\n",
    "                warnings.warn('entity label does not start with \"B-\"', RuntimeWarning)\n",
    "                token = label_prefix + token\n",
    "                flag = True\n",
    "            elif flag and entity_label != entity_type:\n",
    "                warnings.warn('entity type mismatch within a multi-token entity', RuntimeWarning)\n",
    "            labeled_tokens.append(token)\n",
    "        else:\n",
    "            if flag:\n",
    "                last_token = labeled_tokens[-1]\n",
    "                last_token += label_suffix\n",
    "                labeled_tokens[-1] = last_token\n",
    "                flag = False\n",
    "            labeled_tokens.append(token)\n",
    "    if flag:\n",
    "        last_token = labeled_tokens[-1]\n",
    "        last_token += label_suffix\n",
    "        labeled_tokens[-1] = last_token\n",
    "        flag = False\n",
    "    return \" \".join(labeled_tokens)\n",
    "\n",
    "def convert_label_format(label):\n",
    "    if label == 1:\n",
    "        return 'Yes'\n",
    "    elif label == 0:\n",
    "        return 'No'\n",
    "    else:\n",
    "        return label\n",
    "\n",
    "def convert_entity_label(labels, tokens, return_type):\n",
    "    name_map = {'food': \"Food\", 'loc': \"Location\", 'symptom': \"Symptom\", 'other': \"Keyword\"}\n",
    "    entities = {v: [] for k, v in name_map.items()}\n",
    "    ind_end = []\n",
    "    current_entity = None\n",
    "    start_position = None\n",
    "\n",
    "    for i, label in enumerate(labels):\n",
    "        if label.startswith('B-'):\n",
    "            if current_entity is not None:\n",
    "                # Save the previous entity\n",
    "                entities[name_map[current_entity]].append(\" \".join(tokens[start_position: i]))\n",
    "                ind_end.append({\"Description\": name_map[current_entity], \"Text\": \" \".join(tokens[start_position: i])})\n",
    "            # Start a new entity\n",
    "            current_entity = label.split('-')[1]\n",
    "            start_position = i\n",
    "\n",
    "        elif label.startswith('I-') and current_entity is not None:\n",
    "            # Continue the current entity\n",
    "            continue\n",
    "\n",
    "        else:\n",
    "            # End of an entity\n",
    "            if current_entity is not None:\n",
    "                # Save the current entity\n",
    "                entities[name_map[current_entity]].append(' '.join(tokens[start_position: i]))\n",
    "                ind_end.append({\"Description\": name_map[current_entity], \"Text\": \" \".join(tokens[start_position: i])})\n",
    "                current_entity = None\n",
    "\n",
    "    # Check for the last entity\n",
    "    if current_entity is not None:\n",
    "        entities[name_map[current_entity]].append(' '.join(tokens[start_position: len(labels)]))\n",
    "        ind_end.append({\"Description\": name_map[current_entity], \"Text\": \" \".join(tokens[start_position: len(labels)])})\n",
    "\n",
    "    if return_type == 'dict':\n",
    "        return json.dumps(entities)\n",
    "    else:\n",
    "        return ind_end\n",
    "\n",
    "def check_entity_existence(labels, check_type):\n",
    "    labels = json.loads(labels)\n",
    "    for k, v in labels.items():\n",
    "        if check_type == 'all' or k == check_type:\n",
    "            if v:\n",
    "                return 'yes'\n",
    "    return 'no'\n",
    "    \n",
    "\n",
    "def convert_label_column(df, label_symbol, mode='train'):\n",
    "    df['sentence_class'] = df['sentence_class'].apply(lambda x: convert_label_format(x))\n",
    "    df['IndividualLabels'] = df[['relevant_entity_label', 'tweet_tokens']].apply(lambda x: convert_entity_label(x['relevant_entity_label'], x['tweet_tokens'], 'list'), axis=1)\n",
    "    df['CategorizedLabels'] = df[['relevant_entity_label', 'tweet_tokens']].apply(lambda x: convert_entity_label(x['relevant_entity_label'], x['tweet_tokens'], 'dict'), axis=1)\n",
    "    df['Food_answer'] = df[['relevant_entity_label', 'tweet_tokens']].apply(lambda x: get_labeled_text(x['relevant_entity_label'], x['tweet_tokens'], label_symbol, 'food'), axis=1)\n",
    "    df['Location_answer'] = df[['relevant_entity_label', 'tweet_tokens']].apply(lambda x: get_labeled_text(x['relevant_entity_label'], x['tweet_tokens'], label_symbol, 'loc'), axis=1)\n",
    "    df['Symptom_answer'] = df[['relevant_entity_label', 'tweet_tokens']].apply(lambda x: get_labeled_text(x['relevant_entity_label'], x['tweet_tokens'], label_symbol, 'symptom'), axis=1)\n",
    "    df['Keyword_answer'] = df[['relevant_entity_label', 'tweet_tokens']].apply(lambda x: get_labeled_text(x['relevant_entity_label'], x['tweet_tokens'], label_symbol, 'other'), axis=1)\n",
    "    for et in [\"Food\", \"Location\", \"Symptom\", \"Keyword\", \"all\"]:\n",
    "        df[f'has_{et}'] = df['CategorizedLabels'].apply(lambda x: check_entity_existence(x, et))\n",
    "    df['context'] = df['tweet_tokens'].apply(lambda x: \" \".join(x))\n",
    "    if mode == 'train':\n",
    "        df['sentence_explanation'] = df[['CategorizedLabels', 'sentence_class']].apply(lambda x: generate_explanation_prediction(x['CategorizedLabels'], x['sentence_class']), axis=1)\n",
    "        df['entity_explanation'] = df[['CategorizedLabels', 'sentence_class']].apply(lambda x: generate_aggregated_word_explanation(x['CategorizedLabels'], x['sentence_class']), axis=1)\n",
    "        df['sentence_explanation_prediction'] = df[['CategorizedLabels', 'sentence_class']].apply(lambda x: generate_explanation_prediction(x['CategorizedLabels'], x['sentence_class']), axis=1)\n",
    "        df['word_explanation'] = df['sentence_class'].apply(generate_word_explanation)\n",
    "        df['word_explanation_prediction'] = df['sentence_class'].apply(generate_word_explanation_prediction)\n",
    "        df[['Food_explanation', 'Location_explanation', 'Symptom_explanation', 'Keyword_explanation']] = df[['CategorizedLabels']].apply(lambda x: generate_entity_explanation(x['CategorizedLabels']), axis=1, result_type='expand')\n",
    "        df[['Two_step_Food_explanation', 'Two_step_Location_explanation', 'Two_step_Symptom_explanation', 'Two_step_Keyword_explanation']] = df[['sentence_class', 'CategorizedLabels']].apply(lambda x: generate_word_entity_explanation(x['sentence_class'], x['CategorizedLabels']), axis=1, result_type='expand')\n",
    "        df[['sentence_check_reference', 'sentence_check_explanation', 'sentence_check_class']] = df[['CategorizedLabels', 'tweet_tokens', 'sentence_class']].apply(lambda x: generate_check_refer_ans(x['CategorizedLabels'], x['tweet_tokens'], x['sentence_class']), axis=1, result_type='expand')\n",
    "        df[['dummy_sentence_check_reference', 'dummy_sentence_check_explanation', 'dummy_sentence_check_class']] = df[['CategorizedLabels', 'tweet_tokens', 'sentence_class']].apply(lambda x: generate_dummy_check_refer_ans(x['CategorizedLabels'], x['tweet_tokens'], x['sentence_class']), axis=1, result_type='expand')\n",
    "    else:\n",
    "        df['sentence_explanation'] = df[['CategorizedLabels', 'sentence_class']].apply(lambda x: generate_explanation_prediction(x['CategorizedLabels'], x['sentence_class']), axis=1)\n",
    "        df['word_explanation'] = df['sentence_class'].apply(generate_word_explanation)"
   ]
  },
  {
   "cell_type": "code",
   "execution_count": 38,
   "id": "1d98a61c-2f55-4869-933a-89bab3c4cc28",
   "metadata": {},
   "outputs": [],
   "source": [
    "random.seed(1)"
   ]
  },
  {
   "cell_type": "code",
   "execution_count": 39,
   "id": "64d29590-a4f8-48b3-95fe-12e916cef034",
   "metadata": {},
   "outputs": [
    {
     "name": "stderr",
     "output_type": "stream",
     "text": [
      "/scratch/dzhang5/LLM/utils.py:185: UserWarning: This text is labeled as indicating foodborne illness but no word is labeled related to foodborne illness\n",
      "  warnings.warn(\"This text is labeled as indicating foodborne illness but \"\n",
      "/scratch/dzhang5/LLM/utils.py:185: UserWarning: This text is labeled as indicating foodborne illness but no word is labeled related to foodborne illness\n",
      "  warnings.warn(\"This text is labeled as indicating foodborne illness but \"\n",
      "/scratch/dzhang5/LLM/utils.py:185: UserWarning: This text is labeled as indicating foodborne illness but no word is labeled related to foodborne illness\n",
      "  warnings.warn(\"This text is labeled as indicating foodborne illness but \"\n",
      "/scratch/dzhang5/LLM/utils.py:185: UserWarning: This text is labeled as indicating foodborne illness but no word is labeled related to foodborne illness\n",
      "  warnings.warn(\"This text is labeled as indicating foodborne illness but \"\n",
      "/tmp/ipykernel_2970633/989393008.py:21: RuntimeWarning: entity label does not start with \"B-\"\n",
      "  warnings.warn('entity label does not start with \"B-\"', RuntimeWarning)\n",
      "/tmp/ipykernel_2970633/989393008.py:25: RuntimeWarning: entity type mismatch within a multi-token entity\n",
      "  warnings.warn('entity type mismatch within a multi-token entity', RuntimeWarning)\n",
      "/tmp/ipykernel_2970633/989393008.py:21: RuntimeWarning: entity label does not start with \"B-\"\n",
      "  warnings.warn('entity label does not start with \"B-\"', RuntimeWarning)\n",
      "/tmp/ipykernel_2970633/989393008.py:25: RuntimeWarning: entity type mismatch within a multi-token entity\n",
      "  warnings.warn('entity type mismatch within a multi-token entity', RuntimeWarning)\n",
      "/tmp/ipykernel_2970633/989393008.py:21: RuntimeWarning: entity label does not start with \"B-\"\n",
      "  warnings.warn('entity label does not start with \"B-\"', RuntimeWarning)\n",
      "/tmp/ipykernel_2970633/989393008.py:25: RuntimeWarning: entity type mismatch within a multi-token entity\n",
      "  warnings.warn('entity type mismatch within a multi-token entity', RuntimeWarning)\n",
      "/tmp/ipykernel_2970633/989393008.py:25: RuntimeWarning: entity type mismatch within a multi-token entity\n",
      "  warnings.warn('entity type mismatch within a multi-token entity', RuntimeWarning)\n",
      "/tmp/ipykernel_2970633/989393008.py:21: RuntimeWarning: entity label does not start with \"B-\"\n",
      "  warnings.warn('entity label does not start with \"B-\"', RuntimeWarning)\n",
      "/scratch/dzhang5/LLM/utils.py:168: UserWarning: This text is labeled as not indicating foodborne illness but some words are labeled related to foodborne illness\n",
      "  warnings.warn(\"This text is labeled as not indicating foodborne illness but \"\n",
      "/scratch/dzhang5/LLM/utils.py:185: UserWarning: This text is labeled as indicating foodborne illness but no word is labeled related to foodborne illness\n",
      "  warnings.warn(\"This text is labeled as indicating foodborne illness but \"\n",
      "/scratch/dzhang5/LLM/utils.py:185: UserWarning: This text is labeled as indicating foodborne illness but no word is labeled related to foodborne illness\n",
      "  warnings.warn(\"This text is labeled as indicating foodborne illness but \"\n",
      "/scratch/dzhang5/LLM/utils.py:185: UserWarning: This text is labeled as indicating foodborne illness but no word is labeled related to foodborne illness\n",
      "  warnings.warn(\"This text is labeled as indicating foodborne illness but \"\n",
      "/scratch/dzhang5/LLM/utils.py:185: UserWarning: This text is labeled as indicating foodborne illness but no word is labeled related to foodborne illness\n",
      "  warnings.warn(\"This text is labeled as indicating foodborne illness but \"\n",
      "/scratch/dzhang5/LLM/utils.py:185: UserWarning: This text is labeled as indicating foodborne illness but no word is labeled related to foodborne illness\n",
      "  warnings.warn(\"This text is labeled as indicating foodborne illness but \"\n",
      "/scratch/dzhang5/LLM/utils.py:185: UserWarning: This text is labeled as indicating foodborne illness but no word is labeled related to foodborne illness\n",
      "  warnings.warn(\"This text is labeled as indicating foodborne illness but \"\n",
      "/scratch/dzhang5/LLM/utils.py:185: UserWarning: This text is labeled as indicating foodborne illness but no word is labeled related to foodborne illness\n",
      "  warnings.warn(\"This text is labeled as indicating foodborne illness but \"\n"
     ]
    }
   ],
   "source": [
    "convert_label_column(train_mv_data, label_symbol, 'train')\n",
    "convert_label_column(train_expert_data, label_symbol, 'train')\n",
    "convert_label_column(train_bsc_data, label_symbol, 'train')\n",
    "convert_label_column(unlabeled_data, label_symbol, 'test')\n",
    "convert_label_column(test_expert_data, label_symbol, 'test')\n",
    "convert_label_column(dev_expert_data, label_symbol, 'dev')\n",
    "convert_label_column(dev_bsc_data, label_symbol, 'dev')\n",
    "convert_label_column(dev_mv_data, label_symbol, 'dev')\n",
    "convert_label_column(small_test_expert_data, label_symbol, 'test')\n",
    "convert_label_column(short_train_expert_data, label_symbol, 'train')\n",
    "convert_label_column(short_train_mv_data, label_symbol, 'train')\n",
    "convert_label_column(short_train_bsc_data, label_symbol, 'train')"
   ]
  },
  {
   "cell_type": "code",
   "execution_count": 40,
   "id": "d1763547-822a-49ba-81a1-e45d2312e780",
   "metadata": {},
   "outputs": [
    {
     "name": "stderr",
     "output_type": "stream",
     "text": [
      "/scratch/dzhang5/LLM/utils.py:185: UserWarning: This text is labeled as indicating foodborne illness but no word is labeled related to foodborne illness\n",
      "  warnings.warn(\"This text is labeled as indicating foodborne illness but \"\n",
      "/scratch/dzhang5/LLM/utils.py:185: UserWarning: This text is labeled as indicating foodborne illness but no word is labeled related to foodborne illness\n",
      "  warnings.warn(\"This text is labeled as indicating foodborne illness but \"\n",
      "/scratch/dzhang5/LLM/utils.py:185: UserWarning: This text is labeled as indicating foodborne illness but no word is labeled related to foodborne illness\n",
      "  warnings.warn(\"This text is labeled as indicating foodborne illness but \"\n",
      "/scratch/dzhang5/LLM/utils.py:185: UserWarning: This text is labeled as indicating foodborne illness but no word is labeled related to foodborne illness\n",
      "  warnings.warn(\"This text is labeled as indicating foodborne illness but \"\n",
      "/scratch/dzhang5/LLM/utils.py:185: UserWarning: This text is labeled as indicating foodborne illness but no word is labeled related to foodborne illness\n",
      "  warnings.warn(\"This text is labeled as indicating foodborne illness but \"\n",
      "/scratch/dzhang5/LLM/utils.py:185: UserWarning: This text is labeled as indicating foodborne illness but no word is labeled related to foodborne illness\n",
      "  warnings.warn(\"This text is labeled as indicating foodborne illness but \"\n",
      "/scratch/dzhang5/LLM/utils.py:185: UserWarning: This text is labeled as indicating foodborne illness but no word is labeled related to foodborne illness\n",
      "  warnings.warn(\"This text is labeled as indicating foodborne illness but \"\n",
      "/scratch/dzhang5/LLM/utils.py:185: UserWarning: This text is labeled as indicating foodborne illness but no word is labeled related to foodborne illness\n",
      "  warnings.warn(\"This text is labeled as indicating foodborne illness but \"\n"
     ]
    }
   ],
   "source": [
    "convert_label_column(short_dev_expert_data_for_train, label_symbol, 'train')\n",
    "convert_label_column(short_dev_mv_data_for_train, label_symbol, 'train')\n",
    "convert_label_column(short_dev_bsc_data_for_train, label_symbol, 'train')\n",
    "convert_label_column(short_test_expert_data_for_train, label_symbol, 'train')\n",
    "convert_label_column(short_test_mv_data_for_train, label_symbol, 'train')\n",
    "convert_label_column(short_test_bsc_data_for_train, label_symbol, 'train')\n",
    "\n",
    "convert_label_column(dev_expert_data_for_train, label_symbol, 'train')\n",
    "convert_label_column(dev_mv_data_for_train, label_symbol, 'train')\n",
    "convert_label_column(dev_bsc_data_for_train, label_symbol, 'train')\n",
    "convert_label_column(test_expert_data_for_train, label_symbol, 'train')\n",
    "convert_label_column(test_mv_data_for_train, label_symbol, 'train')\n",
    "convert_label_column(test_bsc_data_for_train, label_symbol, 'train')\n",
    "\n",
    "convert_label_column(train_dev_expert_data_for_test, label_symbol, 'test')\n",
    "convert_label_column(train_test_expert_data_for_test, label_symbol, 'test')\n",
    "convert_label_column(train_expert_data_for_test, label_symbol, 'test')"
   ]
  },
  {
   "cell_type": "code",
   "execution_count": 41,
   "id": "2f9968fd-9e0d-4217-a449-6272562cc2a0",
   "metadata": {},
   "outputs": [
    {
     "data": {
      "text/plain": [
       "has_Food\n",
       "no     287\n",
       "yes     24\n",
       "Name: count, dtype: int64"
      ]
     },
     "execution_count": 41,
     "metadata": {},
     "output_type": "execute_result"
    }
   ],
   "source": [
    "short_dev_expert_data_for_train['has_Food'].value_counts()"
   ]
  },
  {
   "cell_type": "code",
   "execution_count": 42,
   "id": "13fb5d16-9b99-4600-ba78-921519aef3f7",
   "metadata": {},
   "outputs": [
    {
     "data": {
      "text/plain": [
       "has_Food\n",
       "no     278\n",
       "yes     33\n",
       "Name: count, dtype: int64"
      ]
     },
     "execution_count": 42,
     "metadata": {},
     "output_type": "execute_result"
    }
   ],
   "source": [
    "short_dev_mv_data_for_train['has_Food'].value_counts()"
   ]
  },
  {
   "cell_type": "code",
   "execution_count": 43,
   "id": "dfaa7875-2116-46c7-b1bd-7a3c5f069b4c",
   "metadata": {},
   "outputs": [
    {
     "data": {
      "text/plain": [
       "True"
      ]
     },
     "execution_count": 43,
     "metadata": {},
     "output_type": "execute_result"
    }
   ],
   "source": [
    "len(short_dev_expert_data_for_train) == len(short_dev_mv_data_for_train) == len(short_dev_bsc_data_for_train) "
   ]
  },
  {
   "cell_type": "code",
   "execution_count": 44,
   "id": "301e9569-bed1-4e02-bb9c-24a2e89f421b",
   "metadata": {
    "tags": []
   },
   "outputs": [
    {
     "data": {
      "text/plain": [
       "Index(['related_label', 'relevance_entity_class_label'], dtype='object')"
      ]
     },
     "execution_count": 44,
     "metadata": {},
     "output_type": "execute_result"
    }
   ],
   "source": [
    "short_dev_mv_data_for_train.columns.difference(short_dev_bsc_data_for_train.columns)"
   ]
  },
  {
   "cell_type": "code",
   "execution_count": 45,
   "id": "72c74e3d-7bea-4257-b169-faccdf63a41b",
   "metadata": {},
   "outputs": [],
   "source": [
    "name_list = [train_mv_name, train_expert_name, train_bsc_name, short_train_mv_name, short_train_expert_name, short_train_bsc_name]\n",
    "data_list = [train_mv_data, train_expert_data, train_bsc_data, short_train_mv_data, short_train_expert_data, short_train_bsc_data]\n",
    "for the_name, the_data in zip(name_list, data_list):\n",
    "    output_path = os.path.join(output_dir, the_name.replace('mrc-ner.', '') + '.csv')\n",
    "    the_data.to_csv(output_path, index=False)\n",
    "    the_data.to_pickle(output_path.replace('.csv', '.pkl'))"
   ]
  },
  {
   "cell_type": "code",
   "execution_count": 46,
   "id": "6259038a-d2e0-4d39-97f2-69f434b41a32",
   "metadata": {},
   "outputs": [],
   "source": [
    "name_list = [test_expert_name, dev_expert_name, dev_bsc_name, dev_mv_name, unlabeled_name, small_test_expert_name]\n",
    "data_list = [test_expert_data, dev_expert_data, dev_bsc_data, dev_mv_data, unlabeled_data, small_test_expert_data]\n",
    "for the_name, the_data in zip(name_list, data_list):\n",
    "    output_path = os.path.join(output_dir, the_name.replace('mrc-ner.', '') + '.csv')\n",
    "    the_data.to_csv(output_path, index=False)\n",
    "    the_data.to_pickle(output_path.replace('.csv', '.pkl'))"
   ]
  },
  {
   "cell_type": "code",
   "execution_count": 47,
   "id": "e367b199-1647-4a12-8621-c8f7d18e3888",
   "metadata": {},
   "outputs": [],
   "source": [
    "name_list = [short_dev_expert_for_train_name, short_dev_mv_for_train_name, short_dev_bsc_for_train_name]\n",
    "data_list = [short_dev_expert_data_for_train, short_dev_mv_data_for_train, short_dev_bsc_data_for_train]\n",
    "for the_name, the_data in zip(name_list, data_list):\n",
    "    output_path = os.path.join(output_dir, the_name.replace('mrc-ner.', '1.0.') + '.csv')\n",
    "    the_data.to_csv(output_path, index=False)\n",
    "    the_data.to_pickle(output_path.replace('.csv', '.pkl'))\n",
    "    half_path = os.path.join(output_dir, the_name.replace('mrc-ner.', '0.5.') + '.csv')\n",
    "    half_data = the_data.sample(frac=0.5, replace=False, random_state=1)\n",
    "    half_data.to_csv(half_path, index=False)\n",
    "    half_data.to_pickle(half_path.replace('.csv', '.pkl'))\n",
    "    quar_path = os.path.join(output_dir, the_name.replace('mrc-ner.', '0.25.') + '.csv')\n",
    "    quar_data = the_data.sample(frac=0.25, replace=False, random_state=1)\n",
    "    quar_data.to_csv(quar_path, index=False)\n",
    "    quar_data.to_pickle(quar_path.replace('.csv', '.pkl'))\n",
    "    eigh_path = os.path.join(output_dir, the_name.replace('mrc-ner.', '0.125.') + '.csv')\n",
    "    eigh_data = the_data.sample(frac=0.125, replace=False, random_state=1)\n",
    "    eigh_data.to_csv(eigh_path, index=False)\n",
    "    eigh_data.to_pickle(eigh_path.replace('.csv', '.pkl'))\n",
    "    sixt_path = os.path.join(output_dir, the_name.replace('mrc-ner.', '0.0625.') + '.csv')\n",
    "    sixt_data = the_data.sample(frac=0.0625, replace=False, random_state=1)\n",
    "    sixt_data.to_csv(sixt_path, index=False)\n",
    "    sixt_data.to_pickle(sixt_path.replace('.csv', '.pkl'))\n",
    "    thir_path = os.path.join(output_dir, the_name.replace('mrc-ner.', '0.03125.') + '.csv')\n",
    "    thir_data = the_data.sample(frac=0.03125, replace=False, random_state=1)\n",
    "    thir_data.to_csv(thir_path, index=False)\n",
    "    thir_data.to_pickle(thir_path.replace('.csv', '.pkl'))"
   ]
  },
  {
   "cell_type": "code",
   "execution_count": 48,
   "id": "26b63ae9-3427-427b-a93f-9bfe799042e1",
   "metadata": {},
   "outputs": [],
   "source": [
    "name_list = [dev_expert_for_train_name, dev_mv_for_train_name, dev_bsc_for_train_name]\n",
    "data_list = [dev_expert_data_for_train, dev_mv_data_for_train, dev_bsc_data_for_train]\n",
    "for the_name, the_data in zip(name_list, data_list):\n",
    "    output_path = os.path.join(output_dir, the_name.replace('mrc-ner.', '1.0.') + '.csv')\n",
    "    the_data.to_csv(output_path, index=False)\n",
    "    the_data.to_pickle(output_path.replace('.csv', '.pkl'))\n",
    "    half_path = os.path.join(output_dir, the_name.replace('mrc-ner.', '0.5.') + '.csv')\n",
    "    half_data = the_data.sample(frac=0.5, replace=False, random_state=1)\n",
    "    half_data.to_csv(half_path, index=False)\n",
    "    half_data.to_pickle(half_path.replace('.csv', '.pkl'))\n",
    "    quar_path = os.path.join(output_dir, the_name.replace('mrc-ner.', '0.25.') + '.csv')\n",
    "    quar_data = the_data.sample(frac=0.25, replace=False, random_state=1)\n",
    "    quar_data.to_csv(quar_path, index=False)\n",
    "    quar_data.to_pickle(quar_path.replace('.csv', '.pkl'))\n",
    "    eigh_path = os.path.join(output_dir, the_name.replace('mrc-ner.', '0.125.') + '.csv')\n",
    "    eigh_data = the_data.sample(frac=0.125, replace=False, random_state=1)\n",
    "    eigh_data.to_csv(eigh_path, index=False)\n",
    "    eigh_data.to_pickle(eigh_path.replace('.csv', '.pkl'))\n",
    "    sixt_path = os.path.join(output_dir, the_name.replace('mrc-ner.', '0.0625.') + '.csv')\n",
    "    sixt_data = the_data.sample(frac=0.0625, replace=False, random_state=1)\n",
    "    sixt_data.to_csv(sixt_path, index=False)\n",
    "    sixt_data.to_pickle(sixt_path.replace('.csv', '.pkl'))\n",
    "    thir_path = os.path.join(output_dir, the_name.replace('mrc-ner.', '0.03125.') + '.csv')\n",
    "    thir_data = the_data.sample(frac=0.03125, replace=False, random_state=1)\n",
    "    thir_data.to_csv(thir_path, index=False)\n",
    "    thir_data.to_pickle(thir_path.replace('.csv', '.pkl'))"
   ]
  },
  {
   "cell_type": "code",
   "execution_count": 49,
   "id": "2ea9af44-8cb9-4086-8fa1-f9831b56bcb2",
   "metadata": {},
   "outputs": [],
   "source": [
    "name_list = [short_test_expert_for_train_name, short_test_mv_for_train_name, short_test_bsc_for_train_name]\n",
    "data_list = [short_test_expert_data_for_train, short_test_mv_data_for_train, short_test_bsc_data_for_train]\n",
    "for the_name, the_data in zip(name_list, data_list):\n",
    "    output_path = os.path.join(output_dir, the_name.replace('mrc-ner.', '1.0.') + '.csv')\n",
    "    the_data.to_csv(output_path, index=False)\n",
    "    the_data.to_pickle(output_path.replace('.csv', '.pkl'))\n",
    "    half_path = os.path.join(output_dir, the_name.replace('mrc-ner.', '0.5.') + '.csv')\n",
    "    half_data = the_data.sample(frac=0.5, replace=False, random_state=1)\n",
    "    half_data.to_csv(half_path, index=False)\n",
    "    half_data.to_pickle(half_path.replace('.csv', '.pkl'))\n",
    "    quar_path = os.path.join(output_dir, the_name.replace('mrc-ner.', '0.25.') + '.csv')\n",
    "    quar_data = the_data.sample(frac=0.25, replace=False, random_state=1)\n",
    "    quar_data.to_csv(quar_path, index=False)\n",
    "    quar_data.to_pickle(quar_path.replace('.csv', '.pkl'))\n",
    "    eigh_path = os.path.join(output_dir, the_name.replace('mrc-ner.', '0.125.') + '.csv')\n",
    "    eigh_data = the_data.sample(frac=0.125, replace=False, random_state=1)\n",
    "    eigh_data.to_csv(eigh_path, index=False)\n",
    "    eigh_data.to_pickle(eigh_path.replace('.csv', '.pkl'))\n",
    "    sixt_path = os.path.join(output_dir, the_name.replace('mrc-ner.', '0.0625.') + '.csv')\n",
    "    sixt_data = the_data.sample(frac=0.0625, replace=False, random_state=1)\n",
    "    sixt_data.to_csv(sixt_path, index=False)\n",
    "    sixt_data.to_pickle(sixt_path.replace('.csv', '.pkl'))\n",
    "    thir_path = os.path.join(output_dir, the_name.replace('mrc-ner.', '0.03125.') + '.csv')\n",
    "    thir_data = the_data.sample(frac=0.03125, replace=False, random_state=1)\n",
    "    thir_data.to_csv(thir_path, index=False)\n",
    "    thir_data.to_pickle(thir_path.replace('.csv', '.pkl'))"
   ]
  },
  {
   "cell_type": "code",
   "execution_count": 50,
   "id": "bb6678d2-c3e5-4047-8013-4b06a4a32b1a",
   "metadata": {},
   "outputs": [],
   "source": [
    "name_list = [test_expert_for_train_name, test_mv_for_train_name, test_bsc_for_train_name]\n",
    "data_list = [test_expert_data_for_train, test_mv_data_for_train, test_bsc_data_for_train]\n",
    "for the_name, the_data in zip(name_list, data_list):\n",
    "    output_path = os.path.join(output_dir, the_name.replace('mrc-ner.', '1.0.') + '.csv')\n",
    "    the_data.to_csv(output_path, index=False)\n",
    "    the_data.to_pickle(output_path.replace('.csv', '.pkl'))\n",
    "    half_path = os.path.join(output_dir, the_name.replace('mrc-ner.', '0.5.') + '.csv')\n",
    "    half_data = the_data.sample(frac=0.5, replace=False, random_state=1)\n",
    "    half_data.to_csv(half_path, index=False)\n",
    "    half_data.to_pickle(half_path.replace('.csv', '.pkl'))\n",
    "    quar_path = os.path.join(output_dir, the_name.replace('mrc-ner.', '0.25.') + '.csv')\n",
    "    quar_data = the_data.sample(frac=0.25, replace=False, random_state=1)\n",
    "    quar_data.to_csv(quar_path, index=False)\n",
    "    quar_data.to_pickle(quar_path.replace('.csv', '.pkl'))\n",
    "    eigh_path = os.path.join(output_dir, the_name.replace('mrc-ner.', '0.125.') + '.csv')\n",
    "    eigh_data = the_data.sample(frac=0.125, replace=False, random_state=1)\n",
    "    eigh_data.to_csv(eigh_path, index=False)\n",
    "    eigh_data.to_pickle(eigh_path.replace('.csv', '.pkl'))\n",
    "    sixt_path = os.path.join(output_dir, the_name.replace('mrc-ner.', '0.0625.') + '.csv')\n",
    "    sixt_data = the_data.sample(frac=0.0625, replace=False, random_state=1)\n",
    "    sixt_data.to_csv(sixt_path, index=False)\n",
    "    sixt_data.to_pickle(sixt_path.replace('.csv', '.pkl'))\n",
    "    thir_path = os.path.join(output_dir, the_name.replace('mrc-ner.', '0.03125.') + '.csv')\n",
    "    thir_data = the_data.sample(frac=0.03125, replace=False, random_state=1)\n",
    "    thir_data.to_csv(thir_path, index=False)\n",
    "    thir_data.to_pickle(thir_path.replace('.csv', '.pkl'))"
   ]
  },
  {
   "cell_type": "code",
   "execution_count": 51,
   "id": "010d0bef-b712-4307-b7dd-32b603b4ca0e",
   "metadata": {},
   "outputs": [],
   "source": [
    "name_list = [train_dev_expert_for_test_name, train_test_expert_for_test_name, train_expert_for_test_name]\n",
    "data_list = [train_dev_expert_data_for_test, train_test_expert_data_for_test, train_expert_data_for_test]\n",
    "for the_name, the_data in zip(name_list, data_list):\n",
    "    output_path = os.path.join(output_dir, the_name.replace('mrc-ner.', '') + '.csv')\n",
    "    the_data.to_csv(output_path, index=False)\n",
    "    the_data.to_pickle(output_path.replace('.csv', '.pkl'))"
   ]
  },
  {
   "cell_type": "code",
   "execution_count": 52,
   "id": "5970b6c3-62c8-4353-a6f7-83df46d74413",
   "metadata": {},
   "outputs": [],
   "source": [
    "for i in range(20):\n",
    "    batch_data = unlabeled_data.iloc[i*2500:(i+1)*2500]\n",
    "    batch_un_path = os.path.join(output_dir, f'unlabeled-{i+1}' + '.csv')\n",
    "    batch_data.to_csv(batch_un_path, index=False)"
   ]
  },
  {
   "cell_type": "code",
   "execution_count": 53,
   "id": "a242dd9e-f330-459d-afcc-4fd7ee302227",
   "metadata": {
    "tags": []
   },
   "outputs": [],
   "source": [
    "def get_verify_df(df):\n",
    "    df = df.copy()\n",
    "    return_list = []\n",
    "    for entity_type in [\"Food\", \"Location\", \"Symptom\", \"Keyword\"]:\n",
    "        df[[f'{entity_type}_verify_question', f'{entity_type}_verify_answer', f'{entity_type}_verify_explanation']] = df[[f'has_{entity_type}','tweet_tokens', 'CategorizedLabels']].apply(lambda x: get_verification_label(x[f'has_{entity_type}'], x['tweet_tokens'], x['CategorizedLabels'], entity_type), axis=1, result_type=\"expand\")\n",
    "        s_list, q_list, a_list, es_list, ex_list = [], [], [], [], []\n",
    "        for i in range(len(df)):\n",
    "            sq_list = df[f'{entity_type}_verify_question'].iloc[i]\n",
    "            sa_list = df[f'{entity_type}_verify_answer'].iloc[i]\n",
    "            sen = df['context'].iloc[i]\n",
    "            es = df[f'has_{entity_type}'].iloc[i]\n",
    "            sex_list = df[f'{entity_type}_verify_explanation'].iloc[i]\n",
    "            for q, a, ex in zip(sq_list, sa_list, sex_list):\n",
    "                q_list.append(q)\n",
    "                a_list.append(a)\n",
    "                s_list.append(sen)\n",
    "                es_list.append(es)\n",
    "                ex_list.append(ex)\n",
    "        return_list.append(pd.DataFrame({'context':s_list, f'{entity_type}_verify_question':q_list, f'{entity_type}_verify_answer':a_list, f'{entity_type}_verify_explanation':ex_list, f'has_{entity_type}':es_list}))\n",
    "    return return_list"
   ]
  },
  {
   "cell_type": "code",
   "execution_count": 54,
   "id": "1ef9e1c9-84c9-4f03-9bf2-e396c7081180",
   "metadata": {},
   "outputs": [],
   "source": [
    "random.seed(1)"
   ]
  },
  {
   "cell_type": "code",
   "execution_count": 55,
   "id": "472a690b-2317-4060-9e26-17d31b37e2c8",
   "metadata": {},
   "outputs": [],
   "source": [
    "verify_short_train_expert_list = get_verify_df(short_train_expert_data)\n",
    "verify_short_train_mv_list = get_verify_df(short_train_mv_data)\n",
    "verify_short_train_bsc_list = get_verify_df(short_train_bsc_data)\n",
    "verify_train_mv_list = get_verify_df(train_mv_data)\n",
    "verify_train_bsc_list = get_verify_df(train_bsc_data)\n",
    "verify_train_expert_list = get_verify_df(train_expert_data)"
   ]
  },
  {
   "cell_type": "code",
   "execution_count": 56,
   "id": "c6478c93-058e-4f8a-8d53-ed6b4bc8c79e",
   "metadata": {},
   "outputs": [],
   "source": [
    "verify_short_dev_expert_for_train_list = get_verify_df(short_dev_expert_data_for_train)\n",
    "verify_short_dev_mv_for_train_list = get_verify_df(short_dev_mv_data_for_train)\n",
    "verify_short_dev_bsc_for_train_list = get_verify_df(short_dev_bsc_data_for_train)\n",
    "\n",
    "verify_dev_mv_for_train_list = get_verify_df(dev_mv_data_for_train)\n",
    "verify_dev_bsc_for_train_list = get_verify_df(dev_bsc_data_for_train)\n",
    "verify_dev_expert_for_train_list = get_verify_df(dev_expert_data_for_train)"
   ]
  },
  {
   "cell_type": "code",
   "execution_count": 57,
   "id": "2306d8ab-9b4a-43ad-8b22-17fade2ef2a9",
   "metadata": {},
   "outputs": [],
   "source": [
    "verify_short_test_expert_for_train_list = get_verify_df(short_test_expert_data_for_train)\n",
    "verify_short_test_mv_for_train_list = get_verify_df(short_test_mv_data_for_train)\n",
    "verify_short_test_bsc_for_train_list = get_verify_df(short_test_bsc_data_for_train)\n",
    "\n",
    "verify_test_mv_for_train_list = get_verify_df(test_mv_data_for_train)\n",
    "verify_test_bsc_for_train_list = get_verify_df(test_bsc_data_for_train)\n",
    "verify_test_expert_for_train_list = get_verify_df(test_expert_data_for_train)"
   ]
  },
  {
   "cell_type": "code",
   "execution_count": 58,
   "id": "dc2d9740-b83f-4d51-b7e5-6e113ddd4dd5",
   "metadata": {},
   "outputs": [],
   "source": [
    "et_list = [\"Food\", \"Location\", \"Symptom\", \"Keyword\"]\n",
    "for i, et in enumerate(et_list):\n",
    "    output_train_mv_path = os.path.join(output_dir, train_mv_name.replace('mrc-ner.', f'{et}-verify.') + '.csv')\n",
    "    verify_train_mv_list[i].to_csv(output_train_mv_path, index=False)\n",
    "\n",
    "    output_train_expert_path = os.path.join(output_dir, train_expert_name.replace('mrc-ner.', f'{et}-verify.') + '.csv')\n",
    "    verify_train_expert_list[i].to_csv(output_train_expert_path, index=False)\n",
    "\n",
    "    output_train_bsc_path = os.path.join(output_dir, train_bsc_name.replace('mrc-ner.', f'{et}-verify.') + '.csv')\n",
    "    verify_train_bsc_list[i].to_csv(output_train_bsc_path, index=False)\n",
    "\n",
    "    output_short_train_mv_path = os.path.join(output_dir, short_train_mv_name.replace('mrc-ner.', f'{et}-verify.') + '.csv')\n",
    "    verify_short_train_mv_list[i].to_csv(output_short_train_mv_path, index=False)\n",
    "\n",
    "    output_short_train_expert_path = os.path.join(output_dir, short_train_expert_name.replace('mrc-ner.', f'{et}-verify.') + '.csv')\n",
    "    verify_short_train_expert_list[i].to_csv(output_short_train_expert_path, index=False)\n",
    "\n",
    "    output_short_train_bsc_path = os.path.join(output_dir, short_train_bsc_name.replace('mrc-ner.', f'{et}-verify.') + '.csv')\n",
    "    verify_short_train_bsc_list[i].to_csv(output_short_train_bsc_path, index=False)"
   ]
  },
  {
   "cell_type": "code",
   "execution_count": 59,
   "id": "cc5d69a2-5e68-459c-b0ac-66a73a094283",
   "metadata": {},
   "outputs": [],
   "source": [
    "verify_data_list = [verify_short_dev_expert_for_train_list, verify_short_dev_mv_for_train_list, verify_short_dev_bsc_for_train_list]\n",
    "verify_name_list = [short_dev_expert_for_train_name, short_dev_mv_for_train_name, short_dev_bsc_for_train_name]\n",
    "for the_name, the_dlist in zip(verify_name_list, verify_data_list):\n",
    "    et_list = [\"Food\", \"Location\", \"Symptom\", \"Keyword\"]\n",
    "    for i, et in enumerate(et_list):\n",
    "        output_path = os.path.join(output_dir, the_name.replace('mrc-ner.', f'{et}-verify.1.0.') + '.csv')\n",
    "        the_dlist[i].to_csv(output_path, index=False)\n",
    "        half_path = os.path.join(output_dir, the_name.replace('mrc-ner.', f'{et}-verify.0.5.') + '.csv')\n",
    "        half_data = the_dlist[i].sample(frac=0.5, replace=False, random_state=1)\n",
    "        half_data.to_csv(half_path, index=False)\n",
    "        quar_path = os.path.join(output_dir, the_name.replace('mrc-ner.', f'{et}-verify.0.25.') + '.csv')\n",
    "        quar_data = the_dlist[i].sample(frac=0.25, replace=False, random_state=1)\n",
    "        quar_data.to_csv(quar_path, index=False)\n",
    "        eigh_path = os.path.join(output_dir, the_name.replace('mrc-ner.', f'{et}-verify.0.125.') + '.csv')\n",
    "        eigh_data = the_dlist[i].sample(frac=0.125, replace=False, random_state=1)\n",
    "        eigh_data.to_csv(eigh_path, index=False)\n",
    "        sixt_path = os.path.join(output_dir, the_name.replace('mrc-ner.', f'{et}-verify.0.0625.') + '.csv')\n",
    "        sixt_data = the_dlist[i].sample(frac=0.0625, replace=False, random_state=1)\n",
    "        sixt_data.to_csv(sixt_path, index=False)\n",
    "        thir_path = os.path.join(output_dir, the_name.replace('mrc-ner.', f'{et}-verify.0.03125.') + '.csv')\n",
    "        thir_data = the_dlist[i].sample(frac=0.03125, replace=False, random_state=1)\n",
    "        thir_data.to_csv(thir_path, index=False)"
   ]
  },
  {
   "cell_type": "code",
   "execution_count": 60,
   "id": "2bb5dd29-0d27-4b64-a033-72fc68fba8dd",
   "metadata": {},
   "outputs": [],
   "source": [
    "verify_data_list = [verify_dev_expert_for_train_list, verify_dev_mv_for_train_list, verify_dev_bsc_for_train_list]\n",
    "verify_name_list = [dev_expert_for_train_name, dev_mv_for_train_name, dev_bsc_for_train_name]\n",
    "for the_name, the_dlist in zip(verify_name_list, verify_data_list):\n",
    "    et_list = [\"Food\", \"Location\", \"Symptom\", \"Keyword\"]\n",
    "    for i, et in enumerate(et_list):\n",
    "        output_path = os.path.join(output_dir, the_name.replace('mrc-ner.', f'{et}-verify.1.0.') + '.csv')\n",
    "        the_dlist[i].to_csv(output_path, index=False)\n",
    "        half_path = os.path.join(output_dir, the_name.replace('mrc-ner.', f'{et}-verify.0.5.') + '.csv')\n",
    "        half_data = the_dlist[i].sample(frac=0.5, replace=False, random_state=1)\n",
    "        half_data.to_csv(half_path, index=False)\n",
    "        quar_path = os.path.join(output_dir, the_name.replace('mrc-ner.', f'{et}-verify.0.25.') + '.csv')\n",
    "        quar_data = the_dlist[i].sample(frac=0.25, replace=False, random_state=1)\n",
    "        quar_data.to_csv(quar_path, index=False)\n",
    "        eigh_path = os.path.join(output_dir, the_name.replace('mrc-ner.', f'{et}-verify.0.125.') + '.csv')\n",
    "        eigh_data = the_dlist[i].sample(frac=0.125, replace=False, random_state=1)\n",
    "        eigh_data.to_csv(eigh_path, index=False)\n",
    "        sixt_path = os.path.join(output_dir, the_name.replace('mrc-ner.', f'{et}-verify.0.0625.') + '.csv')\n",
    "        sixt_data = the_dlist[i].sample(frac=0.0625, replace=False, random_state=1)\n",
    "        sixt_data.to_csv(sixt_path, index=False)\n",
    "        thir_path = os.path.join(output_dir, the_name.replace('mrc-ner.', f'{et}-verify.0.03125.') + '.csv')\n",
    "        thir_data = the_dlist[i].sample(frac=0.03125, replace=False, random_state=1)\n",
    "        thir_data.to_csv(thir_path, index=False)"
   ]
  },
  {
   "cell_type": "code",
   "execution_count": 61,
   "id": "46ce13e8-a3db-4e87-ae07-d397226fbc12",
   "metadata": {},
   "outputs": [],
   "source": [
    "verify_data_list = [verify_short_test_expert_for_train_list, verify_short_test_mv_for_train_list, verify_short_test_bsc_for_train_list]\n",
    "verify_name_list = [short_test_expert_for_train_name, short_test_mv_for_train_name, short_test_bsc_for_train_name]\n",
    "for the_name, the_dlist in zip(verify_name_list, verify_data_list):\n",
    "    et_list = [\"Food\", \"Location\", \"Symptom\", \"Keyword\"]\n",
    "    for i, et in enumerate(et_list):\n",
    "        output_path = os.path.join(output_dir, the_name.replace('mrc-ner.', f'{et}-verify.1.0.') + '.csv')\n",
    "        the_dlist[i].to_csv(output_path, index=False)\n",
    "        half_path = os.path.join(output_dir, the_name.replace('mrc-ner.', f'{et}-verify.0.5.') + '.csv')\n",
    "        half_data = the_dlist[i].sample(frac=0.5, replace=False, random_state=1)\n",
    "        half_data.to_csv(half_path, index=False)\n",
    "        quar_path = os.path.join(output_dir, the_name.replace('mrc-ner.', f'{et}-verify.0.25.') + '.csv')\n",
    "        quar_data = the_dlist[i].sample(frac=0.25, replace=False, random_state=1)\n",
    "        quar_data.to_csv(quar_path, index=False)\n",
    "        eigh_path = os.path.join(output_dir, the_name.replace('mrc-ner.', f'{et}-verify.0.125.') + '.csv')\n",
    "        eigh_data = the_dlist[i].sample(frac=0.125, replace=False, random_state=1)\n",
    "        eigh_data.to_csv(eigh_path, index=False)\n",
    "        sixt_path = os.path.join(output_dir, the_name.replace('mrc-ner.', f'{et}-verify.0.0625.') + '.csv')\n",
    "        sixt_data = the_dlist[i].sample(frac=0.0625, replace=False, random_state=1)\n",
    "        sixt_data.to_csv(sixt_path, index=False)\n",
    "        thir_path = os.path.join(output_dir, the_name.replace('mrc-ner.', f'{et}-verify.0.03125.') + '.csv')\n",
    "        thir_data = the_dlist[i].sample(frac=0.03125, replace=False, random_state=1)\n",
    "        thir_data.to_csv(thir_path, index=False)"
   ]
  },
  {
   "cell_type": "code",
   "execution_count": 62,
   "id": "6765f245-d9cf-4efa-9594-c7aeeb0ac870",
   "metadata": {},
   "outputs": [],
   "source": [
    "verify_data_list = [verify_test_expert_for_train_list, verify_test_mv_for_train_list, verify_test_bsc_for_train_list]\n",
    "verify_name_list = [test_expert_for_train_name, test_mv_for_train_name, test_bsc_for_train_name]\n",
    "for the_name, the_dlist in zip(verify_name_list, verify_data_list):\n",
    "    et_list = [\"Food\", \"Location\", \"Symptom\", \"Keyword\"]\n",
    "    for i, et in enumerate(et_list):\n",
    "        output_path = os.path.join(output_dir, the_name.replace('mrc-ner.', f'{et}-verify.1.0.') + '.csv')\n",
    "        the_dlist[i].to_csv(output_path, index=False)\n",
    "        half_path = os.path.join(output_dir, the_name.replace('mrc-ner.', f'{et}-verify.0.5.') + '.csv')\n",
    "        half_data = the_dlist[i].sample(frac=0.5, replace=False, random_state=1)\n",
    "        half_data.to_csv(half_path, index=False)\n",
    "        quar_path = os.path.join(output_dir, the_name.replace('mrc-ner.', f'{et}-verify.0.25.') + '.csv')\n",
    "        quar_data = the_dlist[i].sample(frac=0.25, replace=False, random_state=1)\n",
    "        quar_data.to_csv(quar_path, index=False)\n",
    "        eigh_path = os.path.join(output_dir, the_name.replace('mrc-ner.', f'{et}-verify.0.125.') + '.csv')\n",
    "        eigh_data = the_dlist[i].sample(frac=0.125, replace=False, random_state=1)\n",
    "        eigh_data.to_csv(eigh_path, index=False)\n",
    "        sixt_path = os.path.join(output_dir, the_name.replace('mrc-ner.', f'{et}-verify.0.0625.') + '.csv')\n",
    "        sixt_data = the_dlist[i].sample(frac=0.0625, replace=False, random_state=1)\n",
    "        sixt_data.to_csv(sixt_path, index=False)\n",
    "        thir_path = os.path.join(output_dir, the_name.replace('mrc-ner.', f'{et}-verify.0.03125.') + '.csv')\n",
    "        thir_data = the_dlist[i].sample(frac=0.03125, replace=False, random_state=1)\n",
    "        thir_data.to_csv(thir_path, index=False)"
   ]
  }
 ],
 "metadata": {
  "kernelspec": {
   "display_name": "py3.9-visa",
   "language": "python",
   "name": "py3.9-visa"
  },
  "language_info": {
   "codemirror_mode": {
    "name": "ipython",
    "version": 3
   },
   "file_extension": ".py",
   "mimetype": "text/x-python",
   "name": "python",
   "nbconvert_exporter": "python",
   "pygments_lexer": "ipython3",
   "version": "3.9.12"
  }
 },
 "nbformat": 4,
 "nbformat_minor": 5
}
