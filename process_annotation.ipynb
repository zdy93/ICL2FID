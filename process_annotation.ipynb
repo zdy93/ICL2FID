{
 "cells": [
  {
   "cell_type": "code",
   "execution_count": 58,
   "id": "75dbc3a2-b6a6-46cd-af8b-c814863e946c",
   "metadata": {},
   "outputs": [],
   "source": [
    "import pandas as pd\n",
    "import os\n",
    "import re\n",
    "import ast\n",
    "from autolabel import AutolabelDataset\n",
    "from few_shot_new import NewAutoLabelConfig\n",
    "from sklearn.metrics import classification_report\n",
    "from autolabel.utils import print_table"
   ]
  },
  {
   "cell_type": "code",
   "execution_count": 62,
   "id": "5071b753-f93e-4c03-8f8b-d3c6cf8b235b",
   "metadata": {},
   "outputs": [],
   "source": [
    "data_path = '/scratch/dzhang5/LLM/TWEET-FID/expert.test.csv'\n",
    "output_dir = '/scratch/dzhang5/LLM/TWEET-FID/test-results-autolabel'\n",
    "model_name = \"meta-llama/Llama-2-13b-chat-hf\"\n",
    "label_column = 'sentence_class'\n",
    "text_column = 'tweet'\n",
    "explanation_column = 'sentence_explanation'\n",
    "few_shot_selection = \"semantic_similarity\"\n",
    "example_selection_label_column = 'sentence_class'\n",
    "use_current_explanation = False\n",
    "use_ground_explanation = True"
   ]
  },
  {
   "cell_type": "code",
   "execution_count": 63,
   "id": "22018f72-feef-45c1-be97-567de57ec6bd",
   "metadata": {},
   "outputs": [],
   "source": [
    "output_name = os.path.split(model_name)[-1] + '_' + few_shot_selection + '_COT_' + '_cur_' + str(use_current_explanation) + '_ground_' + str(use_ground_explanation) + '_' + os.path.split(data_path)[-1]\n",
    "output_path = os.path.join(output_dir, output_name)"
   ]
  },
  {
   "cell_type": "code",
   "execution_count": 64,
   "id": "5a7c12d8-0d35-48b4-a969-d6df434975c5",
   "metadata": {},
   "outputs": [],
   "source": [
    "predictions = pd.read_csv(output_path)"
   ]
  },
  {
   "cell_type": "code",
   "execution_count": 35,
   "id": "d5690005-9e76-4670-922f-d7f0bb73bf53",
   "metadata": {},
   "outputs": [],
   "source": [
    "def process_response(annotation):\n",
    "    response = annotation.split(\"raw_response=\")[1]\n",
    "    if response.find('Output: [/INST]\\\\n') < response.find('explanation='):\n",
    "        response = response.split(\"Output: [/INST]\\\\n\")[-1].split(\"explanation=\")[0]\n",
    "    else:\n",
    "        response = response.split(\"explanation=\")[0]\n",
    "    return response\n",
    "\n",
    "def clean_text(text):\n",
    "    # Remove leading and trailing single quotes, spaces, backslashes, and newlines\n",
    "    cleaned = re.sub(r\"^['\\\\s\\\\n]+|['\\\\s\\\\n]+$\", '', text)\n",
    "    return cleaned\n",
    "\n",
    "def clean_text_refined(s):\n",
    "    # First, strip the leading and trailing whitespace (which includes newlines)\n",
    "    s = s.strip()\n",
    "\n",
    "    # Then remove a leading or trailing single quote if present\n",
    "    if s.startswith(\"'\"):\n",
    "        s = s[1:]\n",
    "    if s.endswith(\"'\"):\n",
    "        s = s[:-1]\n",
    "\n",
    "    # Finally, strip again to remove any extra whitespace left after removing quotes\n",
    "    s = s.strip()\n",
    "    return s\n",
    "\n",
    "def get_label(response):\n",
    "    if 'yes' in response.lower():\n",
    "        return 'Yes'\n",
    "    elif 'no' in response.lower():\n",
    "        return 'No'\n",
    "    else:\n",
    "        return 'NO_LABEL'\n",
    "    \n",
    "def process_and_get_label(annotation):\n",
    "    response = process_response(annotation)\n",
    "    label = get_label(response)\n",
    "    return label"
   ]
  },
  {
   "cell_type": "code",
   "execution_count": 49,
   "id": "6bb35710-0038-4b7a-ab81-6d71a96105b8",
   "metadata": {},
   "outputs": [],
   "source": [
    "def get_report(llm_labels, gt_labels):\n",
    "    filtered_llm_labels = []\n",
    "    filtered_gt_labels = []\n",
    "    for llm_label, gt_label in zip(llm_labels, gt_labels):\n",
    "        if llm_label != \"NO_LABEL\" and gt_label != \"nan\":\n",
    "            filtered_llm_labels.append(llm_label)\n",
    "            filtered_gt_labels.append(gt_label)\n",
    "    report = classification_report(filtered_gt_labels, filtered_llm_labels)\n",
    "    return report"
   ]
  },
  {
   "cell_type": "code",
   "execution_count": 16,
   "id": "b47924c9-189a-4450-90d4-4465f71cdb08",
   "metadata": {},
   "outputs": [
    {
     "data": {
      "text/plain": [
       "\"Output: Location' \""
      ]
     },
     "execution_count": 16,
     "metadata": {},
     "output_type": "execute_result"
    }
   ],
   "source": [
    "re.sub(r\"^['\\\\s\\\\n]+|['\\\\s\\\\n]+$\", '', \"'\\\\nOutput: Location' \")"
   ]
  },
  {
   "cell_type": "code",
   "execution_count": 65,
   "id": "dc4e6efd-9bb7-4de7-bb11-d130ebd2f886",
   "metadata": {
    "tags": []
   },
   "outputs": [
    {
     "data": {
      "text/plain": [
       "array(['Yes', 'No', 'NO_LABEL'], dtype=object)"
      ]
     },
     "execution_count": 65,
     "metadata": {},
     "output_type": "execute_result"
    }
   ],
   "source": [
    "predictions[f'{label_column}_label'].unique()"
   ]
  },
  {
   "cell_type": "code",
   "execution_count": 68,
   "id": "ef1890f1-075e-4a96-825d-a23cf6fcd124",
   "metadata": {},
   "outputs": [],
   "source": [
    "predictions.loc[predictions[f'{label_column}_error'].notna(), f'{label_column}_label'] = predictions.loc[predictions[f'{label_column}_error'].notna(), f'{label_column}_annotation'].apply(process_and_get_label)"
   ]
  },
  {
   "cell_type": "code",
   "execution_count": 69,
   "id": "627ae28c-ac14-40f6-83b5-29f8d5d9c737",
   "metadata": {},
   "outputs": [
    {
     "name": "stdout",
     "output_type": "stream",
     "text": [
      "              precision    recall  f1-score   support\n",
      "\n",
      "          No       0.91      0.39      0.55       275\n",
      "         Yes       0.43      0.93      0.59       137\n",
      "\n",
      "    accuracy                           0.57       412\n",
      "   macro avg       0.67      0.66      0.57       412\n",
      "weighted avg       0.75      0.57      0.56       412\n",
      "\n"
     ]
    }
   ],
   "source": [
    "report = get_report(predictions[f'{label_column}_label'], predictions[label_column])\n",
    "print(report)"
   ]
  },
  {
   "cell_type": "code",
   "execution_count": 131,
   "id": "6f19187e-7f44-4ca8-be7c-7d2466a02448",
   "metadata": {},
   "outputs": [
    {
     "data": {
      "text/plain": [
       "array(['Food poisoning%Symtom', '', '\\\\nFood Keyword',\n",
       "       '\\\\nFood: bel bev dabo', 'food%Food', '\\\\nFood: Swanson st',\n",
       "       '\\\\nInput: @USER just puked at home  #foodpoisoning in Brazil',\n",
       "       'Food: Cheddars', 'Symtom', '\\\\nFood poisoning%Symptom',\n",
       "       '\\\\nFood poisoning%Keyword', '\\\\nFood: HTTPURL', 'Food: Fever',\n",
       "       '\\\\nFood: Chicken rice', '\\\\nFood: Middletown NY', '\\\\nSymtom',\n",
       "       '\\\\nFood: #norovirus', '\\\\nFood:', '\\\\nOutput: Food:', '\\\\n',\n",
       "       '\\\\nFood handling regulations%Keyword', '\\\\nFood: cat',\n",
       "       '\\\\nSymptom', '\\\\nFood: food',\n",
       "       'Food: food  Food poisoning: food poisoning  Symtom: nauseated',\n",
       "       '\\\\n\\\\n', '\\\\nFood: indigestionFood', 'pizza%Food, noodles%Food',\n",
       "       '\\\\nInput: @LYLASMJ alcohol poisoning is a long term disease & dr alcohol should pay for it, find out also where the dr gets his alcohol from',\n",
       "       '\\\\nFood: garri', '\\\\nFood: fish', '\\\\nFood: food poisoning',\n",
       "       '\\\\nFood: sandwich', '\\\\nFood: gluten', 'Food: pufferfish',\n",
       "       '\\\\nFood: Raw Chicken', 'Food: ihop', 'food poisoning%Keyword',\n",
       "       '\\\\nFood: honeymoon', '\\\\nOutput: Location',\n",
       "       '\\\\nFood:  rivers food security', 'throw up%Symptom',\n",
       "       'Smirnoff%Food', '\\\\nFood: Carbon monoxide',\n",
       "       '\\\\nFood: CROSS-CONTAMINATION', '\\\\nFood: pistachio nuts',\n",
       "       'food poisoning%Symptom', '\\\\nFood:  #foodillness', '\\\\nOutput:',\n",
       "       '\\\\nFood poisoning%Symptom\\\\nprocedure%Keyword\\\\ncustomer%Keyword\\\\nvenues%Keyword',\n",
       "       '\\\\nFood: alad  dhall', '\\\\nFood:  turkey',\n",
       "       'Food: stomach bugs; Food: food poisoning; Symptom: sinus infection',\n",
       "       '\\\\nfood poisoning%Keyword', '\\\\nFood: fish%Food',\n",
       "       'Food poisoning%Keyword', '\\\\nOutput: Food Poisoning%Symtom',\n",
       "       'Kroger%Food', '\\\\nFood: chicken', '\\\\nFood: Chinese',\n",
       "       '\\\\nFood Poisoning%Keyword Sepsis%Food', '\\\\nFood: foods',\n",
       "       '\\\\nFood: egg mcmuffins', '\\\\nFood: cook', '\\\\nFood: foodborne',\n",
       "       '\\\\nFood: Cabot', 'chicken tenders%Food',\n",
       "       '\"\\\\nInput: Still at the hospital not sure what\\'s wrong with me a lot of pain in my stomach and have pain shooting through my kidneys and joints at the same time [12 characters] \"',\n",
       "       'stomach%Symptom', '\\\\nFood: Mushroom curry',\n",
       "       '\\\\nOutput: Oakland%Location',\n",
       "       '\\\\nFood: \\\\nSymtom:  poopin  pukin', '\\\\nFood: pork cob',\n",
       "       '\\\\nFood: food poison',\n",
       "       '\\\\nInput: I think  I  have  caught  a  rare  stomach  bug  just  after  eating  Colbeck  brew  pub  food because 24  hours  ago  I  had  a  small  diarrhea  episode  &  Colbeck  brew  pub  food   was  the  only  thing  I  ate  .   I  think  I  &  Colbeck  brew  pub  food   caught  stomach  bug  rare  I  small  diarrhea',\n",
       "       '\"McDonald\\'s%Location\\\\nArtisan Grilled Chicken Sandwich%Food\"',\n",
       "       '\\\\nFood: tuna sandwich', '\\\\nFood: random gas station hot dog',\n",
       "       '\\\\nOutput: sushi zushi%Food', '\\\\nFood: \\\\nSymptom:',\n",
       "       '\\\\nKeyword: food poisoning', '\\\\nFood: FOOD POISONING',\n",
       "       '\\\\nInput: No reason to think @WashtenawCoHealth is doing anything less than an excellent job.  HTTPURL  HTTPURL @WashtenawCoHealth @COUNTY_DLG Mill Creek',\n",
       "       '\\\\nFood: Panda Express', '\\\\nFood poisoning%Symtom',\n",
       "       '\\\\nFood: parasites', '\\\\nFood: fruit snacks', 'Stomach%Symptom',\n",
       "       '\\\\nFood: Burger King - Abu Dhabi', '\\\\nStomachAche%Symptom',\n",
       "       '\"\\\\nInput: We had a great time in San Francisco!  Last night\\'s restaurant was great! Wish we could have eaten there every night!  Day 2 was MUCH better as we did not get food poisoning . \"',\n",
       "       '\\\\nInput: @USER @USER %LOCATION @USER Had the Tamales from @restaurant last night and almost ended up in the emergency room with food poisoning. Avoid at %LOCATION',\n",
       "       'biscuits%Food  stomach%Symptom', '\\\\nKeyword: acids',\n",
       "       'Nausea%Symptom', '\\\\nFood: Fanta', 'Food:', '\\\\nOutput: Symtom',\n",
       "       '\\\\nFood: hunger', '\\\\nFood: oysters'], dtype=object)"
      ]
     },
     "execution_count": 131,
     "metadata": {},
     "output_type": "execute_result"
    }
   ],
   "source": [
    "predictions[f'{label_column}_annotation'].apply(process_response).apply(clean_text_refined).unique()"
   ]
  },
  {
   "cell_type": "code",
   "execution_count": null,
   "id": "bc625719-6867-4cfc-a841-89b569d31f39",
   "metadata": {},
   "outputs": [],
   "source": [
    "predictions"
   ]
  },
  {
   "cell_type": "code",
   "execution_count": null,
   "id": "fa0d897e-4bd8-405e-8007-764aecff2375",
   "metadata": {},
   "outputs": [],
   "source": [
    "predictions[f'{label_column}_label'][4]"
   ]
  }
 ],
 "metadata": {
  "kernelspec": {
   "display_name": "py3.9-visa",
   "language": "python",
   "name": "py3.9-visa"
  },
  "language_info": {
   "codemirror_mode": {
    "name": "ipython",
    "version": 3
   },
   "file_extension": ".py",
   "mimetype": "text/x-python",
   "name": "python",
   "nbconvert_exporter": "python",
   "pygments_lexer": "ipython3",
   "version": "3.9.12"
  }
 },
 "nbformat": 4,
 "nbformat_minor": 5
}
