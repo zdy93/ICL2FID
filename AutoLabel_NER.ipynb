{
 "cells": [
  {
   "cell_type": "code",
   "execution_count": 1,
   "id": "f5198684-0eb5-4959-941e-59d467a9b688",
   "metadata": {
    "tags": [
     "parameters"
    ]
   },
   "outputs": [],
   "source": [
    "few_shot_path = '/scratch/dzhang5/LLM/TWEET-FID/expert.train.short.csv'\n",
    "data_path = '/scratch/dzhang5/LLM/TWEET-FID/expert.smalltest.csv'\n",
    "output_dir = '/scratch/dzhang5/LLM/TWEET-FID/test-results-autolabel-ner'\n",
    "model_name = \"refuel-llm\"\n",
    "label_column = 'CategorizedLabels'\n",
    "text_column = 'tweet'\n",
    "example_selection_label_column = 'sentence_class'\n",
    "few_shot_num = 8\n",
    "few_shot_selection = \"semantic_similarity\"\n",
    "token_path = \"/home/dzhang5/.cache/huggingface/token\"\n",
    "cache=False\n",
    "console_output=True\n",
    "temperature=0.1"
   ]
  },
  {
   "cell_type": "code",
   "execution_count": 3,
   "id": "304c4a3a-04bc-4fd4-bb01-7b38f49f87cb",
   "metadata": {},
   "outputs": [],
   "source": [
    "from autolabel.schema import ModelProvider, TaskType\n",
    "from autolabel.models import register_model, MODEL_REGISTRY\n",
    "from hf_pipeline_new import HFPipelineLLMNew\n",
    "from few_shot_new import NewAutoLabelConfig, NewExampleSelectorFactory\n",
    "from autolabel.few_shot import ExampleSelectorFactory\n",
    "from template_inst import update_inst_mode\n",
    "from named_entity_recognition_new import NewNamedEntityRecognitionTask\n",
    "from classification_new import NewClassificationTask\n",
    "from autolabel.tasks import TASK_TYPE_TO_IMPLEMENTATION \n",
    "import sys"
   ]
  },
  {
   "cell_type": "code",
   "execution_count": 4,
   "id": "38e6eb38-9d3f-4f9e-8889-aa9fe9121204",
   "metadata": {},
   "outputs": [],
   "source": [
    "update_inst_mode(model_name)\n",
    "TASK_TYPE_TO_IMPLEMENTATION[TaskType.NAMED_ENTITY_RECOGNITION] = NewNamedEntityRecognitionTask\n",
    "TASK_TYPE_TO_IMPLEMENTATION[TaskType.CLASSIFICATION] = NewClassificationTask\n",
    "sys.modules['autolabel.labeler'].ExampleSelectorFactory = NewExampleSelectorFactory\n",
    "register_model(ModelProvider.HUGGINGFACE_PIPELINE, HFPipelineLLMNew)"
   ]
  },
  {
   "cell_type": "code",
   "execution_count": 4,
   "id": "d67c0a78-0a28-4ad1-84d2-9edf12534aed",
   "metadata": {},
   "outputs": [],
   "source": [
    "from autolabel import LabelingAgent, AutolabelDataset\n",
    "import json\n",
    "import os\n",
    "import pandas as pd"
   ]
  },
  {
   "cell_type": "code",
   "execution_count": 5,
   "id": "aca5f639-3b70-43c2-9ea0-15cdb5f3722d",
   "metadata": {},
   "outputs": [
    {
     "name": "stdout",
     "output_type": "stream",
     "text": [
      "Token will not been saved to git credential helper. Pass `add_to_git_credential=True` if you want to set the git credential as well.\n",
      "Token is valid (permission: read).\n",
      "Your token has been saved to /home/dzhang5/.cache/huggingface/token\n",
      "Login successful\n"
     ]
    }
   ],
   "source": [
    "with open(token_path) as tfile:\n",
    "    token_str = tfile.read()\n",
    "\n",
    "from huggingface_hub import login\n",
    "login(token=token_str)"
   ]
  },
  {
   "cell_type": "code",
   "execution_count": 6,
   "id": "ae5043f6-302a-4c91-bc1c-547b760378ab",
   "metadata": {},
   "outputs": [],
   "source": [
    "no_auto = [\"microsoft/prophetnet\", \"microsoft/phi-2\", \"google/pegasus-x\"]\n",
    "if any([pre in model_name for pre in no_auto]):\n",
    "    device_map = None\n",
    "else:\n",
    "    device_map = \"auto\""
   ]
  },
  {
   "cell_type": "code",
   "execution_count": 7,
   "id": "85b40e4a-3503-4b2f-85b7-3bb15530e19b",
   "metadata": {},
   "outputs": [],
   "source": [
    "refuel_models = [\"refuel-llm\", \"llama-13b-chat\"]\n",
    "if model_name in refuel_models:\n",
    "    provider = \"refuel\"\n",
    "    em_provider = \"huggingface_pipeline\"\n",
    "    model_params = {\"max_length\":4096, \"temperature\": temperature}\n",
    "    task_name = f\"FoodborneIllnessIncidentTweetNER_{few_shot_selection}_{model_name}\"\n",
    "elif model_name.startswith('gpt'):\n",
    "    provider = \"openai\"\n",
    "    em_provider = \"openai\"\n",
    "    model_params = {\"max_tokens\":4096, \"temperature\": temperature}\n",
    "    task_name = f\"FoodborneIllnessIncidentTweetNER_{few_shot_selection}_{model_name}\"\n",
    "else:\n",
    "    provider = \"huggingface_pipeline\"\n",
    "    em_provider = \"huggingface_pipeline\"\n",
    "    model_params = {\"max_length\":4096, \"temperature\": temperature,\n",
    "                    \"quantize\": 16, \"device_map\": device_map,\n",
    "                    \"token\": token_str}\n",
    "    task_name = f\"FoodborneIllnessIncidentTweetNER_{few_shot_selection}_{model_name.split('/')[1]}\""
   ]
  },
  {
   "cell_type": "code",
   "execution_count": 8,
   "id": "b1b15b2f-972d-4c20-b00a-d4df89ead065",
   "metadata": {},
   "outputs": [],
   "source": [
    "if not os.path.exists(output_dir):\n",
    "    # Create the directory\n",
    "    os.makedirs(output_dir)\n",
    "output_name = os.path.split(model_name)[-1] + '_' + few_shot_selection + '_' + os.path.split(data_path)[-1]\n",
    "output_path = os.path.join(output_dir, output_name)"
   ]
  },
  {
   "cell_type": "code",
   "execution_count": 9,
   "id": "06159ee1-0c25-4830-9a80-3d4f8743efa8",
   "metadata": {},
   "outputs": [],
   "source": [
    "label_description = {\"Food\": \"are specific food item that caused the potential foodborne illness incident.\",\n",
    "                     \"Symptom\": \"are specific symptoms experienced by the affected person as a result of the suspected foodborne illness.\",\n",
    "                     \"Location\": \"pretrain to the location where the affected person purchased or acquired the food associated with the potential foodborne illness.\",\n",
    "                     \"Keyword\": \"\"\"include other relevant keywords or terms associated with foodborne illnesses, such as \"food poisoning\".\"\"\"}\n",
    "\n",
    "entity_description = \"\"\n",
    "for k, v in label_description.items():\n",
    "    entity_description += f\"{k} entities {v}\\n\"\n",
    "\n",
    "task_guideline = (\"You are an expert at extracting Food, Location, Symptom, and Keyword entities that are related to foodborne illness incident from text. \" \n",
    "                  \"Within the TWEET-FID dataset, your task is to extract entities mentioned in text, and classify them into one of the following categories.\\nCategories:\\n{labels}\\n\"\n",
    "                  \"Below are the defintions of each type of entity:\\n\")\n",
    "task_guideline += entity_description          \n",
    "task_guideline += \"Use the following examples as a guide for your predictions and format your responses similarly.\""
   ]
  },
  {
   "cell_type": "code",
   "execution_count": 10,
   "id": "2e1d2977-5ffe-438e-891f-fe14fb6c1764",
   "metadata": {},
   "outputs": [],
   "source": [
    "test_data = pd.read_csv(data_path)"
   ]
  },
  {
   "cell_type": "code",
   "execution_count": 11,
   "id": "15567ff5-37f7-4b35-a48b-83b310b410bb",
   "metadata": {},
   "outputs": [],
   "source": [
    "config = {\n",
    "    \"task_name\": task_name,\n",
    "    \"task_type\": \"named_entity_recognition\",\n",
    "    \"dataset\": {\n",
    "        \"label_column\": label_column,\n",
    "        \"text_column\": text_column,\n",
    "        \"example_selection_label_column\": example_selection_label_column,\n",
    "        \"delimiter\": \",\",\n",
    "        \"label_description\": label_description \n",
    "    },\n",
    "    \"model\": {\n",
    "        \"provider\": provider,\n",
    "        \"name\": model_name,\n",
    "        \"params\": model_params\n",
    "    },\n",
    "    \"embedding\": {\n",
    "        \"provider\": em_provider,\n",
    "    },\n",
    "    \"prompt\": {\n",
    "        \"task_guidelines\": task_guideline,\n",
    "        \"output_guidelines\": \"You will answer with just the correct entities alongwith their labels and nothing else. Note that if the given text does not include any entities related to foodborne illness, you will not answer with any word.\",\n",
    "        \"labels\": [\n",
    "            \"Food\",\n",
    "            \"Symtom\",\n",
    "            \"Location\",\n",
    "            \"Keyword\"\n",
    "        ],\n",
    "        \"few_shot_examples\": few_shot_path,\n",
    "        \"few_shot_selection\": few_shot_selection,\n",
    "        \"few_shot_num\": few_shot_num,\n",
    "        \"example_template\": f\"Input: {{{text_column}}}\\nOutput: {{{label_column}}}\"\n",
    "    }\n",
    "}\n",
    "\n",
    "config = NewAutoLabelConfig(config)"
   ]
  },
  {
   "cell_type": "code",
   "execution_count": 12,
   "id": "e28122bc-1337-497b-8410-54fd17249452",
   "metadata": {},
   "outputs": [
    {
     "name": "stderr",
     "output_type": "stream",
     "text": [
      "2024-01-27 22:38:54 autolabel.labeler WARNING: cache parameter is deprecated and will be removed soon. Please use generation_cache and transform_cache instead.\n"
     ]
    }
   ],
   "source": [
    "agent = LabelingAgent(config=config, console_output=console_output, cache=cache)"
   ]
  },
  {
   "cell_type": "code",
   "execution_count": 13,
   "id": "c175c7c0-a61e-4d63-bc23-b06c51c8d72e",
   "metadata": {},
   "outputs": [
    {
     "name": "stderr",
     "output_type": "stream",
     "text": [
      "2024-01-27 22:38:55 sentence_transformers.SentenceTransformer INFO: Load pretrained SentenceTransformer: sentence-transformers/all-mpnet-base-v2\n",
      "2024-01-27 22:38:57 sentence_transformers.SentenceTransformer INFO: Use pytorch device: cuda\n"
     ]
    },
    {
     "data": {
      "application/vnd.jupyter.widget-view+json": {
       "model_id": "6be47a91810345e69c3bac9445b2a675",
       "version_major": 2,
       "version_minor": 0
      },
      "text/plain": [
       "Batches:   0%|          | 0/78 [00:00<?, ?it/s]"
      ]
     },
     "metadata": {},
     "output_type": "display_data"
    },
    {
     "data": {
      "application/vnd.jupyter.widget-view+json": {
       "model_id": "85684c647202451097c522fc67a84eef",
       "version_major": 2,
       "version_minor": 0
      },
      "text/plain": [
       "Output()"
      ]
     },
     "metadata": {},
     "output_type": "display_data"
    },
    {
     "data": {
      "application/vnd.jupyter.widget-view+json": {
       "model_id": "e88f8e0f333d41119e57a4834cd316fa",
       "version_major": 2,
       "version_minor": 0
      },
      "text/plain": [
       "Batches:   0%|          | 0/1 [00:00<?, ?it/s]"
      ]
     },
     "metadata": {},
     "output_type": "display_data"
    },
    {
     "data": {
      "application/vnd.jupyter.widget-view+json": {
       "model_id": "a1617e0df01e4fcb96fc295c31aada21",
       "version_major": 2,
       "version_minor": 0
      },
      "text/plain": [
       "Batches:   0%|          | 0/1 [00:00<?, ?it/s]"
      ]
     },
     "metadata": {},
     "output_type": "display_data"
    },
    {
     "data": {
      "application/vnd.jupyter.widget-view+json": {
       "model_id": "a952c80d05694e9b92b45d0cf0ea31d8",
       "version_major": 2,
       "version_minor": 0
      },
      "text/plain": [
       "Batches:   0%|          | 0/1 [00:00<?, ?it/s]"
      ]
     },
     "metadata": {},
     "output_type": "display_data"
    },
    {
     "data": {
      "application/vnd.jupyter.widget-view+json": {
       "model_id": "6b7868f4c3cf4154b98b5da9e241e746",
       "version_major": 2,
       "version_minor": 0
      },
      "text/plain": [
       "Batches:   0%|          | 0/1 [00:00<?, ?it/s]"
      ]
     },
     "metadata": {},
     "output_type": "display_data"
    },
    {
     "data": {
      "application/vnd.jupyter.widget-view+json": {
       "model_id": "d9467f43ebd3426eb4be72ada7c6b741",
       "version_major": 2,
       "version_minor": 0
      },
      "text/plain": [
       "Batches:   0%|          | 0/1 [00:00<?, ?it/s]"
      ]
     },
     "metadata": {},
     "output_type": "display_data"
    },
    {
     "data": {
      "application/vnd.jupyter.widget-view+json": {
       "model_id": "963a307c03fb4bfbb1bc71c92b71c3d0",
       "version_major": 2,
       "version_minor": 0
      },
      "text/plain": [
       "Batches:   0%|          | 0/1 [00:00<?, ?it/s]"
      ]
     },
     "metadata": {},
     "output_type": "display_data"
    },
    {
     "data": {
      "application/vnd.jupyter.widget-view+json": {
       "model_id": "a3e71d92e29e4ab3b4a0d09469fa57bb",
       "version_major": 2,
       "version_minor": 0
      },
      "text/plain": [
       "Batches:   0%|          | 0/1 [00:00<?, ?it/s]"
      ]
     },
     "metadata": {},
     "output_type": "display_data"
    },
    {
     "data": {
      "application/vnd.jupyter.widget-view+json": {
       "model_id": "87e3aeabc71447a3b434f24a4c4db251",
       "version_major": 2,
       "version_minor": 0
      },
      "text/plain": [
       "Batches:   0%|          | 0/1 [00:00<?, ?it/s]"
      ]
     },
     "metadata": {},
     "output_type": "display_data"
    },
    {
     "data": {
      "application/vnd.jupyter.widget-view+json": {
       "model_id": "670a244896a043c2bc8b1934703e2517",
       "version_major": 2,
       "version_minor": 0
      },
      "text/plain": [
       "Batches:   0%|          | 0/1 [00:00<?, ?it/s]"
      ]
     },
     "metadata": {},
     "output_type": "display_data"
    },
    {
     "data": {
      "application/vnd.jupyter.widget-view+json": {
       "model_id": "b64a7d867e5141cd8592cb31d50a3ddc",
       "version_major": 2,
       "version_minor": 0
      },
      "text/plain": [
       "Batches:   0%|          | 0/1 [00:00<?, ?it/s]"
      ]
     },
     "metadata": {},
     "output_type": "display_data"
    },
    {
     "data": {
      "text/html": [
       "<pre style=\"white-space:pre;overflow-x:auto;line-height:normal;font-family:Menlo,'DejaVu Sans Mono',consolas,'Courier New',monospace\"></pre>\n"
      ],
      "text/plain": []
     },
     "metadata": {},
     "output_type": "display_data"
    },
    {
     "data": {
      "text/html": [
       "<pre style=\"white-space:pre;overflow-x:auto;line-height:normal;font-family:Menlo,'DejaVu Sans Mono',consolas,'Courier New',monospace\">\n",
       "</pre>\n"
      ],
      "text/plain": [
       "\n"
      ]
     },
     "metadata": {},
     "output_type": "display_data"
    },
    {
     "data": {
      "text/html": [
       "<pre style=\"white-space:pre;overflow-x:auto;line-height:normal;font-family:Menlo,'DejaVu Sans Mono',consolas,'Courier New',monospace\">┌──────────────────────────┬──────┐\n",
       "│<span style=\"color: #800080; text-decoration-color: #800080; font-weight: bold\"> Total Estimated Cost     </span>│<span style=\"color: #008000; text-decoration-color: #008000; font-weight: bold\"> $0.0 </span>│\n",
       "│<span style=\"color: #800080; text-decoration-color: #800080; font-weight: bold\"> Number of Examples       </span>│<span style=\"color: #008000; text-decoration-color: #008000; font-weight: bold\"> 10   </span>│\n",
       "│<span style=\"color: #800080; text-decoration-color: #800080; font-weight: bold\"> Average cost per example </span>│<span style=\"color: #008000; text-decoration-color: #008000; font-weight: bold\"> $0.0 </span>│\n",
       "└──────────────────────────┴──────┘\n",
       "</pre>\n"
      ],
      "text/plain": [
       "┌──────────────────────────┬──────┐\n",
       "│\u001b[1;35m \u001b[0m\u001b[1;35mTotal Estimated Cost    \u001b[0m\u001b[1;35m \u001b[0m│\u001b[1;32m \u001b[0m\u001b[1;32m$0.0\u001b[0m\u001b[1;32m \u001b[0m│\n",
       "│\u001b[1;35m \u001b[0m\u001b[1;35mNumber of Examples      \u001b[0m\u001b[1;35m \u001b[0m│\u001b[1;32m \u001b[0m\u001b[1;32m10  \u001b[0m\u001b[1;32m \u001b[0m│\n",
       "│\u001b[1;35m \u001b[0m\u001b[1;35mAverage cost per example\u001b[0m\u001b[1;35m \u001b[0m│\u001b[1;32m \u001b[0m\u001b[1;32m$0.0\u001b[0m\u001b[1;32m \u001b[0m│\n",
       "└──────────────────────────┴──────┘\n"
      ]
     },
     "metadata": {},
     "output_type": "display_data"
    },
    {
     "data": {
      "text/html": [
       "<pre style=\"white-space:pre;overflow-x:auto;line-height:normal;font-family:Menlo,'DejaVu Sans Mono',consolas,'Courier New',monospace\"><span style=\"color: #00ff00; text-decoration-color: #00ff00\">───────────────────────────────────────────────── </span>Prompt Example<span style=\"color: #00ff00; text-decoration-color: #00ff00\"> ──────────────────────────────────────────────────</span>\n",
       "</pre>\n"
      ],
      "text/plain": [
       "\u001b[92m───────────────────────────────────────────────── \u001b[0mPrompt Example\u001b[92m ──────────────────────────────────────────────────\u001b[0m\n"
      ]
     },
     "metadata": {},
     "output_type": "display_data"
    },
    {
     "data": {
      "text/html": [
       "<pre style=\"white-space:pre;overflow-x:auto;line-height:normal;font-family:Menlo,'DejaVu Sans Mono',consolas,'Courier New',monospace\">\n",
       "    <span style=\"font-weight: bold\">&lt;</span><span style=\"color: #ff00ff; text-decoration-color: #ff00ff; font-weight: bold\">s</span><span style=\"color: #000000; text-decoration-color: #000000\">&gt;</span><span style=\"color: #000000; text-decoration-color: #000000; font-weight: bold\">[</span><span style=\"color: #000000; text-decoration-color: #000000\">INST</span><span style=\"color: #000000; text-decoration-color: #000000; font-weight: bold\">]</span><span style=\"color: #000000; text-decoration-color: #000000\"> &lt;&lt;SYS&gt;&gt;</span>\n",
       "<span style=\"color: #000000; text-decoration-color: #000000\">    You are an expert at extracting Food, Location, Symptom, and Keyword entities that are related to foodborne </span>\n",
       "<span style=\"color: #000000; text-decoration-color: #000000\">illness incident from text. Within the TWEET-FID dataset, your task is to extract entities mentioned in text, and </span>\n",
       "<span style=\"color: #000000; text-decoration-color: #000000\">classify them into one of the following categories.</span>\n",
       "<span style=\"color: #000000; text-decoration-color: #000000\">Categories:</span>\n",
       "<span style=\"color: #000000; text-decoration-color: #000000\">Food</span>\n",
       "<span style=\"color: #000000; text-decoration-color: #000000\">Symtom</span>\n",
       "<span style=\"color: #000000; text-decoration-color: #000000\">Location</span>\n",
       "<span style=\"color: #000000; text-decoration-color: #000000\">Keyword</span>\n",
       "<span style=\"color: #000000; text-decoration-color: #000000\">Below are the defintions of each type of entity:</span>\n",
       "<span style=\"color: #000000; text-decoration-color: #000000\">Food entities are specific food item that caused the potential foodborne illness incident.</span>\n",
       "<span style=\"color: #000000; text-decoration-color: #000000\">Symptom entities are specific symptoms experienced by the affected person as a result of the suspected foodborne </span>\n",
       "<span style=\"color: #000000; text-decoration-color: #000000\">illness.</span>\n",
       "<span style=\"color: #000000; text-decoration-color: #000000\">Location entities pretrain to the location where the affected person purchased or acquired the food associated with</span>\n",
       "<span style=\"color: #000000; text-decoration-color: #000000\">the potential foodborne illness.</span>\n",
       "<span style=\"color: #000000; text-decoration-color: #000000\">Keyword entities include other relevant keywords or terms associated with foodborne illnesses, such as </span><span style=\"color: #008000; text-decoration-color: #008000\">\"food </span>\n",
       "<span style=\"color: #008000; text-decoration-color: #008000\">poisoning\"</span><span style=\"color: #000000; text-decoration-color: #000000\">.</span>\n",
       "<span style=\"color: #000000; text-decoration-color: #000000\">Use the following examples as a guide for your predictions and format your responses similarly.You will answer with</span>\n",
       "<span style=\"color: #000000; text-decoration-color: #000000\">just the correct entities alongwith their labels and nothing else. Note that if the given text does not include any</span>\n",
       "<span style=\"color: #000000; text-decoration-color: #000000\">entities related to foodborne illness, you will not answer with any word.</span>\n",
       "<span style=\"color: #000000; text-decoration-color: #000000\">Input: Think I might have gotten a mild case of food-poisoning today - so that's been super fun.</span>\n",
       "<span style=\"color: #000000; text-decoration-color: #000000\">Output: </span>\n",
       "\n",
       "<span style=\"color: #000000; text-decoration-color: #000000\">Input: @USER To be honest, it's been a little rough. Food poisoning. Things are looking up, though.</span>\n",
       "<span style=\"color: #000000; text-decoration-color: #000000\">Output: Food poisoning%Keyword</span>\n",
       "\n",
       "<span style=\"color: #000000; text-decoration-color: #000000\">Input: @USER LOL I know! I've had a stomach bug or food poisoning since yesterday afternoon</span>\n",
       "<span style=\"color: #000000; text-decoration-color: #000000\">Output: food poisoning%Keyword</span>\n",
       "\n",
       "<span style=\"color: #000000; text-decoration-color: #000000\">Input: @USER Hoping you are feeling better tonight! Food poisoning is rough! See you Tues. night! TAKE CARE OF </span>\n",
       "<span style=\"color: #000000; text-decoration-color: #000000\">YOURSELF!!</span>\n",
       "<span style=\"color: #000000; text-decoration-color: #000000\">Output: Food poisoning%Keyword</span>\n",
       "\n",
       "<span style=\"color: #000000; text-decoration-color: #000000\">Input: Literally have been in bed all day bc I have food poisoning</span>\n",
       "<span style=\"color: #000000; text-decoration-color: #000000\">Output: food poisoning%Keyword</span>\n",
       "\n",
       "<span style=\"color: #000000; text-decoration-color: #000000\">Input: @USER Awwwww Coo , Don't Look Like I'm Doing Anything Today Got Food Poison ;</span><span style=\"color: #000000; text-decoration-color: #000000; font-weight: bold\">(</span>\n",
       "<span style=\"color: #000000; text-decoration-color: #000000\">Output: Food Poison%Keyword</span>\n",
       "\n",
       "<span style=\"color: #000000; text-decoration-color: #000000\">Input: @USER I heard that you got food poisoning. That sucks. I'm not doing well. I'm having a really bad day. </span>\n",
       "<span style=\"color: #000000; text-decoration-color: #000000; font-weight: bold\">[</span><span style=\"color: #000000; text-decoration-color: #000000\">EMOJI_pensive_face</span><span style=\"color: #000000; text-decoration-color: #000000; font-weight: bold\">]</span>\n",
       "<span style=\"color: #000000; text-decoration-color: #000000\">Output: food poisoning%Keyword</span>\n",
       "\n",
       "<span style=\"color: #000000; text-decoration-color: #000000\">Input: I've been in the hospital all night because of food poison I finally get home and watch @USER thinking I'd </span>\n",
       "<span style=\"color: #000000; text-decoration-color: #000000\">be happy. I'm not happy!</span><span style=\"color: #000000; text-decoration-color: #000000; font-weight: bold\">[</span><span style=\"color: #000000; text-decoration-color: #000000\">EMOJI_face_with_tears_of_joy</span><span style=\"color: #000000; text-decoration-color: #000000; font-weight: bold\">]</span>\n",
       "<span style=\"color: #000000; text-decoration-color: #000000\">Output: food poison%Keyword</span>\n",
       "<span style=\"color: #000000; text-decoration-color: #000000\">    &lt;&lt;SYS&gt;</span><span style=\"font-weight: bold\">&gt;</span>\n",
       "    Input: @USER As much fun as I can. Woke up with food poisoning or stomach flu. Been bugging me all day #tmi \n",
       "Almost done driving for the day\n",
       "Output: <span style=\"font-weight: bold\">[</span><span style=\"color: #800080; text-decoration-color: #800080\">/</span><span style=\"color: #ff00ff; text-decoration-color: #ff00ff\">INST</span><span style=\"font-weight: bold\">]</span>\n",
       "\n",
       "</pre>\n"
      ],
      "text/plain": [
       "\n",
       "    \u001b[1m<\u001b[0m\u001b[1;95ms\u001b[0m\u001b[39m>\u001b[0m\u001b[1;39m[\u001b[0m\u001b[39mINST\u001b[0m\u001b[1;39m]\u001b[0m\u001b[39m <<SYS>>\u001b[0m\n",
       "\u001b[39m    You are an expert at extracting Food, Location, Symptom, and Keyword entities that are related to foodborne \u001b[0m\n",
       "\u001b[39millness incident from text. Within the TWEET-FID dataset, your task is to extract entities mentioned in text, and \u001b[0m\n",
       "\u001b[39mclassify them into one of the following categories.\u001b[0m\n",
       "\u001b[39mCategories:\u001b[0m\n",
       "\u001b[39mFood\u001b[0m\n",
       "\u001b[39mSymtom\u001b[0m\n",
       "\u001b[39mLocation\u001b[0m\n",
       "\u001b[39mKeyword\u001b[0m\n",
       "\u001b[39mBelow are the defintions of each type of entity:\u001b[0m\n",
       "\u001b[39mFood entities are specific food item that caused the potential foodborne illness incident.\u001b[0m\n",
       "\u001b[39mSymptom entities are specific symptoms experienced by the affected person as a result of the suspected foodborne \u001b[0m\n",
       "\u001b[39millness.\u001b[0m\n",
       "\u001b[39mLocation entities pretrain to the location where the affected person purchased or acquired the food associated with\u001b[0m\n",
       "\u001b[39mthe potential foodborne illness.\u001b[0m\n",
       "\u001b[39mKeyword entities include other relevant keywords or terms associated with foodborne illnesses, such as \u001b[0m\u001b[32m\"food \u001b[0m\n",
       "\u001b[32mpoisoning\"\u001b[0m\u001b[39m.\u001b[0m\n",
       "\u001b[39mUse the following examples as a guide for your predictions and format your responses similarly.You will answer with\u001b[0m\n",
       "\u001b[39mjust the correct entities alongwith their labels and nothing else. Note that if the given text does not include any\u001b[0m\n",
       "\u001b[39mentities related to foodborne illness, you will not answer with any word.\u001b[0m\n",
       "\u001b[39mInput: Think I might have gotten a mild case of food-poisoning today - so that's been super fun.\u001b[0m\n",
       "\u001b[39mOutput: \u001b[0m\n",
       "\n",
       "\u001b[39mInput: @USER To be honest, it's been a little rough. Food poisoning. Things are looking up, though.\u001b[0m\n",
       "\u001b[39mOutput: Food poisoning%Keyword\u001b[0m\n",
       "\n",
       "\u001b[39mInput: @USER LOL I know! I've had a stomach bug or food poisoning since yesterday afternoon\u001b[0m\n",
       "\u001b[39mOutput: food poisoning%Keyword\u001b[0m\n",
       "\n",
       "\u001b[39mInput: @USER Hoping you are feeling better tonight! Food poisoning is rough! See you Tues. night! TAKE CARE OF \u001b[0m\n",
       "\u001b[39mYOURSELF!!\u001b[0m\n",
       "\u001b[39mOutput: Food poisoning%Keyword\u001b[0m\n",
       "\n",
       "\u001b[39mInput: Literally have been in bed all day bc I have food poisoning\u001b[0m\n",
       "\u001b[39mOutput: food poisoning%Keyword\u001b[0m\n",
       "\n",
       "\u001b[39mInput: @USER Awwwww Coo , Don't Look Like I'm Doing Anything Today Got Food Poison ;\u001b[0m\u001b[1;39m(\u001b[0m\n",
       "\u001b[39mOutput: Food Poison%Keyword\u001b[0m\n",
       "\n",
       "\u001b[39mInput: @USER I heard that you got food poisoning. That sucks. I'm not doing well. I'm having a really bad day. \u001b[0m\n",
       "\u001b[1;39m[\u001b[0m\u001b[39mEMOJI_pensive_face\u001b[0m\u001b[1;39m]\u001b[0m\n",
       "\u001b[39mOutput: food poisoning%Keyword\u001b[0m\n",
       "\n",
       "\u001b[39mInput: I've been in the hospital all night because of food poison I finally get home and watch @USER thinking I'd \u001b[0m\n",
       "\u001b[39mbe happy. I'm not happy!\u001b[0m\u001b[1;39m[\u001b[0m\u001b[39mEMOJI_face_with_tears_of_joy\u001b[0m\u001b[1;39m]\u001b[0m\n",
       "\u001b[39mOutput: food poison%Keyword\u001b[0m\n",
       "\u001b[39m    <<SYS>\u001b[0m\u001b[1m>\u001b[0m\n",
       "    Input: @USER As much fun as I can. Woke up with food poisoning or stomach flu. Been bugging me all day #tmi \n",
       "Almost done driving for the day\n",
       "Output: \u001b[1m[\u001b[0m\u001b[35m/\u001b[0m\u001b[95mINST\u001b[0m\u001b[1m]\u001b[0m\n",
       "\n"
      ]
     },
     "metadata": {},
     "output_type": "display_data"
    },
    {
     "data": {
      "text/html": [
       "<pre style=\"white-space:pre;overflow-x:auto;line-height:normal;font-family:Menlo,'DejaVu Sans Mono',consolas,'Courier New',monospace\"><span style=\"color: #00ff00; text-decoration-color: #00ff00\">───────────────────────────────────────────────────────────────────────────────────────────────────────────────────</span>\n",
       "</pre>\n"
      ],
      "text/plain": [
       "\u001b[92m───────────────────────────────────────────────────────────────────────────────────────────────────────────────────\u001b[0m\n"
      ]
     },
     "metadata": {},
     "output_type": "display_data"
    }
   ],
   "source": [
    "ds = AutolabelDataset(test_data[[text_column, example_selection_label_column, label_column]], config=config)\n",
    "agent.plan(ds)"
   ]
  },
  {
   "cell_type": "code",
   "execution_count": 14,
   "id": "066e6a3b-86ff-47ca-826a-e2690bfeee7e",
   "metadata": {},
   "outputs": [
    {
     "data": {
      "application/vnd.jupyter.widget-view+json": {
       "model_id": "b29cdf9bb7f44c90b4525275cadd4c9a",
       "version_major": 2,
       "version_minor": 0
      },
      "text/plain": [
       "Output()"
      ]
     },
     "metadata": {},
     "output_type": "display_data"
    },
    {
     "data": {
      "application/vnd.jupyter.widget-view+json": {
       "model_id": "c8019fb637c34325958313f4ce8779bb",
       "version_major": 2,
       "version_minor": 0
      },
      "text/plain": [
       "Batches:   0%|          | 0/1 [00:00<?, ?it/s]"
      ]
     },
     "metadata": {},
     "output_type": "display_data"
    },
    {
     "data": {
      "application/vnd.jupyter.widget-view+json": {
       "model_id": "89d1ea3a79b84267861ca0ebf27452f3",
       "version_major": 2,
       "version_minor": 0
      },
      "text/plain": [
       "Batches:   0%|          | 0/1 [00:00<?, ?it/s]"
      ]
     },
     "metadata": {},
     "output_type": "display_data"
    },
    {
     "data": {
      "application/vnd.jupyter.widget-view+json": {
       "model_id": "7ef8b60623894009b10238b3b94c25d0",
       "version_major": 2,
       "version_minor": 0
      },
      "text/plain": [
       "Batches:   0%|          | 0/1 [00:00<?, ?it/s]"
      ]
     },
     "metadata": {},
     "output_type": "display_data"
    },
    {
     "data": {
      "application/vnd.jupyter.widget-view+json": {
       "model_id": "f58853597e1547cd883a45eddd57801d",
       "version_major": 2,
       "version_minor": 0
      },
      "text/plain": [
       "Batches:   0%|          | 0/1 [00:00<?, ?it/s]"
      ]
     },
     "metadata": {},
     "output_type": "display_data"
    },
    {
     "data": {
      "application/vnd.jupyter.widget-view+json": {
       "model_id": "9d7ceb9e03bb4615ab7a569da34a4811",
       "version_major": 2,
       "version_minor": 0
      },
      "text/plain": [
       "Batches:   0%|          | 0/1 [00:00<?, ?it/s]"
      ]
     },
     "metadata": {},
     "output_type": "display_data"
    },
    {
     "data": {
      "application/vnd.jupyter.widget-view+json": {
       "model_id": "d7c28a328cf5461a8f79b2d95e1a9fc4",
       "version_major": 2,
       "version_minor": 0
      },
      "text/plain": [
       "Batches:   0%|          | 0/1 [00:00<?, ?it/s]"
      ]
     },
     "metadata": {},
     "output_type": "display_data"
    },
    {
     "data": {
      "application/vnd.jupyter.widget-view+json": {
       "model_id": "0e96b4ebca2c4273b5bad83ea9716cf1",
       "version_major": 2,
       "version_minor": 0
      },
      "text/plain": [
       "Batches:   0%|          | 0/1 [00:00<?, ?it/s]"
      ]
     },
     "metadata": {},
     "output_type": "display_data"
    },
    {
     "data": {
      "application/vnd.jupyter.widget-view+json": {
       "model_id": "5f7f47766f9f463d82fe6e9497a9ea0a",
       "version_major": 2,
       "version_minor": 0
      },
      "text/plain": [
       "Batches:   0%|          | 0/1 [00:00<?, ?it/s]"
      ]
     },
     "metadata": {},
     "output_type": "display_data"
    },
    {
     "data": {
      "application/vnd.jupyter.widget-view+json": {
       "model_id": "736e5e147e7d4d249e01e2056870f892",
       "version_major": 2,
       "version_minor": 0
      },
      "text/plain": [
       "Batches:   0%|          | 0/1 [00:00<?, ?it/s]"
      ]
     },
     "metadata": {},
     "output_type": "display_data"
    },
    {
     "data": {
      "text/html": [
       "<pre style=\"white-space:pre;overflow-x:auto;line-height:normal;font-family:Menlo,'DejaVu Sans Mono',consolas,'Courier New',monospace\"></pre>\n"
      ],
      "text/plain": []
     },
     "metadata": {},
     "output_type": "display_data"
    },
    {
     "data": {
      "text/html": [
       "<pre style=\"white-space:pre;overflow-x:auto;line-height:normal;font-family:Menlo,'DejaVu Sans Mono',consolas,'Courier New',monospace\">Actual Cost: <span style=\"color: #008080; text-decoration-color: #008080; font-weight: bold\">0.0</span>\n",
       "</pre>\n"
      ],
      "text/plain": [
       "Actual Cost: \u001b[1;36m0.0\u001b[0m\n"
      ]
     },
     "metadata": {},
     "output_type": "display_data"
    },
    {
     "data": {
      "text/html": [
       "<pre style=\"white-space:pre;overflow-x:auto;line-height:normal;font-family:Menlo,'DejaVu Sans Mono',consolas,'Courier New',monospace\">┏━━━━━━━━━┳━━━━━━━━━━━━━━━━━┳━━━━━━━━━━┳━━━━━━━━━━━┳━━━━━━━━━━━━┳━━━━━━━━━━━━━┳━━━━━━━━━━┓\n",
       "┃<span style=\"font-weight: bold\"> support </span>┃<span style=\"font-weight: bold\"> completion_rate </span>┃<span style=\"font-weight: bold\"> f1_exact </span>┃<span style=\"font-weight: bold\"> f1_strict </span>┃<span style=\"font-weight: bold\"> f1_partial </span>┃<span style=\"font-weight: bold\"> f1_ent_type </span>┃<span style=\"font-weight: bold\"> accuracy </span>┃\n",
       "┡━━━━━━━━━╇━━━━━━━━━━━━━━━━━╇━━━━━━━━━━╇━━━━━━━━━━━╇━━━━━━━━━━━━╇━━━━━━━━━━━━━╇━━━━━━━━━━┩\n",
       "│<span style=\"color: #008080; text-decoration-color: #008080; font-weight: bold\"> 10      </span>│<span style=\"color: #008080; text-decoration-color: #008080; font-weight: bold\"> 1.0             </span>│<span style=\"color: #008080; text-decoration-color: #008080; font-weight: bold\"> 0.3      </span>│<span style=\"color: #008080; text-decoration-color: #008080; font-weight: bold\"> 0.2       </span>│<span style=\"color: #008080; text-decoration-color: #008080; font-weight: bold\"> 0.3        </span>│<span style=\"color: #008080; text-decoration-color: #008080; font-weight: bold\"> 0.2         </span>│<span style=\"color: #008080; text-decoration-color: #008080; font-weight: bold\"> 0.1176   </span>│\n",
       "└─────────┴─────────────────┴──────────┴───────────┴────────────┴─────────────┴──────────┘\n",
       "</pre>\n"
      ],
      "text/plain": [
       "┏━━━━━━━━━┳━━━━━━━━━━━━━━━━━┳━━━━━━━━━━┳━━━━━━━━━━━┳━━━━━━━━━━━━┳━━━━━━━━━━━━━┳━━━━━━━━━━┓\n",
       "┃\u001b[1m \u001b[0m\u001b[1msupport\u001b[0m\u001b[1m \u001b[0m┃\u001b[1m \u001b[0m\u001b[1mcompletion_rate\u001b[0m\u001b[1m \u001b[0m┃\u001b[1m \u001b[0m\u001b[1mf1_exact\u001b[0m\u001b[1m \u001b[0m┃\u001b[1m \u001b[0m\u001b[1mf1_strict\u001b[0m\u001b[1m \u001b[0m┃\u001b[1m \u001b[0m\u001b[1mf1_partial\u001b[0m\u001b[1m \u001b[0m┃\u001b[1m \u001b[0m\u001b[1mf1_ent_type\u001b[0m\u001b[1m \u001b[0m┃\u001b[1m \u001b[0m\u001b[1maccuracy\u001b[0m\u001b[1m \u001b[0m┃\n",
       "┡━━━━━━━━━╇━━━━━━━━━━━━━━━━━╇━━━━━━━━━━╇━━━━━━━━━━━╇━━━━━━━━━━━━╇━━━━━━━━━━━━━╇━━━━━━━━━━┩\n",
       "│\u001b[1;36m \u001b[0m\u001b[1;36m10     \u001b[0m\u001b[1;36m \u001b[0m│\u001b[1;36m \u001b[0m\u001b[1;36m1.0            \u001b[0m\u001b[1;36m \u001b[0m│\u001b[1;36m \u001b[0m\u001b[1;36m0.3     \u001b[0m\u001b[1;36m \u001b[0m│\u001b[1;36m \u001b[0m\u001b[1;36m0.2      \u001b[0m\u001b[1;36m \u001b[0m│\u001b[1;36m \u001b[0m\u001b[1;36m0.3       \u001b[0m\u001b[1;36m \u001b[0m│\u001b[1;36m \u001b[0m\u001b[1;36m0.2        \u001b[0m\u001b[1;36m \u001b[0m│\u001b[1;36m \u001b[0m\u001b[1;36m0.1176  \u001b[0m\u001b[1;36m \u001b[0m│\n",
       "└─────────┴─────────────────┴──────────┴───────────┴────────────┴─────────────┴──────────┘\n"
      ]
     },
     "metadata": {},
     "output_type": "display_data"
    }
   ],
   "source": [
    "# now, do the actual labeling\n",
    "ds = agent.run(ds)"
   ]
  },
  {
   "cell_type": "code",
   "execution_count": 15,
   "id": "7045720a-3e2a-432c-8f86-9d996e9a7980",
   "metadata": {},
   "outputs": [
    {
     "data": {
      "text/html": [
       "<pre style=\"white-space:pre;overflow-x:auto;line-height:normal;font-family:Menlo,'DejaVu Sans Mono',consolas,'Courier New',monospace\">┏━━━━━━━━━┳━━━━━━━━━━━━━━━━━┳━━━━━━━━━━┳━━━━━━━━━━━┳━━━━━━━━━━━━┳━━━━━━━━━━━━━┳━━━━━━━━━━┓\n",
       "┃<span style=\"font-weight: bold\"> support </span>┃<span style=\"font-weight: bold\"> completion_rate </span>┃<span style=\"font-weight: bold\"> f1_exact </span>┃<span style=\"font-weight: bold\"> f1_strict </span>┃<span style=\"font-weight: bold\"> f1_partial </span>┃<span style=\"font-weight: bold\"> f1_ent_type </span>┃<span style=\"font-weight: bold\"> accuracy </span>┃\n",
       "┡━━━━━━━━━╇━━━━━━━━━━━━━━━━━╇━━━━━━━━━━╇━━━━━━━━━━━╇━━━━━━━━━━━━╇━━━━━━━━━━━━━╇━━━━━━━━━━┩\n",
       "│<span style=\"color: #008080; text-decoration-color: #008080; font-weight: bold\"> 10      </span>│<span style=\"color: #008080; text-decoration-color: #008080; font-weight: bold\"> 1.0             </span>│<span style=\"color: #008080; text-decoration-color: #008080; font-weight: bold\"> 0.3      </span>│<span style=\"color: #008080; text-decoration-color: #008080; font-weight: bold\"> 0.2       </span>│<span style=\"color: #008080; text-decoration-color: #008080; font-weight: bold\"> 0.3        </span>│<span style=\"color: #008080; text-decoration-color: #008080; font-weight: bold\"> 0.2         </span>│<span style=\"color: #008080; text-decoration-color: #008080; font-weight: bold\"> 0.1176   </span>│\n",
       "└─────────┴─────────────────┴──────────┴───────────┴────────────┴─────────────┴──────────┘\n",
       "</pre>\n"
      ],
      "text/plain": [
       "┏━━━━━━━━━┳━━━━━━━━━━━━━━━━━┳━━━━━━━━━━┳━━━━━━━━━━━┳━━━━━━━━━━━━┳━━━━━━━━━━━━━┳━━━━━━━━━━┓\n",
       "┃\u001b[1m \u001b[0m\u001b[1msupport\u001b[0m\u001b[1m \u001b[0m┃\u001b[1m \u001b[0m\u001b[1mcompletion_rate\u001b[0m\u001b[1m \u001b[0m┃\u001b[1m \u001b[0m\u001b[1mf1_exact\u001b[0m\u001b[1m \u001b[0m┃\u001b[1m \u001b[0m\u001b[1mf1_strict\u001b[0m\u001b[1m \u001b[0m┃\u001b[1m \u001b[0m\u001b[1mf1_partial\u001b[0m\u001b[1m \u001b[0m┃\u001b[1m \u001b[0m\u001b[1mf1_ent_type\u001b[0m\u001b[1m \u001b[0m┃\u001b[1m \u001b[0m\u001b[1maccuracy\u001b[0m\u001b[1m \u001b[0m┃\n",
       "┡━━━━━━━━━╇━━━━━━━━━━━━━━━━━╇━━━━━━━━━━╇━━━━━━━━━━━╇━━━━━━━━━━━━╇━━━━━━━━━━━━━╇━━━━━━━━━━┩\n",
       "│\u001b[1;36m \u001b[0m\u001b[1;36m10     \u001b[0m\u001b[1;36m \u001b[0m│\u001b[1;36m \u001b[0m\u001b[1;36m1.0            \u001b[0m\u001b[1;36m \u001b[0m│\u001b[1;36m \u001b[0m\u001b[1;36m0.3     \u001b[0m\u001b[1;36m \u001b[0m│\u001b[1;36m \u001b[0m\u001b[1;36m0.2      \u001b[0m\u001b[1;36m \u001b[0m│\u001b[1;36m \u001b[0m\u001b[1;36m0.3       \u001b[0m\u001b[1;36m \u001b[0m│\u001b[1;36m \u001b[0m\u001b[1;36m0.2        \u001b[0m\u001b[1;36m \u001b[0m│\u001b[1;36m \u001b[0m\u001b[1;36m0.1176  \u001b[0m\u001b[1;36m \u001b[0m│\n",
       "└─────────┴─────────────────┴──────────┴───────────┴────────────┴─────────────┴──────────┘\n"
      ]
     },
     "metadata": {},
     "output_type": "display_data"
    }
   ],
   "source": [
    "metrics = ds.eval()"
   ]
  },
  {
   "cell_type": "code",
   "execution_count": 16,
   "id": "4bcbd487-91d5-44af-85e5-c85798e68704",
   "metadata": {},
   "outputs": [],
   "source": [
    "ds.df.to_csv(output_path, index=False)\n",
    "ds.df.to_pickle(output_path.replace('.csv', '.pkl'))"
   ]
  }
 ],
 "metadata": {
  "kernelspec": {
   "display_name": "py3.9-visa",
   "language": "python",
   "name": "py3.9-visa"
  },
  "language_info": {
   "codemirror_mode": {
    "name": "ipython",
    "version": 3
   },
   "file_extension": ".py",
   "mimetype": "text/x-python",
   "name": "python",
   "nbconvert_exporter": "python",
   "pygments_lexer": "ipython3",
   "version": "3.9.12"
  }
 },
 "nbformat": 4,
 "nbformat_minor": 5
}
