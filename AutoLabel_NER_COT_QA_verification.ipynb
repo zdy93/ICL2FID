{
 "cells": [
  {
   "cell_type": "code",
   "execution_count": 1,
   "id": "f5198684-0eb5-4959-941e-59d467a9b688",
   "metadata": {
    "tags": [
     "parameters"
    ]
   },
   "outputs": [],
   "source": [
    "few_shot_path = '/scratch/dzhang5/LLM/TWEET-FID/expert.train.short.csv'\n",
    "verify_few_shot_path = '/scratch/dzhang5/LLM/TWEET-FID/Food-verify.expert.train.short.csv'\n",
    "data_path = '/scratch/dzhang5/LLM/TWEET-FID/expert.smalltest.csv'\n",
    "output_dir = '/scratch/dzhang5/LLM/TWEET-FID/test-results-autolabel-ner-qa'\n",
    "model_name = \"gpt-3.5-turbo\"\n",
    "label_column = 'Food_answer'\n",
    "text_column = 'context'\n",
    "explanation_column = 'Two_step_Food_explanation'\n",
    "example_selection_label_column = 'has_Food'\n",
    "label_symbol = \"^^^^\"\n",
    "few_shot_num = 8\n",
    "few_shot_selection = 'label_diversity_similarity'\n",
    "verify_few_shot_selection = \"semantic_similarity\"\n",
    "use_current_explanation = False\n",
    "use_ground_explanation = False\n",
    "token_path = \"/home/dzhang5/.cache/huggingface/token\"\n",
    "cache=False\n",
    "console_output=True\n",
    "temperature=0.1\n",
    "verify=True\n",
    "label_version='v1'\n",
    "task_version='v1'\n",
    "random_shuffle_examples = True\n",
    "random_shuffle_examples_seed = 1"
   ]
  },
  {
   "cell_type": "markdown",
   "id": "6bff44b7-dd3e-4e0a-abb4-aa59b62cd78a",
   "metadata": {},
   "source": [
    "# Generation Stage"
   ]
  },
  {
   "cell_type": "code",
   "execution_count": 2,
   "id": "7be56d66-8b3a-48f1-ba9b-5aea49f4b4e6",
   "metadata": {},
   "outputs": [],
   "source": [
    "from autolabel.schema import ModelProvider, TaskType\n",
    "from autolabel.models import register_model, MODEL_REGISTRY\n",
    "from hf_pipeline_new import HFPipelineLLMNew\n",
    "from few_shot_new import NewAutoLabelConfig, NewExampleSelectorFactory\n",
    "from autolabel.few_shot import ExampleSelectorFactory\n",
    "from template_inst import update_inst_mode\n",
    "from named_entity_recognition_new import NewNamedEntityRecognitionTask\n",
    "from classification_new import NewClassificationTask\n",
    "from question_answering_new import NewQuestionAnsweringTask\n",
    "from autolabel.tasks import TASK_TYPE_TO_IMPLEMENTATION \n",
    "from prompt_template import load_ner_task_prompt\n",
    "import sys"
   ]
  },
  {
   "cell_type": "code",
   "execution_count": 3,
   "id": "30bc6fcd-7a0f-4e12-9116-4879e308abd4",
   "metadata": {},
   "outputs": [],
   "source": [
    "update_inst_mode(model_name)\n",
    "TASK_TYPE_TO_IMPLEMENTATION[TaskType.NAMED_ENTITY_RECOGNITION] = NewNamedEntityRecognitionTask\n",
    "TASK_TYPE_TO_IMPLEMENTATION[TaskType.CLASSIFICATION] = NewClassificationTask\n",
    "TASK_TYPE_TO_IMPLEMENTATION[TaskType.QUESTION_ANSWERING] = NewQuestionAnsweringTask\n",
    "sys.modules['autolabel.labeler'].ExampleSelectorFactory = NewExampleSelectorFactory\n",
    "register_model(ModelProvider.HUGGINGFACE_PIPELINE, HFPipelineLLMNew)"
   ]
  },
  {
   "cell_type": "code",
   "execution_count": 4,
   "id": "d67c0a78-0a28-4ad1-84d2-9edf12534aed",
   "metadata": {},
   "outputs": [],
   "source": [
    "from autolabel import LabelingAgent, AutolabelDataset\n",
    "import json\n",
    "import os\n",
    "import pandas as pd"
   ]
  },
  {
   "cell_type": "code",
   "execution_count": 5,
   "id": "0d69efda-a796-4ba8-9b7a-a43bc10db380",
   "metadata": {},
   "outputs": [
    {
     "name": "stdout",
     "output_type": "stream",
     "text": [
      "Token will not been saved to git credential helper. Pass `add_to_git_credential=True` if you want to set the git credential as well.\n",
      "Token is valid (permission: read).\n",
      "Your token has been saved to /home/dzhang5/.cache/huggingface/token\n",
      "Login successful\n"
     ]
    }
   ],
   "source": [
    "with open(token_path) as tfile:\n",
    "    token_str = tfile.read()\n",
    "\n",
    "from huggingface_hub import login\n",
    "login(token=token_str)"
   ]
  },
  {
   "cell_type": "code",
   "execution_count": 6,
   "id": "ae5043f6-302a-4c91-bc1c-547b760378ab",
   "metadata": {},
   "outputs": [],
   "source": [
    "no_auto = [\"microsoft/prophetnet\", \"microsoft/phi-2\", \"google/pegasus-x\"]\n",
    "if any([pre in model_name for pre in no_auto]):\n",
    "    device_map = None\n",
    "else:\n",
    "    device_map = \"auto\""
   ]
  },
  {
   "cell_type": "code",
   "execution_count": 7,
   "id": "292533f9-7851-4717-ade0-0f1ab70dfebd",
   "metadata": {},
   "outputs": [],
   "source": [
    "if not os.path.exists(output_dir):\n",
    "    # Create the directory\n",
    "    os.makedirs(output_dir)\n",
    "label_type = label_column.split('_')[0]\n",
    "output_name = os.path.split(model_name)[-1] + '_' + few_shot_selection + '_COT_' + str(explanation_column) + '_cur_' + str(use_current_explanation) + '_ground_' + str(use_ground_explanation) + '_' + label_type + '_' + os.path.split(data_path)[-1]\n",
    "output_path = os.path.join(output_dir, output_name)"
   ]
  },
  {
   "cell_type": "code",
   "execution_count": 8,
   "id": "7a00bc18-8124-4baf-8c6b-65bb9b63482a",
   "metadata": {},
   "outputs": [],
   "source": [
    "refuel_models = [\"refuel-llm\", \"llama-13b-chat\"]\n",
    "if model_name in refuel_models:\n",
    "    provider = \"refuel\"\n",
    "    em_provider = \"huggingface_pipeline\"\n",
    "    model_params = {\"max_length\":4096, \"temperature\": temperature}\n",
    "    task_name = f\"FoodborneIllnessIncidentTweetNERQA_{few_shot_selection}_{label_type}_{model_name}\"\n",
    "elif model_name.startswith('gpt'):\n",
    "    provider = \"openai\"\n",
    "    em_provider = \"openai\"\n",
    "    model_params = {\"max_tokens\":4096, \"temperature\": temperature}\n",
    "    task_name = f\"FoodborneIllnessIncidentTweetNERQA_{few_shot_selection}_{label_type}_{model_name}\"\n",
    "else:\n",
    "    provider = \"huggingface_pipeline\"\n",
    "    em_provider = \"huggingface_pipeline\"\n",
    "    model_params = {\"max_length\":4096, \"temperature\": temperature,\n",
    "                    \"quantize\": 16, \"device_map\": device_map,\n",
    "                    \"token\": token_str}\n",
    "    task_name = f\"FoodborneIllnessIncidentTweetNERQA_{few_shot_selection}_{label_type}_{model_name.split('/')[1]}\""
   ]
  },
  {
   "cell_type": "code",
   "execution_count": 9,
   "id": "2fc43570-d3c0-439b-82e3-e85aa5ccc069",
   "metadata": {},
   "outputs": [],
   "source": [
    "sym_len = len(label_symbol)\n",
    "label_prefix, label_suffix, label_description, task_guideline, output_guideline = load_ner_task_prompt(label_type, label_symbol, label_version, task_version, True)"
   ]
  },
  {
   "cell_type": "code",
   "execution_count": 10,
   "id": "24db5348-dfef-4597-b09c-8d6d6947553c",
   "metadata": {},
   "outputs": [],
   "source": [
    "test_data = pd.read_csv(data_path)"
   ]
  },
  {
   "cell_type": "code",
   "execution_count": 11,
   "id": "eadd57f3-0da9-4f71-ab88-f73ea72d2f13",
   "metadata": {},
   "outputs": [],
   "source": [
    "if use_current_explanation and not use_ground_explanation:\n",
    "    explanation_column = explanation_column + \"_prediction\""
   ]
  },
  {
   "cell_type": "code",
   "execution_count": 12,
   "id": "15567ff5-37f7-4b35-a48b-83b310b410bb",
   "metadata": {},
   "outputs": [],
   "source": [
    "config = {\n",
    "    \"task_name\": task_name,\n",
    "    \"task_type\": \"question_answering\",\n",
    "    \"dataset\": {\n",
    "        \"label_column\": label_column,\n",
    "        \"text_column\": text_column,\n",
    "        \"explanation_column\": explanation_column,\n",
    "        \"example_selection_label_column\": example_selection_label_column,\n",
    "        \"delimiter\": \",\",\n",
    "        \"label_description\": label_description \n",
    "    },\n",
    "    \"model\": {\n",
    "        \"provider\": provider,\n",
    "        \"name\": model_name,\n",
    "        \"params\": model_params\n",
    "    },\n",
    "    \"embedding\": {\n",
    "        \"provider\": em_provider,\n",
    "    },\n",
    "    \"prompt\": {\n",
    "        \"task_guidelines\": task_guideline,\n",
    "        \"output_guidelines\": output_guideline,\n",
    "        \"labels\": [\n",
    "            \"Food\",\n",
    "            \"Symptom\",\n",
    "            \"Location\",\n",
    "            \"Keyword\"\n",
    "        ],\n",
    "        \"example_selection_labels\":[\n",
    "            \"yes\",\n",
    "            \"no\"\n",
    "        ],\n",
    "        \"few_shot_examples\": few_shot_path,\n",
    "        \"few_shot_selection\": few_shot_selection,\n",
    "        \"few_shot_num\": few_shot_num,\n",
    "        \"use_current_explanation\": use_current_explanation,\n",
    "        \"random_shuffle_examples\": random_shuffle_examples,\n",
    "        \"random_shuffle_examples_seed\": random_shuffle_examples_seed,\n",
    "        \"example_template\": f\"Input: {{{text_column}}}\\nOutput: Let's think step by step.\\n{{{explanation_column}}}\\n{{{label_column}}}\",\n",
    "        \"chain_of_thought\": True\n",
    "    }\n",
    "}\n",
    "\n",
    "config = NewAutoLabelConfig(config)"
   ]
  },
  {
   "cell_type": "code",
   "execution_count": 13,
   "id": "e28122bc-1337-497b-8410-54fd17249452",
   "metadata": {},
   "outputs": [
    {
     "name": "stderr",
     "output_type": "stream",
     "text": [
      "2024-03-26 03:12:43 autolabel.labeler WARNING: cache parameter is deprecated and will be removed soon. Please use generation_cache and transform_cache instead.\n",
      "/scratch/dzhang5/visa/visa39/lib/python3.9/site-packages/langchain_core/_api/deprecation.py:117: LangChainDeprecationWarning: The class `langchain_community.chat_models.openai.ChatOpenAI` was deprecated in langchain-community 0.0.10 and will be removed in 0.2.0. An updated version of the class exists in the langchain-openai package and should be used instead. To use it run `pip install -U langchain-openai` and import as `from langchain_openai import ChatOpenAI`.\n",
      "  warn_deprecated(\n"
     ]
    }
   ],
   "source": [
    "agent = LabelingAgent(config=config, console_output=console_output, cache=cache)"
   ]
  },
  {
   "cell_type": "code",
   "execution_count": 14,
   "id": "05bbac1b-14ee-4c3d-8658-849159373b4a",
   "metadata": {},
   "outputs": [],
   "source": [
    "if use_current_explanation:\n",
    "    ds = AutolabelDataset(test_data[[text_column, explanation_column, example_selection_label_column, label_column]], config=config)\n",
    "else:\n",
    "    ds = AutolabelDataset(test_data[[text_column, example_selection_label_column, label_column]], config=config)"
   ]
  },
  {
   "cell_type": "code",
   "execution_count": 15,
   "id": "c175c7c0-a61e-4d63-bc23-b06c51c8d72e",
   "metadata": {},
   "outputs": [
    {
     "name": "stderr",
     "output_type": "stream",
     "text": [
      "/scratch/dzhang5/visa/visa39/lib/python3.9/site-packages/langchain_core/_api/deprecation.py:117: LangChainDeprecationWarning: The class `langchain_community.embeddings.openai.OpenAIEmbeddings` was deprecated in langchain-community 0.1.0 and will be removed in 0.2.0. An updated version of the class exists in the langchain-openai package and should be used instead. To use it run `pip install -U langchain-openai` and import as `from langchain_openai import OpenAIEmbeddings`.\n",
      "  warn_deprecated(\n",
      "2024-03-26 03:12:46 httpx INFO: HTTP Request: POST https://api.openai.com/v1/embeddings \"HTTP/1.1 200 OK\"\n",
      "2024-03-26 03:12:50 httpx INFO: HTTP Request: POST https://api.openai.com/v1/embeddings \"HTTP/1.1 200 OK\"\n",
      "2024-03-26 03:12:54 httpx INFO: HTTP Request: POST https://api.openai.com/v1/embeddings \"HTTP/1.1 200 OK\"\n"
     ]
    },
    {
     "data": {
      "application/vnd.jupyter.widget-view+json": {
       "model_id": "5c9a087a76df4fec8c0fedd5de6e1c29",
       "version_major": 2,
       "version_minor": 0
      },
      "text/plain": [
       "Output()"
      ]
     },
     "metadata": {},
     "output_type": "display_data"
    },
    {
     "name": "stderr",
     "output_type": "stream",
     "text": [
      "2024-03-26 03:12:56 httpx INFO: HTTP Request: POST https://api.openai.com/v1/embeddings \"HTTP/1.1 200 OK\"\n",
      "2024-03-26 03:12:56 httpx INFO: HTTP Request: POST https://api.openai.com/v1/embeddings \"HTTP/1.1 200 OK\"\n",
      "2024-03-26 03:12:56 httpx INFO: HTTP Request: POST https://api.openai.com/v1/embeddings \"HTTP/1.1 200 OK\"\n",
      "2024-03-26 03:12:57 httpx INFO: HTTP Request: POST https://api.openai.com/v1/embeddings \"HTTP/1.1 200 OK\"\n",
      "2024-03-26 03:12:57 httpx INFO: HTTP Request: POST https://api.openai.com/v1/embeddings \"HTTP/1.1 200 OK\"\n",
      "2024-03-26 03:12:57 httpx INFO: HTTP Request: POST https://api.openai.com/v1/embeddings \"HTTP/1.1 200 OK\"\n",
      "2024-03-26 03:12:57 httpx INFO: HTTP Request: POST https://api.openai.com/v1/embeddings \"HTTP/1.1 200 OK\"\n",
      "2024-03-26 03:12:57 httpx INFO: HTTP Request: POST https://api.openai.com/v1/embeddings \"HTTP/1.1 200 OK\"\n",
      "2024-03-26 03:12:57 httpx INFO: HTTP Request: POST https://api.openai.com/v1/embeddings \"HTTP/1.1 200 OK\"\n",
      "2024-03-26 03:12:58 httpx INFO: HTTP Request: POST https://api.openai.com/v1/embeddings \"HTTP/1.1 200 OK\"\n"
     ]
    },
    {
     "data": {
      "text/html": [
       "<pre style=\"white-space:pre;overflow-x:auto;line-height:normal;font-family:Menlo,'DejaVu Sans Mono',consolas,'Courier New',monospace\"></pre>\n"
      ],
      "text/plain": []
     },
     "metadata": {},
     "output_type": "display_data"
    },
    {
     "data": {
      "text/html": [
       "<pre style=\"white-space:pre;overflow-x:auto;line-height:normal;font-family:Menlo,'DejaVu Sans Mono',consolas,'Courier New',monospace\">\n",
       "</pre>\n"
      ],
      "text/plain": [
       "\n"
      ]
     },
     "metadata": {},
     "output_type": "display_data"
    },
    {
     "data": {
      "text/html": [
       "<pre style=\"white-space:pre;overflow-x:auto;line-height:normal;font-family:Menlo,'DejaVu Sans Mono',consolas,'Courier New',monospace\">┌──────────────────────────┬─────────┐\n",
       "│<span style=\"color: #800080; text-decoration-color: #800080; font-weight: bold\"> Total Estimated Cost     </span>│<span style=\"color: #008000; text-decoration-color: #008000; font-weight: bold\"> $0.0973 </span>│\n",
       "│<span style=\"color: #800080; text-decoration-color: #800080; font-weight: bold\"> Number of Examples       </span>│<span style=\"color: #008000; text-decoration-color: #008000; font-weight: bold\"> 10      </span>│\n",
       "│<span style=\"color: #800080; text-decoration-color: #800080; font-weight: bold\"> Average cost per example </span>│<span style=\"color: #008000; text-decoration-color: #008000; font-weight: bold\"> $0.0097 </span>│\n",
       "└──────────────────────────┴─────────┘\n",
       "</pre>\n"
      ],
      "text/plain": [
       "┌──────────────────────────┬─────────┐\n",
       "│\u001b[1;35m \u001b[0m\u001b[1;35mTotal Estimated Cost    \u001b[0m\u001b[1;35m \u001b[0m│\u001b[1;32m \u001b[0m\u001b[1;32m$0.0973\u001b[0m\u001b[1;32m \u001b[0m│\n",
       "│\u001b[1;35m \u001b[0m\u001b[1;35mNumber of Examples      \u001b[0m\u001b[1;35m \u001b[0m│\u001b[1;32m \u001b[0m\u001b[1;32m10     \u001b[0m\u001b[1;32m \u001b[0m│\n",
       "│\u001b[1;35m \u001b[0m\u001b[1;35mAverage cost per example\u001b[0m\u001b[1;35m \u001b[0m│\u001b[1;32m \u001b[0m\u001b[1;32m$0.0097\u001b[0m\u001b[1;32m \u001b[0m│\n",
       "└──────────────────────────┴─────────┘\n"
      ]
     },
     "metadata": {},
     "output_type": "display_data"
    },
    {
     "data": {
      "text/html": [
       "<pre style=\"white-space:pre;overflow-x:auto;line-height:normal;font-family:Menlo,'DejaVu Sans Mono',consolas,'Courier New',monospace\"><span style=\"color: #00ff00; text-decoration-color: #00ff00\">───────────────────────────────────────────────── </span>Prompt Example<span style=\"color: #00ff00; text-decoration-color: #00ff00\"> ──────────────────────────────────────────────────</span>\n",
       "</pre>\n"
      ],
      "text/plain": [
       "\u001b[92m───────────────────────────────────────────────── \u001b[0mPrompt Example\u001b[92m ──────────────────────────────────────────────────\u001b[0m\n"
      ]
     },
     "metadata": {},
     "output_type": "display_data"
    },
    {
     "data": {
      "text/html": [
       "<pre style=\"white-space:pre;overflow-x:auto;line-height:normal;font-family:Menlo,'DejaVu Sans Mono',consolas,'Courier New',monospace\">You are an expert at extracting Food entities that are related to foodborne illness incident from text. In the \n",
       "given text, your task is to label Food entities that are specific food item that caused the potential foodborne \n",
       "illness incident. Note that you should surround the extracted entities in the text with <span style=\"color: #008000; text-decoration-color: #008000\">\"^^\"</span> and <span style=\"color: #008000; text-decoration-color: #008000\">\"^^\"</span>. Use the \n",
       "following examples as a guide for your predictions and format your responses similarly.\n",
       "\n",
       "Your answer will consist of an explanation, followed by the correct labeled sentence. The last line of the answer \n",
       "should always be is JSON format with one key: <span style=\"font-weight: bold\">{</span><span style=\"color: #008000; text-decoration-color: #008000\">\"label\"</span>: <span style=\"color: #008000; text-decoration-color: #008000\">\"the correct labeled sentence\"</span><span style=\"font-weight: bold\">}</span>.\n",
       "Note that if the given text does not include any Food entity related to foodborne illness, your labeled sentence \n",
       "will be the input text.\n",
       "\n",
       "Some examples with their output answers are provided below:\n",
       "\n",
       "Input: I woke up with either a stomach bug or food poisoning , and can't get out of bed 😔 I have four papers to \n",
       "write , a final , and four performances this week . Please pray I'm better ASAP 😥\n",
       "Output: Let's think step by step.\n",
       "The text indicates a foodborne illness incident. However, no Food entity in the text is relevant to foodborne \n",
       "illness incident.\n",
       "<span style=\"font-weight: bold\">{</span><span style=\"color: #008000; text-decoration-color: #008000\">\"label\"</span>: <span style=\"color: #008000; text-decoration-color: #008000\">\"I woke up with either a stomach bug or food poisoning , and can't get out of bed \\ud83d\\ude14 I have </span>\n",
       "<span style=\"color: #008000; text-decoration-color: #008000\">four papers to write , a final , and four performances this week . Please pray I'm better ASAP \\ud83d\\ude25\"</span><span style=\"font-weight: bold\">}</span>\n",
       "\n",
       "Input: All that free food yesterday made me SO sick <span style=\"font-weight: bold\">[</span> EMOJI_face_with_tears_of_joy <span style=\"font-weight: bold\">]</span> idk if I got a bit of food \n",
       "poisoning or if a random <span style=\"color: #008080; text-decoration-color: #008080; font-weight: bold\">24</span> hour bug suddenly came on , but WOW it was intense !\n",
       "Output: Let's think step by step.\n",
       "The text indicates a foodborne illness incident. The word <span style=\"color: #008000; text-decoration-color: #008000\">\"free food\"</span> in the text is a Food entity, which is a \n",
       "specific food item that caused the potential foodborne illness incident.\n",
       "<span style=\"font-weight: bold\">{</span><span style=\"color: #008000; text-decoration-color: #008000\">\"label\"</span>: <span style=\"color: #008000; text-decoration-color: #008000\">\"All that ^^free food^^ yesterday made me SO sick [ EMOJI_face_with_tears_of_joy ] idk if I got a bit of </span>\n",
       "<span style=\"color: #008000; text-decoration-color: #008000\">food poisoning or if a random 24 hour bug suddenly came on , but WOW it was intense !\"</span><span style=\"font-weight: bold\">}</span>\n",
       "\n",
       "Input: I should be enroute fm ATL to ORF now , but had to change travel plans . . . been dealing with food \n",
       "poisoning the past <span style=\"color: #008080; text-decoration-color: #008080; font-weight: bold\">15</span> hours . Ugh , miserable .\n",
       "Output: Let's think step by step.\n",
       "The text indicates a foodborne illness incident. However, no Food entity in the text is relevant to foodborne \n",
       "illness incident.\n",
       "<span style=\"font-weight: bold\">{</span><span style=\"color: #008000; text-decoration-color: #008000\">\"label\"</span>: <span style=\"color: #008000; text-decoration-color: #008000\">\"I should be enroute fm ATL to ORF now , but had to change travel plans . . . been dealing with food </span>\n",
       "<span style=\"color: #008000; text-decoration-color: #008000\">poisoning the past 15 hours . Ugh , miserable .\"</span><span style=\"font-weight: bold\">}</span>\n",
       "\n",
       "Input: I am either dying or have food poisoning . . . I'm going with food poisoning since I cooked meat today <span style=\"font-weight: bold\">[</span> \n",
       "EMOJI_face_with_medical_mask <span style=\"font-weight: bold\">]</span>\n",
       "Output: Let's think step by step.\n",
       "The text indicates a foodborne illness incident. The word <span style=\"color: #008000; text-decoration-color: #008000\">\"meat\"</span> in the text is a Food entity, which is a specific \n",
       "food item that caused the potential foodborne illness incident.\n",
       "<span style=\"font-weight: bold\">{</span><span style=\"color: #008000; text-decoration-color: #008000\">\"label\"</span>: <span style=\"color: #008000; text-decoration-color: #008000\">\"I am either dying or have food poisoning . . . I'm going with food poisoning since I cooked ^^meat^^ </span>\n",
       "<span style=\"color: #008000; text-decoration-color: #008000\">today [ EMOJI_face_with_medical_mask ]\"</span><span style=\"font-weight: bold\">}</span>\n",
       "\n",
       "Input: @USER @USER @USER LOL DONT GET FOOD POISONING ! Me and my friend both got a taco in a bag on Tuesday and we \n",
       "were both extremely sick the next morning\n",
       "Output: Let's think step by step.\n",
       "The text indicates a foodborne illness incident. The word <span style=\"color: #008000; text-decoration-color: #008000\">\"taco\"</span> in the text is a Food entity, which is a specific \n",
       "food item that caused the potential foodborne illness incident.\n",
       "<span style=\"font-weight: bold\">{</span><span style=\"color: #008000; text-decoration-color: #008000\">\"label\"</span>: <span style=\"color: #008000; text-decoration-color: #008000\">\"@USER @USER @USER LOL DONT GET FOOD POISONING ! Me and my friend both got a ^^taco^^ in a bag on Tuesday</span>\n",
       "<span style=\"color: #008000; text-decoration-color: #008000\">and we were both extremely sick the next morning\"</span><span style=\"font-weight: bold\">}</span>\n",
       "\n",
       "Input: @USER LOL I know ! I've had a stomach bug or food poisoning since yesterday afternoon\n",
       "Output: Let's think step by step.\n",
       "The text indicates a foodborne illness incident. However, no Food entity in the text is relevant to foodborne \n",
       "illness incident.\n",
       "<span style=\"font-weight: bold\">{</span><span style=\"color: #008000; text-decoration-color: #008000\">\"label\"</span>: <span style=\"color: #008000; text-decoration-color: #008000\">\"@USER LOL I know ! I've had a stomach bug or food poisoning since yesterday afternoon\"</span><span style=\"font-weight: bold\">}</span>\n",
       "\n",
       "Input: @USER Tell them you got diarrhea and can't leave the toilet lmfao <span style=\"font-weight: bold\">[</span> EMOJI_skull <span style=\"font-weight: bold\">]</span> bomb food poisoning\n",
       "Output: Let's think step by step.\n",
       "The text indicates a foodborne illness incident. The word <span style=\"color: #008000; text-decoration-color: #008000\">\"toilet lmfao\"</span> in the text is a Food entity, which is a \n",
       "specific food item that caused the potential foodborne illness incident.\n",
       "<span style=\"font-weight: bold\">{</span><span style=\"color: #008000; text-decoration-color: #008000\">\"label\"</span>: <span style=\"color: #008000; text-decoration-color: #008000\">\"@USER Tell them you got diarrhea and can't leave the ^^toilet lmfao^^ [ EMOJI_skull ] bomb food </span>\n",
       "<span style=\"color: #008000; text-decoration-color: #008000\">poisoning\"</span><span style=\"font-weight: bold\">}</span>\n",
       "\n",
       "Input: @USER Hoping you are feeling better tonight ! Food poisoning is rough ! See you Tues . night ! TAKE CARE OF \n",
       "YOURSELF ! !\n",
       "Output: Let's think step by step.\n",
       "The text indicates a foodborne illness incident. However, no Food entity in the text is relevant to foodborne \n",
       "illness incident.\n",
       "<span style=\"font-weight: bold\">{</span><span style=\"color: #008000; text-decoration-color: #008000\">\"label\"</span>: <span style=\"color: #008000; text-decoration-color: #008000\">\"@USER Hoping you are feeling better tonight ! Food poisoning is rough ! See you Tues . night ! TAKE CARE</span>\n",
       "<span style=\"color: #008000; text-decoration-color: #008000\">OF YOURSELF ! !\"</span><span style=\"font-weight: bold\">}</span>\n",
       "\n",
       "Now I want you to label the following example:\n",
       "Input: @USER As much fun as I can . Woke up with food poisoning or stomach flu . Been bugging me all day #tmi \n",
       "Almost done driving for the day\n",
       "Output: Let's think step by step.\n",
       "\n",
       "\n",
       "</pre>\n"
      ],
      "text/plain": [
       "You are an expert at extracting Food entities that are related to foodborne illness incident from text. In the \n",
       "given text, your task is to label Food entities that are specific food item that caused the potential foodborne \n",
       "illness incident. Note that you should surround the extracted entities in the text with \u001b[32m\"^^\"\u001b[0m and \u001b[32m\"^^\"\u001b[0m. Use the \n",
       "following examples as a guide for your predictions and format your responses similarly.\n",
       "\n",
       "Your answer will consist of an explanation, followed by the correct labeled sentence. The last line of the answer \n",
       "should always be is JSON format with one key: \u001b[1m{\u001b[0m\u001b[32m\"label\"\u001b[0m: \u001b[32m\"the correct labeled sentence\"\u001b[0m\u001b[1m}\u001b[0m.\n",
       "Note that if the given text does not include any Food entity related to foodborne illness, your labeled sentence \n",
       "will be the input text.\n",
       "\n",
       "Some examples with their output answers are provided below:\n",
       "\n",
       "Input: I woke up with either a stomach bug or food poisoning , and can't get out of bed 😔 I have four papers to \n",
       "write , a final , and four performances this week . Please pray I'm better ASAP 😥\n",
       "Output: Let's think step by step.\n",
       "The text indicates a foodborne illness incident. However, no Food entity in the text is relevant to foodborne \n",
       "illness incident.\n",
       "\u001b[1m{\u001b[0m\u001b[32m\"label\"\u001b[0m: \u001b[32m\"I woke up with either a stomach bug or food poisoning , and can't get out of bed \\ud83d\\ude14 I have \u001b[0m\n",
       "\u001b[32mfour papers to write , a final , and four performances this week . Please pray I'm better ASAP \\ud83d\\ude25\"\u001b[0m\u001b[1m}\u001b[0m\n",
       "\n",
       "Input: All that free food yesterday made me SO sick \u001b[1m[\u001b[0m EMOJI_face_with_tears_of_joy \u001b[1m]\u001b[0m idk if I got a bit of food \n",
       "poisoning or if a random \u001b[1;36m24\u001b[0m hour bug suddenly came on , but WOW it was intense !\n",
       "Output: Let's think step by step.\n",
       "The text indicates a foodborne illness incident. The word \u001b[32m\"free food\"\u001b[0m in the text is a Food entity, which is a \n",
       "specific food item that caused the potential foodborne illness incident.\n",
       "\u001b[1m{\u001b[0m\u001b[32m\"label\"\u001b[0m: \u001b[32m\"All that ^^free food^^ yesterday made me SO sick \u001b[0m\u001b[32m[\u001b[0m\u001b[32m EMOJI_face_with_tears_of_joy \u001b[0m\u001b[32m]\u001b[0m\u001b[32m idk if I got a bit of \u001b[0m\n",
       "\u001b[32mfood poisoning or if a random 24 hour bug suddenly came on , but WOW it was intense !\"\u001b[0m\u001b[1m}\u001b[0m\n",
       "\n",
       "Input: I should be enroute fm ATL to ORF now , but had to change travel plans . . . been dealing with food \n",
       "poisoning the past \u001b[1;36m15\u001b[0m hours . Ugh , miserable .\n",
       "Output: Let's think step by step.\n",
       "The text indicates a foodborne illness incident. However, no Food entity in the text is relevant to foodborne \n",
       "illness incident.\n",
       "\u001b[1m{\u001b[0m\u001b[32m\"label\"\u001b[0m: \u001b[32m\"I should be enroute fm ATL to ORF now , but had to change travel plans . . . been dealing with food \u001b[0m\n",
       "\u001b[32mpoisoning the past 15 hours . Ugh , miserable .\"\u001b[0m\u001b[1m}\u001b[0m\n",
       "\n",
       "Input: I am either dying or have food poisoning . . . I'm going with food poisoning since I cooked meat today \u001b[1m[\u001b[0m \n",
       "EMOJI_face_with_medical_mask \u001b[1m]\u001b[0m\n",
       "Output: Let's think step by step.\n",
       "The text indicates a foodborne illness incident. The word \u001b[32m\"meat\"\u001b[0m in the text is a Food entity, which is a specific \n",
       "food item that caused the potential foodborne illness incident.\n",
       "\u001b[1m{\u001b[0m\u001b[32m\"label\"\u001b[0m: \u001b[32m\"I am either dying or have food poisoning . . . I'm going with food poisoning since I cooked ^^meat^^ \u001b[0m\n",
       "\u001b[32mtoday \u001b[0m\u001b[32m[\u001b[0m\u001b[32m EMOJI_face_with_medical_mask \u001b[0m\u001b[32m]\u001b[0m\u001b[32m\"\u001b[0m\u001b[1m}\u001b[0m\n",
       "\n",
       "Input: @USER @USER @USER LOL DONT GET FOOD POISONING ! Me and my friend both got a taco in a bag on Tuesday and we \n",
       "were both extremely sick the next morning\n",
       "Output: Let's think step by step.\n",
       "The text indicates a foodborne illness incident. The word \u001b[32m\"taco\"\u001b[0m in the text is a Food entity, which is a specific \n",
       "food item that caused the potential foodborne illness incident.\n",
       "\u001b[1m{\u001b[0m\u001b[32m\"label\"\u001b[0m: \u001b[32m\"@USER @USER @USER LOL DONT GET FOOD POISONING ! Me and my friend both got a ^^taco^^ in a bag on Tuesday\u001b[0m\n",
       "\u001b[32mand we were both extremely sick the next morning\"\u001b[0m\u001b[1m}\u001b[0m\n",
       "\n",
       "Input: @USER LOL I know ! I've had a stomach bug or food poisoning since yesterday afternoon\n",
       "Output: Let's think step by step.\n",
       "The text indicates a foodborne illness incident. However, no Food entity in the text is relevant to foodborne \n",
       "illness incident.\n",
       "\u001b[1m{\u001b[0m\u001b[32m\"label\"\u001b[0m: \u001b[32m\"@USER LOL I know ! I've had a stomach bug or food poisoning since yesterday afternoon\"\u001b[0m\u001b[1m}\u001b[0m\n",
       "\n",
       "Input: @USER Tell them you got diarrhea and can't leave the toilet lmfao \u001b[1m[\u001b[0m EMOJI_skull \u001b[1m]\u001b[0m bomb food poisoning\n",
       "Output: Let's think step by step.\n",
       "The text indicates a foodborne illness incident. The word \u001b[32m\"toilet lmfao\"\u001b[0m in the text is a Food entity, which is a \n",
       "specific food item that caused the potential foodborne illness incident.\n",
       "\u001b[1m{\u001b[0m\u001b[32m\"label\"\u001b[0m: \u001b[32m\"@USER Tell them you got diarrhea and can't leave the ^^toilet lmfao^^ \u001b[0m\u001b[32m[\u001b[0m\u001b[32m EMOJI_skull \u001b[0m\u001b[32m]\u001b[0m\u001b[32m bomb food \u001b[0m\n",
       "\u001b[32mpoisoning\"\u001b[0m\u001b[1m}\u001b[0m\n",
       "\n",
       "Input: @USER Hoping you are feeling better tonight ! Food poisoning is rough ! See you Tues . night ! TAKE CARE OF \n",
       "YOURSELF ! !\n",
       "Output: Let's think step by step.\n",
       "The text indicates a foodborne illness incident. However, no Food entity in the text is relevant to foodborne \n",
       "illness incident.\n",
       "\u001b[1m{\u001b[0m\u001b[32m\"label\"\u001b[0m: \u001b[32m\"@USER Hoping you are feeling better tonight ! Food poisoning is rough ! See you Tues . night ! TAKE CARE\u001b[0m\n",
       "\u001b[32mOF YOURSELF ! !\"\u001b[0m\u001b[1m}\u001b[0m\n",
       "\n",
       "Now I want you to label the following example:\n",
       "Input: @USER As much fun as I can . Woke up with food poisoning or stomach flu . Been bugging me all day #tmi \n",
       "Almost done driving for the day\n",
       "Output: Let's think step by step.\n",
       "\n",
       "\n"
      ]
     },
     "metadata": {},
     "output_type": "display_data"
    },
    {
     "data": {
      "text/html": [
       "<pre style=\"white-space:pre;overflow-x:auto;line-height:normal;font-family:Menlo,'DejaVu Sans Mono',consolas,'Courier New',monospace\"><span style=\"color: #00ff00; text-decoration-color: #00ff00\">───────────────────────────────────────────────────────────────────────────────────────────────────────────────────</span>\n",
       "</pre>\n"
      ],
      "text/plain": [
       "\u001b[92m───────────────────────────────────────────────────────────────────────────────────────────────────────────────────\u001b[0m\n"
      ]
     },
     "metadata": {},
     "output_type": "display_data"
    }
   ],
   "source": [
    "agent.plan(ds)"
   ]
  },
  {
   "cell_type": "code",
   "execution_count": 16,
   "id": "066e6a3b-86ff-47ca-826a-e2690bfeee7e",
   "metadata": {},
   "outputs": [
    {
     "data": {
      "application/vnd.jupyter.widget-view+json": {
       "model_id": "96449d7994b34f358f6fe6dff7766959",
       "version_major": 2,
       "version_minor": 0
      },
      "text/plain": [
       "Output()"
      ]
     },
     "metadata": {},
     "output_type": "display_data"
    },
    {
     "name": "stderr",
     "output_type": "stream",
     "text": [
      "2024-03-20 16:09:46 httpx INFO: HTTP Request: POST https://api.openai.com/v1/embeddings \"HTTP/1.1 200 OK\"\n",
      "2024-03-20 16:09:47 httpx INFO: HTTP Request: POST https://api.openai.com/v1/chat/completions \"HTTP/1.1 200 OK\"\n",
      "2024-03-20 16:09:48 httpx INFO: HTTP Request: POST https://api.openai.com/v1/embeddings \"HTTP/1.1 200 OK\"\n",
      "2024-03-20 16:09:49 httpx INFO: HTTP Request: POST https://api.openai.com/v1/chat/completions \"HTTP/1.1 200 OK\"\n",
      "2024-03-20 16:09:49 httpx INFO: HTTP Request: POST https://api.openai.com/v1/embeddings \"HTTP/1.1 200 OK\"\n",
      "2024-03-20 16:09:51 httpx INFO: HTTP Request: POST https://api.openai.com/v1/chat/completions \"HTTP/1.1 200 OK\"\n",
      "2024-03-20 16:09:51 httpx INFO: HTTP Request: POST https://api.openai.com/v1/embeddings \"HTTP/1.1 200 OK\"\n",
      "2024-03-20 16:09:52 httpx INFO: HTTP Request: POST https://api.openai.com/v1/chat/completions \"HTTP/1.1 200 OK\"\n",
      "2024-03-20 16:09:52 httpx INFO: HTTP Request: POST https://api.openai.com/v1/embeddings \"HTTP/1.1 200 OK\"\n",
      "2024-03-20 16:09:53 httpx INFO: HTTP Request: POST https://api.openai.com/v1/chat/completions \"HTTP/1.1 200 OK\"\n",
      "2024-03-20 16:09:54 httpx INFO: HTTP Request: POST https://api.openai.com/v1/embeddings \"HTTP/1.1 200 OK\"\n",
      "2024-03-20 16:09:55 httpx INFO: HTTP Request: POST https://api.openai.com/v1/chat/completions \"HTTP/1.1 200 OK\"\n",
      "2024-03-20 16:09:55 httpx INFO: HTTP Request: POST https://api.openai.com/v1/embeddings \"HTTP/1.1 200 OK\"\n",
      "2024-03-20 16:09:57 httpx INFO: HTTP Request: POST https://api.openai.com/v1/chat/completions \"HTTP/1.1 200 OK\"\n",
      "2024-03-20 16:09:57 httpx INFO: HTTP Request: POST https://api.openai.com/v1/embeddings \"HTTP/1.1 200 OK\"\n",
      "2024-03-20 16:09:58 httpx INFO: HTTP Request: POST https://api.openai.com/v1/embeddings \"HTTP/1.1 200 OK\"\n",
      "2024-03-20 16:09:59 httpx INFO: HTTP Request: POST https://api.openai.com/v1/chat/completions \"HTTP/1.1 200 OK\"\n",
      "2024-03-20 16:10:00 httpx INFO: HTTP Request: POST https://api.openai.com/v1/embeddings \"HTTP/1.1 200 OK\"\n",
      "2024-03-20 16:10:01 httpx INFO: HTTP Request: POST https://api.openai.com/v1/chat/completions \"HTTP/1.1 200 OK\"\n"
     ]
    },
    {
     "data": {
      "text/html": [
       "<pre style=\"white-space:pre;overflow-x:auto;line-height:normal;font-family:Menlo,'DejaVu Sans Mono',consolas,'Courier New',monospace\"></pre>\n"
      ],
      "text/plain": []
     },
     "metadata": {},
     "output_type": "display_data"
    },
    {
     "data": {
      "text/html": [
       "<pre style=\"white-space:pre;overflow-x:auto;line-height:normal;font-family:Menlo,'DejaVu Sans Mono',consolas,'Courier New',monospace\">Actual Cost: <span style=\"color: #008080; text-decoration-color: #008080; font-weight: bold\">0.0098</span>\n",
       "</pre>\n"
      ],
      "text/plain": [
       "Actual Cost: \u001b[1;36m0.0098\u001b[0m\n"
      ]
     },
     "metadata": {},
     "output_type": "display_data"
    },
    {
     "data": {
      "text/html": [
       "<pre style=\"white-space:pre;overflow-x:auto;line-height:normal;font-family:Menlo,'DejaVu Sans Mono',consolas,'Courier New',monospace\">┏━━━━━━━━━━┳━━━━━━━━━┳━━━━━━━━━━━━━━━━━┳━━━━━━━━┓\n",
       "┃<span style=\"font-weight: bold\"> accuracy </span>┃<span style=\"font-weight: bold\"> support </span>┃<span style=\"font-weight: bold\"> completion_rate </span>┃<span style=\"font-weight: bold\"> f1     </span>┃\n",
       "┡━━━━━━━━━━╇━━━━━━━━━╇━━━━━━━━━━━━━━━━━╇━━━━━━━━┩\n",
       "│<span style=\"color: #008080; text-decoration-color: #008080; font-weight: bold\"> 0.3      </span>│<span style=\"color: #008080; text-decoration-color: #008080; font-weight: bold\"> 10      </span>│<span style=\"color: #008080; text-decoration-color: #008080; font-weight: bold\"> 1.0             </span>│<span style=\"color: #008080; text-decoration-color: #008080; font-weight: bold\"> 0.9264 </span>│\n",
       "└──────────┴─────────┴─────────────────┴────────┘\n",
       "</pre>\n"
      ],
      "text/plain": [
       "┏━━━━━━━━━━┳━━━━━━━━━┳━━━━━━━━━━━━━━━━━┳━━━━━━━━┓\n",
       "┃\u001b[1m \u001b[0m\u001b[1maccuracy\u001b[0m\u001b[1m \u001b[0m┃\u001b[1m \u001b[0m\u001b[1msupport\u001b[0m\u001b[1m \u001b[0m┃\u001b[1m \u001b[0m\u001b[1mcompletion_rate\u001b[0m\u001b[1m \u001b[0m┃\u001b[1m \u001b[0m\u001b[1mf1    \u001b[0m\u001b[1m \u001b[0m┃\n",
       "┡━━━━━━━━━━╇━━━━━━━━━╇━━━━━━━━━━━━━━━━━╇━━━━━━━━┩\n",
       "│\u001b[1;36m \u001b[0m\u001b[1;36m0.3     \u001b[0m\u001b[1;36m \u001b[0m│\u001b[1;36m \u001b[0m\u001b[1;36m10     \u001b[0m\u001b[1;36m \u001b[0m│\u001b[1;36m \u001b[0m\u001b[1;36m1.0            \u001b[0m\u001b[1;36m \u001b[0m│\u001b[1;36m \u001b[0m\u001b[1;36m0.9264\u001b[0m\u001b[1;36m \u001b[0m│\n",
       "└──────────┴─────────┴─────────────────┴────────┘\n"
      ]
     },
     "metadata": {},
     "output_type": "display_data"
    }
   ],
   "source": [
    "# now, do the actual labeling\n",
    "ds = agent.run(ds)"
   ]
  },
  {
   "cell_type": "code",
   "execution_count": 17,
   "id": "7045720a-3e2a-432c-8f86-9d996e9a7980",
   "metadata": {},
   "outputs": [
    {
     "data": {
      "text/html": [
       "<pre style=\"white-space:pre;overflow-x:auto;line-height:normal;font-family:Menlo,'DejaVu Sans Mono',consolas,'Courier New',monospace\">┏━━━━━━━━━━┳━━━━━━━━━┳━━━━━━━━━━━━━━━━━┳━━━━━━━━┓\n",
       "┃<span style=\"font-weight: bold\"> accuracy </span>┃<span style=\"font-weight: bold\"> support </span>┃<span style=\"font-weight: bold\"> completion_rate </span>┃<span style=\"font-weight: bold\"> f1     </span>┃\n",
       "┡━━━━━━━━━━╇━━━━━━━━━╇━━━━━━━━━━━━━━━━━╇━━━━━━━━┩\n",
       "│<span style=\"color: #008080; text-decoration-color: #008080; font-weight: bold\"> 0.3      </span>│<span style=\"color: #008080; text-decoration-color: #008080; font-weight: bold\"> 10      </span>│<span style=\"color: #008080; text-decoration-color: #008080; font-weight: bold\"> 1.0             </span>│<span style=\"color: #008080; text-decoration-color: #008080; font-weight: bold\"> 0.9264 </span>│\n",
       "└──────────┴─────────┴─────────────────┴────────┘\n",
       "</pre>\n"
      ],
      "text/plain": [
       "┏━━━━━━━━━━┳━━━━━━━━━┳━━━━━━━━━━━━━━━━━┳━━━━━━━━┓\n",
       "┃\u001b[1m \u001b[0m\u001b[1maccuracy\u001b[0m\u001b[1m \u001b[0m┃\u001b[1m \u001b[0m\u001b[1msupport\u001b[0m\u001b[1m \u001b[0m┃\u001b[1m \u001b[0m\u001b[1mcompletion_rate\u001b[0m\u001b[1m \u001b[0m┃\u001b[1m \u001b[0m\u001b[1mf1    \u001b[0m\u001b[1m \u001b[0m┃\n",
       "┡━━━━━━━━━━╇━━━━━━━━━╇━━━━━━━━━━━━━━━━━╇━━━━━━━━┩\n",
       "│\u001b[1;36m \u001b[0m\u001b[1;36m0.3     \u001b[0m\u001b[1;36m \u001b[0m│\u001b[1;36m \u001b[0m\u001b[1;36m10     \u001b[0m\u001b[1;36m \u001b[0m│\u001b[1;36m \u001b[0m\u001b[1;36m1.0            \u001b[0m\u001b[1;36m \u001b[0m│\u001b[1;36m \u001b[0m\u001b[1;36m0.9264\u001b[0m\u001b[1;36m \u001b[0m│\n",
       "└──────────┴─────────┴─────────────────┴────────┘\n"
      ]
     },
     "metadata": {},
     "output_type": "display_data"
    }
   ],
   "source": [
    "metrics = ds.eval()"
   ]
  },
  {
   "cell_type": "code",
   "execution_count": 18,
   "id": "4bcbd487-91d5-44af-85e5-c85798e68704",
   "metadata": {},
   "outputs": [],
   "source": [
    "ds.df.to_csv(output_path, index=False)\n",
    "ds.df.to_pickle(output_path.replace('.csv', '.pkl'))"
   ]
  },
  {
   "cell_type": "code",
   "execution_count": 19,
   "id": "fe50c93c-4f7a-49d4-9f10-b494559ff6d1",
   "metadata": {},
   "outputs": [],
   "source": [
    "class StopExecution(Exception):\n",
    "    def _render_traceback_(self):\n",
    "        return []\n",
    "    \n",
    "if not verify:\n",
    "    raise StopExecution"
   ]
  },
  {
   "cell_type": "markdown",
   "id": "4c1e32dd-03c5-4b1c-bab3-cdcaf4f5ccf0",
   "metadata": {},
   "source": [
    "# Verification Stage"
   ]
  },
  {
   "cell_type": "code",
   "execution_count": 20,
   "id": "3107cb00-b025-4ac2-9974-ff9c7febaab5",
   "metadata": {},
   "outputs": [],
   "source": [
    "from utils import get_predictions, check_prediction, get_verify_df, construct_results"
   ]
  },
  {
   "cell_type": "code",
   "execution_count": 21,
   "id": "620ea1cf-edcd-4571-b933-9ab481996026",
   "metadata": {},
   "outputs": [],
   "source": [
    "verify_question_column = f'{label_type}_verify_question'\n",
    "verify_answer_column = f'{label_type}_verify_answer'\n",
    "pos_column = f'{label_column}_pos'"
   ]
  },
  {
   "cell_type": "code",
   "execution_count": 22,
   "id": "8556623a-3c8e-4efc-8adf-882360d5aecb",
   "metadata": {},
   "outputs": [],
   "source": [
    "test_data[[verify_question_column, pos_column]] = ds.df[[f'{label_column}_label']].apply(lambda x: get_predictions(x[f'{label_column}_label'], label_symbol), axis=1,result_type=\"expand\")"
   ]
  },
  {
   "cell_type": "code",
   "execution_count": 23,
   "id": "28274a9b-c585-4c3a-948e-9282f140e82f",
   "metadata": {},
   "outputs": [],
   "source": [
    "test_data[verify_answer_column] = test_data[['CategorizedLabels', verify_question_column]].apply(lambda x: check_prediction(x['CategorizedLabels'], x[verify_question_column], label_type), axis=1)"
   ]
  },
  {
   "cell_type": "code",
   "execution_count": 24,
   "id": "1b9fcf33-04ac-4ccf-b39d-e6b3b9cae196",
   "metadata": {},
   "outputs": [],
   "source": [
    "new_test_data = get_verify_df(test_data, verify_question_column, verify_answer_column, text_column, pos_column)"
   ]
  },
  {
   "cell_type": "code",
   "execution_count": 25,
   "id": "f39e79a1-8832-48fe-95c8-5ebb1a0efb89",
   "metadata": {},
   "outputs": [],
   "source": [
    "verify_task_guideline = (f\"You are an expert at identifying {label_type} entities that are related to foodborne illness incident from text. \" \n",
    "                         f\"In the given text, your task is to verify if a given word is a {label_type} entity that {label_description[label_type].replace('are ', 'is ').replace('.', '')} in the given text. \"\n",
    "                         \"Use the following examples as a guide for your analysis and format your responses similarly.\")\n",
    "question = f'''Do you think the word \"{{{verify_question_column}}}\" in the given text is a {label_type} entity that {label_description[label_type].replace('are ', 'is ').replace('.', '')}?'''"
   ]
  },
  {
   "cell_type": "code",
   "execution_count": 26,
   "id": "f299170c-dee7-4663-9c69-ba5ba1310e21",
   "metadata": {},
   "outputs": [],
   "source": [
    "output_verify_name = os.path.split(model_name)[-1] + '_' + few_shot_selection + '_COT_' + str(explanation_column) + '_cur_' + str(use_current_explanation) + '_ground_' + str(use_ground_explanation) + '_' + label_type + '_verify_' + os.path.split(data_path)[-1]\n",
    "output_verify_path = os.path.join(output_dir, output_verify_name)\n",
    "output_final_name = os.path.split(model_name)[-1] + '_' + few_shot_selection + '_COT_' + str(explanation_column) + '_cur_' + str(use_current_explanation) + '_ground_' + str(use_ground_explanation) + '_' + label_type + '_final_' + os.path.split(data_path)[-1]\n",
    "output_final_path = os.path.join(output_dir, output_final_name)"
   ]
  },
  {
   "cell_type": "code",
   "execution_count": 27,
   "id": "a28d97b0-87b4-40b7-bc43-7135e3cbe7e9",
   "metadata": {},
   "outputs": [],
   "source": [
    "config = {\n",
    "    \"task_name\": task_name+'_verification',\n",
    "    \"task_type\": \"classification\",\n",
    "    \"dataset\": {\n",
    "        \"label_column\": verify_answer_column,\n",
    "        \"text_column\": text_column,\n",
    "        \"delimiter\": \",\",\n",
    "        \"label_description\": label_description \n",
    "    },\n",
    "    \"model\": {\n",
    "        \"provider\": em_provider,\n",
    "        \"name\": model_name,\n",
    "        \"params\": model_params\n",
    "    },\n",
    "    \"embedding\": {\n",
    "        \"provider\": em_provider,\n",
    "    },\n",
    "    \"prompt\": {\n",
    "        \"task_guidelines\": verify_task_guideline,\n",
    "        \"output_guidelines\": f'''You will answer with just the correct output label (\"Yes\" or \"No\") and nothing else.''',\n",
    "        \"labels\": [\n",
    "            \"Yes\",\n",
    "            \"No\"\n",
    "        ],\n",
    "        \"few_shot_examples\": verify_few_shot_path,\n",
    "        \"few_shot_selection\": few_shot_selection,\n",
    "        \"few_shot_num\": few_shot_num,\n",
    "        \"random_shuffle_examples\": random_shuffle_examples,\n",
    "        \"random_shuffle_examples_seed\": random_shuffle_examples_seed,\n",
    "        \"example_template\": f\"Context: {{{text_column}}}\\nQuestion: {question}\\nAnswer: {{{verify_answer_column}}}\"\n",
    "    }\n",
    "}\n",
    "\n",
    "config = NewAutoLabelConfig(config)"
   ]
  },
  {
   "cell_type": "code",
   "execution_count": 28,
   "id": "27e8d888-20f0-4e12-9dbd-f52ca407b1ab",
   "metadata": {},
   "outputs": [
    {
     "name": "stderr",
     "output_type": "stream",
     "text": [
      "2024-03-14 22:47:45 autolabel.labeler WARNING: cache parameter is deprecated and will be removed soon. Please use generation_cache and transform_cache instead.\n"
     ]
    }
   ],
   "source": [
    "agent = LabelingAgent(config=config, console_output=console_output, cache=cache)"
   ]
  },
  {
   "cell_type": "code",
   "execution_count": 29,
   "id": "92763312-ebaa-48b2-9d85-546c37558f33",
   "metadata": {},
   "outputs": [],
   "source": [
    "verify_ds = AutolabelDataset(new_test_data.drop(['text_idx',pos_column], axis=1), config=config)"
   ]
  },
  {
   "cell_type": "code",
   "execution_count": 30,
   "id": "2ad700d3-2a4e-4738-872b-c3fd8e13667f",
   "metadata": {},
   "outputs": [
    {
     "name": "stderr",
     "output_type": "stream",
     "text": [
      "2024-03-14 22:47:47 httpx INFO: HTTP Request: POST https://api.openai.com/v1/embeddings \"HTTP/1.1 200 OK\"\n",
      "2024-03-14 22:47:51 httpx INFO: HTTP Request: POST https://api.openai.com/v1/embeddings \"HTTP/1.1 200 OK\"\n",
      "2024-03-14 22:47:55 httpx INFO: HTTP Request: POST https://api.openai.com/v1/embeddings \"HTTP/1.1 200 OK\"\n"
     ]
    },
    {
     "data": {
      "application/vnd.jupyter.widget-view+json": {
       "model_id": "771000422a8344969545aada58f8e1fa",
       "version_major": 2,
       "version_minor": 0
      },
      "text/plain": [
       "Output()"
      ]
     },
     "metadata": {},
     "output_type": "display_data"
    },
    {
     "name": "stderr",
     "output_type": "stream",
     "text": [
      "2024-03-14 22:47:57 httpx INFO: HTTP Request: POST https://api.openai.com/v1/embeddings \"HTTP/1.1 200 OK\"\n",
      "2024-03-14 22:47:57 httpx INFO: HTTP Request: POST https://api.openai.com/v1/embeddings \"HTTP/1.1 200 OK\"\n",
      "2024-03-14 22:47:58 httpx INFO: HTTP Request: POST https://api.openai.com/v1/embeddings \"HTTP/1.1 200 OK\"\n"
     ]
    },
    {
     "data": {
      "text/html": [
       "<pre style=\"white-space:pre;overflow-x:auto;line-height:normal;font-family:Menlo,'DejaVu Sans Mono',consolas,'Courier New',monospace\"></pre>\n"
      ],
      "text/plain": []
     },
     "metadata": {},
     "output_type": "display_data"
    },
    {
     "data": {
      "text/html": [
       "<pre style=\"white-space:pre;overflow-x:auto;line-height:normal;font-family:Menlo,'DejaVu Sans Mono',consolas,'Courier New',monospace\">\n",
       "</pre>\n"
      ],
      "text/plain": [
       "\n"
      ]
     },
     "metadata": {},
     "output_type": "display_data"
    },
    {
     "data": {
      "text/html": [
       "<pre style=\"white-space:pre;overflow-x:auto;line-height:normal;font-family:Menlo,'DejaVu Sans Mono',consolas,'Courier New',monospace\">┌──────────────────────────┬─────────┐\n",
       "│<span style=\"color: #800080; text-decoration-color: #800080; font-weight: bold\"> Total Estimated Cost     </span>│<span style=\"color: #008000; text-decoration-color: #008000; font-weight: bold\"> $0.0371 </span>│\n",
       "│<span style=\"color: #800080; text-decoration-color: #800080; font-weight: bold\"> Number of Examples       </span>│<span style=\"color: #008000; text-decoration-color: #008000; font-weight: bold\"> 4       </span>│\n",
       "│<span style=\"color: #800080; text-decoration-color: #800080; font-weight: bold\"> Average cost per example </span>│<span style=\"color: #008000; text-decoration-color: #008000; font-weight: bold\"> $0.0093 </span>│\n",
       "└──────────────────────────┴─────────┘\n",
       "</pre>\n"
      ],
      "text/plain": [
       "┌──────────────────────────┬─────────┐\n",
       "│\u001b[1;35m \u001b[0m\u001b[1;35mTotal Estimated Cost    \u001b[0m\u001b[1;35m \u001b[0m│\u001b[1;32m \u001b[0m\u001b[1;32m$0.0371\u001b[0m\u001b[1;32m \u001b[0m│\n",
       "│\u001b[1;35m \u001b[0m\u001b[1;35mNumber of Examples      \u001b[0m\u001b[1;35m \u001b[0m│\u001b[1;32m \u001b[0m\u001b[1;32m4      \u001b[0m\u001b[1;32m \u001b[0m│\n",
       "│\u001b[1;35m \u001b[0m\u001b[1;35mAverage cost per example\u001b[0m\u001b[1;35m \u001b[0m│\u001b[1;32m \u001b[0m\u001b[1;32m$0.0093\u001b[0m\u001b[1;32m \u001b[0m│\n",
       "└──────────────────────────┴─────────┘\n"
      ]
     },
     "metadata": {},
     "output_type": "display_data"
    },
    {
     "data": {
      "text/html": [
       "<pre style=\"white-space:pre;overflow-x:auto;line-height:normal;font-family:Menlo,'DejaVu Sans Mono',consolas,'Courier New',monospace\"><span style=\"color: #00ff00; text-decoration-color: #00ff00\">───────────────────────────────────────────────── </span>Prompt Example<span style=\"color: #00ff00; text-decoration-color: #00ff00\"> ──────────────────────────────────────────────────</span>\n",
       "</pre>\n"
      ],
      "text/plain": [
       "\u001b[92m───────────────────────────────────────────────── \u001b[0mPrompt Example\u001b[92m ──────────────────────────────────────────────────\u001b[0m\n"
      ]
     },
     "metadata": {},
     "output_type": "display_data"
    },
    {
     "data": {
      "text/html": [
       "<pre style=\"white-space:pre;overflow-x:auto;line-height:normal;font-family:Menlo,'DejaVu Sans Mono',consolas,'Courier New',monospace\">You are an expert at identifying Food entities that are related to foodborne illness incident from text. In the \n",
       "given text, your task is to verify if a given word is a Food entity that is specific food item that caused the \n",
       "potential foodborne illness incident. in the given text. Use the following examples as a guide for your analysis \n",
       "and format your responses similarly.\n",
       "\n",
       "You will answer with just the correct output label <span style=\"font-weight: bold\">(</span><span style=\"color: #008000; text-decoration-color: #008000\">\"Yes\"</span> or <span style=\"color: #008000; text-decoration-color: #008000\">\"No\"</span><span style=\"font-weight: bold\">)</span> and nothing else.\n",
       "\n",
       "Some examples with their output answers are provided below:\n",
       "\n",
       "Context: ok i lied abt having food poisoning so I didn't have to go into work yesterday but now that I do have to \n",
       "go to work today I feel like shit wtffff\n",
       "Question: Do you think the word to go in the given text is a Food entity that is specific food item that caused the\n",
       "potential foodborne illness incident.?\n",
       "Answer: No\n",
       "Context: Last night I got food poisoning so I couldn't have my coffee this morning and I had to go into work \n",
       "anyways so this day has been terrible for everyone involved\n",
       "Question: Do you think the word this day has in the given text is a Food entity that is specific food item that \n",
       "caused the potential foodborne illness incident.?\n",
       "Answer: No\n",
       "Context: So tonight I think I suffered from food poisoning &amp; was in my bed sick , then some of my pals come back \n",
       "and i have never seen people in a . .\n",
       "Question: Do you think the word think I suffered from in the given text is a Food entity that is specific food item\n",
       "that caused the potential foodborne illness incident.?\n",
       "Answer: No\n",
       "Context: Think I might have gotten a mild case of food-poisoning today - so that's been super fun .\n",
       "Question: Do you think the word gotten in the given text is a Food entity that is specific food item that caused \n",
       "the potential foodborne illness incident.?\n",
       "Answer: No\n",
       "Context: I've had a bad food poisoning experience le curry pot . <span style=\"font-weight: bold\">[</span> EMOJI_loudly_crying_face <span style=\"font-weight: bold\">]</span> <span style=\"font-weight: bold\">[</span> \n",
       "EMOJI_loudly_crying_face <span style=\"font-weight: bold\">]</span> I'm scarred .\n",
       "Question: Do you think the word le curry pot in the given text is a Food entity that is specific food item that \n",
       "caused the potential foodborne illness incident.?\n",
       "Answer: Yes\n",
       "Context: I am either dying or have food poisoning . . . I'm going with food poisoning since I cooked meat today <span style=\"font-weight: bold\">[</span> \n",
       "EMOJI_face_with_medical_mask <span style=\"font-weight: bold\">]</span>\n",
       "Question: Do you think the word meat in the given text is a Food entity that is specific food item that caused the \n",
       "potential foodborne illness incident.?\n",
       "Answer: Yes\n",
       "Context: @USER <span style=\"color: #008000; text-decoration-color: #008000\">\" Rambling Zuma \"</span> - a superb name for a food poisoning symptom . <span style=\"color: #008000; text-decoration-color: #008000\">\" I can't come to work today boss -</span>\n",
       "<span style=\"color: #008000; text-decoration-color: #008000\">been up all night with the Rambling Zuma . Must have been a dodgy kebab \"</span> .\n",
       "Question: Do you think the word kebab in the given text is a Food entity that is specific food item that caused the\n",
       "potential foodborne illness incident.?\n",
       "Answer: Yes\n",
       "Context: classic me : ate some old cheese in the work fridge bc I'm trying to save money and now I have mild food \n",
       "poisoning .\n",
       "Question: Do you think the word old cheese in the given text is a Food entity that is specific food item that \n",
       "caused the potential foodborne illness incident.?\n",
       "Answer: Yes\n",
       "\n",
       "Now I want you to label the following example:\n",
       "Context: I cant come into work today because I have food poisoning . I went out with the lads last night and we had\n",
       "a cheap curry , we all ended up . . .\n",
       "Question: Do you think the word curry in the given text is a Food entity that is specific food item that caused the\n",
       "potential foodborne illness incident.?\n",
       "Answer: \n",
       "</pre>\n"
      ],
      "text/plain": [
       "You are an expert at identifying Food entities that are related to foodborne illness incident from text. In the \n",
       "given text, your task is to verify if a given word is a Food entity that is specific food item that caused the \n",
       "potential foodborne illness incident. in the given text. Use the following examples as a guide for your analysis \n",
       "and format your responses similarly.\n",
       "\n",
       "You will answer with just the correct output label \u001b[1m(\u001b[0m\u001b[32m\"Yes\"\u001b[0m or \u001b[32m\"No\"\u001b[0m\u001b[1m)\u001b[0m and nothing else.\n",
       "\n",
       "Some examples with their output answers are provided below:\n",
       "\n",
       "Context: ok i lied abt having food poisoning so I didn't have to go into work yesterday but now that I do have to \n",
       "go to work today I feel like shit wtffff\n",
       "Question: Do you think the word to go in the given text is a Food entity that is specific food item that caused the\n",
       "potential foodborne illness incident.?\n",
       "Answer: No\n",
       "Context: Last night I got food poisoning so I couldn't have my coffee this morning and I had to go into work \n",
       "anyways so this day has been terrible for everyone involved\n",
       "Question: Do you think the word this day has in the given text is a Food entity that is specific food item that \n",
       "caused the potential foodborne illness incident.?\n",
       "Answer: No\n",
       "Context: So tonight I think I suffered from food poisoning & was in my bed sick , then some of my pals come back \n",
       "and i have never seen people in a . .\n",
       "Question: Do you think the word think I suffered from in the given text is a Food entity that is specific food item\n",
       "that caused the potential foodborne illness incident.?\n",
       "Answer: No\n",
       "Context: Think I might have gotten a mild case of food-poisoning today - so that's been super fun .\n",
       "Question: Do you think the word gotten in the given text is a Food entity that is specific food item that caused \n",
       "the potential foodborne illness incident.?\n",
       "Answer: No\n",
       "Context: I've had a bad food poisoning experience le curry pot . \u001b[1m[\u001b[0m EMOJI_loudly_crying_face \u001b[1m]\u001b[0m \u001b[1m[\u001b[0m \n",
       "EMOJI_loudly_crying_face \u001b[1m]\u001b[0m I'm scarred .\n",
       "Question: Do you think the word le curry pot in the given text is a Food entity that is specific food item that \n",
       "caused the potential foodborne illness incident.?\n",
       "Answer: Yes\n",
       "Context: I am either dying or have food poisoning . . . I'm going with food poisoning since I cooked meat today \u001b[1m[\u001b[0m \n",
       "EMOJI_face_with_medical_mask \u001b[1m]\u001b[0m\n",
       "Question: Do you think the word meat in the given text is a Food entity that is specific food item that caused the \n",
       "potential foodborne illness incident.?\n",
       "Answer: Yes\n",
       "Context: @USER \u001b[32m\" Rambling Zuma \"\u001b[0m - a superb name for a food poisoning symptom . \u001b[32m\" I can't come to work today boss -\u001b[0m\n",
       "\u001b[32mbeen up all night with the Rambling Zuma . Must have been a dodgy kebab \"\u001b[0m .\n",
       "Question: Do you think the word kebab in the given text is a Food entity that is specific food item that caused the\n",
       "potential foodborne illness incident.?\n",
       "Answer: Yes\n",
       "Context: classic me : ate some old cheese in the work fridge bc I'm trying to save money and now I have mild food \n",
       "poisoning .\n",
       "Question: Do you think the word old cheese in the given text is a Food entity that is specific food item that \n",
       "caused the potential foodborne illness incident.?\n",
       "Answer: Yes\n",
       "\n",
       "Now I want you to label the following example:\n",
       "Context: I cant come into work today because I have food poisoning . I went out with the lads last night and we had\n",
       "a cheap curry , we all ended up . . .\n",
       "Question: Do you think the word curry in the given text is a Food entity that is specific food item that caused the\n",
       "potential foodborne illness incident.?\n",
       "Answer: \n"
      ]
     },
     "metadata": {},
     "output_type": "display_data"
    },
    {
     "data": {
      "text/html": [
       "<pre style=\"white-space:pre;overflow-x:auto;line-height:normal;font-family:Menlo,'DejaVu Sans Mono',consolas,'Courier New',monospace\"><span style=\"color: #00ff00; text-decoration-color: #00ff00\">───────────────────────────────────────────────────────────────────────────────────────────────────────────────────</span>\n",
       "</pre>\n"
      ],
      "text/plain": [
       "\u001b[92m───────────────────────────────────────────────────────────────────────────────────────────────────────────────────\u001b[0m\n"
      ]
     },
     "metadata": {},
     "output_type": "display_data"
    }
   ],
   "source": [
    "agent.plan(verify_ds)"
   ]
  },
  {
   "cell_type": "code",
   "execution_count": 31,
   "id": "cd6839c9-9ddb-45c5-a719-7853f8b9fd1d",
   "metadata": {},
   "outputs": [
    {
     "data": {
      "application/vnd.jupyter.widget-view+json": {
       "model_id": "a2d063908aff4b0090bac5bb9ab9391f",
       "version_major": 2,
       "version_minor": 0
      },
      "text/plain": [
       "Output()"
      ]
     },
     "metadata": {},
     "output_type": "display_data"
    },
    {
     "name": "stderr",
     "output_type": "stream",
     "text": [
      "2024-03-14 22:47:58 httpx INFO: HTTP Request: POST https://api.openai.com/v1/embeddings \"HTTP/1.1 200 OK\"\n",
      "2024-03-14 22:47:58 httpx INFO: HTTP Request: POST https://api.openai.com/v1/chat/completions \"HTTP/1.1 200 OK\"\n",
      "2024-03-14 22:47:58 httpx INFO: HTTP Request: POST https://api.openai.com/v1/embeddings \"HTTP/1.1 200 OK\"\n",
      "2024-03-14 22:47:59 httpx INFO: HTTP Request: POST https://api.openai.com/v1/chat/completions \"HTTP/1.1 200 OK\"\n",
      "2024-03-14 22:47:59 httpx INFO: HTTP Request: POST https://api.openai.com/v1/embeddings \"HTTP/1.1 200 OK\"\n",
      "2024-03-14 22:47:59 httpx INFO: HTTP Request: POST https://api.openai.com/v1/chat/completions \"HTTP/1.1 200 OK\"\n",
      "2024-03-14 22:47:59 httpx INFO: HTTP Request: POST https://api.openai.com/v1/embeddings \"HTTP/1.1 200 OK\"\n",
      "2024-03-14 22:48:00 httpx INFO: HTTP Request: POST https://api.openai.com/v1/chat/completions \"HTTP/1.1 200 OK\"\n"
     ]
    },
    {
     "data": {
      "text/html": [
       "<pre style=\"white-space:pre;overflow-x:auto;line-height:normal;font-family:Menlo,'DejaVu Sans Mono',consolas,'Courier New',monospace\"></pre>\n"
      ],
      "text/plain": []
     },
     "metadata": {},
     "output_type": "display_data"
    },
    {
     "name": "stderr",
     "output_type": "stream",
     "text": [
      "/scratch/dzhang5/visa/visa39/lib/python3.9/site-packages/sklearn/metrics/_classification.py:1344: UndefinedMetricWarning: Recall and F-score are ill-defined and being set to 0.0 in labels with no true samples. Use `zero_division` parameter to control this behavior.\n",
      "  _warn_prf(average, modifier, msg_start, len(result))\n",
      "/scratch/dzhang5/visa/visa39/lib/python3.9/site-packages/sklearn/metrics/_classification.py:1344: UndefinedMetricWarning: Recall and F-score are ill-defined and being set to 0.0 in labels with no true samples. Use `zero_division` parameter to control this behavior.\n",
      "  _warn_prf(average, modifier, msg_start, len(result))\n",
      "/scratch/dzhang5/visa/visa39/lib/python3.9/site-packages/sklearn/metrics/_classification.py:1344: UndefinedMetricWarning: Recall and F-score are ill-defined and being set to 0.0 in labels with no true samples. Use `zero_division` parameter to control this behavior.\n",
      "  _warn_prf(average, modifier, msg_start, len(result))\n"
     ]
    },
    {
     "data": {
      "text/html": [
       "<pre style=\"white-space:pre;overflow-x:auto;line-height:normal;font-family:Menlo,'DejaVu Sans Mono',consolas,'Courier New',monospace\">classification_report:\n",
       "              precision    recall  f1-score   support\n",
       "\n",
       "          No       <span style=\"color: #008080; text-decoration-color: #008080; font-weight: bold\">1.00</span>      <span style=\"color: #008080; text-decoration-color: #008080; font-weight: bold\">0.25</span>      <span style=\"color: #008080; text-decoration-color: #008080; font-weight: bold\">0.40</span>         <span style=\"color: #008080; text-decoration-color: #008080; font-weight: bold\">4</span>\n",
       "         Yes       <span style=\"color: #008080; text-decoration-color: #008080; font-weight: bold\">0.00</span>      <span style=\"color: #008080; text-decoration-color: #008080; font-weight: bold\">0.00</span>      <span style=\"color: #008080; text-decoration-color: #008080; font-weight: bold\">0.00</span>         <span style=\"color: #008080; text-decoration-color: #008080; font-weight: bold\">0</span>\n",
       "\n",
       "    accuracy                           <span style=\"color: #008080; text-decoration-color: #008080; font-weight: bold\">0.25</span>         <span style=\"color: #008080; text-decoration-color: #008080; font-weight: bold\">4</span>\n",
       "   macro avg       <span style=\"color: #008080; text-decoration-color: #008080; font-weight: bold\">0.50</span>      <span style=\"color: #008080; text-decoration-color: #008080; font-weight: bold\">0.12</span>      <span style=\"color: #008080; text-decoration-color: #008080; font-weight: bold\">0.20</span>         <span style=\"color: #008080; text-decoration-color: #008080; font-weight: bold\">4</span>\n",
       "weighted avg       <span style=\"color: #008080; text-decoration-color: #008080; font-weight: bold\">1.00</span>      <span style=\"color: #008080; text-decoration-color: #008080; font-weight: bold\">0.25</span>      <span style=\"color: #008080; text-decoration-color: #008080; font-weight: bold\">0.40</span>         <span style=\"color: #008080; text-decoration-color: #008080; font-weight: bold\">4</span>\n",
       "\n",
       "</pre>\n"
      ],
      "text/plain": [
       "classification_report:\n",
       "              precision    recall  f1-score   support\n",
       "\n",
       "          No       \u001b[1;36m1.00\u001b[0m      \u001b[1;36m0.25\u001b[0m      \u001b[1;36m0.40\u001b[0m         \u001b[1;36m4\u001b[0m\n",
       "         Yes       \u001b[1;36m0.00\u001b[0m      \u001b[1;36m0.00\u001b[0m      \u001b[1;36m0.00\u001b[0m         \u001b[1;36m0\u001b[0m\n",
       "\n",
       "    accuracy                           \u001b[1;36m0.25\u001b[0m         \u001b[1;36m4\u001b[0m\n",
       "   macro avg       \u001b[1;36m0.50\u001b[0m      \u001b[1;36m0.12\u001b[0m      \u001b[1;36m0.20\u001b[0m         \u001b[1;36m4\u001b[0m\n",
       "weighted avg       \u001b[1;36m1.00\u001b[0m      \u001b[1;36m0.25\u001b[0m      \u001b[1;36m0.40\u001b[0m         \u001b[1;36m4\u001b[0m\n",
       "\n"
      ]
     },
     "metadata": {},
     "output_type": "display_data"
    },
    {
     "data": {
      "text/html": [
       "<pre style=\"white-space:pre;overflow-x:auto;line-height:normal;font-family:Menlo,'DejaVu Sans Mono',consolas,'Courier New',monospace\">Actual Cost: <span style=\"color: #008080; text-decoration-color: #008080; font-weight: bold\">0.0043</span>\n",
       "</pre>\n"
      ],
      "text/plain": [
       "Actual Cost: \u001b[1;36m0.0043\u001b[0m\n"
      ]
     },
     "metadata": {},
     "output_type": "display_data"
    },
    {
     "data": {
      "text/html": [
       "<pre style=\"white-space:pre;overflow-x:auto;line-height:normal;font-family:Menlo,'DejaVu Sans Mono',consolas,'Courier New',monospace\">┏━━━━━━━━━━┳━━━━━━━━━┳━━━━━━━━━━━━━━━━━┓\n",
       "┃<span style=\"font-weight: bold\"> accuracy </span>┃<span style=\"font-weight: bold\"> support </span>┃<span style=\"font-weight: bold\"> completion_rate </span>┃\n",
       "┡━━━━━━━━━━╇━━━━━━━━━╇━━━━━━━━━━━━━━━━━┩\n",
       "│<span style=\"color: #008080; text-decoration-color: #008080; font-weight: bold\"> 0.25     </span>│<span style=\"color: #008080; text-decoration-color: #008080; font-weight: bold\"> 4       </span>│<span style=\"color: #008080; text-decoration-color: #008080; font-weight: bold\"> 1.0             </span>│\n",
       "└──────────┴─────────┴─────────────────┘\n",
       "</pre>\n"
      ],
      "text/plain": [
       "┏━━━━━━━━━━┳━━━━━━━━━┳━━━━━━━━━━━━━━━━━┓\n",
       "┃\u001b[1m \u001b[0m\u001b[1maccuracy\u001b[0m\u001b[1m \u001b[0m┃\u001b[1m \u001b[0m\u001b[1msupport\u001b[0m\u001b[1m \u001b[0m┃\u001b[1m \u001b[0m\u001b[1mcompletion_rate\u001b[0m\u001b[1m \u001b[0m┃\n",
       "┡━━━━━━━━━━╇━━━━━━━━━╇━━━━━━━━━━━━━━━━━┩\n",
       "│\u001b[1;36m \u001b[0m\u001b[1;36m0.25    \u001b[0m\u001b[1;36m \u001b[0m│\u001b[1;36m \u001b[0m\u001b[1;36m4      \u001b[0m\u001b[1;36m \u001b[0m│\u001b[1;36m \u001b[0m\u001b[1;36m1.0            \u001b[0m\u001b[1;36m \u001b[0m│\n",
       "└──────────┴─────────┴─────────────────┘\n"
      ]
     },
     "metadata": {},
     "output_type": "display_data"
    }
   ],
   "source": [
    "# now, do the actual labeling\n",
    "verify_ds = agent.run(verify_ds)"
   ]
  },
  {
   "cell_type": "code",
   "execution_count": 32,
   "id": "59777587-3757-4d4b-9a6e-46922b1b555c",
   "metadata": {},
   "outputs": [
    {
     "name": "stderr",
     "output_type": "stream",
     "text": [
      "/scratch/dzhang5/visa/visa39/lib/python3.9/site-packages/sklearn/metrics/_classification.py:1344: UndefinedMetricWarning: Recall and F-score are ill-defined and being set to 0.0 in labels with no true samples. Use `zero_division` parameter to control this behavior.\n",
      "  _warn_prf(average, modifier, msg_start, len(result))\n",
      "/scratch/dzhang5/visa/visa39/lib/python3.9/site-packages/sklearn/metrics/_classification.py:1344: UndefinedMetricWarning: Recall and F-score are ill-defined and being set to 0.0 in labels with no true samples. Use `zero_division` parameter to control this behavior.\n",
      "  _warn_prf(average, modifier, msg_start, len(result))\n",
      "/scratch/dzhang5/visa/visa39/lib/python3.9/site-packages/sklearn/metrics/_classification.py:1344: UndefinedMetricWarning: Recall and F-score are ill-defined and being set to 0.0 in labels with no true samples. Use `zero_division` parameter to control this behavior.\n",
      "  _warn_prf(average, modifier, msg_start, len(result))\n"
     ]
    },
    {
     "data": {
      "text/html": [
       "<pre style=\"white-space:pre;overflow-x:auto;line-height:normal;font-family:Menlo,'DejaVu Sans Mono',consolas,'Courier New',monospace\">┏━━━━━━━━━━┳━━━━━━━━━┳━━━━━━━━━━━━━━━━━┳━━━━━━━━━━━━━━━━━━━━━━━━━━━━━━━━━━━━━━━━━━━━━━━━━━━━━━━┓\n",
       "┃<span style=\"font-weight: bold\"> accuracy </span>┃<span style=\"font-weight: bold\"> support </span>┃<span style=\"font-weight: bold\"> completion_rate </span>┃<span style=\"font-weight: bold\"> classification_report                                 </span>┃\n",
       "┡━━━━━━━━━━╇━━━━━━━━━╇━━━━━━━━━━━━━━━━━╇━━━━━━━━━━━━━━━━━━━━━━━━━━━━━━━━━━━━━━━━━━━━━━━━━━━━━━━┩\n",
       "│<span style=\"color: #008080; text-decoration-color: #008080; font-weight: bold\"> 0.25     </span>│<span style=\"color: #008080; text-decoration-color: #008080; font-weight: bold\"> 4       </span>│<span style=\"color: #008080; text-decoration-color: #008080; font-weight: bold\"> 1.0             </span>│<span style=\"color: #008080; text-decoration-color: #008080; font-weight: bold\">               precision    recall  f1-score   support </span>│\n",
       "│<span style=\"color: #008080; text-decoration-color: #008080; font-weight: bold\">          </span>│<span style=\"color: #008080; text-decoration-color: #008080; font-weight: bold\">         </span>│<span style=\"color: #008080; text-decoration-color: #008080; font-weight: bold\">                 </span>│<span style=\"color: #008080; text-decoration-color: #008080; font-weight: bold\">                                                       </span>│\n",
       "│<span style=\"color: #008080; text-decoration-color: #008080; font-weight: bold\">          </span>│<span style=\"color: #008080; text-decoration-color: #008080; font-weight: bold\">         </span>│<span style=\"color: #008080; text-decoration-color: #008080; font-weight: bold\">                 </span>│<span style=\"color: #008080; text-decoration-color: #008080; font-weight: bold\">           No       1.00      0.25      0.40         4 </span>│\n",
       "│<span style=\"color: #008080; text-decoration-color: #008080; font-weight: bold\">          </span>│<span style=\"color: #008080; text-decoration-color: #008080; font-weight: bold\">         </span>│<span style=\"color: #008080; text-decoration-color: #008080; font-weight: bold\">                 </span>│<span style=\"color: #008080; text-decoration-color: #008080; font-weight: bold\">          Yes       0.00      0.00      0.00         0 </span>│\n",
       "│<span style=\"color: #008080; text-decoration-color: #008080; font-weight: bold\">          </span>│<span style=\"color: #008080; text-decoration-color: #008080; font-weight: bold\">         </span>│<span style=\"color: #008080; text-decoration-color: #008080; font-weight: bold\">                 </span>│<span style=\"color: #008080; text-decoration-color: #008080; font-weight: bold\">                                                       </span>│\n",
       "│<span style=\"color: #008080; text-decoration-color: #008080; font-weight: bold\">          </span>│<span style=\"color: #008080; text-decoration-color: #008080; font-weight: bold\">         </span>│<span style=\"color: #008080; text-decoration-color: #008080; font-weight: bold\">                 </span>│<span style=\"color: #008080; text-decoration-color: #008080; font-weight: bold\">     accuracy                           0.25         4 </span>│\n",
       "│<span style=\"color: #008080; text-decoration-color: #008080; font-weight: bold\">          </span>│<span style=\"color: #008080; text-decoration-color: #008080; font-weight: bold\">         </span>│<span style=\"color: #008080; text-decoration-color: #008080; font-weight: bold\">                 </span>│<span style=\"color: #008080; text-decoration-color: #008080; font-weight: bold\">    macro avg       0.50      0.12      0.20         4 </span>│\n",
       "│<span style=\"color: #008080; text-decoration-color: #008080; font-weight: bold\">          </span>│<span style=\"color: #008080; text-decoration-color: #008080; font-weight: bold\">         </span>│<span style=\"color: #008080; text-decoration-color: #008080; font-weight: bold\">                 </span>│<span style=\"color: #008080; text-decoration-color: #008080; font-weight: bold\"> weighted avg       1.00      0.25      0.40         4 </span>│\n",
       "│<span style=\"color: #008080; text-decoration-color: #008080; font-weight: bold\">          </span>│<span style=\"color: #008080; text-decoration-color: #008080; font-weight: bold\">         </span>│<span style=\"color: #008080; text-decoration-color: #008080; font-weight: bold\">                 </span>│<span style=\"color: #008080; text-decoration-color: #008080; font-weight: bold\">                                                       </span>│\n",
       "└──────────┴─────────┴─────────────────┴───────────────────────────────────────────────────────┘\n",
       "</pre>\n"
      ],
      "text/plain": [
       "┏━━━━━━━━━━┳━━━━━━━━━┳━━━━━━━━━━━━━━━━━┳━━━━━━━━━━━━━━━━━━━━━━━━━━━━━━━━━━━━━━━━━━━━━━━━━━━━━━━┓\n",
       "┃\u001b[1m \u001b[0m\u001b[1maccuracy\u001b[0m\u001b[1m \u001b[0m┃\u001b[1m \u001b[0m\u001b[1msupport\u001b[0m\u001b[1m \u001b[0m┃\u001b[1m \u001b[0m\u001b[1mcompletion_rate\u001b[0m\u001b[1m \u001b[0m┃\u001b[1m \u001b[0m\u001b[1mclassification_report                                \u001b[0m\u001b[1m \u001b[0m┃\n",
       "┡━━━━━━━━━━╇━━━━━━━━━╇━━━━━━━━━━━━━━━━━╇━━━━━━━━━━━━━━━━━━━━━━━━━━━━━━━━━━━━━━━━━━━━━━━━━━━━━━━┩\n",
       "│\u001b[1;36m \u001b[0m\u001b[1;36m0.25    \u001b[0m\u001b[1;36m \u001b[0m│\u001b[1;36m \u001b[0m\u001b[1;36m4      \u001b[0m\u001b[1;36m \u001b[0m│\u001b[1;36m \u001b[0m\u001b[1;36m1.0            \u001b[0m\u001b[1;36m \u001b[0m│\u001b[1;36m \u001b[0m\u001b[1;36m              precision    recall  f1-score   support\u001b[0m\u001b[1;36m \u001b[0m│\n",
       "│\u001b[1;36m          \u001b[0m│\u001b[1;36m         \u001b[0m│\u001b[1;36m                 \u001b[0m│\u001b[1;36m \u001b[0m\u001b[1;36m                                                     \u001b[0m\u001b[1;36m \u001b[0m│\n",
       "│\u001b[1;36m          \u001b[0m│\u001b[1;36m         \u001b[0m│\u001b[1;36m                 \u001b[0m│\u001b[1;36m \u001b[0m\u001b[1;36m          No       1.00      0.25      0.40         4\u001b[0m\u001b[1;36m \u001b[0m│\n",
       "│\u001b[1;36m          \u001b[0m│\u001b[1;36m         \u001b[0m│\u001b[1;36m                 \u001b[0m│\u001b[1;36m \u001b[0m\u001b[1;36m         Yes       0.00      0.00      0.00         0\u001b[0m\u001b[1;36m \u001b[0m│\n",
       "│\u001b[1;36m          \u001b[0m│\u001b[1;36m         \u001b[0m│\u001b[1;36m                 \u001b[0m│\u001b[1;36m \u001b[0m\u001b[1;36m                                                     \u001b[0m\u001b[1;36m \u001b[0m│\n",
       "│\u001b[1;36m          \u001b[0m│\u001b[1;36m         \u001b[0m│\u001b[1;36m                 \u001b[0m│\u001b[1;36m \u001b[0m\u001b[1;36m    accuracy                           0.25         4\u001b[0m\u001b[1;36m \u001b[0m│\n",
       "│\u001b[1;36m          \u001b[0m│\u001b[1;36m         \u001b[0m│\u001b[1;36m                 \u001b[0m│\u001b[1;36m \u001b[0m\u001b[1;36m   macro avg       0.50      0.12      0.20         4\u001b[0m\u001b[1;36m \u001b[0m│\n",
       "│\u001b[1;36m          \u001b[0m│\u001b[1;36m         \u001b[0m│\u001b[1;36m                 \u001b[0m│\u001b[1;36m \u001b[0m\u001b[1;36mweighted avg       1.00      0.25      0.40         4\u001b[0m\u001b[1;36m \u001b[0m│\n",
       "│\u001b[1;36m          \u001b[0m│\u001b[1;36m         \u001b[0m│\u001b[1;36m                 \u001b[0m│\u001b[1;36m \u001b[0m\u001b[1;36m                                                     \u001b[0m\u001b[1;36m \u001b[0m│\n",
       "└──────────┴─────────┴─────────────────┴───────────────────────────────────────────────────────┘\n"
      ]
     },
     "metadata": {},
     "output_type": "display_data"
    }
   ],
   "source": [
    "metrics = verify_ds.eval()"
   ]
  },
  {
   "cell_type": "code",
   "execution_count": 33,
   "id": "6130d151-0d22-4156-a456-0b52d897efac",
   "metadata": {},
   "outputs": [],
   "source": [
    "new_test_data[f'{verify_answer_column}_label'] = verify_ds.df[f'{verify_answer_column}_label']"
   ]
  },
  {
   "cell_type": "code",
   "execution_count": 35,
   "id": "2288fcfb-7934-434a-aa70-2c03e51b5144",
   "metadata": {},
   "outputs": [],
   "source": [
    "verify_ds.df['text_idx'] = new_test_data['text_idx']"
   ]
  },
  {
   "cell_type": "code",
   "execution_count": 36,
   "id": "64ba58de-265c-4ec5-9e22-ba2497e09257",
   "metadata": {},
   "outputs": [],
   "source": [
    "verify_ds.df.to_csv(output_verify_path, index=False)\n",
    "verify_ds.df.to_pickle(output_verify_path.replace('.csv', '.pkl'))"
   ]
  },
  {
   "cell_type": "code",
   "execution_count": 37,
   "id": "77168401-84f4-4c23-a4cc-3ca9613cac79",
   "metadata": {},
   "outputs": [],
   "source": [
    "new_result = construct_results(ds.df, new_test_data, f'{label_column}_label', f'{verify_answer_column}_label', \"text_idx\", pos_column, label_symbol)"
   ]
  },
  {
   "cell_type": "code",
   "execution_count": 38,
   "id": "ccc112ac-5d11-4a10-92da-a67844115f83",
   "metadata": {},
   "outputs": [
    {
     "data": {
      "text/html": [
       "<pre style=\"white-space:pre;overflow-x:auto;line-height:normal;font-family:Menlo,'DejaVu Sans Mono',consolas,'Courier New',monospace\">┏━━━━━━━━━━┳━━━━━━━━━┳━━━━━━━━━━━━━━━━━┳━━━━━━━━┓\n",
       "┃<span style=\"font-weight: bold\"> accuracy </span>┃<span style=\"font-weight: bold\"> support </span>┃<span style=\"font-weight: bold\"> completion_rate </span>┃<span style=\"font-weight: bold\"> f1     </span>┃\n",
       "┡━━━━━━━━━━╇━━━━━━━━━╇━━━━━━━━━━━━━━━━━╇━━━━━━━━┩\n",
       "│<span style=\"color: #008080; text-decoration-color: #008080; font-weight: bold\"> 0.6      </span>│<span style=\"color: #008080; text-decoration-color: #008080; font-weight: bold\"> 10      </span>│<span style=\"color: #008080; text-decoration-color: #008080; font-weight: bold\"> 1.0             </span>│<span style=\"color: #008080; text-decoration-color: #008080; font-weight: bold\"> 0.9264 </span>│\n",
       "└──────────┴─────────┴─────────────────┴────────┘\n",
       "</pre>\n"
      ],
      "text/plain": [
       "┏━━━━━━━━━━┳━━━━━━━━━┳━━━━━━━━━━━━━━━━━┳━━━━━━━━┓\n",
       "┃\u001b[1m \u001b[0m\u001b[1maccuracy\u001b[0m\u001b[1m \u001b[0m┃\u001b[1m \u001b[0m\u001b[1msupport\u001b[0m\u001b[1m \u001b[0m┃\u001b[1m \u001b[0m\u001b[1mcompletion_rate\u001b[0m\u001b[1m \u001b[0m┃\u001b[1m \u001b[0m\u001b[1mf1    \u001b[0m\u001b[1m \u001b[0m┃\n",
       "┡━━━━━━━━━━╇━━━━━━━━━╇━━━━━━━━━━━━━━━━━╇━━━━━━━━┩\n",
       "│\u001b[1;36m \u001b[0m\u001b[1;36m0.6     \u001b[0m\u001b[1;36m \u001b[0m│\u001b[1;36m \u001b[0m\u001b[1;36m10     \u001b[0m\u001b[1;36m \u001b[0m│\u001b[1;36m \u001b[0m\u001b[1;36m1.0            \u001b[0m\u001b[1;36m \u001b[0m│\u001b[1;36m \u001b[0m\u001b[1;36m0.9264\u001b[0m\u001b[1;36m \u001b[0m│\n",
       "└──────────┴─────────┴─────────────────┴────────┘\n"
      ]
     },
     "metadata": {},
     "output_type": "display_data"
    }
   ],
   "source": [
    "metrics = ds.eval()"
   ]
  },
  {
   "cell_type": "code",
   "execution_count": 39,
   "id": "96f40a09-e1e0-4781-85fb-63d91caf9b6b",
   "metadata": {},
   "outputs": [],
   "source": [
    "new_result.to_csv(output_final_path, index=False)\n",
    "new_result.to_pickle(output_final_path.replace('.csv', '.pkl'))"
   ]
  }
 ],
 "metadata": {
  "kernelspec": {
   "display_name": "py3.9-visa",
   "language": "python",
   "name": "py3.9-visa"
  },
  "language_info": {
   "codemirror_mode": {
    "name": "ipython",
    "version": 3
   },
   "file_extension": ".py",
   "mimetype": "text/x-python",
   "name": "python",
   "nbconvert_exporter": "python",
   "pygments_lexer": "ipython3",
   "version": "3.9.12"
  }
 },
 "nbformat": 4,
 "nbformat_minor": 5
}
