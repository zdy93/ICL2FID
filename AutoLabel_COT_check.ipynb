{
 "cells": [
  {
   "cell_type": "code",
   "execution_count": null,
   "id": "f5198684-0eb5-4959-941e-59d467a9b688",
   "metadata": {
    "tags": [
     "parameters"
    ]
   },
   "outputs": [],
   "source": [
    "few_shot_path = '/scratch/dzhang5/LLM/TWEET-FID/expert.train.short.csv'\n",
    "data_path = '/scratch/dzhang5/LLM/TWEET-FID/expert.smalltest.csv'\n",
    "output_dir = '/scratch/dzhang5/LLM/TWEET-FID/test-results-autolabel'\n",
    "model_name = \"gpt-3.5-turbo\"\n",
    "label_column = 'sentence_class'\n",
    "example_selection_label_column = 'sentence_check_class'\n",
    "text_column = 'tweet'\n",
    "explanation_column = 'sentence_check_explanation'\n",
    "reference_column = 'sentence_check_reference'\n",
    "few_shot_num = 8\n",
    "few_shot_selection = \"label_diversity_similarity\"\n",
    "token_path = \"/home/dzhang5/.cache/huggingface/token\"\n",
    "cache=False\n",
    "console_output=True\n",
    "temperature=0.1\n",
    "random_shuffle_examples = True\n",
    "random_shuffle_examples_seed = 1"
   ]
  },
  {
   "cell_type": "code",
   "execution_count": null,
   "id": "e3ff6901-384c-4d0f-8989-ea59657c37e3",
   "metadata": {},
   "outputs": [],
   "source": [
    "from autolabel.schema import ModelProvider, TaskType\n",
    "from autolabel.models import register_model, MODEL_REGISTRY\n",
    "from hf_pipeline_new import HFPipelineLLMNew\n",
    "from few_shot_new import NewAutoLabelConfig, NewExampleSelectorFactory\n",
    "from autolabel.few_shot import ExampleSelectorFactory\n",
    "from template_inst import update_inst_mode\n",
    "from named_entity_recognition_new import NewNamedEntityRecognitionTask\n",
    "from classification_new import NewClassificationTask\n",
    "from autolabel.tasks import TASK_TYPE_TO_IMPLEMENTATION \n",
    "import sys"
   ]
  },
  {
   "cell_type": "code",
   "execution_count": null,
   "id": "5fbc9b8a-32ff-4a8a-b1b0-db5697b3d861",
   "metadata": {},
   "outputs": [],
   "source": [
    "update_inst_mode(model_name)\n",
    "TASK_TYPE_TO_IMPLEMENTATION[TaskType.NAMED_ENTITY_RECOGNITION] = NewNamedEntityRecognitionTask\n",
    "TASK_TYPE_TO_IMPLEMENTATION[TaskType.CLASSIFICATION] = NewClassificationTask\n",
    "sys.modules['autolabel.labeler'].ExampleSelectorFactory = NewExampleSelectorFactory\n",
    "register_model(ModelProvider.HUGGINGFACE_PIPELINE, HFPipelineLLMNew)"
   ]
  },
  {
   "cell_type": "code",
   "execution_count": null,
   "id": "d67c0a78-0a28-4ad1-84d2-9edf12534aed",
   "metadata": {},
   "outputs": [],
   "source": [
    "from autolabel import LabelingAgent, AutolabelDataset\n",
    "import json\n",
    "import os\n",
    "import pandas as pd"
   ]
  },
  {
   "cell_type": "code",
   "execution_count": null,
   "id": "9b470589-0c67-4fc7-aba1-b0345eed23f4",
   "metadata": {},
   "outputs": [
    {
     "name": "stdout",
     "output_type": "stream",
     "text": [
      "Token will not been saved to git credential helper. Pass `add_to_git_credential=True` if you want to set the git credential as well.\n",
      "Token is valid (permission: read).\n",
      "Your token has been saved to /home/dzhang5/.cache/huggingface/token\n",
      "Login successful\n"
     ]
    }
   ],
   "source": [
    "with open(token_path) as tfile:\n",
    "    token_str = tfile.read()\n",
    "\n",
    "from huggingface_hub import login\n",
    "login(token=token_str)"
   ]
  },
  {
   "cell_type": "code",
   "execution_count": null,
   "id": "ae5043f6-302a-4c91-bc1c-547b760378ab",
   "metadata": {},
   "outputs": [],
   "source": [
    "no_auto = [\"microsoft/prophetnet\", \"microsoft/phi-2\", \"google/pegasus-x\"]\n",
    "if any([pre in model_name for pre in no_auto]):\n",
    "    device_map = None\n",
    "else:\n",
    "    device_map = \"auto\""
   ]
  },
  {
   "cell_type": "code",
   "execution_count": null,
   "id": "940ce33a-51e5-45e1-97fc-aeaf94491727",
   "metadata": {},
   "outputs": [],
   "source": [
    "refuel_models = [\"refuel-llm\", \"llama-13b-chat\"]\n",
    "if model_name in refuel_models:\n",
    "    provider = \"refuel\"\n",
    "    em_provider = \"huggingface_pipeline\"\n",
    "    model_params = {\"max_length\":4096, \"temperature\": temperature}\n",
    "    task_name = f\"FoodborneIllnessIncidentTweetClassification_{few_shot_selection}_{model_name}\"\n",
    "elif model_name.startswith('gpt'):\n",
    "    provider = \"openai\"\n",
    "    em_provider = \"openai\"\n",
    "    model_params = {\"max_tokens\":4096, \"temperature\": temperature}\n",
    "    task_name = f\"FoodborneIllnessIncidentTweetClassification_{few_shot_selection}_{model_name}\"\n",
    "else:\n",
    "    provider = \"huggingface_pipeline\"\n",
    "    em_provider = \"huggingface_pipeline\"\n",
    "    model_params = {\"max_length\":4096, \"temperature\": temperature,\n",
    "                    \"quantize\": 16, \"device_map\": device_map,\n",
    "                    \"token\": token_str}\n",
    "    task_name = f\"FoodborneIllnessIncidentTweetClassification_{few_shot_selection}_{model_name.split('/')[1]}\""
   ]
  },
  {
   "cell_type": "code",
   "execution_count": null,
   "id": "6ef8a6dd-7773-46be-8b94-695363657877",
   "metadata": {},
   "outputs": [],
   "source": [
    "if not os.path.exists(output_dir):\n",
    "    # Create the directory\n",
    "    os.makedirs(output_dir)\n",
    "output_name = os.path.split(model_name)[-1] + '_' + few_shot_selection + '_COT_check_' + os.path.split(data_path)[-1]\n",
    "output_path = os.path.join(output_dir, output_name)"
   ]
  },
  {
   "cell_type": "code",
   "execution_count": null,
   "id": "e2ab5c16-a103-45e2-af9e-c31d98292779",
   "metadata": {},
   "outputs": [],
   "source": [
    "test_data = pd.read_csv(data_path)"
   ]
  },
  {
   "cell_type": "code",
   "execution_count": null,
   "id": "fa780db5-ed9d-4fe8-ad03-8d7eb19d83bc",
   "metadata": {},
   "outputs": [],
   "source": [
    "if reference_column.startswith('dummy_'):\n",
    "    test_data[reference_column] = test_data[reference_column[len('dummy_'):]]"
   ]
  },
  {
   "cell_type": "code",
   "execution_count": null,
   "id": "15567ff5-37f7-4b35-a48b-83b310b410bb",
   "metadata": {},
   "outputs": [],
   "source": [
    "config = {\n",
    "    \"task_name\": task_name,\n",
    "    \"task_type\": \"question_answering\",\n",
    "    \"dataset\": {\n",
    "        \"label_column\": label_column,\n",
    "        \"text_column\": text_column,\n",
    "        \"explanation_column\": explanation_column,\n",
    "        \"example_selection_label_column\": example_selection_label_column,\n",
    "        \"delimiter\": \",\"\n",
    "    },\n",
    "    \"model\": {\n",
    "        \"provider\": provider,\n",
    "        \"name\": model_name,\n",
    "        \"params\": model_params\n",
    "    },\n",
    "    \"embedding\": {\n",
    "        \"provider\": em_provider,\n",
    "    },\n",
    "    \"prompt\": {\n",
    "        \"task_guidelines\": (\"You are an expert at identifying foodborne illness incident information. For the given text, \"\n",
    "                            \"your task is to evaluate the text to determine if it describes a potential foodborne illness event. \"\n",
    "                            \"Another model has extracted some entities that are related to foodborne illness incident, you can take it as a reference. But the finding might be incorrect. \"\n",
    "                            \"Use the following examples as a guide for your predictions and format your responses similarly.\"\n",
    "                  ),\n",
    "        \"output_guidelines\": ('''Your answer will consist of an explanation, followed by the correct answer (\"Yes\" or \"No\").'''\n",
    "                              '''Please answer with \"Yes\" if it describes a potential foodborne illness event, otherwise answer with \"No\".'''\n",
    "                              '''The last line of the response should always be JSON format with one key: {\"label\": \"the correct answer\"}.\\n'''),\n",
    "        \"labels\": [\n",
    "            \"Yes\",\n",
    "            \"No\"\n",
    "        ],\n",
    "        \"example_selection_labels\":[\n",
    "            \"YesYes\",\n",
    "            \"NoYes\",\n",
    "            \"YesNo\",\n",
    "            \"NoNo\",\n",
    "        ],\n",
    "        \"few_shot_examples\": few_shot_path,\n",
    "        \"few_shot_selection\": few_shot_selection,\n",
    "        \"few_shot_num\": few_shot_num,\n",
    "        \"random_shuffle_examples\": random_shuffle_examples,\n",
    "        \"random_shuffle_examples_seed\": random_shuffle_examples_seed,\n",
    "        \"example_template\": f\"Context: {{{text_column}}}\\nFinding: {{{reference_column}}}\\nAnswer: Let's think step by step.\\n{{{explanation_column}}}\\n{{{label_column}}}\",\n",
    "        \"chain_of_thought\": True\n",
    "    }\n",
    "}\n",
    "\n",
    "config = NewAutoLabelConfig(config)"
   ]
  },
  {
   "cell_type": "code",
   "execution_count": null,
   "id": "e28122bc-1337-497b-8410-54fd17249452",
   "metadata": {},
   "outputs": [
    {
     "name": "stderr",
     "output_type": "stream",
     "text": [
      "2024-03-28 05:48:20 autolabel.labeler WARNING: cache parameter is deprecated and will be removed soon. Please use generation_cache and transform_cache instead.\n",
      "/scratch/dzhang5/visa/visa39/lib/python3.9/site-packages/langchain_core/_api/deprecation.py:117: LangChainDeprecationWarning: The class `langchain_community.chat_models.openai.ChatOpenAI` was deprecated in langchain-community 0.0.10 and will be removed in 0.2.0. An updated version of the class exists in the langchain-openai package and should be used instead. To use it run `pip install -U langchain-openai` and import as `from langchain_openai import ChatOpenAI`.\n",
      "  warn_deprecated(\n"
     ]
    }
   ],
   "source": [
    "agent = LabelingAgent(config=config, console_output=console_output, cache=cache)"
   ]
  },
  {
   "cell_type": "code",
   "execution_count": null,
   "id": "c175c7c0-a61e-4d63-bc23-b06c51c8d72e",
   "metadata": {},
   "outputs": [],
   "source": [
    "ds = AutolabelDataset(test_data[[text_column, reference_column, label_column]], config=config)\n",
    "agent.plan(ds)"
   ]
  },
  {
   "cell_type": "code",
   "execution_count": null,
   "id": "066e6a3b-86ff-47ca-826a-e2690bfeee7e",
   "metadata": {},
   "outputs": [],
   "source": [
    "# now, do the actual labeling\n",
    "ds = agent.run(ds)"
   ]
  },
  {
   "cell_type": "code",
   "execution_count": null,
   "id": "7045720a-3e2a-432c-8f86-9d996e9a7980",
   "metadata": {},
   "outputs": [],
   "source": [
    "metrics = ds.eval()"
   ]
  },
  {
   "cell_type": "code",
   "execution_count": null,
   "id": "4bcbd487-91d5-44af-85e5-c85798e68704",
   "metadata": {},
   "outputs": [],
   "source": [
    "ds.df.to_csv(output_path, index=False)\n",
    "ds.df.to_pickle(output_path.replace('.csv', '.pkl'))"
   ]
  }
 ],
 "metadata": {
  "kernelspec": {
   "display_name": "py3.9-visa",
   "language": "python",
   "name": "py3.9-visa"
  },
  "language_info": {
   "codemirror_mode": {
    "name": "ipython",
    "version": 3
   },
   "file_extension": ".py",
   "mimetype": "text/x-python",
   "name": "python",
   "nbconvert_exporter": "python",
   "pygments_lexer": "ipython3",
   "version": "3.9.12"
  }
 },
 "nbformat": 4,
 "nbformat_minor": 5
}
