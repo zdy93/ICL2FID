{
 "cells": [
  {
   "cell_type": "code",
   "execution_count": 1,
   "id": "f5198684-0eb5-4959-941e-59d467a9b688",
   "metadata": {
    "tags": [
     "parameters"
    ]
   },
   "outputs": [],
   "source": [
    "few_shot_path = '/scratch/dzhang5/LLM/TWEET-FID/expert.train.short.csv'\n",
    "data_path = '/scratch/dzhang5/LLM/TWEET-FID/expert.smalltest.csv'\n",
    "output_dir = '/scratch/dzhang5/LLM/TWEET-FID/test-results-autolabel'\n",
    "model_name = \"gpt-3.5-turbo\"\n",
    "label_column = 'sentence_class'\n",
    "text_column = 'tweet'\n",
    "explanation_column = 'sentence_explanation'\n",
    "few_shot_num = 8\n",
    "few_shot_selection = \"semantic_similarity\"\n",
    "use_current_explanation = False\n",
    "use_ground_explanation = False\n",
    "token_path = \"/home/dzhang5/.cache/huggingface/token\"\n",
    "cache=False\n",
    "console_output=True\n",
    "temperature=0.1\n",
    "random_shuffle_examples = True\n",
    "random_shuffle_examples_seed = 1"
   ]
  },
  {
   "cell_type": "code",
   "execution_count": 2,
   "id": "e3ff6901-384c-4d0f-8989-ea59657c37e3",
   "metadata": {},
   "outputs": [],
   "source": [
    "from autolabel.schema import ModelProvider, TaskType\n",
    "from autolabel.models import register_model, MODEL_REGISTRY\n",
    "from hf_pipeline_new import HFPipelineLLMNew\n",
    "from few_shot_new import NewAutoLabelConfig, NewExampleSelectorFactory\n",
    "from autolabel.few_shot import ExampleSelectorFactory\n",
    "from template_inst import update_inst_mode\n",
    "from named_entity_recognition_new import NewNamedEntityRecognitionTask\n",
    "from classification_new import NewClassificationTask\n",
    "from autolabel.tasks import TASK_TYPE_TO_IMPLEMENTATION \n",
    "import sys"
   ]
  },
  {
   "cell_type": "code",
   "execution_count": 3,
   "id": "5fbc9b8a-32ff-4a8a-b1b0-db5697b3d861",
   "metadata": {},
   "outputs": [],
   "source": [
    "update_inst_mode(model_name)\n",
    "TASK_TYPE_TO_IMPLEMENTATION[TaskType.NAMED_ENTITY_RECOGNITION] = NewNamedEntityRecognitionTask\n",
    "TASK_TYPE_TO_IMPLEMENTATION[TaskType.CLASSIFICATION] = NewClassificationTask\n",
    "sys.modules['autolabel.labeler'].ExampleSelectorFactory = NewExampleSelectorFactory\n",
    "register_model(ModelProvider.HUGGINGFACE_PIPELINE, HFPipelineLLMNew)"
   ]
  },
  {
   "cell_type": "code",
   "execution_count": 4,
   "id": "d67c0a78-0a28-4ad1-84d2-9edf12534aed",
   "metadata": {},
   "outputs": [],
   "source": [
    "from autolabel import LabelingAgent, AutolabelDataset\n",
    "import json\n",
    "import os\n",
    "import pandas as pd"
   ]
  },
  {
   "cell_type": "code",
   "execution_count": 5,
   "id": "9b470589-0c67-4fc7-aba1-b0345eed23f4",
   "metadata": {},
   "outputs": [
    {
     "name": "stdout",
     "output_type": "stream",
     "text": [
      "Token will not been saved to git credential helper. Pass `add_to_git_credential=True` if you want to set the git credential as well.\n",
      "Token is valid (permission: read).\n",
      "Your token has been saved to /home/dzhang5/.cache/huggingface/token\n",
      "Login successful\n"
     ]
    }
   ],
   "source": [
    "with open(token_path) as tfile:\n",
    "    token_str = tfile.read()\n",
    "\n",
    "from huggingface_hub import login\n",
    "login(token=token_str)"
   ]
  },
  {
   "cell_type": "code",
   "execution_count": 6,
   "id": "ae5043f6-302a-4c91-bc1c-547b760378ab",
   "metadata": {},
   "outputs": [],
   "source": [
    "no_auto = [\"microsoft/prophetnet\", \"microsoft/phi-2\", \"google/pegasus-x\"]\n",
    "if any([pre in model_name for pre in no_auto]):\n",
    "    device_map = None\n",
    "else:\n",
    "    device_map = \"auto\""
   ]
  },
  {
   "cell_type": "code",
   "execution_count": 7,
   "id": "940ce33a-51e5-45e1-97fc-aeaf94491727",
   "metadata": {},
   "outputs": [],
   "source": [
    "refuel_models = [\"refuel-llm\", \"llama-13b-chat\"]\n",
    "if model_name in refuel_models:\n",
    "    provider = \"refuel\"\n",
    "    em_provider = \"huggingface_pipeline\"\n",
    "    model_params = {\"max_length\":4096, \"temperature\": temperature}\n",
    "    task_name = f\"FoodborneIllnessIncidentTweetClassification_{few_shot_selection}_{model_name}\"\n",
    "elif model_name.startswith('gpt'):\n",
    "    provider = \"openai\"\n",
    "    em_provider = \"openai\"\n",
    "    model_params = {\"max_tokens\":4096, \"temperature\": temperature}\n",
    "    task_name = f\"FoodborneIllnessIncidentTweetClassification_{few_shot_selection}_{model_name}\"\n",
    "else:\n",
    "    provider = \"huggingface_pipeline\"\n",
    "    em_provider = \"huggingface_pipeline\"\n",
    "    model_params = {\"max_length\":4096, \"temperature\": temperature,\n",
    "                    \"quantize\": 16, \"device_map\": device_map,\n",
    "                    \"token\": token_str}\n",
    "    task_name = f\"FoodborneIllnessIncidentTweetClassification_{few_shot_selection}_{model_name.split('/')[1]}\""
   ]
  },
  {
   "cell_type": "code",
   "execution_count": 8,
   "id": "6ef8a6dd-7773-46be-8b94-695363657877",
   "metadata": {},
   "outputs": [],
   "source": [
    "if not os.path.exists(output_dir):\n",
    "    # Create the directory\n",
    "    os.makedirs(output_dir)\n",
    "output_name = os.path.split(model_name)[-1] + '_' + few_shot_selection + '_COT_' + '_cur_' + str(use_current_explanation) + '_ground_' + str(use_ground_explanation) + '_' + os.path.split(data_path)[-1]\n",
    "output_path = os.path.join(output_dir, output_name)"
   ]
  },
  {
   "cell_type": "code",
   "execution_count": 9,
   "id": "e2ab5c16-a103-45e2-af9e-c31d98292779",
   "metadata": {},
   "outputs": [],
   "source": [
    "test_data = pd.read_csv(data_path)"
   ]
  },
  {
   "cell_type": "code",
   "execution_count": 10,
   "id": "031cbcdf-65b8-4733-9c79-00e3fd1e458b",
   "metadata": {},
   "outputs": [],
   "source": [
    "if use_current_explanation and not use_ground_explanation:\n",
    "    explanation_column = explanation_column + \"_prediction\""
   ]
  },
  {
   "cell_type": "code",
   "execution_count": 11,
   "id": "15567ff5-37f7-4b35-a48b-83b310b410bb",
   "metadata": {},
   "outputs": [],
   "source": [
    "config = {\n",
    "    \"task_name\": task_name,\n",
    "    \"task_type\": \"classification\",\n",
    "    \"dataset\": {\n",
    "        \"label_column\": label_column,\n",
    "        \"text_column\": text_column,\n",
    "        \"explanation_column\": explanation_column,\n",
    "        \"delimiter\": \",\"\n",
    "    },\n",
    "    \"model\": {\n",
    "        \"provider\": provider,\n",
    "        \"name\": model_name,\n",
    "        \"params\": model_params\n",
    "    },\n",
    "    \"embedding\": {\n",
    "        \"provider\": em_provider,\n",
    "    },\n",
    "    \"prompt\": {\n",
    "        \"task_guidelines\": (\"You are an expert at identifying foodborne illness incident information. For the given text, \"\n",
    "                            \"your task is to evaluate the text to determine if it describes a potential foodborne illness event. \"\n",
    "                            \"Use the following examples as a guide for your predictions and format your responses similarly.\"\n",
    "                  ),\n",
    "        \"output_guidelines\": ('''Your answer will consist of an explanation, followed by the correct answer (\"Yes\" or \"No\").'''\n",
    "                              '''Please answer with \"Yes\" if it describes a potential foodborne illness event, otherwise answer with \"No\".'''\n",
    "                              '''The last line of the response should always be JSON format with one key: {\"label\": \"the correct answer\"}.\\n'''),\n",
    "        \"labels\": [\n",
    "            \"Yes\",\n",
    "            \"No\"\n",
    "        ],\n",
    "        \"few_shot_examples\": few_shot_path,\n",
    "        \"few_shot_selection\": few_shot_selection,\n",
    "        \"few_shot_num\": few_shot_num,\n",
    "        \"use_current_explanation\": use_current_explanation,\n",
    "        \"random_shuffle_examples\": random_shuffle_examples,\n",
    "        \"random_shuffle_examples_seed\": random_shuffle_examples_seed,\n",
    "        \"example_template\": f\"Input: {{{text_column}}}\\nOutput: Let's think step by step.\\n{{{explanation_column}}}\\n{{{label_column}}}\",\n",
    "        \"chain_of_thought\": True\n",
    "    }\n",
    "}\n",
    "\n",
    "config = NewAutoLabelConfig(config)"
   ]
  },
  {
   "cell_type": "code",
   "execution_count": 12,
   "id": "e28122bc-1337-497b-8410-54fd17249452",
   "metadata": {},
   "outputs": [
    {
     "name": "stderr",
     "output_type": "stream",
     "text": [
      "2024-03-28 05:54:57 autolabel.labeler WARNING: cache parameter is deprecated and will be removed soon. Please use generation_cache and transform_cache instead.\n",
      "/scratch/dzhang5/visa/visa39/lib/python3.9/site-packages/langchain_core/_api/deprecation.py:117: LangChainDeprecationWarning: The class `langchain_community.chat_models.openai.ChatOpenAI` was deprecated in langchain-community 0.0.10 and will be removed in 0.2.0. An updated version of the class exists in the langchain-openai package and should be used instead. To use it run `pip install -U langchain-openai` and import as `from langchain_openai import ChatOpenAI`.\n",
      "  warn_deprecated(\n"
     ]
    }
   ],
   "source": [
    "agent = LabelingAgent(config=config, console_output=console_output, cache=cache)"
   ]
  },
  {
   "cell_type": "code",
   "execution_count": 13,
   "id": "c175c7c0-a61e-4d63-bc23-b06c51c8d72e",
   "metadata": {},
   "outputs": [
    {
     "name": "stderr",
     "output_type": "stream",
     "text": [
      "/scratch/dzhang5/visa/visa39/lib/python3.9/site-packages/langchain_core/_api/deprecation.py:117: LangChainDeprecationWarning: The class `langchain_community.embeddings.openai.OpenAIEmbeddings` was deprecated in langchain-community 0.1.0 and will be removed in 0.2.0. An updated version of the class exists in the langchain-openai package and should be used instead. To use it run `pip install -U langchain-openai` and import as `from langchain_openai import OpenAIEmbeddings`.\n",
      "  warn_deprecated(\n",
      "2024-03-28 05:55:00 httpx INFO: HTTP Request: POST https://api.openai.com/v1/embeddings \"HTTP/1.1 200 OK\"\n",
      "2024-03-28 05:55:04 httpx INFO: HTTP Request: POST https://api.openai.com/v1/embeddings \"HTTP/1.1 200 OK\"\n",
      "2024-03-28 05:55:08 httpx INFO: HTTP Request: POST https://api.openai.com/v1/embeddings \"HTTP/1.1 200 OK\"\n"
     ]
    },
    {
     "data": {
      "application/vnd.jupyter.widget-view+json": {
       "model_id": "a729f4a62251460b82f17cef6f063eb8",
       "version_major": 2,
       "version_minor": 0
      },
      "text/plain": [
       "Output()"
      ]
     },
     "metadata": {},
     "output_type": "display_data"
    },
    {
     "name": "stderr",
     "output_type": "stream",
     "text": [
      "2024-03-28 05:55:12 httpx INFO: HTTP Request: POST https://api.openai.com/v1/embeddings \"HTTP/1.1 200 OK\"\n",
      "2024-03-28 05:55:12 httpx INFO: HTTP Request: POST https://api.openai.com/v1/embeddings \"HTTP/1.1 200 OK\"\n",
      "2024-03-28 05:55:12 httpx INFO: HTTP Request: POST https://api.openai.com/v1/embeddings \"HTTP/1.1 200 OK\"\n",
      "2024-03-28 05:55:12 httpx INFO: HTTP Request: POST https://api.openai.com/v1/embeddings \"HTTP/1.1 200 OK\"\n",
      "2024-03-28 05:55:13 httpx INFO: HTTP Request: POST https://api.openai.com/v1/embeddings \"HTTP/1.1 200 OK\"\n",
      "2024-03-28 05:55:13 httpx INFO: HTTP Request: POST https://api.openai.com/v1/embeddings \"HTTP/1.1 200 OK\"\n",
      "2024-03-28 05:55:13 httpx INFO: HTTP Request: POST https://api.openai.com/v1/embeddings \"HTTP/1.1 200 OK\"\n",
      "2024-03-28 05:55:13 httpx INFO: HTTP Request: POST https://api.openai.com/v1/embeddings \"HTTP/1.1 200 OK\"\n",
      "2024-03-28 05:55:13 httpx INFO: HTTP Request: POST https://api.openai.com/v1/embeddings \"HTTP/1.1 200 OK\"\n"
     ]
    },
    {
     "data": {
      "text/html": [
       "<pre style=\"white-space:pre;overflow-x:auto;line-height:normal;font-family:Menlo,'DejaVu Sans Mono',consolas,'Courier New',monospace\"></pre>\n"
      ],
      "text/plain": []
     },
     "metadata": {},
     "output_type": "display_data"
    },
    {
     "data": {
      "text/html": [
       "<pre style=\"white-space:pre;overflow-x:auto;line-height:normal;font-family:Menlo,'DejaVu Sans Mono',consolas,'Courier New',monospace\">\n",
       "</pre>\n"
      ],
      "text/plain": [
       "\n"
      ]
     },
     "metadata": {},
     "output_type": "display_data"
    },
    {
     "data": {
      "text/html": [
       "<pre style=\"white-space:pre;overflow-x:auto;line-height:normal;font-family:Menlo,'DejaVu Sans Mono',consolas,'Courier New',monospace\">┌──────────────────────────┬─────────┐\n",
       "│<span style=\"color: #800080; text-decoration-color: #800080; font-weight: bold\"> Total Estimated Cost     </span>│<span style=\"color: #008000; text-decoration-color: #008000; font-weight: bold\"> $0.0936 </span>│\n",
       "│<span style=\"color: #800080; text-decoration-color: #800080; font-weight: bold\"> Number of Examples       </span>│<span style=\"color: #008000; text-decoration-color: #008000; font-weight: bold\"> 10      </span>│\n",
       "│<span style=\"color: #800080; text-decoration-color: #800080; font-weight: bold\"> Average cost per example </span>│<span style=\"color: #008000; text-decoration-color: #008000; font-weight: bold\"> $0.0094 </span>│\n",
       "└──────────────────────────┴─────────┘\n",
       "</pre>\n"
      ],
      "text/plain": [
       "┌──────────────────────────┬─────────┐\n",
       "│\u001b[1;35m \u001b[0m\u001b[1;35mTotal Estimated Cost    \u001b[0m\u001b[1;35m \u001b[0m│\u001b[1;32m \u001b[0m\u001b[1;32m$0.0936\u001b[0m\u001b[1;32m \u001b[0m│\n",
       "│\u001b[1;35m \u001b[0m\u001b[1;35mNumber of Examples      \u001b[0m\u001b[1;35m \u001b[0m│\u001b[1;32m \u001b[0m\u001b[1;32m10     \u001b[0m\u001b[1;32m \u001b[0m│\n",
       "│\u001b[1;35m \u001b[0m\u001b[1;35mAverage cost per example\u001b[0m\u001b[1;35m \u001b[0m│\u001b[1;32m \u001b[0m\u001b[1;32m$0.0094\u001b[0m\u001b[1;32m \u001b[0m│\n",
       "└──────────────────────────┴─────────┘\n"
      ]
     },
     "metadata": {},
     "output_type": "display_data"
    },
    {
     "data": {
      "text/html": [
       "<pre style=\"white-space:pre;overflow-x:auto;line-height:normal;font-family:Menlo,'DejaVu Sans Mono',consolas,'Courier New',monospace\"><span style=\"color: #00ff00; text-decoration-color: #00ff00\">───────────────────────────────────────────────── </span>Prompt Example<span style=\"color: #00ff00; text-decoration-color: #00ff00\"> ──────────────────────────────────────────────────</span>\n",
       "</pre>\n"
      ],
      "text/plain": [
       "\u001b[92m───────────────────────────────────────────────── \u001b[0mPrompt Example\u001b[92m ──────────────────────────────────────────────────\u001b[0m\n"
      ]
     },
     "metadata": {},
     "output_type": "display_data"
    },
    {
     "data": {
      "text/html": [
       "<pre style=\"white-space:pre;overflow-x:auto;line-height:normal;font-family:Menlo,'DejaVu Sans Mono',consolas,'Courier New',monospace\">You are an expert at identifying foodborne illness incident information. Within the TWEET-FID dataset, the task is \n",
       "to evaluate a tweet in the TWEET-FID dataset to determine if it describes a potential foodborne illness event. Use \n",
       "the following examples as a guide for your predictions and format your responses similarly.\n",
       "\n",
       "Your answer will consist of an explanation, followed by the correct answer <span style=\"font-weight: bold\">(</span><span style=\"color: #008000; text-decoration-color: #008000\">\"Yes\"</span> or <span style=\"color: #008000; text-decoration-color: #008000\">\"No\"</span><span style=\"font-weight: bold\">)</span>.Please answer with <span style=\"color: #008000; text-decoration-color: #008000\">\"Yes\"</span>\n",
       "if it describes a potential foodborne illness event, otherwise answer with <span style=\"color: #008000; text-decoration-color: #008000\">\"No\"</span>.The last line of the response \n",
       "should always be JSON format with one key: <span style=\"font-weight: bold\">{</span><span style=\"color: #008000; text-decoration-color: #008000\">\"label\"</span>: <span style=\"color: #008000; text-decoration-color: #008000\">\"the correct answer\"</span><span style=\"font-weight: bold\">}</span>.\n",
       "\n",
       "\n",
       "Some examples with their output answers are provided below:\n",
       "\n",
       "Input: @USER LOL I know! I've had a stomach bug or food poisoning since yesterday afternoon\n",
       "Output: Let's think step by step.\n",
       "The word <span style=\"color: #008000; text-decoration-color: #008000\">\"food poisoning\"</span> in the text is a Keyword entity, which is other relevant keyword or term associated with \n",
       "foodborne illnesses, such as <span style=\"color: #008000; text-decoration-color: #008000\">\"food poisoning\"</span>.\n",
       "<span style=\"font-weight: bold\">{</span><span style=\"color: #008000; text-decoration-color: #008000\">\"label\"</span>: <span style=\"color: #008000; text-decoration-color: #008000\">\"Yes\"</span><span style=\"font-weight: bold\">}</span>\n",
       "Input: @USER I got food poisoning today wbu\n",
       "Output: Let's think step by step.\n",
       "No word in the text is relevant to foodborne illness incident.\n",
       "<span style=\"font-weight: bold\">{</span><span style=\"color: #008000; text-decoration-color: #008000\">\"label\"</span>: <span style=\"color: #008000; text-decoration-color: #008000\">\"No\"</span><span style=\"font-weight: bold\">}</span>\n",
       "Input: @USER Sure its food poisoning? Really bad stomach flu going around the whole country. Feels like food \n",
       "poisoning.\n",
       "Output: Let's think step by step.\n",
       "No word in the text is relevant to foodborne illness incident.\n",
       "<span style=\"font-weight: bold\">{</span><span style=\"color: #008000; text-decoration-color: #008000\">\"label\"</span>: <span style=\"color: #008000; text-decoration-color: #008000\">\"No\"</span><span style=\"font-weight: bold\">}</span>\n",
       "Input: @USER To be honest, it's been a little rough. Food poisoning. Things are looking up, though.\n",
       "Output: Let's think step by step.\n",
       "The word <span style=\"color: #008000; text-decoration-color: #008000\">\"Food poisoning\"</span> in the text is a Keyword entity, which is other relevant keyword or term associated with \n",
       "foodborne illnesses, such as <span style=\"color: #008000; text-decoration-color: #008000\">\"food poisoning\"</span>.\n",
       "<span style=\"font-weight: bold\">{</span><span style=\"color: #008000; text-decoration-color: #008000\">\"label\"</span>: <span style=\"color: #008000; text-decoration-color: #008000\">\"Yes\"</span><span style=\"font-weight: bold\">}</span>\n",
       "Input: @USER Awww :<span style=\"font-weight: bold\">(</span> I hope it clears up. I just got food poisoning I think ~ throwing up all morning :<span style=\"color: #800080; text-decoration-color: #800080\">/</span>\n",
       "Output: Let's think step by step.\n",
       "The word <span style=\"color: #008000; text-decoration-color: #008000\">\"throwing up\"</span> in the text is a Symptom entity, which is a specific symptom experienced by the affected \n",
       "person as a result of the suspected foodborne illness. The word <span style=\"color: #008000; text-decoration-color: #008000\">\"food poisoning\"</span> in the text is a Keyword entity, \n",
       "which is other relevant keyword or term associated with foodborne illnesses, such as <span style=\"color: #008000; text-decoration-color: #008000\">\"food poisoning\"</span>.\n",
       "<span style=\"font-weight: bold\">{</span><span style=\"color: #008000; text-decoration-color: #008000\">\"label\"</span>: <span style=\"color: #008000; text-decoration-color: #008000\">\"Yes\"</span><span style=\"font-weight: bold\">}</span>\n",
       "Input: @USER food poisoning is the worst! Hope you get better!\n",
       "Output: Let's think step by step.\n",
       "The word <span style=\"color: #008000; text-decoration-color: #008000\">\"food poisoning\"</span> in the text is a Keyword entity, which is other relevant keyword or term associated with \n",
       "foodborne illnesses, such as <span style=\"color: #008000; text-decoration-color: #008000\">\"food poisoning\"</span>.\n",
       "<span style=\"font-weight: bold\">{</span><span style=\"color: #008000; text-decoration-color: #008000\">\"label\"</span>: <span style=\"color: #008000; text-decoration-color: #008000\">\"Yes\"</span><span style=\"font-weight: bold\">}</span>\n",
       "Input: @USER Hoping you are feeling better tonight! Food poisoning is rough! See you Tues. night! TAKE CARE OF \n",
       "YOURSELF!!\n",
       "Output: Let's think step by step.\n",
       "The word <span style=\"color: #008000; text-decoration-color: #008000\">\"Food poisoning\"</span> in the text is a Keyword entity, which is other relevant keyword or term associated with \n",
       "foodborne illnesses, such as <span style=\"color: #008000; text-decoration-color: #008000\">\"food poisoning\"</span>.\n",
       "<span style=\"font-weight: bold\">{</span><span style=\"color: #008000; text-decoration-color: #008000\">\"label\"</span>: <span style=\"color: #008000; text-decoration-color: #008000\">\"Yes\"</span><span style=\"font-weight: bold\">}</span>\n",
       "Input: I've had food poisoning all day and I'm just miserable\n",
       "Output: Let's think step by step.\n",
       "The word <span style=\"color: #008000; text-decoration-color: #008000\">\"food poisoning\"</span> in the text is a Keyword entity, which is other relevant keyword or term associated with \n",
       "foodborne illnesses, such as <span style=\"color: #008000; text-decoration-color: #008000\">\"food poisoning\"</span>.\n",
       "<span style=\"font-weight: bold\">{</span><span style=\"color: #008000; text-decoration-color: #008000\">\"label\"</span>: <span style=\"color: #008000; text-decoration-color: #008000\">\"Yes\"</span><span style=\"font-weight: bold\">}</span>\n",
       "\n",
       "Now I want you to label the following example:\n",
       "Input: @USER As much fun as I can. Woke up with food poisoning or stomach flu. Been bugging me all day #tmi Almost \n",
       "done driving for the day\n",
       "Output: Let's think step by step.\n",
       "\n",
       "\n",
       "</pre>\n"
      ],
      "text/plain": [
       "You are an expert at identifying foodborne illness incident information. Within the TWEET-FID dataset, the task is \n",
       "to evaluate a tweet in the TWEET-FID dataset to determine if it describes a potential foodborne illness event. Use \n",
       "the following examples as a guide for your predictions and format your responses similarly.\n",
       "\n",
       "Your answer will consist of an explanation, followed by the correct answer \u001b[1m(\u001b[0m\u001b[32m\"Yes\"\u001b[0m or \u001b[32m\"No\"\u001b[0m\u001b[1m)\u001b[0m.Please answer with \u001b[32m\"Yes\"\u001b[0m\n",
       "if it describes a potential foodborne illness event, otherwise answer with \u001b[32m\"No\"\u001b[0m.The last line of the response \n",
       "should always be JSON format with one key: \u001b[1m{\u001b[0m\u001b[32m\"label\"\u001b[0m: \u001b[32m\"the correct answer\"\u001b[0m\u001b[1m}\u001b[0m.\n",
       "\n",
       "\n",
       "Some examples with their output answers are provided below:\n",
       "\n",
       "Input: @USER LOL I know! I've had a stomach bug or food poisoning since yesterday afternoon\n",
       "Output: Let's think step by step.\n",
       "The word \u001b[32m\"food poisoning\"\u001b[0m in the text is a Keyword entity, which is other relevant keyword or term associated with \n",
       "foodborne illnesses, such as \u001b[32m\"food poisoning\"\u001b[0m.\n",
       "\u001b[1m{\u001b[0m\u001b[32m\"label\"\u001b[0m: \u001b[32m\"Yes\"\u001b[0m\u001b[1m}\u001b[0m\n",
       "Input: @USER I got food poisoning today wbu\n",
       "Output: Let's think step by step.\n",
       "No word in the text is relevant to foodborne illness incident.\n",
       "\u001b[1m{\u001b[0m\u001b[32m\"label\"\u001b[0m: \u001b[32m\"No\"\u001b[0m\u001b[1m}\u001b[0m\n",
       "Input: @USER Sure its food poisoning? Really bad stomach flu going around the whole country. Feels like food \n",
       "poisoning.\n",
       "Output: Let's think step by step.\n",
       "No word in the text is relevant to foodborne illness incident.\n",
       "\u001b[1m{\u001b[0m\u001b[32m\"label\"\u001b[0m: \u001b[32m\"No\"\u001b[0m\u001b[1m}\u001b[0m\n",
       "Input: @USER To be honest, it's been a little rough. Food poisoning. Things are looking up, though.\n",
       "Output: Let's think step by step.\n",
       "The word \u001b[32m\"Food poisoning\"\u001b[0m in the text is a Keyword entity, which is other relevant keyword or term associated with \n",
       "foodborne illnesses, such as \u001b[32m\"food poisoning\"\u001b[0m.\n",
       "\u001b[1m{\u001b[0m\u001b[32m\"label\"\u001b[0m: \u001b[32m\"Yes\"\u001b[0m\u001b[1m}\u001b[0m\n",
       "Input: @USER Awww :\u001b[1m(\u001b[0m I hope it clears up. I just got food poisoning I think ~ throwing up all morning :\u001b[35m/\u001b[0m\n",
       "Output: Let's think step by step.\n",
       "The word \u001b[32m\"throwing up\"\u001b[0m in the text is a Symptom entity, which is a specific symptom experienced by the affected \n",
       "person as a result of the suspected foodborne illness. The word \u001b[32m\"food poisoning\"\u001b[0m in the text is a Keyword entity, \n",
       "which is other relevant keyword or term associated with foodborne illnesses, such as \u001b[32m\"food poisoning\"\u001b[0m.\n",
       "\u001b[1m{\u001b[0m\u001b[32m\"label\"\u001b[0m: \u001b[32m\"Yes\"\u001b[0m\u001b[1m}\u001b[0m\n",
       "Input: @USER food poisoning is the worst! Hope you get better!\n",
       "Output: Let's think step by step.\n",
       "The word \u001b[32m\"food poisoning\"\u001b[0m in the text is a Keyword entity, which is other relevant keyword or term associated with \n",
       "foodborne illnesses, such as \u001b[32m\"food poisoning\"\u001b[0m.\n",
       "\u001b[1m{\u001b[0m\u001b[32m\"label\"\u001b[0m: \u001b[32m\"Yes\"\u001b[0m\u001b[1m}\u001b[0m\n",
       "Input: @USER Hoping you are feeling better tonight! Food poisoning is rough! See you Tues. night! TAKE CARE OF \n",
       "YOURSELF!!\n",
       "Output: Let's think step by step.\n",
       "The word \u001b[32m\"Food poisoning\"\u001b[0m in the text is a Keyword entity, which is other relevant keyword or term associated with \n",
       "foodborne illnesses, such as \u001b[32m\"food poisoning\"\u001b[0m.\n",
       "\u001b[1m{\u001b[0m\u001b[32m\"label\"\u001b[0m: \u001b[32m\"Yes\"\u001b[0m\u001b[1m}\u001b[0m\n",
       "Input: I've had food poisoning all day and I'm just miserable\n",
       "Output: Let's think step by step.\n",
       "The word \u001b[32m\"food poisoning\"\u001b[0m in the text is a Keyword entity, which is other relevant keyword or term associated with \n",
       "foodborne illnesses, such as \u001b[32m\"food poisoning\"\u001b[0m.\n",
       "\u001b[1m{\u001b[0m\u001b[32m\"label\"\u001b[0m: \u001b[32m\"Yes\"\u001b[0m\u001b[1m}\u001b[0m\n",
       "\n",
       "Now I want you to label the following example:\n",
       "Input: @USER As much fun as I can. Woke up with food poisoning or stomach flu. Been bugging me all day #tmi Almost \n",
       "done driving for the day\n",
       "Output: Let's think step by step.\n",
       "\n",
       "\n"
      ]
     },
     "metadata": {},
     "output_type": "display_data"
    },
    {
     "data": {
      "text/html": [
       "<pre style=\"white-space:pre;overflow-x:auto;line-height:normal;font-family:Menlo,'DejaVu Sans Mono',consolas,'Courier New',monospace\"><span style=\"color: #00ff00; text-decoration-color: #00ff00\">───────────────────────────────────────────────────────────────────────────────────────────────────────────────────</span>\n",
       "</pre>\n"
      ],
      "text/plain": [
       "\u001b[92m───────────────────────────────────────────────────────────────────────────────────────────────────────────────────\u001b[0m\n"
      ]
     },
     "metadata": {},
     "output_type": "display_data"
    }
   ],
   "source": [
    "if use_current_explanation:\n",
    "    ds = AutolabelDataset(test_data[[text_column, explanation_column, label_column]], config=config)\n",
    "else:\n",
    "    ds = AutolabelDataset(test_data[[text_column, label_column]], config=config)\n",
    "agent.plan(ds)"
   ]
  },
  {
   "cell_type": "code",
   "execution_count": 14,
   "id": "066e6a3b-86ff-47ca-826a-e2690bfeee7e",
   "metadata": {},
   "outputs": [
    {
     "data": {
      "application/vnd.jupyter.widget-view+json": {
       "model_id": "51343af3a6f54adbb944a4d2ac3515fe",
       "version_major": 2,
       "version_minor": 0
      },
      "text/plain": [
       "Output()"
      ]
     },
     "metadata": {},
     "output_type": "display_data"
    },
    {
     "name": "stderr",
     "output_type": "stream",
     "text": [
      "2024-03-28 05:55:14 httpx INFO: HTTP Request: POST https://api.openai.com/v1/embeddings \"HTTP/1.1 200 OK\"\n",
      "2024-03-28 05:55:15 httpx INFO: HTTP Request: POST https://api.openai.com/v1/chat/completions \"HTTP/1.1 200 OK\"\n",
      "2024-03-28 05:55:15 httpx INFO: HTTP Request: POST https://api.openai.com/v1/embeddings \"HTTP/1.1 200 OK\"\n",
      "2024-03-28 05:55:16 httpx INFO: HTTP Request: POST https://api.openai.com/v1/chat/completions \"HTTP/1.1 200 OK\"\n",
      "2024-03-28 05:55:16 httpx INFO: HTTP Request: POST https://api.openai.com/v1/embeddings \"HTTP/1.1 200 OK\"\n",
      "2024-03-28 05:55:19 httpx INFO: HTTP Request: POST https://api.openai.com/v1/chat/completions \"HTTP/1.1 200 OK\"\n",
      "2024-03-28 05:55:19 httpx INFO: HTTP Request: POST https://api.openai.com/v1/embeddings \"HTTP/1.1 200 OK\"\n",
      "2024-03-28 05:55:20 httpx INFO: HTTP Request: POST https://api.openai.com/v1/chat/completions \"HTTP/1.1 200 OK\"\n",
      "2024-03-28 05:55:20 httpx INFO: HTTP Request: POST https://api.openai.com/v1/embeddings \"HTTP/1.1 200 OK\"\n",
      "2024-03-28 05:55:23 httpx INFO: HTTP Request: POST https://api.openai.com/v1/chat/completions \"HTTP/1.1 200 OK\"\n",
      "2024-03-28 05:55:23 httpx INFO: HTTP Request: POST https://api.openai.com/v1/embeddings \"HTTP/1.1 200 OK\"\n",
      "2024-03-28 05:55:24 httpx INFO: HTTP Request: POST https://api.openai.com/v1/chat/completions \"HTTP/1.1 200 OK\"\n",
      "2024-03-28 05:55:24 httpx INFO: HTTP Request: POST https://api.openai.com/v1/embeddings \"HTTP/1.1 200 OK\"\n",
      "2024-03-28 05:55:27 httpx INFO: HTTP Request: POST https://api.openai.com/v1/chat/completions \"HTTP/1.1 200 OK\"\n",
      "2024-03-28 05:55:27 httpx INFO: HTTP Request: POST https://api.openai.com/v1/embeddings \"HTTP/1.1 200 OK\"\n",
      "2024-03-28 05:55:28 httpx INFO: HTTP Request: POST https://api.openai.com/v1/chat/completions \"HTTP/1.1 200 OK\"\n",
      "2024-03-28 05:55:28 httpx INFO: HTTP Request: POST https://api.openai.com/v1/embeddings \"HTTP/1.1 200 OK\"\n",
      "2024-03-28 05:55:31 httpx INFO: HTTP Request: POST https://api.openai.com/v1/chat/completions \"HTTP/1.1 200 OK\"\n",
      "2024-03-28 05:55:31 httpx INFO: HTTP Request: POST https://api.openai.com/v1/embeddings \"HTTP/1.1 200 OK\"\n",
      "2024-03-28 05:55:32 httpx INFO: HTTP Request: POST https://api.openai.com/v1/chat/completions \"HTTP/1.1 200 OK\"\n"
     ]
    },
    {
     "data": {
      "text/html": [
       "<pre style=\"white-space:pre;overflow-x:auto;line-height:normal;font-family:Menlo,'DejaVu Sans Mono',consolas,'Courier New',monospace\"></pre>\n"
      ],
      "text/plain": []
     },
     "metadata": {},
     "output_type": "display_data"
    },
    {
     "name": "stderr",
     "output_type": "stream",
     "text": [
      "/scratch/dzhang5/visa/visa39/lib/python3.9/site-packages/sklearn/metrics/_classification.py:1344: UndefinedMetricWarning: Precision and F-score are ill-defined and being set to 0.0 in labels with no predicted samples. Use `zero_division` parameter to control this behavior.\n",
      "  _warn_prf(average, modifier, msg_start, len(result))\n",
      "/scratch/dzhang5/visa/visa39/lib/python3.9/site-packages/sklearn/metrics/_classification.py:1344: UndefinedMetricWarning: Precision and F-score are ill-defined and being set to 0.0 in labels with no predicted samples. Use `zero_division` parameter to control this behavior.\n",
      "  _warn_prf(average, modifier, msg_start, len(result))\n",
      "/scratch/dzhang5/visa/visa39/lib/python3.9/site-packages/sklearn/metrics/_classification.py:1344: UndefinedMetricWarning: Precision and F-score are ill-defined and being set to 0.0 in labels with no predicted samples. Use `zero_division` parameter to control this behavior.\n",
      "  _warn_prf(average, modifier, msg_start, len(result))\n"
     ]
    },
    {
     "data": {
      "text/html": [
       "<pre style=\"white-space:pre;overflow-x:auto;line-height:normal;font-family:Menlo,'DejaVu Sans Mono',consolas,'Courier New',monospace\">classification_report:\n",
       "              precision    recall  f1-score   support\n",
       "\n",
       "          No       <span style=\"color: #008080; text-decoration-color: #008080; font-weight: bold\">0.00</span>      <span style=\"color: #008080; text-decoration-color: #008080; font-weight: bold\">0.00</span>      <span style=\"color: #008080; text-decoration-color: #008080; font-weight: bold\">0.00</span>         <span style=\"color: #008080; text-decoration-color: #008080; font-weight: bold\">2</span>\n",
       "         Yes       <span style=\"color: #008080; text-decoration-color: #008080; font-weight: bold\">0.80</span>      <span style=\"color: #008080; text-decoration-color: #008080; font-weight: bold\">1.00</span>      <span style=\"color: #008080; text-decoration-color: #008080; font-weight: bold\">0.89</span>         <span style=\"color: #008080; text-decoration-color: #008080; font-weight: bold\">8</span>\n",
       "\n",
       "    accuracy                           <span style=\"color: #008080; text-decoration-color: #008080; font-weight: bold\">0.80</span>        <span style=\"color: #008080; text-decoration-color: #008080; font-weight: bold\">10</span>\n",
       "   macro avg       <span style=\"color: #008080; text-decoration-color: #008080; font-weight: bold\">0.40</span>      <span style=\"color: #008080; text-decoration-color: #008080; font-weight: bold\">0.50</span>      <span style=\"color: #008080; text-decoration-color: #008080; font-weight: bold\">0.44</span>        <span style=\"color: #008080; text-decoration-color: #008080; font-weight: bold\">10</span>\n",
       "weighted avg       <span style=\"color: #008080; text-decoration-color: #008080; font-weight: bold\">0.64</span>      <span style=\"color: #008080; text-decoration-color: #008080; font-weight: bold\">0.80</span>      <span style=\"color: #008080; text-decoration-color: #008080; font-weight: bold\">0.71</span>        <span style=\"color: #008080; text-decoration-color: #008080; font-weight: bold\">10</span>\n",
       "\n",
       "</pre>\n"
      ],
      "text/plain": [
       "classification_report:\n",
       "              precision    recall  f1-score   support\n",
       "\n",
       "          No       \u001b[1;36m0.00\u001b[0m      \u001b[1;36m0.00\u001b[0m      \u001b[1;36m0.00\u001b[0m         \u001b[1;36m2\u001b[0m\n",
       "         Yes       \u001b[1;36m0.80\u001b[0m      \u001b[1;36m1.00\u001b[0m      \u001b[1;36m0.89\u001b[0m         \u001b[1;36m8\u001b[0m\n",
       "\n",
       "    accuracy                           \u001b[1;36m0.80\u001b[0m        \u001b[1;36m10\u001b[0m\n",
       "   macro avg       \u001b[1;36m0.40\u001b[0m      \u001b[1;36m0.50\u001b[0m      \u001b[1;36m0.44\u001b[0m        \u001b[1;36m10\u001b[0m\n",
       "weighted avg       \u001b[1;36m0.64\u001b[0m      \u001b[1;36m0.80\u001b[0m      \u001b[1;36m0.71\u001b[0m        \u001b[1;36m10\u001b[0m\n",
       "\n"
      ]
     },
     "metadata": {},
     "output_type": "display_data"
    },
    {
     "data": {
      "text/html": [
       "<pre style=\"white-space:pre;overflow-x:auto;line-height:normal;font-family:Menlo,'DejaVu Sans Mono',consolas,'Courier New',monospace\">Actual Cost: <span style=\"color: #008080; text-decoration-color: #008080; font-weight: bold\">0.0129</span>\n",
       "</pre>\n"
      ],
      "text/plain": [
       "Actual Cost: \u001b[1;36m0.0129\u001b[0m\n"
      ]
     },
     "metadata": {},
     "output_type": "display_data"
    },
    {
     "data": {
      "text/html": [
       "<pre style=\"white-space:pre;overflow-x:auto;line-height:normal;font-family:Menlo,'DejaVu Sans Mono',consolas,'Courier New',monospace\">┏━━━━━━━━━━┳━━━━━━━━━┳━━━━━━━━━━━━━━━━━┓\n",
       "┃<span style=\"font-weight: bold\"> accuracy </span>┃<span style=\"font-weight: bold\"> support </span>┃<span style=\"font-weight: bold\"> completion_rate </span>┃\n",
       "┡━━━━━━━━━━╇━━━━━━━━━╇━━━━━━━━━━━━━━━━━┩\n",
       "│<span style=\"color: #008080; text-decoration-color: #008080; font-weight: bold\"> 0.8      </span>│<span style=\"color: #008080; text-decoration-color: #008080; font-weight: bold\"> 10      </span>│<span style=\"color: #008080; text-decoration-color: #008080; font-weight: bold\"> 1.0             </span>│\n",
       "└──────────┴─────────┴─────────────────┘\n",
       "</pre>\n"
      ],
      "text/plain": [
       "┏━━━━━━━━━━┳━━━━━━━━━┳━━━━━━━━━━━━━━━━━┓\n",
       "┃\u001b[1m \u001b[0m\u001b[1maccuracy\u001b[0m\u001b[1m \u001b[0m┃\u001b[1m \u001b[0m\u001b[1msupport\u001b[0m\u001b[1m \u001b[0m┃\u001b[1m \u001b[0m\u001b[1mcompletion_rate\u001b[0m\u001b[1m \u001b[0m┃\n",
       "┡━━━━━━━━━━╇━━━━━━━━━╇━━━━━━━━━━━━━━━━━┩\n",
       "│\u001b[1;36m \u001b[0m\u001b[1;36m0.8     \u001b[0m\u001b[1;36m \u001b[0m│\u001b[1;36m \u001b[0m\u001b[1;36m10     \u001b[0m\u001b[1;36m \u001b[0m│\u001b[1;36m \u001b[0m\u001b[1;36m1.0            \u001b[0m\u001b[1;36m \u001b[0m│\n",
       "└──────────┴─────────┴─────────────────┘\n"
      ]
     },
     "metadata": {},
     "output_type": "display_data"
    }
   ],
   "source": [
    "# now, do the actual labeling\n",
    "ds = agent.run(ds)"
   ]
  },
  {
   "cell_type": "code",
   "execution_count": 15,
   "id": "7045720a-3e2a-432c-8f86-9d996e9a7980",
   "metadata": {},
   "outputs": [
    {
     "name": "stderr",
     "output_type": "stream",
     "text": [
      "/scratch/dzhang5/visa/visa39/lib/python3.9/site-packages/sklearn/metrics/_classification.py:1344: UndefinedMetricWarning: Precision and F-score are ill-defined and being set to 0.0 in labels with no predicted samples. Use `zero_division` parameter to control this behavior.\n",
      "  _warn_prf(average, modifier, msg_start, len(result))\n",
      "/scratch/dzhang5/visa/visa39/lib/python3.9/site-packages/sklearn/metrics/_classification.py:1344: UndefinedMetricWarning: Precision and F-score are ill-defined and being set to 0.0 in labels with no predicted samples. Use `zero_division` parameter to control this behavior.\n",
      "  _warn_prf(average, modifier, msg_start, len(result))\n",
      "/scratch/dzhang5/visa/visa39/lib/python3.9/site-packages/sklearn/metrics/_classification.py:1344: UndefinedMetricWarning: Precision and F-score are ill-defined and being set to 0.0 in labels with no predicted samples. Use `zero_division` parameter to control this behavior.\n",
      "  _warn_prf(average, modifier, msg_start, len(result))\n"
     ]
    },
    {
     "data": {
      "text/html": [
       "<pre style=\"white-space:pre;overflow-x:auto;line-height:normal;font-family:Menlo,'DejaVu Sans Mono',consolas,'Courier New',monospace\">┏━━━━━━━━━━┳━━━━━━━━━┳━━━━━━━━━━━━━━━━━┳━━━━━━━━━━━━━━━━━━━━━━━━━━━━━━━━━━━━━━━━━━━━━━━━━━━━━━━┓\n",
       "┃<span style=\"font-weight: bold\"> accuracy </span>┃<span style=\"font-weight: bold\"> support </span>┃<span style=\"font-weight: bold\"> completion_rate </span>┃<span style=\"font-weight: bold\"> classification_report                                 </span>┃\n",
       "┡━━━━━━━━━━╇━━━━━━━━━╇━━━━━━━━━━━━━━━━━╇━━━━━━━━━━━━━━━━━━━━━━━━━━━━━━━━━━━━━━━━━━━━━━━━━━━━━━━┩\n",
       "│<span style=\"color: #008080; text-decoration-color: #008080; font-weight: bold\"> 0.8      </span>│<span style=\"color: #008080; text-decoration-color: #008080; font-weight: bold\"> 10      </span>│<span style=\"color: #008080; text-decoration-color: #008080; font-weight: bold\"> 1.0             </span>│<span style=\"color: #008080; text-decoration-color: #008080; font-weight: bold\">               precision    recall  f1-score   support </span>│\n",
       "│<span style=\"color: #008080; text-decoration-color: #008080; font-weight: bold\">          </span>│<span style=\"color: #008080; text-decoration-color: #008080; font-weight: bold\">         </span>│<span style=\"color: #008080; text-decoration-color: #008080; font-weight: bold\">                 </span>│<span style=\"color: #008080; text-decoration-color: #008080; font-weight: bold\">                                                       </span>│\n",
       "│<span style=\"color: #008080; text-decoration-color: #008080; font-weight: bold\">          </span>│<span style=\"color: #008080; text-decoration-color: #008080; font-weight: bold\">         </span>│<span style=\"color: #008080; text-decoration-color: #008080; font-weight: bold\">                 </span>│<span style=\"color: #008080; text-decoration-color: #008080; font-weight: bold\">           No       0.00      0.00      0.00         2 </span>│\n",
       "│<span style=\"color: #008080; text-decoration-color: #008080; font-weight: bold\">          </span>│<span style=\"color: #008080; text-decoration-color: #008080; font-weight: bold\">         </span>│<span style=\"color: #008080; text-decoration-color: #008080; font-weight: bold\">                 </span>│<span style=\"color: #008080; text-decoration-color: #008080; font-weight: bold\">          Yes       0.80      1.00      0.89         8 </span>│\n",
       "│<span style=\"color: #008080; text-decoration-color: #008080; font-weight: bold\">          </span>│<span style=\"color: #008080; text-decoration-color: #008080; font-weight: bold\">         </span>│<span style=\"color: #008080; text-decoration-color: #008080; font-weight: bold\">                 </span>│<span style=\"color: #008080; text-decoration-color: #008080; font-weight: bold\">                                                       </span>│\n",
       "│<span style=\"color: #008080; text-decoration-color: #008080; font-weight: bold\">          </span>│<span style=\"color: #008080; text-decoration-color: #008080; font-weight: bold\">         </span>│<span style=\"color: #008080; text-decoration-color: #008080; font-weight: bold\">                 </span>│<span style=\"color: #008080; text-decoration-color: #008080; font-weight: bold\">     accuracy                           0.80        10 </span>│\n",
       "│<span style=\"color: #008080; text-decoration-color: #008080; font-weight: bold\">          </span>│<span style=\"color: #008080; text-decoration-color: #008080; font-weight: bold\">         </span>│<span style=\"color: #008080; text-decoration-color: #008080; font-weight: bold\">                 </span>│<span style=\"color: #008080; text-decoration-color: #008080; font-weight: bold\">    macro avg       0.40      0.50      0.44        10 </span>│\n",
       "│<span style=\"color: #008080; text-decoration-color: #008080; font-weight: bold\">          </span>│<span style=\"color: #008080; text-decoration-color: #008080; font-weight: bold\">         </span>│<span style=\"color: #008080; text-decoration-color: #008080; font-weight: bold\">                 </span>│<span style=\"color: #008080; text-decoration-color: #008080; font-weight: bold\"> weighted avg       0.64      0.80      0.71        10 </span>│\n",
       "│<span style=\"color: #008080; text-decoration-color: #008080; font-weight: bold\">          </span>│<span style=\"color: #008080; text-decoration-color: #008080; font-weight: bold\">         </span>│<span style=\"color: #008080; text-decoration-color: #008080; font-weight: bold\">                 </span>│<span style=\"color: #008080; text-decoration-color: #008080; font-weight: bold\">                                                       </span>│\n",
       "└──────────┴─────────┴─────────────────┴───────────────────────────────────────────────────────┘\n",
       "</pre>\n"
      ],
      "text/plain": [
       "┏━━━━━━━━━━┳━━━━━━━━━┳━━━━━━━━━━━━━━━━━┳━━━━━━━━━━━━━━━━━━━━━━━━━━━━━━━━━━━━━━━━━━━━━━━━━━━━━━━┓\n",
       "┃\u001b[1m \u001b[0m\u001b[1maccuracy\u001b[0m\u001b[1m \u001b[0m┃\u001b[1m \u001b[0m\u001b[1msupport\u001b[0m\u001b[1m \u001b[0m┃\u001b[1m \u001b[0m\u001b[1mcompletion_rate\u001b[0m\u001b[1m \u001b[0m┃\u001b[1m \u001b[0m\u001b[1mclassification_report                                \u001b[0m\u001b[1m \u001b[0m┃\n",
       "┡━━━━━━━━━━╇━━━━━━━━━╇━━━━━━━━━━━━━━━━━╇━━━━━━━━━━━━━━━━━━━━━━━━━━━━━━━━━━━━━━━━━━━━━━━━━━━━━━━┩\n",
       "│\u001b[1;36m \u001b[0m\u001b[1;36m0.8     \u001b[0m\u001b[1;36m \u001b[0m│\u001b[1;36m \u001b[0m\u001b[1;36m10     \u001b[0m\u001b[1;36m \u001b[0m│\u001b[1;36m \u001b[0m\u001b[1;36m1.0            \u001b[0m\u001b[1;36m \u001b[0m│\u001b[1;36m \u001b[0m\u001b[1;36m              precision    recall  f1-score   support\u001b[0m\u001b[1;36m \u001b[0m│\n",
       "│\u001b[1;36m          \u001b[0m│\u001b[1;36m         \u001b[0m│\u001b[1;36m                 \u001b[0m│\u001b[1;36m \u001b[0m\u001b[1;36m                                                     \u001b[0m\u001b[1;36m \u001b[0m│\n",
       "│\u001b[1;36m          \u001b[0m│\u001b[1;36m         \u001b[0m│\u001b[1;36m                 \u001b[0m│\u001b[1;36m \u001b[0m\u001b[1;36m          No       0.00      0.00      0.00         2\u001b[0m\u001b[1;36m \u001b[0m│\n",
       "│\u001b[1;36m          \u001b[0m│\u001b[1;36m         \u001b[0m│\u001b[1;36m                 \u001b[0m│\u001b[1;36m \u001b[0m\u001b[1;36m         Yes       0.80      1.00      0.89         8\u001b[0m\u001b[1;36m \u001b[0m│\n",
       "│\u001b[1;36m          \u001b[0m│\u001b[1;36m         \u001b[0m│\u001b[1;36m                 \u001b[0m│\u001b[1;36m \u001b[0m\u001b[1;36m                                                     \u001b[0m\u001b[1;36m \u001b[0m│\n",
       "│\u001b[1;36m          \u001b[0m│\u001b[1;36m         \u001b[0m│\u001b[1;36m                 \u001b[0m│\u001b[1;36m \u001b[0m\u001b[1;36m    accuracy                           0.80        10\u001b[0m\u001b[1;36m \u001b[0m│\n",
       "│\u001b[1;36m          \u001b[0m│\u001b[1;36m         \u001b[0m│\u001b[1;36m                 \u001b[0m│\u001b[1;36m \u001b[0m\u001b[1;36m   macro avg       0.40      0.50      0.44        10\u001b[0m\u001b[1;36m \u001b[0m│\n",
       "│\u001b[1;36m          \u001b[0m│\u001b[1;36m         \u001b[0m│\u001b[1;36m                 \u001b[0m│\u001b[1;36m \u001b[0m\u001b[1;36mweighted avg       0.64      0.80      0.71        10\u001b[0m\u001b[1;36m \u001b[0m│\n",
       "│\u001b[1;36m          \u001b[0m│\u001b[1;36m         \u001b[0m│\u001b[1;36m                 \u001b[0m│\u001b[1;36m \u001b[0m\u001b[1;36m                                                     \u001b[0m\u001b[1;36m \u001b[0m│\n",
       "└──────────┴─────────┴─────────────────┴───────────────────────────────────────────────────────┘\n"
      ]
     },
     "metadata": {},
     "output_type": "display_data"
    }
   ],
   "source": [
    "metrics = ds.eval()"
   ]
  },
  {
   "cell_type": "code",
   "execution_count": 16,
   "id": "4bcbd487-91d5-44af-85e5-c85798e68704",
   "metadata": {},
   "outputs": [],
   "source": [
    "ds.df.to_csv(output_path, index=False)\n",
    "ds.df.to_pickle(output_path.replace('.csv', '.pkl'))"
   ]
  }
 ],
 "metadata": {
  "kernelspec": {
   "display_name": "py3.9-visa",
   "language": "python",
   "name": "py3.9-visa"
  },
  "language_info": {
   "codemirror_mode": {
    "name": "ipython",
    "version": 3
   },
   "file_extension": ".py",
   "mimetype": "text/x-python",
   "name": "python",
   "nbconvert_exporter": "python",
   "pygments_lexer": "ipython3",
   "version": "3.9.12"
  }
 },
 "nbformat": 4,
 "nbformat_minor": 5
}
