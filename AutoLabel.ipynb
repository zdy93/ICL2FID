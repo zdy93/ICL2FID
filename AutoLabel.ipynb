{
 "cells": [
  {
   "cell_type": "code",
   "execution_count": 1,
   "id": "f5198684-0eb5-4959-941e-59d467a9b688",
   "metadata": {
    "tags": [
     "parameters"
    ]
   },
   "outputs": [],
   "source": [
    "few_shot_path = '/scratch/dzhang5/LLM/TWEET-FID/expert.train.short.csv'\n",
    "data_path = '/scratch/dzhang5/LLM/TWEET-FID/expert.smalltest.csv'\n",
    "output_dir = '/scratch/dzhang5/LLM/TWEET-FID/test-results-autolabel'\n",
    "model_name = \"meta-llama/Llama-2-7b-chat-hf\"\n",
    "label_column = 'sentence_class'\n",
    "text_column = 'tweet'\n",
    "few_shot_num = 8\n",
    "few_shot_selection = \"semantic_similarity\"\n",
    "token_path = \"/home/dzhang5/.cache/huggingface/token\"\n",
    "cache=False\n",
    "console_output=False\n",
    "temperature=0.1\n",
    "random_shuffle_examples = True\n",
    "random_shuffle_examples_seed = 1"
   ]
  },
  {
   "cell_type": "code",
   "execution_count": 2,
   "id": "e3ff6901-384c-4d0f-8989-ea59657c37e3",
   "metadata": {},
   "outputs": [],
   "source": [
    "from autolabel.schema import ModelProvider, TaskType\n",
    "from autolabel.models import register_model, MODEL_REGISTRY\n",
    "from hf_pipeline_new import HFPipelineLLMNew\n",
    "from few_shot_new import NewAutoLabelConfig, NewExampleSelectorFactory\n",
    "from autolabel.few_shot import ExampleSelectorFactory\n",
    "from template_inst import update_inst_mode\n",
    "from named_entity_recognition_new import NewNamedEntityRecognitionTask\n",
    "from classification_new import NewClassificationTask\n",
    "from autolabel.tasks import TASK_TYPE_TO_IMPLEMENTATION \n",
    "import sys"
   ]
  },
  {
   "cell_type": "code",
   "execution_count": 3,
   "id": "5fbc9b8a-32ff-4a8a-b1b0-db5697b3d861",
   "metadata": {},
   "outputs": [],
   "source": [
    "update_inst_mode(model_name)\n",
    "TASK_TYPE_TO_IMPLEMENTATION[TaskType.NAMED_ENTITY_RECOGNITION] = NewNamedEntityRecognitionTask\n",
    "TASK_TYPE_TO_IMPLEMENTATION[TaskType.CLASSIFICATION] = NewClassificationTask\n",
    "sys.modules['autolabel.labeler'].ExampleSelectorFactory = NewExampleSelectorFactory\n",
    "register_model(ModelProvider.HUGGINGFACE_PIPELINE, HFPipelineLLMNew)"
   ]
  },
  {
   "cell_type": "code",
   "execution_count": 4,
   "id": "d67c0a78-0a28-4ad1-84d2-9edf12534aed",
   "metadata": {},
   "outputs": [],
   "source": [
    "from autolabel import LabelingAgent, AutolabelDataset\n",
    "import json\n",
    "import os\n",
    "import pandas as pd"
   ]
  },
  {
   "cell_type": "code",
   "execution_count": 5,
   "id": "9b470589-0c67-4fc7-aba1-b0345eed23f4",
   "metadata": {},
   "outputs": [
    {
     "name": "stdout",
     "output_type": "stream",
     "text": [
      "Token will not been saved to git credential helper. Pass `add_to_git_credential=True` if you want to set the git credential as well.\n",
      "Token is valid (permission: read).\n",
      "Your token has been saved to /home/dzhang5/.cache/huggingface/token\n",
      "Login successful\n"
     ]
    }
   ],
   "source": [
    "with open(token_path) as tfile:\n",
    "    token_str = tfile.read()\n",
    "\n",
    "from huggingface_hub import login\n",
    "login(token=token_str)"
   ]
  },
  {
   "cell_type": "code",
   "execution_count": 6,
   "id": "ae5043f6-302a-4c91-bc1c-547b760378ab",
   "metadata": {},
   "outputs": [],
   "source": [
    "no_auto = [\"microsoft/prophetnet\", \"microsoft/phi-2\", \"google/pegasus-x\"]\n",
    "if any([pre in model_name for pre in no_auto]):\n",
    "    device_map = None\n",
    "else:\n",
    "    device_map = \"auto\""
   ]
  },
  {
   "cell_type": "code",
   "execution_count": null,
   "id": "940ce33a-51e5-45e1-97fc-aeaf94491727",
   "metadata": {},
   "outputs": [],
   "source": [
    "refuel_models = [\"refuel-llm\", \"llama-13b-chat\"]\n",
    "if model_name in refuel_models:\n",
    "    provider = \"refuel\"\n",
    "    em_provider = \"huggingface_pipeline\"\n",
    "    model_params = {\"max_length\":4096, \"temperature\": temperature}\n",
    "    task_name = f\"FoodborneIllnessIncidentTweetClassification_{few_shot_selection}_{model_name}\"\n",
    "elif model_name.startswith('gpt'):\n",
    "    provider = \"openai\"\n",
    "    em_provider = \"openai\"\n",
    "    model_params = {\"max_tokens\":4096, \"temperature\": temperature}\n",
    "    task_name = f\"FoodborneIllnessIncidentTweetClassification_{few_shot_selection}_{model_name}\"\n",
    "else:\n",
    "    provider = \"huggingface_pipeline\"\n",
    "    em_provider = \"huggingface_pipeline\"\n",
    "    model_params = {\"max_length\":4096, \"temperature\": temperature,\n",
    "                    \"quantize\": 16, \"device_map\": device_map,\n",
    "                    \"token\": token_str}\n",
    "    task_name = f\"FoodborneIllnessIncidentTweetClassification_{few_shot_selection}_{model_name.split('/')[1]}\""
   ]
  },
  {
   "cell_type": "code",
   "execution_count": 7,
   "id": "6ef8a6dd-7773-46be-8b94-695363657877",
   "metadata": {},
   "outputs": [],
   "source": [
    "if not os.path.exists(output_dir):\n",
    "    # Create the directory\n",
    "    os.makedirs(output_dir)\n",
    "output_name = os.path.split(model_name)[-1] + '_' + few_shot_selection + '_' + os.path.split(data_path)[-1]\n",
    "output_path = os.path.join(output_dir, output_name)"
   ]
  },
  {
   "cell_type": "code",
   "execution_count": 8,
   "id": "e2ab5c16-a103-45e2-af9e-c31d98292779",
   "metadata": {},
   "outputs": [],
   "source": [
    "test_data = pd.read_csv(data_path)"
   ]
  },
  {
   "cell_type": "code",
   "execution_count": 9,
   "id": "15567ff5-37f7-4b35-a48b-83b310b410bb",
   "metadata": {},
   "outputs": [],
   "source": [
    "config = {\n",
    "    \"task_name\": task_name,\n",
    "    \"task_type\": \"classification\",\n",
    "    \"dataset\": {\n",
    "        \"label_column\": label_column,\n",
    "        \"text_column\": text_column,\n",
    "        \"delimiter\": \",\"\n",
    "    },\n",
    "    \"model\": {\n",
    "        \"provider\": provider,\n",
    "        \"name\": model_name,\n",
    "        \"params\": model_params\n",
    "    },\n",
    "    \"embedding\": {\n",
    "        \"provider\": em_provider,\n",
    "    },\n",
    "    \"prompt\": {\n",
    "        \"task_guidelines\": (\"You are an expert at identifying foodborne illness incident information. For the given text, \"\n",
    "                            \"your task is to evaluate the text to determine if it describes a potential foodborne illness event. \"\n",
    "                            '''Please answer with \"Yes\" if it describes a potential foodborne illness event, otherwise answer with \"No\".'''\n",
    "                            \"Use the following examples as a guide for your predictions and format your responses similarly.\"\n",
    "                  ),\n",
    "        \"output_guidelines\": '''You will answer with just the correct output label (\"Yes\" or \"No\") and nothing else.''',\n",
    "        \"labels\": [\n",
    "            \"Yes\",\n",
    "            \"No\"\n",
    "        ],\n",
    "        \"few_shot_examples\": few_shot_path,\n",
    "        \"few_shot_selection\": few_shot_selection,\n",
    "        \"few_shot_num\": few_shot_num,\n",
    "        \"random_shuffle_examples\": random_shuffle_examples,\n",
    "        \"random_shuffle_examples_seed\": random_shuffle_examples_seed,\n",
    "        \"example_template\": f\"Input: {{{text_column}}}\\nOutput: {{{label_column}}}\"\n",
    "    }\n",
    "}\n",
    "\n",
    "config = NewAutoLabelConfig(config)"
   ]
  },
  {
   "cell_type": "code",
   "execution_count": 10,
   "id": "e28122bc-1337-497b-8410-54fd17249452",
   "metadata": {},
   "outputs": [
    {
     "name": "stderr",
     "output_type": "stream",
     "text": [
      "2024-01-27 00:45:35 accelerate.utils.modeling INFO: We will use 90% of the memory on device 0 for storing the model, and 10% for the buffer to avoid OOM. You can set `max_memory` in to a higher value to use more memory (at your own risk).\n"
     ]
    },
    {
     "data": {
      "application/vnd.jupyter.widget-view+json": {
       "model_id": "4559774fb54942a79e5f3c6580ffd16e",
       "version_major": 2,
       "version_minor": 0
      },
      "text/plain": [
       "Loading checkpoint shards:   0%|          | 0/2 [00:00<?, ?it/s]"
      ]
     },
     "metadata": {},
     "output_type": "display_data"
    },
    {
     "name": "stderr",
     "output_type": "stream",
     "text": [
      "The model 'LlamaForCausalLM' is not supported for text2text-generation. Supported models are ['BartForConditionalGeneration', 'BigBirdPegasusForConditionalGeneration', 'BlenderbotForConditionalGeneration', 'BlenderbotSmallForConditionalGeneration', 'EncoderDecoderModel', 'FSMTForConditionalGeneration', 'GPTSanJapaneseForConditionalGeneration', 'LEDForConditionalGeneration', 'LongT5ForConditionalGeneration', 'M2M100ForConditionalGeneration', 'MarianMTModel', 'MBartForConditionalGeneration', 'MT5ForConditionalGeneration', 'MvpForConditionalGeneration', 'NllbMoeForConditionalGeneration', 'PegasusForConditionalGeneration', 'PegasusXForConditionalGeneration', 'PLBartForConditionalGeneration', 'ProphetNetForConditionalGeneration', 'SeamlessM4TForTextToText', 'SeamlessM4Tv2ForTextToText', 'SwitchTransformersForConditionalGeneration', 'T5ForConditionalGeneration', 'UMT5ForConditionalGeneration', 'XLMProphetNetForConditionalGeneration'].\n"
     ]
    }
   ],
   "source": [
    "agent = LabelingAgent(config=config, console_output=console_output, cache=cache)"
   ]
  },
  {
   "cell_type": "code",
   "execution_count": 11,
   "id": "c175c7c0-a61e-4d63-bc23-b06c51c8d72e",
   "metadata": {},
   "outputs": [
    {
     "name": "stderr",
     "output_type": "stream",
     "text": [
      "2024-01-27 00:45:48 sentence_transformers.SentenceTransformer INFO: Load pretrained SentenceTransformer: sentence-transformers/all-mpnet-base-v2\n",
      "2024-01-27 00:45:49 sentence_transformers.SentenceTransformer INFO: Use pytorch device: cuda\n"
     ]
    },
    {
     "data": {
      "application/vnd.jupyter.widget-view+json": {
       "model_id": "e4ea65be7a154503984ae6da828639b8",
       "version_major": 2,
       "version_minor": 0
      },
      "text/plain": [
       "Batches: 0it [00:00, ?it/s]"
      ]
     },
     "metadata": {},
     "output_type": "display_data"
    },
    {
     "data": {
      "application/vnd.jupyter.widget-view+json": {
       "model_id": "7f66a812229341a6a88f44b351bd3a3f",
       "version_major": 2,
       "version_minor": 0
      },
      "text/plain": [
       "Output()"
      ]
     },
     "metadata": {},
     "output_type": "display_data"
    },
    {
     "data": {
      "application/vnd.jupyter.widget-view+json": {
       "model_id": "6c54b7283d54457d8cc0792514484def",
       "version_major": 2,
       "version_minor": 0
      },
      "text/plain": [
       "Batches: 0it [00:00, ?it/s]"
      ]
     },
     "metadata": {},
     "output_type": "display_data"
    },
    {
     "data": {
      "application/vnd.jupyter.widget-view+json": {
       "model_id": "5299c754069047cbbe68d57965aab34d",
       "version_major": 2,
       "version_minor": 0
      },
      "text/plain": [
       "Batches: 0it [00:00, ?it/s]"
      ]
     },
     "metadata": {},
     "output_type": "display_data"
    },
    {
     "data": {
      "application/vnd.jupyter.widget-view+json": {
       "model_id": "5020cebf29df418ba211063c1505eab7",
       "version_major": 2,
       "version_minor": 0
      },
      "text/plain": [
       "Batches: 0it [00:00, ?it/s]"
      ]
     },
     "metadata": {},
     "output_type": "display_data"
    },
    {
     "data": {
      "application/vnd.jupyter.widget-view+json": {
       "model_id": "3a146d09d159434d8ec7760fe3cab12b",
       "version_major": 2,
       "version_minor": 0
      },
      "text/plain": [
       "Batches: 0it [00:00, ?it/s]"
      ]
     },
     "metadata": {},
     "output_type": "display_data"
    },
    {
     "data": {
      "application/vnd.jupyter.widget-view+json": {
       "model_id": "4acd46ef84b04d519a652c2fd9e57b31",
       "version_major": 2,
       "version_minor": 0
      },
      "text/plain": [
       "Batches: 0it [00:00, ?it/s]"
      ]
     },
     "metadata": {},
     "output_type": "display_data"
    },
    {
     "data": {
      "application/vnd.jupyter.widget-view+json": {
       "model_id": "7ea960d2cc094b519a2293ea1ad165e2",
       "version_major": 2,
       "version_minor": 0
      },
      "text/plain": [
       "Batches: 0it [00:00, ?it/s]"
      ]
     },
     "metadata": {},
     "output_type": "display_data"
    },
    {
     "data": {
      "application/vnd.jupyter.widget-view+json": {
       "model_id": "9120c0ef420244c9a873c0445c79008d",
       "version_major": 2,
       "version_minor": 0
      },
      "text/plain": [
       "Batches: 0it [00:00, ?it/s]"
      ]
     },
     "metadata": {},
     "output_type": "display_data"
    },
    {
     "data": {
      "application/vnd.jupyter.widget-view+json": {
       "model_id": "0a032fb055be45e5a9f428b153422c72",
       "version_major": 2,
       "version_minor": 0
      },
      "text/plain": [
       "Batches: 0it [00:00, ?it/s]"
      ]
     },
     "metadata": {},
     "output_type": "display_data"
    },
    {
     "data": {
      "application/vnd.jupyter.widget-view+json": {
       "model_id": "4bd87ef984414e49a97dbacc52a5aa68",
       "version_major": 2,
       "version_minor": 0
      },
      "text/plain": [
       "Batches: 0it [00:00, ?it/s]"
      ]
     },
     "metadata": {},
     "output_type": "display_data"
    },
    {
     "data": {
      "application/vnd.jupyter.widget-view+json": {
       "model_id": "67f5145b362a4adb9c802222b93361db",
       "version_major": 2,
       "version_minor": 0
      },
      "text/plain": [
       "Batches: 0it [00:00, ?it/s]"
      ]
     },
     "metadata": {},
     "output_type": "display_data"
    },
    {
     "data": {
      "text/html": [
       "<pre style=\"white-space:pre;overflow-x:auto;line-height:normal;font-family:Menlo,'DejaVu Sans Mono',consolas,'Courier New',monospace\"></pre>\n"
      ],
      "text/plain": []
     },
     "metadata": {},
     "output_type": "display_data"
    },
    {
     "data": {
      "text/html": [
       "<pre style=\"white-space:pre;overflow-x:auto;line-height:normal;font-family:Menlo,'DejaVu Sans Mono',consolas,'Courier New',monospace\">\n",
       "</pre>\n"
      ],
      "text/plain": [
       "\n"
      ]
     },
     "metadata": {},
     "output_type": "display_data"
    },
    {
     "data": {
      "text/html": [
       "<pre style=\"white-space:pre;overflow-x:auto;line-height:normal;font-family:Menlo,'DejaVu Sans Mono',consolas,'Courier New',monospace\">┌──────────────────────────┬──────┐\n",
       "│<span style=\"color: #800080; text-decoration-color: #800080; font-weight: bold\"> Total Estimated Cost     </span>│<span style=\"color: #008000; text-decoration-color: #008000; font-weight: bold\"> $0.0 </span>│\n",
       "│<span style=\"color: #800080; text-decoration-color: #800080; font-weight: bold\"> Number of Examples       </span>│<span style=\"color: #008000; text-decoration-color: #008000; font-weight: bold\"> 10   </span>│\n",
       "│<span style=\"color: #800080; text-decoration-color: #800080; font-weight: bold\"> Average cost per example </span>│<span style=\"color: #008000; text-decoration-color: #008000; font-weight: bold\"> $0.0 </span>│\n",
       "└──────────────────────────┴──────┘\n",
       "</pre>\n"
      ],
      "text/plain": [
       "┌──────────────────────────┬──────┐\n",
       "│\u001b[1;35m \u001b[0m\u001b[1;35mTotal Estimated Cost    \u001b[0m\u001b[1;35m \u001b[0m│\u001b[1;32m \u001b[0m\u001b[1;32m$0.0\u001b[0m\u001b[1;32m \u001b[0m│\n",
       "│\u001b[1;35m \u001b[0m\u001b[1;35mNumber of Examples      \u001b[0m\u001b[1;35m \u001b[0m│\u001b[1;32m \u001b[0m\u001b[1;32m10  \u001b[0m\u001b[1;32m \u001b[0m│\n",
       "│\u001b[1;35m \u001b[0m\u001b[1;35mAverage cost per example\u001b[0m\u001b[1;35m \u001b[0m│\u001b[1;32m \u001b[0m\u001b[1;32m$0.0\u001b[0m\u001b[1;32m \u001b[0m│\n",
       "└──────────────────────────┴──────┘\n"
      ]
     },
     "metadata": {},
     "output_type": "display_data"
    },
    {
     "data": {
      "text/html": [
       "<pre style=\"white-space:pre;overflow-x:auto;line-height:normal;font-family:Menlo,'DejaVu Sans Mono',consolas,'Courier New',monospace\"><span style=\"color: #00ff00; text-decoration-color: #00ff00\">───────────────────────────────────────────────── </span>Prompt Example<span style=\"color: #00ff00; text-decoration-color: #00ff00\"> ──────────────────────────────────────────────────</span>\n",
       "</pre>\n"
      ],
      "text/plain": [
       "\u001b[92m───────────────────────────────────────────────── \u001b[0mPrompt Example\u001b[92m ──────────────────────────────────────────────────\u001b[0m\n"
      ]
     },
     "metadata": {},
     "output_type": "display_data"
    },
    {
     "data": {
      "text/html": [
       "<pre style=\"white-space:pre;overflow-x:auto;line-height:normal;font-family:Menlo,'DejaVu Sans Mono',consolas,'Courier New',monospace\">\n",
       "<span style=\"font-weight: bold\">&lt;</span><span style=\"color: #ff00ff; text-decoration-color: #ff00ff; font-weight: bold\">s</span><span style=\"color: #000000; text-decoration-color: #000000\">&gt;</span><span style=\"color: #000000; text-decoration-color: #000000; font-weight: bold\">[</span><span style=\"color: #000000; text-decoration-color: #000000\">INST</span><span style=\"color: #000000; text-decoration-color: #000000; font-weight: bold\">]</span><span style=\"color: #000000; text-decoration-color: #000000\"> &lt;&lt;SYS&gt;&gt;</span>\n",
       "<span style=\"color: #000000; text-decoration-color: #000000\"> You are an expert at identifying foodborne illness incident information. Within the TWEET-FID dataset, the task is</span>\n",
       "<span style=\"color: #000000; text-decoration-color: #000000\">to evaluate a tweet in the TWEET-FID dataset to determine if it describes a potential foodborne illness event. </span>\n",
       "<span style=\"color: #000000; text-decoration-color: #000000\">Please answer with </span><span style=\"color: #008000; text-decoration-color: #008000\">\"Yes\"</span><span style=\"color: #000000; text-decoration-color: #000000\"> if it describes a potential foodborne illness event, otherwise answer with </span><span style=\"color: #008000; text-decoration-color: #008000\">\"No\"</span><span style=\"color: #000000; text-decoration-color: #000000\">.Use the </span>\n",
       "<span style=\"color: #000000; text-decoration-color: #000000\">following examples as a guide for your predictions and format your responses similarly.</span>\n",
       "\n",
       "<span style=\"color: #000000; text-decoration-color: #000000\">You will answer with just the correct output label </span><span style=\"color: #000000; text-decoration-color: #000000; font-weight: bold\">(</span><span style=\"color: #008000; text-decoration-color: #008000\">\"Yes\"</span><span style=\"color: #000000; text-decoration-color: #000000\"> or </span><span style=\"color: #008000; text-decoration-color: #008000\">\"No\"</span><span style=\"color: #000000; text-decoration-color: #000000; font-weight: bold\">)</span><span style=\"color: #000000; text-decoration-color: #000000\"> and nothing else.</span>\n",
       "\n",
       "\n",
       "<span style=\"color: #000000; text-decoration-color: #000000\">Some examples with their output answers are provided below:</span>\n",
       "\n",
       "<span style=\"color: #000000; text-decoration-color: #000000\">Input: @USER As much fun as I can. Woke up with food poisoning or stomach flu. Been bugging me all day #tmi Almost </span>\n",
       "<span style=\"color: #000000; text-decoration-color: #000000\">done driving for the day</span>\n",
       "<span style=\"color: #000000; text-decoration-color: #000000\">Output: Yes</span>\n",
       "<span style=\"color: #000000; text-decoration-color: #000000\">Input: Today was rough. Think I had a touch of food poisoning earlier. Thought I was gonna die. Yuck. Therabreath </span>\n",
       "<span style=\"color: #000000; text-decoration-color: #000000\">rinse &amp; mints helped though! lol</span>\n",
       "<span style=\"color: #000000; text-decoration-color: #000000\">Output: Yes</span>\n",
       "<span style=\"color: #000000; text-decoration-color: #000000\">Input: I cant come into work today because I have food poisoning. I went out with the lads last night and we had a </span>\n",
       "<span style=\"color: #000000; text-decoration-color: #000000\">cheap curry, we all ended up </span><span style=\"color: #808000; text-decoration-color: #808000\">...</span>\n",
       "<span style=\"color: #000000; text-decoration-color: #000000\">Output: Yes</span>\n",
       "<span style=\"color: #000000; text-decoration-color: #000000\">Input: @USER @USER that's not good, do you know what you ate to get food poisoning?</span>\n",
       "<span style=\"color: #000000; text-decoration-color: #000000\">Output: Yes</span>\n",
       "<span style=\"color: #000000; text-decoration-color: #000000\">Input: I think I got food poison from ABW </span>\n",
       "<span style=\"color: #000000; text-decoration-color: #000000; font-weight: bold\">[</span><span style=\"color: #000000; text-decoration-color: #000000\">EMOJI_astonished_face</span><span style=\"color: #000000; text-decoration-color: #000000; font-weight: bold\">][</span><span style=\"color: #000000; text-decoration-color: #000000\">EMOJI_face_with_medical_mask</span><span style=\"color: #000000; text-decoration-color: #000000; font-weight: bold\">][</span><span style=\"color: #000000; text-decoration-color: #000000\">EMOJI_face_screaming_in_fear</span><span style=\"color: #000000; text-decoration-color: #000000; font-weight: bold\">]</span>\n",
       "<span style=\"color: #000000; text-decoration-color: #000000\">Output: Yes</span>\n",
       "<span style=\"color: #000000; text-decoration-color: #000000\">Input: I think I have food poison poops &amp; vomit </span><span style=\"color: #000000; text-decoration-color: #000000; font-weight: bold\">[</span><span style=\"color: #000000; text-decoration-color: #000000\">EMOJI_persevering_face</span><span style=\"color: #000000; text-decoration-color: #000000; font-weight: bold\">]</span><span style=\"color: #000000; text-decoration-color: #000000\"> that damn subway</span>\n",
       "<span style=\"color: #000000; text-decoration-color: #000000\">Output: Yes</span>\n",
       "<span style=\"color: #000000; text-decoration-color: #000000\">Input: lmao RT @USER I've eaten off the streets in India &amp; Bhutan, nothing, on a cruise ship - food poisoning </span>\n",
       "<span style=\"color: #000000; text-decoration-color: #000000\">twice! #TNI #YouNeverKnow</span>\n",
       "<span style=\"color: #000000; text-decoration-color: #000000\">Output: Yes</span>\n",
       "<span style=\"color: #000000; text-decoration-color: #000000\">Input: Food poisoning in Mandeville  HTTPURL</span>\n",
       "<span style=\"color: #000000; text-decoration-color: #000000\">Output: No</span>\n",
       "\n",
       "<span style=\"color: #000000; text-decoration-color: #000000\">&lt;&lt;</span><span style=\"color: #800080; text-decoration-color: #800080\">/</span><span style=\"color: #ff00ff; text-decoration-color: #ff00ff\">SYS</span><span style=\"color: #000000; text-decoration-color: #000000\">&gt;</span><span style=\"font-weight: bold\">&gt;</span>\n",
       "\n",
       "\n",
       "Now I want you to label the following example:\n",
       "\n",
       "Input: @USER As much fun as I can. Woke up with food poisoning or stomach flu. Been bugging me all day #tmi Almost \n",
       "done driving for the day\n",
       "Output: <span style=\"font-weight: bold\">[</span><span style=\"color: #800080; text-decoration-color: #800080\">/</span><span style=\"color: #ff00ff; text-decoration-color: #ff00ff\">INST</span><span style=\"font-weight: bold\">]</span>\n",
       "\n",
       "</pre>\n"
      ],
      "text/plain": [
       "\n",
       "\u001b[1m<\u001b[0m\u001b[1;95ms\u001b[0m\u001b[39m>\u001b[0m\u001b[1;39m[\u001b[0m\u001b[39mINST\u001b[0m\u001b[1;39m]\u001b[0m\u001b[39m <<SYS>>\u001b[0m\n",
       "\u001b[39m You are an expert at identifying foodborne illness incident information. Within the TWEET-FID dataset, the task is\u001b[0m\n",
       "\u001b[39mto evaluate a tweet in the TWEET-FID dataset to determine if it describes a potential foodborne illness event. \u001b[0m\n",
       "\u001b[39mPlease answer with \u001b[0m\u001b[32m\"Yes\"\u001b[0m\u001b[39m if it describes a potential foodborne illness event, otherwise answer with \u001b[0m\u001b[32m\"No\"\u001b[0m\u001b[39m.Use the \u001b[0m\n",
       "\u001b[39mfollowing examples as a guide for your predictions and format your responses similarly.\u001b[0m\n",
       "\n",
       "\u001b[39mYou will answer with just the correct output label \u001b[0m\u001b[1;39m(\u001b[0m\u001b[32m\"Yes\"\u001b[0m\u001b[39m or \u001b[0m\u001b[32m\"No\"\u001b[0m\u001b[1;39m)\u001b[0m\u001b[39m and nothing else.\u001b[0m\n",
       "\n",
       "\n",
       "\u001b[39mSome examples with their output answers are provided below:\u001b[0m\n",
       "\n",
       "\u001b[39mInput: @USER As much fun as I can. Woke up with food poisoning or stomach flu. Been bugging me all day #tmi Almost \u001b[0m\n",
       "\u001b[39mdone driving for the day\u001b[0m\n",
       "\u001b[39mOutput: Yes\u001b[0m\n",
       "\u001b[39mInput: Today was rough. Think I had a touch of food poisoning earlier. Thought I was gonna die. Yuck. Therabreath \u001b[0m\n",
       "\u001b[39mrinse & mints helped though! lol\u001b[0m\n",
       "\u001b[39mOutput: Yes\u001b[0m\n",
       "\u001b[39mInput: I cant come into work today because I have food poisoning. I went out with the lads last night and we had a \u001b[0m\n",
       "\u001b[39mcheap curry, we all ended up \u001b[0m\u001b[33m...\u001b[0m\n",
       "\u001b[39mOutput: Yes\u001b[0m\n",
       "\u001b[39mInput: @USER @USER that's not good, do you know what you ate to get food poisoning?\u001b[0m\n",
       "\u001b[39mOutput: Yes\u001b[0m\n",
       "\u001b[39mInput: I think I got food poison from ABW \u001b[0m\n",
       "\u001b[1;39m[\u001b[0m\u001b[39mEMOJI_astonished_face\u001b[0m\u001b[1;39m]\u001b[0m\u001b[1;39m[\u001b[0m\u001b[39mEMOJI_face_with_medical_mask\u001b[0m\u001b[1;39m]\u001b[0m\u001b[1;39m[\u001b[0m\u001b[39mEMOJI_face_screaming_in_fear\u001b[0m\u001b[1;39m]\u001b[0m\n",
       "\u001b[39mOutput: Yes\u001b[0m\n",
       "\u001b[39mInput: I think I have food poison poops & vomit \u001b[0m\u001b[1;39m[\u001b[0m\u001b[39mEMOJI_persevering_face\u001b[0m\u001b[1;39m]\u001b[0m\u001b[39m that damn subway\u001b[0m\n",
       "\u001b[39mOutput: Yes\u001b[0m\n",
       "\u001b[39mInput: lmao RT @USER I've eaten off the streets in India & Bhutan, nothing, on a cruise ship - food poisoning \u001b[0m\n",
       "\u001b[39mtwice! #TNI #YouNeverKnow\u001b[0m\n",
       "\u001b[39mOutput: Yes\u001b[0m\n",
       "\u001b[39mInput: Food poisoning in Mandeville  HTTPURL\u001b[0m\n",
       "\u001b[39mOutput: No\u001b[0m\n",
       "\n",
       "\u001b[39m<<\u001b[0m\u001b[35m/\u001b[0m\u001b[95mSYS\u001b[0m\u001b[39m>\u001b[0m\u001b[1m>\u001b[0m\n",
       "\n",
       "\n",
       "Now I want you to label the following example:\n",
       "\n",
       "Input: @USER As much fun as I can. Woke up with food poisoning or stomach flu. Been bugging me all day #tmi Almost \n",
       "done driving for the day\n",
       "Output: \u001b[1m[\u001b[0m\u001b[35m/\u001b[0m\u001b[95mINST\u001b[0m\u001b[1m]\u001b[0m\n",
       "\n"
      ]
     },
     "metadata": {},
     "output_type": "display_data"
    },
    {
     "data": {
      "text/html": [
       "<pre style=\"white-space:pre;overflow-x:auto;line-height:normal;font-family:Menlo,'DejaVu Sans Mono',consolas,'Courier New',monospace\"><span style=\"color: #00ff00; text-decoration-color: #00ff00\">───────────────────────────────────────────────────────────────────────────────────────────────────────────────────</span>\n",
       "</pre>\n"
      ],
      "text/plain": [
       "\u001b[92m───────────────────────────────────────────────────────────────────────────────────────────────────────────────────\u001b[0m\n"
      ]
     },
     "metadata": {},
     "output_type": "display_data"
    }
   ],
   "source": [
    "ds = AutolabelDataset(test_data[[text_column, label_column]], config=config)\n",
    "agent.plan(ds)"
   ]
  },
  {
   "cell_type": "code",
   "execution_count": 12,
   "id": "066e6a3b-86ff-47ca-826a-e2690bfeee7e",
   "metadata": {},
   "outputs": [
    {
     "data": {
      "application/vnd.jupyter.widget-view+json": {
       "model_id": "1b5bb1613240472195fbf18718ac1bec",
       "version_major": 2,
       "version_minor": 0
      },
      "text/plain": [
       "Output()"
      ]
     },
     "metadata": {},
     "output_type": "display_data"
    },
    {
     "data": {
      "application/vnd.jupyter.widget-view+json": {
       "model_id": "2e3cabd6b35444e89c4e5673a60efc58",
       "version_major": 2,
       "version_minor": 0
      },
      "text/plain": [
       "Batches: 0it [00:00, ?it/s]"
      ]
     },
     "metadata": {},
     "output_type": "display_data"
    },
    {
     "data": {
      "application/vnd.jupyter.widget-view+json": {
       "model_id": "f0e3dd1cec0346699cd9dc6886f210d7",
       "version_major": 2,
       "version_minor": 0
      },
      "text/plain": [
       "Batches: 0it [00:00, ?it/s]"
      ]
     },
     "metadata": {},
     "output_type": "display_data"
    },
    {
     "data": {
      "application/vnd.jupyter.widget-view+json": {
       "model_id": "7227601e522d42acb7eacaf616ed76d2",
       "version_major": 2,
       "version_minor": 0
      },
      "text/plain": [
       "Batches: 0it [00:00, ?it/s]"
      ]
     },
     "metadata": {},
     "output_type": "display_data"
    },
    {
     "data": {
      "application/vnd.jupyter.widget-view+json": {
       "model_id": "011a5d203a1b4827a7d8625dfb5db151",
       "version_major": 2,
       "version_minor": 0
      },
      "text/plain": [
       "Batches: 0it [00:00, ?it/s]"
      ]
     },
     "metadata": {},
     "output_type": "display_data"
    },
    {
     "data": {
      "application/vnd.jupyter.widget-view+json": {
       "model_id": "c4b9933621bf4ab0a8c33875898697e4",
       "version_major": 2,
       "version_minor": 0
      },
      "text/plain": [
       "Batches: 0it [00:00, ?it/s]"
      ]
     },
     "metadata": {},
     "output_type": "display_data"
    },
    {
     "data": {
      "application/vnd.jupyter.widget-view+json": {
       "model_id": "9595afedb3ef41a88b45d58ec09c1e48",
       "version_major": 2,
       "version_minor": 0
      },
      "text/plain": [
       "Batches: 0it [00:00, ?it/s]"
      ]
     },
     "metadata": {},
     "output_type": "display_data"
    },
    {
     "data": {
      "application/vnd.jupyter.widget-view+json": {
       "model_id": "b6d35c6fac49435382e5f6d39496c314",
       "version_major": 2,
       "version_minor": 0
      },
      "text/plain": [
       "Batches: 0it [00:00, ?it/s]"
      ]
     },
     "metadata": {},
     "output_type": "display_data"
    },
    {
     "data": {
      "application/vnd.jupyter.widget-view+json": {
       "model_id": "087b910d9cb346ccb56494dd94d6c80c",
       "version_major": 2,
       "version_minor": 0
      },
      "text/plain": [
       "Batches: 0it [00:00, ?it/s]"
      ]
     },
     "metadata": {},
     "output_type": "display_data"
    },
    {
     "data": {
      "application/vnd.jupyter.widget-view+json": {
       "model_id": "9372a45fb73b4b3cbf61391b6ca2b654",
       "version_major": 2,
       "version_minor": 0
      },
      "text/plain": [
       "Batches: 0it [00:00, ?it/s]"
      ]
     },
     "metadata": {},
     "output_type": "display_data"
    },
    {
     "data": {
      "application/vnd.jupyter.widget-view+json": {
       "model_id": "d56c44e322c14b3486c526015d78f2b5",
       "version_major": 2,
       "version_minor": 0
      },
      "text/plain": [
       "Batches: 0it [00:00, ?it/s]"
      ]
     },
     "metadata": {},
     "output_type": "display_data"
    },
    {
     "data": {
      "text/html": [
       "<pre style=\"white-space:pre;overflow-x:auto;line-height:normal;font-family:Menlo,'DejaVu Sans Mono',consolas,'Courier New',monospace\"></pre>\n"
      ],
      "text/plain": []
     },
     "metadata": {},
     "output_type": "display_data"
    },
    {
     "name": "stderr",
     "output_type": "stream",
     "text": [
      "/scratch/dzhang5/visa/visa39/lib/python3.9/site-packages/sklearn/metrics/_classification.py:1344: UndefinedMetricWarning: Precision and F-score are ill-defined and being set to 0.0 in labels with no predicted samples. Use `zero_division` parameter to control this behavior.\n",
      "  _warn_prf(average, modifier, msg_start, len(result))\n",
      "/scratch/dzhang5/visa/visa39/lib/python3.9/site-packages/sklearn/metrics/_classification.py:1344: UndefinedMetricWarning: Precision and F-score are ill-defined and being set to 0.0 in labels with no predicted samples. Use `zero_division` parameter to control this behavior.\n",
      "  _warn_prf(average, modifier, msg_start, len(result))\n",
      "/scratch/dzhang5/visa/visa39/lib/python3.9/site-packages/sklearn/metrics/_classification.py:1344: UndefinedMetricWarning: Precision and F-score are ill-defined and being set to 0.0 in labels with no predicted samples. Use `zero_division` parameter to control this behavior.\n",
      "  _warn_prf(average, modifier, msg_start, len(result))\n"
     ]
    },
    {
     "data": {
      "text/html": [
       "<pre style=\"white-space:pre;overflow-x:auto;line-height:normal;font-family:Menlo,'DejaVu Sans Mono',consolas,'Courier New',monospace\">classification_report:\n",
       "              precision    recall  f1-score   support\n",
       "\n",
       "          No       <span style=\"color: #008080; text-decoration-color: #008080; font-weight: bold\">0.00</span>      <span style=\"color: #008080; text-decoration-color: #008080; font-weight: bold\">0.00</span>      <span style=\"color: #008080; text-decoration-color: #008080; font-weight: bold\">0.00</span>         <span style=\"color: #008080; text-decoration-color: #008080; font-weight: bold\">2</span>\n",
       "         Yes       <span style=\"color: #008080; text-decoration-color: #008080; font-weight: bold\">0.80</span>      <span style=\"color: #008080; text-decoration-color: #008080; font-weight: bold\">1.00</span>      <span style=\"color: #008080; text-decoration-color: #008080; font-weight: bold\">0.89</span>         <span style=\"color: #008080; text-decoration-color: #008080; font-weight: bold\">8</span>\n",
       "\n",
       "    accuracy                           <span style=\"color: #008080; text-decoration-color: #008080; font-weight: bold\">0.80</span>        <span style=\"color: #008080; text-decoration-color: #008080; font-weight: bold\">10</span>\n",
       "   macro avg       <span style=\"color: #008080; text-decoration-color: #008080; font-weight: bold\">0.40</span>      <span style=\"color: #008080; text-decoration-color: #008080; font-weight: bold\">0.50</span>      <span style=\"color: #008080; text-decoration-color: #008080; font-weight: bold\">0.44</span>        <span style=\"color: #008080; text-decoration-color: #008080; font-weight: bold\">10</span>\n",
       "weighted avg       <span style=\"color: #008080; text-decoration-color: #008080; font-weight: bold\">0.64</span>      <span style=\"color: #008080; text-decoration-color: #008080; font-weight: bold\">0.80</span>      <span style=\"color: #008080; text-decoration-color: #008080; font-weight: bold\">0.71</span>        <span style=\"color: #008080; text-decoration-color: #008080; font-weight: bold\">10</span>\n",
       "\n",
       "</pre>\n"
      ],
      "text/plain": [
       "classification_report:\n",
       "              precision    recall  f1-score   support\n",
       "\n",
       "          No       \u001b[1;36m0.00\u001b[0m      \u001b[1;36m0.00\u001b[0m      \u001b[1;36m0.00\u001b[0m         \u001b[1;36m2\u001b[0m\n",
       "         Yes       \u001b[1;36m0.80\u001b[0m      \u001b[1;36m1.00\u001b[0m      \u001b[1;36m0.89\u001b[0m         \u001b[1;36m8\u001b[0m\n",
       "\n",
       "    accuracy                           \u001b[1;36m0.80\u001b[0m        \u001b[1;36m10\u001b[0m\n",
       "   macro avg       \u001b[1;36m0.40\u001b[0m      \u001b[1;36m0.50\u001b[0m      \u001b[1;36m0.44\u001b[0m        \u001b[1;36m10\u001b[0m\n",
       "weighted avg       \u001b[1;36m0.64\u001b[0m      \u001b[1;36m0.80\u001b[0m      \u001b[1;36m0.71\u001b[0m        \u001b[1;36m10\u001b[0m\n",
       "\n"
      ]
     },
     "metadata": {},
     "output_type": "display_data"
    },
    {
     "data": {
      "text/html": [
       "<pre style=\"white-space:pre;overflow-x:auto;line-height:normal;font-family:Menlo,'DejaVu Sans Mono',consolas,'Courier New',monospace\">Actual Cost: <span style=\"color: #008080; text-decoration-color: #008080; font-weight: bold\">0.0</span>\n",
       "</pre>\n"
      ],
      "text/plain": [
       "Actual Cost: \u001b[1;36m0.0\u001b[0m\n"
      ]
     },
     "metadata": {},
     "output_type": "display_data"
    },
    {
     "data": {
      "text/html": [
       "<pre style=\"white-space:pre;overflow-x:auto;line-height:normal;font-family:Menlo,'DejaVu Sans Mono',consolas,'Courier New',monospace\">┏━━━━━━━━━━┳━━━━━━━━━┳━━━━━━━━━━━━━━━━━┓\n",
       "┃<span style=\"font-weight: bold\"> accuracy </span>┃<span style=\"font-weight: bold\"> support </span>┃<span style=\"font-weight: bold\"> completion_rate </span>┃\n",
       "┡━━━━━━━━━━╇━━━━━━━━━╇━━━━━━━━━━━━━━━━━┩\n",
       "│<span style=\"color: #008080; text-decoration-color: #008080; font-weight: bold\"> 0.8      </span>│<span style=\"color: #008080; text-decoration-color: #008080; font-weight: bold\"> 10      </span>│<span style=\"color: #008080; text-decoration-color: #008080; font-weight: bold\"> 1.0             </span>│\n",
       "└──────────┴─────────┴─────────────────┘\n",
       "</pre>\n"
      ],
      "text/plain": [
       "┏━━━━━━━━━━┳━━━━━━━━━┳━━━━━━━━━━━━━━━━━┓\n",
       "┃\u001b[1m \u001b[0m\u001b[1maccuracy\u001b[0m\u001b[1m \u001b[0m┃\u001b[1m \u001b[0m\u001b[1msupport\u001b[0m\u001b[1m \u001b[0m┃\u001b[1m \u001b[0m\u001b[1mcompletion_rate\u001b[0m\u001b[1m \u001b[0m┃\n",
       "┡━━━━━━━━━━╇━━━━━━━━━╇━━━━━━━━━━━━━━━━━┩\n",
       "│\u001b[1;36m \u001b[0m\u001b[1;36m0.8     \u001b[0m\u001b[1;36m \u001b[0m│\u001b[1;36m \u001b[0m\u001b[1;36m10     \u001b[0m\u001b[1;36m \u001b[0m│\u001b[1;36m \u001b[0m\u001b[1;36m1.0            \u001b[0m\u001b[1;36m \u001b[0m│\n",
       "└──────────┴─────────┴─────────────────┘\n"
      ]
     },
     "metadata": {},
     "output_type": "display_data"
    }
   ],
   "source": [
    "# now, do the actual labeling\n",
    "ds = agent.run(ds)"
   ]
  },
  {
   "cell_type": "code",
   "execution_count": 13,
   "id": "7045720a-3e2a-432c-8f86-9d996e9a7980",
   "metadata": {},
   "outputs": [
    {
     "name": "stderr",
     "output_type": "stream",
     "text": [
      "/scratch/dzhang5/visa/visa39/lib/python3.9/site-packages/sklearn/metrics/_classification.py:1344: UndefinedMetricWarning: Precision and F-score are ill-defined and being set to 0.0 in labels with no predicted samples. Use `zero_division` parameter to control this behavior.\n",
      "  _warn_prf(average, modifier, msg_start, len(result))\n",
      "/scratch/dzhang5/visa/visa39/lib/python3.9/site-packages/sklearn/metrics/_classification.py:1344: UndefinedMetricWarning: Precision and F-score are ill-defined and being set to 0.0 in labels with no predicted samples. Use `zero_division` parameter to control this behavior.\n",
      "  _warn_prf(average, modifier, msg_start, len(result))\n",
      "/scratch/dzhang5/visa/visa39/lib/python3.9/site-packages/sklearn/metrics/_classification.py:1344: UndefinedMetricWarning: Precision and F-score are ill-defined and being set to 0.0 in labels with no predicted samples. Use `zero_division` parameter to control this behavior.\n",
      "  _warn_prf(average, modifier, msg_start, len(result))\n"
     ]
    },
    {
     "data": {
      "text/html": [
       "<pre style=\"white-space:pre;overflow-x:auto;line-height:normal;font-family:Menlo,'DejaVu Sans Mono',consolas,'Courier New',monospace\">┏━━━━━━━━━━┳━━━━━━━━━┳━━━━━━━━━━━━━━━━━┳━━━━━━━━━━━━━━━━━━━━━━━━━━━━━━━━━━━━━━━━━━━━━━━━━━━━━━━┓\n",
       "┃<span style=\"font-weight: bold\"> accuracy </span>┃<span style=\"font-weight: bold\"> support </span>┃<span style=\"font-weight: bold\"> completion_rate </span>┃<span style=\"font-weight: bold\"> classification_report                                 </span>┃\n",
       "┡━━━━━━━━━━╇━━━━━━━━━╇━━━━━━━━━━━━━━━━━╇━━━━━━━━━━━━━━━━━━━━━━━━━━━━━━━━━━━━━━━━━━━━━━━━━━━━━━━┩\n",
       "│<span style=\"color: #008080; text-decoration-color: #008080; font-weight: bold\"> 0.8      </span>│<span style=\"color: #008080; text-decoration-color: #008080; font-weight: bold\"> 10      </span>│<span style=\"color: #008080; text-decoration-color: #008080; font-weight: bold\"> 1.0             </span>│<span style=\"color: #008080; text-decoration-color: #008080; font-weight: bold\">               precision    recall  f1-score   support </span>│\n",
       "│<span style=\"color: #008080; text-decoration-color: #008080; font-weight: bold\">          </span>│<span style=\"color: #008080; text-decoration-color: #008080; font-weight: bold\">         </span>│<span style=\"color: #008080; text-decoration-color: #008080; font-weight: bold\">                 </span>│<span style=\"color: #008080; text-decoration-color: #008080; font-weight: bold\">                                                       </span>│\n",
       "│<span style=\"color: #008080; text-decoration-color: #008080; font-weight: bold\">          </span>│<span style=\"color: #008080; text-decoration-color: #008080; font-weight: bold\">         </span>│<span style=\"color: #008080; text-decoration-color: #008080; font-weight: bold\">                 </span>│<span style=\"color: #008080; text-decoration-color: #008080; font-weight: bold\">           No       0.00      0.00      0.00         2 </span>│\n",
       "│<span style=\"color: #008080; text-decoration-color: #008080; font-weight: bold\">          </span>│<span style=\"color: #008080; text-decoration-color: #008080; font-weight: bold\">         </span>│<span style=\"color: #008080; text-decoration-color: #008080; font-weight: bold\">                 </span>│<span style=\"color: #008080; text-decoration-color: #008080; font-weight: bold\">          Yes       0.80      1.00      0.89         8 </span>│\n",
       "│<span style=\"color: #008080; text-decoration-color: #008080; font-weight: bold\">          </span>│<span style=\"color: #008080; text-decoration-color: #008080; font-weight: bold\">         </span>│<span style=\"color: #008080; text-decoration-color: #008080; font-weight: bold\">                 </span>│<span style=\"color: #008080; text-decoration-color: #008080; font-weight: bold\">                                                       </span>│\n",
       "│<span style=\"color: #008080; text-decoration-color: #008080; font-weight: bold\">          </span>│<span style=\"color: #008080; text-decoration-color: #008080; font-weight: bold\">         </span>│<span style=\"color: #008080; text-decoration-color: #008080; font-weight: bold\">                 </span>│<span style=\"color: #008080; text-decoration-color: #008080; font-weight: bold\">     accuracy                           0.80        10 </span>│\n",
       "│<span style=\"color: #008080; text-decoration-color: #008080; font-weight: bold\">          </span>│<span style=\"color: #008080; text-decoration-color: #008080; font-weight: bold\">         </span>│<span style=\"color: #008080; text-decoration-color: #008080; font-weight: bold\">                 </span>│<span style=\"color: #008080; text-decoration-color: #008080; font-weight: bold\">    macro avg       0.40      0.50      0.44        10 </span>│\n",
       "│<span style=\"color: #008080; text-decoration-color: #008080; font-weight: bold\">          </span>│<span style=\"color: #008080; text-decoration-color: #008080; font-weight: bold\">         </span>│<span style=\"color: #008080; text-decoration-color: #008080; font-weight: bold\">                 </span>│<span style=\"color: #008080; text-decoration-color: #008080; font-weight: bold\"> weighted avg       0.64      0.80      0.71        10 </span>│\n",
       "│<span style=\"color: #008080; text-decoration-color: #008080; font-weight: bold\">          </span>│<span style=\"color: #008080; text-decoration-color: #008080; font-weight: bold\">         </span>│<span style=\"color: #008080; text-decoration-color: #008080; font-weight: bold\">                 </span>│<span style=\"color: #008080; text-decoration-color: #008080; font-weight: bold\">                                                       </span>│\n",
       "└──────────┴─────────┴─────────────────┴───────────────────────────────────────────────────────┘\n",
       "</pre>\n"
      ],
      "text/plain": [
       "┏━━━━━━━━━━┳━━━━━━━━━┳━━━━━━━━━━━━━━━━━┳━━━━━━━━━━━━━━━━━━━━━━━━━━━━━━━━━━━━━━━━━━━━━━━━━━━━━━━┓\n",
       "┃\u001b[1m \u001b[0m\u001b[1maccuracy\u001b[0m\u001b[1m \u001b[0m┃\u001b[1m \u001b[0m\u001b[1msupport\u001b[0m\u001b[1m \u001b[0m┃\u001b[1m \u001b[0m\u001b[1mcompletion_rate\u001b[0m\u001b[1m \u001b[0m┃\u001b[1m \u001b[0m\u001b[1mclassification_report                                \u001b[0m\u001b[1m \u001b[0m┃\n",
       "┡━━━━━━━━━━╇━━━━━━━━━╇━━━━━━━━━━━━━━━━━╇━━━━━━━━━━━━━━━━━━━━━━━━━━━━━━━━━━━━━━━━━━━━━━━━━━━━━━━┩\n",
       "│\u001b[1;36m \u001b[0m\u001b[1;36m0.8     \u001b[0m\u001b[1;36m \u001b[0m│\u001b[1;36m \u001b[0m\u001b[1;36m10     \u001b[0m\u001b[1;36m \u001b[0m│\u001b[1;36m \u001b[0m\u001b[1;36m1.0            \u001b[0m\u001b[1;36m \u001b[0m│\u001b[1;36m \u001b[0m\u001b[1;36m              precision    recall  f1-score   support\u001b[0m\u001b[1;36m \u001b[0m│\n",
       "│\u001b[1;36m          \u001b[0m│\u001b[1;36m         \u001b[0m│\u001b[1;36m                 \u001b[0m│\u001b[1;36m \u001b[0m\u001b[1;36m                                                     \u001b[0m\u001b[1;36m \u001b[0m│\n",
       "│\u001b[1;36m          \u001b[0m│\u001b[1;36m         \u001b[0m│\u001b[1;36m                 \u001b[0m│\u001b[1;36m \u001b[0m\u001b[1;36m          No       0.00      0.00      0.00         2\u001b[0m\u001b[1;36m \u001b[0m│\n",
       "│\u001b[1;36m          \u001b[0m│\u001b[1;36m         \u001b[0m│\u001b[1;36m                 \u001b[0m│\u001b[1;36m \u001b[0m\u001b[1;36m         Yes       0.80      1.00      0.89         8\u001b[0m\u001b[1;36m \u001b[0m│\n",
       "│\u001b[1;36m          \u001b[0m│\u001b[1;36m         \u001b[0m│\u001b[1;36m                 \u001b[0m│\u001b[1;36m \u001b[0m\u001b[1;36m                                                     \u001b[0m\u001b[1;36m \u001b[0m│\n",
       "│\u001b[1;36m          \u001b[0m│\u001b[1;36m         \u001b[0m│\u001b[1;36m                 \u001b[0m│\u001b[1;36m \u001b[0m\u001b[1;36m    accuracy                           0.80        10\u001b[0m\u001b[1;36m \u001b[0m│\n",
       "│\u001b[1;36m          \u001b[0m│\u001b[1;36m         \u001b[0m│\u001b[1;36m                 \u001b[0m│\u001b[1;36m \u001b[0m\u001b[1;36m   macro avg       0.40      0.50      0.44        10\u001b[0m\u001b[1;36m \u001b[0m│\n",
       "│\u001b[1;36m          \u001b[0m│\u001b[1;36m         \u001b[0m│\u001b[1;36m                 \u001b[0m│\u001b[1;36m \u001b[0m\u001b[1;36mweighted avg       0.64      0.80      0.71        10\u001b[0m\u001b[1;36m \u001b[0m│\n",
       "│\u001b[1;36m          \u001b[0m│\u001b[1;36m         \u001b[0m│\u001b[1;36m                 \u001b[0m│\u001b[1;36m \u001b[0m\u001b[1;36m                                                     \u001b[0m\u001b[1;36m \u001b[0m│\n",
       "└──────────┴─────────┴─────────────────┴───────────────────────────────────────────────────────┘\n"
      ]
     },
     "metadata": {},
     "output_type": "display_data"
    }
   ],
   "source": [
    "metrics = ds.eval()"
   ]
  },
  {
   "cell_type": "code",
   "execution_count": 17,
   "id": "4bcbd487-91d5-44af-85e5-c85798e68704",
   "metadata": {},
   "outputs": [],
   "source": [
    "ds.df.to_csv(output_path, index=False)\n",
    "ds.df.to_pickle(output_path.replace('.csv', '.pkl'))"
   ]
  }
 ],
 "metadata": {
  "kernelspec": {
   "display_name": "py3.9-visa",
   "language": "python",
   "name": "py3.9-visa"
  },
  "language_info": {
   "codemirror_mode": {
    "name": "ipython",
    "version": 3
   },
   "file_extension": ".py",
   "mimetype": "text/x-python",
   "name": "python",
   "nbconvert_exporter": "python",
   "pygments_lexer": "ipython3",
   "version": "3.9.12"
  }
 },
 "nbformat": 4,
 "nbformat_minor": 5
}
