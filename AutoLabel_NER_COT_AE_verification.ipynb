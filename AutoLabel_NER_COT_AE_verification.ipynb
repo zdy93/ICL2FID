{
 "cells": [
  {
   "cell_type": "code",
   "execution_count": 1,
   "id": "f5198684-0eb5-4959-941e-59d467a9b688",
   "metadata": {
    "tags": [
     "parameters"
    ]
   },
   "outputs": [],
   "source": [
    "few_shot_path = '/scratch/dzhang5/LLM/TWEET-FID/expert.train.short.csv'\n",
    "verify_few_shot_path = '/scratch/dzhang5/LLM/TWEET-FID/Food-verify.expert.train.short.csv'\n",
    "data_path = '/scratch/dzhang5/LLM/TWEET-FID/expert.smalltest.csv'\n",
    "output_dir = '/scratch/dzhang5/LLM/TWEET-FID/test-results-autolabel-ner-qa'\n",
    "model_name = \"gpt-3.5-turbo\"\n",
    "text_column = 'context'\n",
    "explanation_column = 'entity_explanation'\n",
    "example_selection_label_column = 'has_all'\n",
    "label_symbol = \"^^^^\"\n",
    "few_shot_num = 8\n",
    "few_shot_selection = 'label_diversity_similarity'\n",
    "verify_few_shot_selection = \"semantic_similarity\"\n",
    "use_current_explanation = False\n",
    "use_ground_explanation = False\n",
    "token_path = \"/home/dzhang5/.cache/huggingface/token\"\n",
    "cache=False\n",
    "console_output=True\n",
    "temperature=0.1\n",
    "verify=True\n",
    "label_version='v1'\n",
    "task_version='v1'\n",
    "random_shuffle_examples = True\n",
    "random_shuffle_examples_seed = 1"
   ]
  },
  {
   "cell_type": "markdown",
   "id": "6bff44b7-dd3e-4e0a-abb4-aa59b62cd78a",
   "metadata": {},
   "source": [
    "# Generation Stage"
   ]
  },
  {
   "cell_type": "code",
   "execution_count": 2,
   "id": "7be56d66-8b3a-48f1-ba9b-5aea49f4b4e6",
   "metadata": {},
   "outputs": [],
   "source": [
    "from autolabel.schema import ModelProvider, TaskType\n",
    "from autolabel.models import register_model, MODEL_REGISTRY\n",
    "from hf_pipeline_new import HFPipelineLLMNew\n",
    "from few_shot_new import NewAutoLabelConfig, NewExampleSelectorFactory\n",
    "from autolabel.few_shot import ExampleSelectorFactory\n",
    "from template_inst import update_inst_mode\n",
    "from named_entity_recognition_new import NewNamedEntityRecognitionTask\n",
    "from classification_new import NewClassificationTask\n",
    "from question_answering_new import NewQuestionAnsweringTask\n",
    "from attribute_extraction_new import NewAttributeExtractionTask\n",
    "from autolabel.tasks import TASK_TYPE_TO_IMPLEMENTATION \n",
    "from prompt_template import load_ner_ae_prompt\n",
    "from dataset_new import process_labels\n",
    "import sys"
   ]
  },
  {
   "cell_type": "code",
   "execution_count": 3,
   "id": "30bc6fcd-7a0f-4e12-9116-4879e308abd4",
   "metadata": {},
   "outputs": [],
   "source": [
    "update_inst_mode(model_name)\n",
    "TASK_TYPE_TO_IMPLEMENTATION[TaskType.NAMED_ENTITY_RECOGNITION] = NewNamedEntityRecognitionTask\n",
    "TASK_TYPE_TO_IMPLEMENTATION[TaskType.CLASSIFICATION] = NewClassificationTask\n",
    "TASK_TYPE_TO_IMPLEMENTATION[TaskType.QUESTION_ANSWERING] = NewQuestionAnsweringTask\n",
    "TASK_TYPE_TO_IMPLEMENTATION[TaskType.ATTRIBUTE_EXTRACTION] = NewAttributeExtractionTask\n",
    "sys.modules['autolabel.labeler'].ExampleSelectorFactory = NewExampleSelectorFactory\n",
    "sys.modules['autolabel.dataset'].AutolabelDataset.process_labels = process_labels\n",
    "register_model(ModelProvider.HUGGINGFACE_PIPELINE, HFPipelineLLMNew)"
   ]
  },
  {
   "cell_type": "code",
   "execution_count": 4,
   "id": "d67c0a78-0a28-4ad1-84d2-9edf12534aed",
   "metadata": {},
   "outputs": [],
   "source": [
    "from autolabel import LabelingAgent, AutolabelDataset\n",
    "import json\n",
    "import os\n",
    "import pandas as pd"
   ]
  },
  {
   "cell_type": "code",
   "execution_count": 5,
   "id": "0d69efda-a796-4ba8-9b7a-a43bc10db380",
   "metadata": {},
   "outputs": [
    {
     "name": "stdout",
     "output_type": "stream",
     "text": [
      "Token will not been saved to git credential helper. Pass `add_to_git_credential=True` if you want to set the git credential as well.\n",
      "Token is valid (permission: read).\n",
      "Your token has been saved to /home/dzhang5/.cache/huggingface/token\n",
      "Login successful\n"
     ]
    }
   ],
   "source": [
    "with open(token_path) as tfile:\n",
    "    token_str = tfile.read()\n",
    "\n",
    "from huggingface_hub import login\n",
    "login(token=token_str)"
   ]
  },
  {
   "cell_type": "code",
   "execution_count": 6,
   "id": "ae5043f6-302a-4c91-bc1c-547b760378ab",
   "metadata": {},
   "outputs": [],
   "source": [
    "no_auto = [\"microsoft/prophetnet\", \"microsoft/phi-2\", \"google/pegasus-x\"]\n",
    "if any([pre in model_name for pre in no_auto]):\n",
    "    device_map = None\n",
    "else:\n",
    "    device_map = \"auto\""
   ]
  },
  {
   "cell_type": "code",
   "execution_count": 7,
   "id": "292533f9-7851-4717-ade0-0f1ab70dfebd",
   "metadata": {},
   "outputs": [],
   "source": [
    "if not os.path.exists(output_dir):\n",
    "    # Create the directory\n",
    "    os.makedirs(output_dir)\n",
    "output_name = os.path.split(model_name)[-1] + '_' + few_shot_selection + '_COT_AE_' + str(explanation_column) + '_cur_' + str(use_current_explanation) + '_ground_' + str(use_ground_explanation) + '_' + os.path.split(data_path)[-1]\n",
    "output_path = os.path.join(output_dir, output_name)"
   ]
  },
  {
   "cell_type": "code",
   "execution_count": 20,
   "id": "7a00bc18-8124-4baf-8c6b-65bb9b63482a",
   "metadata": {},
   "outputs": [],
   "source": [
    "refuel_models = [\"refuel-llm\", \"llama-13b-chat\"]\n",
    "if model_name in refuel_models:\n",
    "    provider = \"refuel\"\n",
    "    em_provider = \"huggingface_pipeline\"\n",
    "    model_params = {\"max_length\":4096, \"temperature\": temperature}\n",
    "    task_name = f\"FoodborneIllnessIncidentTweetNERAE_{few_shot_selection}_{model_name}\"\n",
    "elif model_name.startswith('gpt'):\n",
    "    provider = \"openai\"\n",
    "    em_provider = \"openai\"\n",
    "    model_params = {\"max_tokens\":4096, \"temperature\": temperature}\n",
    "    task_name = f\"FoodborneIllnessIncidentTweetNERAE_{few_shot_selection}_{model_name}\"\n",
    "else:\n",
    "    provider = \"huggingface_pipeline\"\n",
    "    em_provider = \"huggingface_pipeline\"\n",
    "    model_params = {\"max_length\":4096, \"temperature\": temperature,\n",
    "                    \"quantize\": 16, \"device_map\": device_map,\n",
    "                    \"token\": token_str}\n",
    "    task_name = f\"FoodborneIllnessIncidentTweetNERAE_{few_shot_selection}_{model_name.split('/')[1]}\""
   ]
  },
  {
   "cell_type": "code",
   "execution_count": 21,
   "id": "2fc43570-d3c0-439b-82e3-e85aa5ccc069",
   "metadata": {},
   "outputs": [],
   "source": [
    "sym_len = len(label_symbol)\n",
    "label_prefix, label_suffix, label_description, task_guideline, output_guideline = load_ner_ae_prompt(label_symbol, label_version, task_version, True)"
   ]
  },
  {
   "cell_type": "code",
   "execution_count": 22,
   "id": "24db5348-dfef-4597-b09c-8d6d6947553c",
   "metadata": {},
   "outputs": [],
   "source": [
    "test_data = pd.read_csv(data_path)"
   ]
  },
  {
   "cell_type": "code",
   "execution_count": 23,
   "id": "eadd57f3-0da9-4f71-ab88-f73ea72d2f13",
   "metadata": {},
   "outputs": [],
   "source": [
    "if use_current_explanation and not use_ground_explanation:\n",
    "    explanation_column = explanation_column + \"_prediction\""
   ]
  },
  {
   "cell_type": "code",
   "execution_count": 24,
   "id": "2325e234-618a-484b-838c-15e74a2795d7",
   "metadata": {},
   "outputs": [],
   "source": [
    "attribute_description = [{'name': k+'_answer', 'description': f'{k} entities {v}'} for k, v in label_description.items()]"
   ]
  },
  {
   "cell_type": "code",
   "execution_count": 25,
   "id": "15567ff5-37f7-4b35-a48b-83b310b410bb",
   "metadata": {},
   "outputs": [],
   "source": [
    "config = {\n",
    "    \"task_name\": task_name,\n",
    "    \"task_type\": \"attribute_extraction\",\n",
    "    \"dataset\": {\n",
    "        \"text_column\": text_column,\n",
    "        \"explanation_column\": explanation_column,\n",
    "        \"example_selection_label_column\": example_selection_label_column,\n",
    "        \"delimiter\": \",\",\n",
    "        \"label_description\": label_description \n",
    "    },\n",
    "    \"model\": {\n",
    "        \"provider\": provider,\n",
    "        \"name\": model_name,\n",
    "        \"params\": model_params\n",
    "    },\n",
    "    \"embedding\": {\n",
    "        \"provider\": em_provider,\n",
    "    },\n",
    "    \"prompt\": {\n",
    "        \"task_guidelines\": task_guideline,\n",
    "        \"output_guidelines\": output_guideline,\n",
    "        \"attributes\": attribute_description,\n",
    "        \"example_selection_labels\":[\n",
    "            \"yes\",\n",
    "            \"no\"\n",
    "        ],\n",
    "        \"few_shot_examples\": few_shot_path,\n",
    "        \"few_shot_selection\": few_shot_selection,\n",
    "        \"few_shot_num\": few_shot_num,\n",
    "        \"use_current_explanation\": use_current_explanation,\n",
    "        \"random_shuffle_examples\": random_shuffle_examples,\n",
    "        \"random_shuffle_examples_seed\": random_shuffle_examples_seed,\n",
    "        \"example_template\": f\"Input: {{{text_column}}}\\nOutput: Let's think step by step.\\n{{{explanation_column}}}\\n\"+\"{output_dict}\",\n",
    "        \"chain_of_thought\": True\n",
    "    }\n",
    "}\n",
    "\n",
    "config = NewAutoLabelConfig(config)"
   ]
  },
  {
   "cell_type": "code",
   "execution_count": 26,
   "id": "e28122bc-1337-497b-8410-54fd17249452",
   "metadata": {},
   "outputs": [
    {
     "name": "stderr",
     "output_type": "stream",
     "text": [
      "2024-04-05 05:27:16 autolabel.labeler WARNING: cache parameter is deprecated and will be removed soon. Please use generation_cache and transform_cache instead.\n"
     ]
    }
   ],
   "source": [
    "agent = LabelingAgent(config=config, console_output=console_output, cache=cache)"
   ]
  },
  {
   "cell_type": "code",
   "execution_count": 27,
   "id": "71804f65-5f78-406e-9cce-7d4eb8c3bad9",
   "metadata": {},
   "outputs": [],
   "source": [
    "label_columns = [i['name'] for i in attribute_description]"
   ]
  },
  {
   "cell_type": "code",
   "execution_count": 28,
   "id": "05bbac1b-14ee-4c3d-8658-849159373b4a",
   "metadata": {},
   "outputs": [],
   "source": [
    "if use_current_explanation:\n",
    "    ds = AutolabelDataset(test_data[[text_column, explanation_column, example_selection_label_column] + label_columns], config=config)\n",
    "else:\n",
    "    ds = AutolabelDataset(test_data[[text_column, example_selection_label_column] + label_columns], config=config)"
   ]
  },
  {
   "cell_type": "code",
   "execution_count": 29,
   "id": "c175c7c0-a61e-4d63-bc23-b06c51c8d72e",
   "metadata": {},
   "outputs": [
    {
     "name": "stderr",
     "output_type": "stream",
     "text": [
      "2024-04-05 05:27:22 httpx INFO: HTTP Request: POST https://api.openai.com/v1/embeddings \"HTTP/1.1 200 OK\"\n",
      "2024-04-05 05:27:29 httpx INFO: HTTP Request: POST https://api.openai.com/v1/embeddings \"HTTP/1.1 200 OK\"\n",
      "2024-04-05 05:27:34 httpx INFO: HTTP Request: POST https://api.openai.com/v1/embeddings \"HTTP/1.1 200 OK\"\n"
     ]
    },
    {
     "data": {
      "application/vnd.jupyter.widget-view+json": {
       "model_id": "50956e2fa08b4a0fa44e715b3ec71096",
       "version_major": 2,
       "version_minor": 0
      },
      "text/plain": [
       "Output()"
      ]
     },
     "metadata": {},
     "output_type": "display_data"
    },
    {
     "name": "stderr",
     "output_type": "stream",
     "text": [
      "2024-04-05 05:27:37 httpx INFO: HTTP Request: POST https://api.openai.com/v1/embeddings \"HTTP/1.1 200 OK\"\n",
      "2024-04-05 05:27:37 httpx INFO: HTTP Request: POST https://api.openai.com/v1/embeddings \"HTTP/1.1 200 OK\"\n",
      "2024-04-05 05:27:37 httpx INFO: HTTP Request: POST https://api.openai.com/v1/embeddings \"HTTP/1.1 200 OK\"\n",
      "2024-04-05 05:27:37 httpx INFO: HTTP Request: POST https://api.openai.com/v1/embeddings \"HTTP/1.1 200 OK\"\n",
      "2024-04-05 05:27:38 httpx INFO: HTTP Request: POST https://api.openai.com/v1/embeddings \"HTTP/1.1 200 OK\"\n",
      "2024-04-05 05:27:38 httpx INFO: HTTP Request: POST https://api.openai.com/v1/embeddings \"HTTP/1.1 200 OK\"\n",
      "2024-04-05 05:27:38 httpx INFO: HTTP Request: POST https://api.openai.com/v1/embeddings \"HTTP/1.1 200 OK\"\n",
      "2024-04-05 05:27:38 httpx INFO: HTTP Request: POST https://api.openai.com/v1/embeddings \"HTTP/1.1 200 OK\"\n",
      "2024-04-05 05:27:38 httpx INFO: HTTP Request: POST https://api.openai.com/v1/embeddings \"HTTP/1.1 200 OK\"\n",
      "2024-04-05 05:27:39 httpx INFO: HTTP Request: POST https://api.openai.com/v1/embeddings \"HTTP/1.1 200 OK\"\n"
     ]
    },
    {
     "data": {
      "text/html": [
       "<pre style=\"white-space:pre;overflow-x:auto;line-height:normal;font-family:Menlo,'DejaVu Sans Mono',consolas,'Courier New',monospace\"></pre>\n"
      ],
      "text/plain": []
     },
     "metadata": {},
     "output_type": "display_data"
    },
    {
     "data": {
      "text/html": [
       "<pre style=\"white-space:pre;overflow-x:auto;line-height:normal;font-family:Menlo,'DejaVu Sans Mono',consolas,'Courier New',monospace\">\n",
       "</pre>\n"
      ],
      "text/plain": [
       "\n"
      ]
     },
     "metadata": {},
     "output_type": "display_data"
    },
    {
     "data": {
      "text/html": [
       "<pre style=\"white-space:pre;overflow-x:auto;line-height:normal;font-family:Menlo,'DejaVu Sans Mono',consolas,'Courier New',monospace\">┌──────────────────────────┬─────────┐\n",
       "│<span style=\"color: #800080; text-decoration-color: #800080; font-weight: bold\"> Total Estimated Cost     </span>│<span style=\"color: #008000; text-decoration-color: #008000; font-weight: bold\"> $0.129  </span>│\n",
       "│<span style=\"color: #800080; text-decoration-color: #800080; font-weight: bold\"> Number of Examples       </span>│<span style=\"color: #008000; text-decoration-color: #008000; font-weight: bold\"> 10      </span>│\n",
       "│<span style=\"color: #800080; text-decoration-color: #800080; font-weight: bold\"> Average cost per example </span>│<span style=\"color: #008000; text-decoration-color: #008000; font-weight: bold\"> $0.0129 </span>│\n",
       "└──────────────────────────┴─────────┘\n",
       "</pre>\n"
      ],
      "text/plain": [
       "┌──────────────────────────┬─────────┐\n",
       "│\u001b[1;35m \u001b[0m\u001b[1;35mTotal Estimated Cost    \u001b[0m\u001b[1;35m \u001b[0m│\u001b[1;32m \u001b[0m\u001b[1;32m$0.129 \u001b[0m\u001b[1;32m \u001b[0m│\n",
       "│\u001b[1;35m \u001b[0m\u001b[1;35mNumber of Examples      \u001b[0m\u001b[1;35m \u001b[0m│\u001b[1;32m \u001b[0m\u001b[1;32m10     \u001b[0m\u001b[1;32m \u001b[0m│\n",
       "│\u001b[1;35m \u001b[0m\u001b[1;35mAverage cost per example\u001b[0m\u001b[1;35m \u001b[0m│\u001b[1;32m \u001b[0m\u001b[1;32m$0.0129\u001b[0m\u001b[1;32m \u001b[0m│\n",
       "└──────────────────────────┴─────────┘\n"
      ]
     },
     "metadata": {},
     "output_type": "display_data"
    },
    {
     "data": {
      "text/html": [
       "<pre style=\"white-space:pre;overflow-x:auto;line-height:normal;font-family:Menlo,'DejaVu Sans Mono',consolas,'Courier New',monospace\"><span style=\"color: #00ff00; text-decoration-color: #00ff00\">───────────────────────────────────────────────── </span>Prompt Example<span style=\"color: #00ff00; text-decoration-color: #00ff00\"> ──────────────────────────────────────────────────</span>\n",
       "</pre>\n"
      ],
      "text/plain": [
       "\u001b[92m───────────────────────────────────────────────── \u001b[0mPrompt Example\u001b[92m ──────────────────────────────────────────────────\u001b[0m\n"
      ]
     },
     "metadata": {},
     "output_type": "display_data"
    },
    {
     "data": {
      "text/html": [
       "<pre style=\"white-space:pre;overflow-x:auto;line-height:normal;font-family:Menlo,'DejaVu Sans Mono',consolas,'Courier New',monospace\">You are an expert at extracting entities that are related to foodborne illness incident from text. In the given \n",
       "text, your task is to label multiple types of entity that are related to foodborne illness incident.Note that you \n",
       "should surround the extracted entities in the text with <span style=\"color: #008000; text-decoration-color: #008000\">\"^^\"</span> and <span style=\"color: #008000; text-decoration-color: #008000\">\"^^\"</span>. Use the following examples as a guide for \n",
       "your predictions and format your responses similarly.\n",
       "\n",
       "Your answer will consist of an explanation, followed by the correct labeled sentences for all types of entity in \n",
       "json format. Note that if the given text does not include any certain type entity related to foodborne illness, \n",
       "your labeled sentence for this type of entity will be the input text.The keys of the json output and the \n",
       "definitions for all type of relevant entity are provided below: \n",
       "<span style=\"font-weight: bold\">{</span>\n",
       "    <span style=\"color: #008000; text-decoration-color: #008000\">\"Food_answer\"</span>: <span style=\"color: #008000; text-decoration-color: #008000\">\"Food entities are specific food item that caused the potential foodborne illness incident.\"</span>,\n",
       "    <span style=\"color: #008000; text-decoration-color: #008000\">\"Symptom_answer\"</span>: <span style=\"color: #008000; text-decoration-color: #008000\">\"Symptom entities are specific symptoms experienced by the affected person as a result of the</span>\n",
       "<span style=\"color: #008000; text-decoration-color: #008000\">suspected foodborne illness.\"</span>,\n",
       "    <span style=\"color: #008000; text-decoration-color: #008000\">\"Location_answer\"</span>: <span style=\"color: #008000; text-decoration-color: #008000\">\"Location entities pretrain to the location where the affected person purchased or acquired </span>\n",
       "<span style=\"color: #008000; text-decoration-color: #008000\">the food associated with the potential foodborne illness.\"</span>,\n",
       "    <span style=\"color: #008000; text-decoration-color: #008000\">\"Keyword_answer\"</span>: <span style=\"color: #008000; text-decoration-color: #008000\">\"Keyword entities include other relevant keywords or terms associated with foodborne </span>\n",
       "<span style=\"color: #008000; text-decoration-color: #008000\">illnesses, such as \\\"food poisoning\\\".\"</span>\n",
       "<span style=\"font-weight: bold\">}</span>\n",
       "\n",
       "Some examples with their output answers are provided below:\n",
       "\n",
       "Input: @USER Poor thing . Of the few times I've been sick , food poisoning was the WORST , ever . #deadly\n",
       "Output: Let's think step by step.\n",
       "The text does not indicate a foodborne illness incident. So, no entity in the text is related to foodborne illness \n",
       "incident.\n",
       "<span style=\"font-weight: bold\">{</span><span style=\"color: #008000; text-decoration-color: #008000\">\"Food_answer\"</span>: <span style=\"color: #008000; text-decoration-color: #008000\">\"@USER Poor thing . Of the few times I've been sick , food poisoning was the WORST , ever . </span>\n",
       "<span style=\"color: #008000; text-decoration-color: #008000\">#deadly\"</span>, <span style=\"color: #008000; text-decoration-color: #008000\">\"Symptom_answer\"</span>: <span style=\"color: #008000; text-decoration-color: #008000\">\"@USER Poor thing . Of the few times I've been sick , food poisoning was the WORST , </span>\n",
       "<span style=\"color: #008000; text-decoration-color: #008000\">ever . #deadly\"</span>, <span style=\"color: #008000; text-decoration-color: #008000\">\"Location_answer\"</span>: <span style=\"color: #008000; text-decoration-color: #008000\">\"@USER Poor thing . Of the few times I've been sick , food poisoning was the </span>\n",
       "<span style=\"color: #008000; text-decoration-color: #008000\">WORST , ever . #deadly\"</span>, <span style=\"color: #008000; text-decoration-color: #008000\">\"Keyword_answer\"</span>: <span style=\"color: #008000; text-decoration-color: #008000\">\"@USER Poor thing . Of the few times I've been sick , food poisoning was</span>\n",
       "<span style=\"color: #008000; text-decoration-color: #008000\">the WORST , ever . #deadly\"</span><span style=\"font-weight: bold\">}</span>\n",
       "\n",
       "Input: @USER Awww : <span style=\"font-weight: bold\">(</span> I hope it clears up . I just got food poisoning I think ~ throwing up all morning : <span style=\"color: #800080; text-decoration-color: #800080\">/</span>\n",
       "Output: Let's think step by step.\n",
       "The text indicates a foodborne illness incident. No Food entity in the text is relevant to foodborne illness \n",
       "incident. No Location entity in the text is relevant to foodborne illness incident. The word <span style=\"color: #008000; text-decoration-color: #008000\">\"throwing up\"</span> in the \n",
       "text is a Symptom entity, which is a specific symptom experienced by the affected person as a result of the \n",
       "suspected foodborne illness. The word <span style=\"color: #008000; text-decoration-color: #008000\">\"food poisoning\"</span> in the text is a Keyword entity, which is other relevant \n",
       "keyword or term associated with foodborne illnesses, such as <span style=\"color: #008000; text-decoration-color: #008000\">\"food poisoning\"</span>.\n",
       "<span style=\"font-weight: bold\">{</span><span style=\"color: #008000; text-decoration-color: #008000\">\"Food_answer\"</span>: <span style=\"color: #008000; text-decoration-color: #008000\">\"@USER Awww : ( I hope it clears up . I just got food poisoning I think ~ throwing up all morning :</span>\n",
       "<span style=\"color: #008000; text-decoration-color: #008000\">/\"</span>, <span style=\"color: #008000; text-decoration-color: #008000\">\"Symptom_answer\"</span>: <span style=\"color: #008000; text-decoration-color: #008000\">\"@USER Awww : ( I hope it clears up . I just got food poisoning I think ~ ^^throwing up^^ all</span>\n",
       "<span style=\"color: #008000; text-decoration-color: #008000\">morning : /\"</span>, <span style=\"color: #008000; text-decoration-color: #008000\">\"Location_answer\"</span>: <span style=\"color: #008000; text-decoration-color: #008000\">\"@USER Awww : ( I hope it clears up . I just got food poisoning I think ~ throwing</span>\n",
       "<span style=\"color: #008000; text-decoration-color: #008000\">up all morning : /\"</span>, <span style=\"color: #008000; text-decoration-color: #008000\">\"Keyword_answer\"</span>: <span style=\"color: #008000; text-decoration-color: #008000\">\"@USER Awww : ( I hope it clears up . I just got ^^food poisoning^^ I think </span>\n",
       "<span style=\"color: #008000; text-decoration-color: #008000\">~ throwing up all morning : /\"</span><span style=\"font-weight: bold\">}</span>\n",
       "\n",
       "Input: Think I might have gotten a mild case of food-poisoning today - so that's been super fun .\n",
       "Output: Let's think step by step.\n",
       "The text does not indicate a foodborne illness incident. So, no entity in the text is related to foodborne illness \n",
       "incident.\n",
       "<span style=\"font-weight: bold\">{</span><span style=\"color: #008000; text-decoration-color: #008000\">\"Food_answer\"</span>: <span style=\"color: #008000; text-decoration-color: #008000\">\"Think I might have gotten a mild case of food-poisoning today - so that's been super fun .\"</span>, \n",
       "<span style=\"color: #008000; text-decoration-color: #008000\">\"Symptom_answer\"</span>: <span style=\"color: #008000; text-decoration-color: #008000\">\"Think I might have gotten a mild case of food-poisoning today - so that's been super fun .\"</span>, \n",
       "<span style=\"color: #008000; text-decoration-color: #008000\">\"Location_answer\"</span>: <span style=\"color: #008000; text-decoration-color: #008000\">\"Think I might have gotten a mild case of food-poisoning today - so that's been super fun .\"</span>, \n",
       "<span style=\"color: #008000; text-decoration-color: #008000\">\"Keyword_answer\"</span>: <span style=\"color: #008000; text-decoration-color: #008000\">\"Think I might have gotten a mild case of food-poisoning today - so that's been super fun .\"</span><span style=\"font-weight: bold\">}</span>\n",
       "\n",
       "Input: @USER @USER well I've been off with food poisoning , so if you fancy sick in your face , come get it ! ! ; <span style=\"font-weight: bold\">)</span>\n",
       "Output: Let's think step by step.\n",
       "The text indicates a foodborne illness incident. No Food entity in the text is relevant to foodborne illness \n",
       "incident. No Location entity in the text is relevant to foodborne illness incident. No Symptom entity in the text \n",
       "is relevant to foodborne illness incident. The word <span style=\"color: #008000; text-decoration-color: #008000\">\"food poisoning\"</span> in the text is a Keyword entity, which is \n",
       "other relevant keyword or term associated with foodborne illnesses, such as <span style=\"color: #008000; text-decoration-color: #008000\">\"food poisoning\"</span>.\n",
       "<span style=\"font-weight: bold\">{</span><span style=\"color: #008000; text-decoration-color: #008000\">\"Food_answer\"</span>: <span style=\"color: #008000; text-decoration-color: #008000\">\"@USER @USER well I've been off with food poisoning , so if you fancy sick in your face , come get </span>\n",
       "<span style=\"color: #008000; text-decoration-color: #008000\">it ! ! ; )\"</span>, <span style=\"color: #008000; text-decoration-color: #008000\">\"Symptom_answer\"</span>: <span style=\"color: #008000; text-decoration-color: #008000\">\"@USER @USER well I've been off with food poisoning , so if you fancy sick in your </span>\n",
       "<span style=\"color: #008000; text-decoration-color: #008000\">face , come get it ! ! ; )\"</span>, <span style=\"color: #008000; text-decoration-color: #008000\">\"Location_answer\"</span>: <span style=\"color: #008000; text-decoration-color: #008000\">\"@USER @USER well I've been off with food poisoning , so if you </span>\n",
       "<span style=\"color: #008000; text-decoration-color: #008000\">fancy sick in your face , come get it ! ! ; )\"</span>, <span style=\"color: #008000; text-decoration-color: #008000\">\"Keyword_answer\"</span>: <span style=\"color: #008000; text-decoration-color: #008000\">\"@USER @USER well I've been off with ^^food </span>\n",
       "<span style=\"color: #008000; text-decoration-color: #008000\">poisoning^^ , so if you fancy sick in your face , come get it ! ! ; )\"</span><span style=\"font-weight: bold\">}</span>\n",
       "\n",
       "Input: I've had food poisoning all day and I'm just miserable\n",
       "Output: Let's think step by step.\n",
       "The text indicates a foodborne illness incident. No Food entity in the text is relevant to foodborne illness \n",
       "incident. No Location entity in the text is relevant to foodborne illness incident. No Symptom entity in the text \n",
       "is relevant to foodborne illness incident. The word <span style=\"color: #008000; text-decoration-color: #008000\">\"food poisoning\"</span> in the text is a Keyword entity, which is \n",
       "other relevant keyword or term associated with foodborne illnesses, such as <span style=\"color: #008000; text-decoration-color: #008000\">\"food poisoning\"</span>.\n",
       "<span style=\"font-weight: bold\">{</span><span style=\"color: #008000; text-decoration-color: #008000\">\"Food_answer\"</span>: <span style=\"color: #008000; text-decoration-color: #008000\">\"I've had food poisoning all day and I'm just miserable\"</span>, <span style=\"color: #008000; text-decoration-color: #008000\">\"Symptom_answer\"</span>: <span style=\"color: #008000; text-decoration-color: #008000\">\"I've had food </span>\n",
       "<span style=\"color: #008000; text-decoration-color: #008000\">poisoning all day and I'm just miserable\"</span>, <span style=\"color: #008000; text-decoration-color: #008000\">\"Location_answer\"</span>: <span style=\"color: #008000; text-decoration-color: #008000\">\"I've had food poisoning all day and I'm just </span>\n",
       "<span style=\"color: #008000; text-decoration-color: #008000\">miserable\"</span>, <span style=\"color: #008000; text-decoration-color: #008000\">\"Keyword_answer\"</span>: <span style=\"color: #008000; text-decoration-color: #008000\">\"I've had ^^food poisoning^^ all day and I'm just miserable\"</span><span style=\"font-weight: bold\">}</span>\n",
       "\n",
       "Input: @USER Sure its food poisoning ? Really bad stomach flu going around the whole country . Feels like food \n",
       "poisoning .\n",
       "Output: Let's think step by step.\n",
       "The text does not indicate a foodborne illness incident. So, no entity in the text is related to foodborne illness \n",
       "incident.\n",
       "<span style=\"font-weight: bold\">{</span><span style=\"color: #008000; text-decoration-color: #008000\">\"Food_answer\"</span>: <span style=\"color: #008000; text-decoration-color: #008000\">\"@USER Sure its food poisoning ? Really bad stomach flu going around the whole country . Feels like</span>\n",
       "<span style=\"color: #008000; text-decoration-color: #008000\">food poisoning .\"</span>, <span style=\"color: #008000; text-decoration-color: #008000\">\"Symptom_answer\"</span>: <span style=\"color: #008000; text-decoration-color: #008000\">\"@USER Sure its food poisoning ? Really bad stomach flu going around the whole</span>\n",
       "<span style=\"color: #008000; text-decoration-color: #008000\">country . Feels like food poisoning .\"</span>, <span style=\"color: #008000; text-decoration-color: #008000\">\"Location_answer\"</span>: <span style=\"color: #008000; text-decoration-color: #008000\">\"@USER Sure its food poisoning ? Really bad stomach flu </span>\n",
       "<span style=\"color: #008000; text-decoration-color: #008000\">going around the whole country . Feels like food poisoning .\"</span>, <span style=\"color: #008000; text-decoration-color: #008000\">\"Keyword_answer\"</span>: <span style=\"color: #008000; text-decoration-color: #008000\">\"@USER Sure its food poisoning ? </span>\n",
       "<span style=\"color: #008000; text-decoration-color: #008000\">Really bad stomach flu going around the whole country . Feels like food poisoning .\"</span><span style=\"font-weight: bold\">}</span>\n",
       "\n",
       "Input: @USER LOL I know ! I've had a stomach bug or food poisoning since yesterday afternoon\n",
       "Output: Let's think step by step.\n",
       "The text indicates a foodborne illness incident. No Food entity in the text is relevant to foodborne illness \n",
       "incident. No Location entity in the text is relevant to foodborne illness incident. No Symptom entity in the text \n",
       "is relevant to foodborne illness incident. The word <span style=\"color: #008000; text-decoration-color: #008000\">\"food poisoning\"</span> in the text is a Keyword entity, which is \n",
       "other relevant keyword or term associated with foodborne illnesses, such as <span style=\"color: #008000; text-decoration-color: #008000\">\"food poisoning\"</span>.\n",
       "<span style=\"font-weight: bold\">{</span><span style=\"color: #008000; text-decoration-color: #008000\">\"Food_answer\"</span>: <span style=\"color: #008000; text-decoration-color: #008000\">\"@USER LOL I know ! I've had a stomach bug or food poisoning since yesterday afternoon\"</span>, \n",
       "<span style=\"color: #008000; text-decoration-color: #008000\">\"Symptom_answer\"</span>: <span style=\"color: #008000; text-decoration-color: #008000\">\"@USER LOL I know ! I've had a stomach bug or food poisoning since yesterday afternoon\"</span>, \n",
       "<span style=\"color: #008000; text-decoration-color: #008000\">\"Location_answer\"</span>: <span style=\"color: #008000; text-decoration-color: #008000\">\"@USER LOL I know ! I've had a stomach bug or food poisoning since yesterday afternoon\"</span>, \n",
       "<span style=\"color: #008000; text-decoration-color: #008000\">\"Keyword_answer\"</span>: <span style=\"color: #008000; text-decoration-color: #008000\">\"@USER LOL I know ! I've had a stomach bug or ^^food poisoning^^ since yesterday afternoon\"</span><span style=\"font-weight: bold\">}</span>\n",
       "\n",
       "Input: @USER @USER @USER Flu , food poisoning , hangover I dont care , gimme MJ\n",
       "Output: Let's think step by step.\n",
       "The text does not indicate a foodborne illness incident. So, no entity in the text is related to foodborne illness \n",
       "incident.\n",
       "<span style=\"font-weight: bold\">{</span><span style=\"color: #008000; text-decoration-color: #008000\">\"Food_answer\"</span>: <span style=\"color: #008000; text-decoration-color: #008000\">\"@USER @USER @USER Flu , food poisoning , hangover I dont care , gimme MJ\"</span>, <span style=\"color: #008000; text-decoration-color: #008000\">\"Symptom_answer\"</span>: \n",
       "<span style=\"color: #008000; text-decoration-color: #008000\">\"@USER @USER @USER Flu , food poisoning , hangover I dont care , gimme MJ\"</span>, <span style=\"color: #008000; text-decoration-color: #008000\">\"Location_answer\"</span>: <span style=\"color: #008000; text-decoration-color: #008000\">\"@USER @USER @USER </span>\n",
       "<span style=\"color: #008000; text-decoration-color: #008000\">Flu , food poisoning , hangover I dont care , gimme MJ\"</span>, <span style=\"color: #008000; text-decoration-color: #008000\">\"Keyword_answer\"</span>: <span style=\"color: #008000; text-decoration-color: #008000\">\"@USER @USER @USER Flu , food poisoning </span>\n",
       "<span style=\"color: #008000; text-decoration-color: #008000\">, hangover I dont care , gimme MJ\"</span><span style=\"font-weight: bold\">}</span>\n",
       "\n",
       "Now I want you to label the following example:\n",
       "Input: @USER As much fun as I can . Woke up with food poisoning or stomach flu . Been bugging me all day #tmi \n",
       "Almost done driving for the day\n",
       "Output: Let's think step by step.\n",
       "\n",
       "\n",
       "</pre>\n"
      ],
      "text/plain": [
       "You are an expert at extracting entities that are related to foodborne illness incident from text. In the given \n",
       "text, your task is to label multiple types of entity that are related to foodborne illness incident.Note that you \n",
       "should surround the extracted entities in the text with \u001b[32m\"^^\"\u001b[0m and \u001b[32m\"^^\"\u001b[0m. Use the following examples as a guide for \n",
       "your predictions and format your responses similarly.\n",
       "\n",
       "Your answer will consist of an explanation, followed by the correct labeled sentences for all types of entity in \n",
       "json format. Note that if the given text does not include any certain type entity related to foodborne illness, \n",
       "your labeled sentence for this type of entity will be the input text.The keys of the json output and the \n",
       "definitions for all type of relevant entity are provided below: \n",
       "\u001b[1m{\u001b[0m\n",
       "    \u001b[32m\"Food_answer\"\u001b[0m: \u001b[32m\"Food entities are specific food item that caused the potential foodborne illness incident.\"\u001b[0m,\n",
       "    \u001b[32m\"Symptom_answer\"\u001b[0m: \u001b[32m\"Symptom entities are specific symptoms experienced by the affected person as a result of the\u001b[0m\n",
       "\u001b[32msuspected foodborne illness.\"\u001b[0m,\n",
       "    \u001b[32m\"Location_answer\"\u001b[0m: \u001b[32m\"Location entities pretrain to the location where the affected person purchased or acquired \u001b[0m\n",
       "\u001b[32mthe food associated with the potential foodborne illness.\"\u001b[0m,\n",
       "    \u001b[32m\"Keyword_answer\"\u001b[0m: \u001b[32m\"Keyword entities include other relevant keywords or terms associated with foodborne \u001b[0m\n",
       "\u001b[32millnesses, such as \\\"food poisoning\\\".\"\u001b[0m\n",
       "\u001b[1m}\u001b[0m\n",
       "\n",
       "Some examples with their output answers are provided below:\n",
       "\n",
       "Input: @USER Poor thing . Of the few times I've been sick , food poisoning was the WORST , ever . #deadly\n",
       "Output: Let's think step by step.\n",
       "The text does not indicate a foodborne illness incident. So, no entity in the text is related to foodborne illness \n",
       "incident.\n",
       "\u001b[1m{\u001b[0m\u001b[32m\"Food_answer\"\u001b[0m: \u001b[32m\"@USER Poor thing . Of the few times I've been sick , food poisoning was the WORST , ever . \u001b[0m\n",
       "\u001b[32m#deadly\"\u001b[0m, \u001b[32m\"Symptom_answer\"\u001b[0m: \u001b[32m\"@USER Poor thing . Of the few times I've been sick , food poisoning was the WORST , \u001b[0m\n",
       "\u001b[32mever . #deadly\"\u001b[0m, \u001b[32m\"Location_answer\"\u001b[0m: \u001b[32m\"@USER Poor thing . Of the few times I've been sick , food poisoning was the \u001b[0m\n",
       "\u001b[32mWORST , ever . #deadly\"\u001b[0m, \u001b[32m\"Keyword_answer\"\u001b[0m: \u001b[32m\"@USER Poor thing . Of the few times I've been sick , food poisoning was\u001b[0m\n",
       "\u001b[32mthe WORST , ever . #deadly\"\u001b[0m\u001b[1m}\u001b[0m\n",
       "\n",
       "Input: @USER Awww : \u001b[1m(\u001b[0m I hope it clears up . I just got food poisoning I think ~ throwing up all morning : \u001b[35m/\u001b[0m\n",
       "Output: Let's think step by step.\n",
       "The text indicates a foodborne illness incident. No Food entity in the text is relevant to foodborne illness \n",
       "incident. No Location entity in the text is relevant to foodborne illness incident. The word \u001b[32m\"throwing up\"\u001b[0m in the \n",
       "text is a Symptom entity, which is a specific symptom experienced by the affected person as a result of the \n",
       "suspected foodborne illness. The word \u001b[32m\"food poisoning\"\u001b[0m in the text is a Keyword entity, which is other relevant \n",
       "keyword or term associated with foodborne illnesses, such as \u001b[32m\"food poisoning\"\u001b[0m.\n",
       "\u001b[1m{\u001b[0m\u001b[32m\"Food_answer\"\u001b[0m: \u001b[32m\"@USER Awww : \u001b[0m\u001b[32m(\u001b[0m\u001b[32m I hope it clears up . I just got food poisoning I think ~ throwing up all morning :\u001b[0m\n",
       "\u001b[32m/\"\u001b[0m, \u001b[32m\"Symptom_answer\"\u001b[0m: \u001b[32m\"@USER Awww : \u001b[0m\u001b[32m(\u001b[0m\u001b[32m I hope it clears up . I just got food poisoning I think ~ ^^throwing up^^ all\u001b[0m\n",
       "\u001b[32mmorning : /\"\u001b[0m, \u001b[32m\"Location_answer\"\u001b[0m: \u001b[32m\"@USER Awww : \u001b[0m\u001b[32m(\u001b[0m\u001b[32m I hope it clears up . I just got food poisoning I think ~ throwing\u001b[0m\n",
       "\u001b[32mup all morning : /\"\u001b[0m, \u001b[32m\"Keyword_answer\"\u001b[0m: \u001b[32m\"@USER Awww : \u001b[0m\u001b[32m(\u001b[0m\u001b[32m I hope it clears up . I just got ^^food poisoning^^ I think \u001b[0m\n",
       "\u001b[32m~ throwing up all morning : /\"\u001b[0m\u001b[1m}\u001b[0m\n",
       "\n",
       "Input: Think I might have gotten a mild case of food-poisoning today - so that's been super fun .\n",
       "Output: Let's think step by step.\n",
       "The text does not indicate a foodborne illness incident. So, no entity in the text is related to foodborne illness \n",
       "incident.\n",
       "\u001b[1m{\u001b[0m\u001b[32m\"Food_answer\"\u001b[0m: \u001b[32m\"Think I might have gotten a mild case of food-poisoning today - so that's been super fun .\"\u001b[0m, \n",
       "\u001b[32m\"Symptom_answer\"\u001b[0m: \u001b[32m\"Think I might have gotten a mild case of food-poisoning today - so that's been super fun .\"\u001b[0m, \n",
       "\u001b[32m\"Location_answer\"\u001b[0m: \u001b[32m\"Think I might have gotten a mild case of food-poisoning today - so that's been super fun .\"\u001b[0m, \n",
       "\u001b[32m\"Keyword_answer\"\u001b[0m: \u001b[32m\"Think I might have gotten a mild case of food-poisoning today - so that's been super fun .\"\u001b[0m\u001b[1m}\u001b[0m\n",
       "\n",
       "Input: @USER @USER well I've been off with food poisoning , so if you fancy sick in your face , come get it ! ! ; \u001b[1m)\u001b[0m\n",
       "Output: Let's think step by step.\n",
       "The text indicates a foodborne illness incident. No Food entity in the text is relevant to foodborne illness \n",
       "incident. No Location entity in the text is relevant to foodborne illness incident. No Symptom entity in the text \n",
       "is relevant to foodborne illness incident. The word \u001b[32m\"food poisoning\"\u001b[0m in the text is a Keyword entity, which is \n",
       "other relevant keyword or term associated with foodborne illnesses, such as \u001b[32m\"food poisoning\"\u001b[0m.\n",
       "\u001b[1m{\u001b[0m\u001b[32m\"Food_answer\"\u001b[0m: \u001b[32m\"@USER @USER well I've been off with food poisoning , so if you fancy sick in your face , come get \u001b[0m\n",
       "\u001b[32mit ! ! ; \u001b[0m\u001b[32m)\u001b[0m\u001b[32m\"\u001b[0m, \u001b[32m\"Symptom_answer\"\u001b[0m: \u001b[32m\"@USER @USER well I've been off with food poisoning , so if you fancy sick in your \u001b[0m\n",
       "\u001b[32mface , come get it ! ! ; \u001b[0m\u001b[32m)\u001b[0m\u001b[32m\"\u001b[0m, \u001b[32m\"Location_answer\"\u001b[0m: \u001b[32m\"@USER @USER well I've been off with food poisoning , so if you \u001b[0m\n",
       "\u001b[32mfancy sick in your face , come get it ! ! ; \u001b[0m\u001b[32m)\u001b[0m\u001b[32m\"\u001b[0m, \u001b[32m\"Keyword_answer\"\u001b[0m: \u001b[32m\"@USER @USER well I've been off with ^^food \u001b[0m\n",
       "\u001b[32mpoisoning^^ , so if you fancy sick in your face , come get it ! ! ; \u001b[0m\u001b[32m)\u001b[0m\u001b[32m\"\u001b[0m\u001b[1m}\u001b[0m\n",
       "\n",
       "Input: I've had food poisoning all day and I'm just miserable\n",
       "Output: Let's think step by step.\n",
       "The text indicates a foodborne illness incident. No Food entity in the text is relevant to foodborne illness \n",
       "incident. No Location entity in the text is relevant to foodborne illness incident. No Symptom entity in the text \n",
       "is relevant to foodborne illness incident. The word \u001b[32m\"food poisoning\"\u001b[0m in the text is a Keyword entity, which is \n",
       "other relevant keyword or term associated with foodborne illnesses, such as \u001b[32m\"food poisoning\"\u001b[0m.\n",
       "\u001b[1m{\u001b[0m\u001b[32m\"Food_answer\"\u001b[0m: \u001b[32m\"I've had food poisoning all day and I'm just miserable\"\u001b[0m, \u001b[32m\"Symptom_answer\"\u001b[0m: \u001b[32m\"I've had food \u001b[0m\n",
       "\u001b[32mpoisoning all day and I'm just miserable\"\u001b[0m, \u001b[32m\"Location_answer\"\u001b[0m: \u001b[32m\"I've had food poisoning all day and I'm just \u001b[0m\n",
       "\u001b[32mmiserable\"\u001b[0m, \u001b[32m\"Keyword_answer\"\u001b[0m: \u001b[32m\"I've had ^^food poisoning^^ all day and I'm just miserable\"\u001b[0m\u001b[1m}\u001b[0m\n",
       "\n",
       "Input: @USER Sure its food poisoning ? Really bad stomach flu going around the whole country . Feels like food \n",
       "poisoning .\n",
       "Output: Let's think step by step.\n",
       "The text does not indicate a foodborne illness incident. So, no entity in the text is related to foodborne illness \n",
       "incident.\n",
       "\u001b[1m{\u001b[0m\u001b[32m\"Food_answer\"\u001b[0m: \u001b[32m\"@USER Sure its food poisoning ? Really bad stomach flu going around the whole country . Feels like\u001b[0m\n",
       "\u001b[32mfood poisoning .\"\u001b[0m, \u001b[32m\"Symptom_answer\"\u001b[0m: \u001b[32m\"@USER Sure its food poisoning ? Really bad stomach flu going around the whole\u001b[0m\n",
       "\u001b[32mcountry . Feels like food poisoning .\"\u001b[0m, \u001b[32m\"Location_answer\"\u001b[0m: \u001b[32m\"@USER Sure its food poisoning ? Really bad stomach flu \u001b[0m\n",
       "\u001b[32mgoing around the whole country . Feels like food poisoning .\"\u001b[0m, \u001b[32m\"Keyword_answer\"\u001b[0m: \u001b[32m\"@USER Sure its food poisoning ? \u001b[0m\n",
       "\u001b[32mReally bad stomach flu going around the whole country . Feels like food poisoning .\"\u001b[0m\u001b[1m}\u001b[0m\n",
       "\n",
       "Input: @USER LOL I know ! I've had a stomach bug or food poisoning since yesterday afternoon\n",
       "Output: Let's think step by step.\n",
       "The text indicates a foodborne illness incident. No Food entity in the text is relevant to foodborne illness \n",
       "incident. No Location entity in the text is relevant to foodborne illness incident. No Symptom entity in the text \n",
       "is relevant to foodborne illness incident. The word \u001b[32m\"food poisoning\"\u001b[0m in the text is a Keyword entity, which is \n",
       "other relevant keyword or term associated with foodborne illnesses, such as \u001b[32m\"food poisoning\"\u001b[0m.\n",
       "\u001b[1m{\u001b[0m\u001b[32m\"Food_answer\"\u001b[0m: \u001b[32m\"@USER LOL I know ! I've had a stomach bug or food poisoning since yesterday afternoon\"\u001b[0m, \n",
       "\u001b[32m\"Symptom_answer\"\u001b[0m: \u001b[32m\"@USER LOL I know ! I've had a stomach bug or food poisoning since yesterday afternoon\"\u001b[0m, \n",
       "\u001b[32m\"Location_answer\"\u001b[0m: \u001b[32m\"@USER LOL I know ! I've had a stomach bug or food poisoning since yesterday afternoon\"\u001b[0m, \n",
       "\u001b[32m\"Keyword_answer\"\u001b[0m: \u001b[32m\"@USER LOL I know ! I've had a stomach bug or ^^food poisoning^^ since yesterday afternoon\"\u001b[0m\u001b[1m}\u001b[0m\n",
       "\n",
       "Input: @USER @USER @USER Flu , food poisoning , hangover I dont care , gimme MJ\n",
       "Output: Let's think step by step.\n",
       "The text does not indicate a foodborne illness incident. So, no entity in the text is related to foodborne illness \n",
       "incident.\n",
       "\u001b[1m{\u001b[0m\u001b[32m\"Food_answer\"\u001b[0m: \u001b[32m\"@USER @USER @USER Flu , food poisoning , hangover I dont care , gimme MJ\"\u001b[0m, \u001b[32m\"Symptom_answer\"\u001b[0m: \n",
       "\u001b[32m\"@USER @USER @USER Flu , food poisoning , hangover I dont care , gimme MJ\"\u001b[0m, \u001b[32m\"Location_answer\"\u001b[0m: \u001b[32m\"@USER @USER @USER \u001b[0m\n",
       "\u001b[32mFlu , food poisoning , hangover I dont care , gimme MJ\"\u001b[0m, \u001b[32m\"Keyword_answer\"\u001b[0m: \u001b[32m\"@USER @USER @USER Flu , food poisoning \u001b[0m\n",
       "\u001b[32m, hangover I dont care , gimme MJ\"\u001b[0m\u001b[1m}\u001b[0m\n",
       "\n",
       "Now I want you to label the following example:\n",
       "Input: @USER As much fun as I can . Woke up with food poisoning or stomach flu . Been bugging me all day #tmi \n",
       "Almost done driving for the day\n",
       "Output: Let's think step by step.\n",
       "\n",
       "\n"
      ]
     },
     "metadata": {},
     "output_type": "display_data"
    },
    {
     "data": {
      "text/html": [
       "<pre style=\"white-space:pre;overflow-x:auto;line-height:normal;font-family:Menlo,'DejaVu Sans Mono',consolas,'Courier New',monospace\"><span style=\"color: #00ff00; text-decoration-color: #00ff00\">───────────────────────────────────────────────────────────────────────────────────────────────────────────────────</span>\n",
       "</pre>\n"
      ],
      "text/plain": [
       "\u001b[92m───────────────────────────────────────────────────────────────────────────────────────────────────────────────────\u001b[0m\n"
      ]
     },
     "metadata": {},
     "output_type": "display_data"
    }
   ],
   "source": [
    "agent.plan(ds)"
   ]
  },
  {
   "cell_type": "code",
   "execution_count": 30,
   "id": "066e6a3b-86ff-47ca-826a-e2690bfeee7e",
   "metadata": {},
   "outputs": [
    {
     "data": {
      "application/vnd.jupyter.widget-view+json": {
       "model_id": "a578fefd2cec4246bcf48d043cbf1369",
       "version_major": 2,
       "version_minor": 0
      },
      "text/plain": [
       "Output()"
      ]
     },
     "metadata": {},
     "output_type": "display_data"
    },
    {
     "name": "stderr",
     "output_type": "stream",
     "text": [
      "2024-04-05 05:29:30 httpx INFO: HTTP Request: POST https://api.openai.com/v1/embeddings \"HTTP/1.1 200 OK\"\n",
      "2024-04-05 05:29:30 httpx INFO: HTTP Request: POST https://api.openai.com/v1/chat/completions \"HTTP/1.1 400 Bad Request\"\n",
      "2024-04-05 05:29:31 httpx INFO: HTTP Request: POST https://api.openai.com/v1/chat/completions \"HTTP/1.1 400 Bad Request\"\n"
     ]
    },
    {
     "data": {
      "text/html": [
       "<pre style=\"white-space:pre;overflow-x:auto;line-height:normal;font-family:Menlo,'DejaVu Sans Mono',consolas,'Courier New',monospace\">Error generating from LLM: Error code: 400 - {'error': {'message': 'max_tokens is too large: 5000. This model \n",
       "supports at most 4096 completion tokens, whereas you provided 5000.', 'type': 'invalid_request_error', 'param': \n",
       "'max_tokens', 'code': None}}\n",
       "</pre>\n"
      ],
      "text/plain": [
       "Error generating from LLM: Error code: 400 - {'error': {'message': 'max_tokens is too large: 5000. This model \n",
       "supports at most 4096 completion tokens, whereas you provided 5000.', 'type': 'invalid_request_error', 'param': \n",
       "'max_tokens', 'code': None}}\n"
      ]
     },
     "metadata": {},
     "output_type": "display_data"
    },
    {
     "data": {
      "text/html": [
       "<pre style=\"white-space:pre;overflow-x:auto;line-height:normal;font-family:Menlo,'DejaVu Sans Mono',consolas,'Courier New',monospace\"></pre>\n"
      ],
      "text/plain": []
     },
     "metadata": {},
     "output_type": "display_data"
    },
    {
     "ename": "AttributeError",
     "evalue": "'str' object has no attribute 'items'",
     "output_type": "error",
     "traceback": [
      "\u001b[0;31m---------------------------------------------------------------------------\u001b[0m",
      "\u001b[0;31mAttributeError\u001b[0m                            Traceback (most recent call last)",
      "Cell \u001b[0;32mIn[30], line 2\u001b[0m\n\u001b[1;32m      1\u001b[0m \u001b[38;5;66;03m# now, do the actual labeling\u001b[39;00m\n\u001b[0;32m----> 2\u001b[0m ds \u001b[38;5;241m=\u001b[39m \u001b[43magent\u001b[49m\u001b[38;5;241;43m.\u001b[39;49m\u001b[43mrun\u001b[49m\u001b[43m(\u001b[49m\u001b[43mds\u001b[49m\u001b[43m,\u001b[49m\u001b[43m \u001b[49m\u001b[43mmax_items\u001b[49m\u001b[38;5;241;43m=\u001b[39;49m\u001b[38;5;241;43m1\u001b[39;49m\u001b[43m)\u001b[49m\n",
      "File \u001b[0;32m/scratch/dzhang5/visa/visa39/lib/python3.9/site-packages/autolabel/labeler.py:319\u001b[0m, in \u001b[0;36mLabelingAgent.run\u001b[0;34m(self, dataset, output_name, max_items, start_index, additional_metrics, skip_eval)\u001b[0m\n\u001b[1;32m    317\u001b[0m \u001b[38;5;66;03m# if true labels are provided, evaluate accuracy of predictions\u001b[39;00m\n\u001b[1;32m    318\u001b[0m \u001b[38;5;28;01mif\u001b[39;00m \u001b[38;5;129;01mnot\u001b[39;00m skip_eval \u001b[38;5;129;01mand\u001b[39;00m dataset\u001b[38;5;241m.\u001b[39mgt_labels:\n\u001b[0;32m--> 319\u001b[0m     eval_result \u001b[38;5;241m=\u001b[39m \u001b[38;5;28;43mself\u001b[39;49m\u001b[38;5;241;43m.\u001b[39;49m\u001b[43mtask\u001b[49m\u001b[38;5;241;43m.\u001b[39;49m\u001b[43meval\u001b[49m\u001b[43m(\u001b[49m\n\u001b[1;32m    320\u001b[0m \u001b[43m        \u001b[49m\u001b[43mllm_labels\u001b[49m\u001b[43m,\u001b[49m\n\u001b[1;32m    321\u001b[0m \u001b[43m        \u001b[49m\u001b[43mdataset\u001b[49m\u001b[38;5;241;43m.\u001b[39;49m\u001b[43mgt_labels\u001b[49m\u001b[43m[\u001b[49m\u001b[43m:\u001b[49m\u001b[43m \u001b[49m\u001b[38;5;28;43mlen\u001b[39;49m\u001b[43m(\u001b[49m\u001b[43mllm_labels\u001b[49m\u001b[43m)\u001b[49m\u001b[43m]\u001b[49m\n\u001b[1;32m    322\u001b[0m \u001b[43m        \u001b[49m\u001b[38;5;28;43;01mif\u001b[39;49;00m\u001b[43m \u001b[49m\u001b[38;5;28;43misinstance\u001b[39;49m\u001b[43m(\u001b[49m\u001b[43mdataset\u001b[49m\u001b[38;5;241;43m.\u001b[39;49m\u001b[43mgt_labels\u001b[49m\u001b[43m,\u001b[49m\u001b[43m \u001b[49m\u001b[38;5;28;43mlist\u001b[39;49m\u001b[43m)\u001b[49m\n\u001b[1;32m    323\u001b[0m \u001b[43m        \u001b[49m\u001b[38;5;28;43;01melse\u001b[39;49;00m\u001b[43m \u001b[49m\u001b[43m{\u001b[49m\u001b[43mk\u001b[49m\u001b[43m:\u001b[49m\u001b[43m \u001b[49m\u001b[43mv\u001b[49m\u001b[43m[\u001b[49m\u001b[43m:\u001b[49m\u001b[43m \u001b[49m\u001b[38;5;28;43mlen\u001b[39;49m\u001b[43m(\u001b[49m\u001b[43mllm_labels\u001b[49m\u001b[43m)\u001b[49m\u001b[43m]\u001b[49m\u001b[43m \u001b[49m\u001b[38;5;28;43;01mfor\u001b[39;49;00m\u001b[43m \u001b[49m\u001b[43mk\u001b[49m\u001b[43m,\u001b[49m\u001b[43m \u001b[49m\u001b[43mv\u001b[49m\u001b[43m \u001b[49m\u001b[38;5;129;43;01min\u001b[39;49;00m\u001b[43m \u001b[49m\u001b[43mdataset\u001b[49m\u001b[38;5;241;43m.\u001b[39;49m\u001b[43mgt_labels\u001b[49m\u001b[38;5;241;43m.\u001b[39;49m\u001b[43mitems\u001b[49m\u001b[43m(\u001b[49m\u001b[43m)\u001b[49m\u001b[43m}\u001b[49m\u001b[43m,\u001b[49m\n\u001b[1;32m    324\u001b[0m \u001b[43m        \u001b[49m\u001b[43madditional_metrics\u001b[49m\u001b[38;5;241;43m=\u001b[39;49m\u001b[43madditional_metrics\u001b[49m\u001b[43m,\u001b[49m\n\u001b[1;32m    325\u001b[0m \u001b[43m    \u001b[49m\u001b[43m)\u001b[49m\n\u001b[1;32m    326\u001b[0m     \u001b[38;5;66;03m# TODO: serialize and write to file\u001b[39;00m\n\u001b[1;32m    327\u001b[0m     \u001b[38;5;28;01mfor\u001b[39;00m m \u001b[38;5;129;01min\u001b[39;00m eval_result:\n",
      "File \u001b[0;32m/scratch/dzhang5/LLM/attribute_extraction_new.py:132\u001b[0m, in \u001b[0;36mNewAttributeExtractionTask.eval\u001b[0;34m(self, llm_labels, gt_labels, additional_metrics)\u001b[0m\n\u001b[1;32m    130\u001b[0m     \u001b[38;5;28;01mif\u001b[39;00m \u001b[38;5;28misinstance\u001b[39m(llm_label, \u001b[38;5;28mstr\u001b[39m):\n\u001b[1;32m    131\u001b[0m         \u001b[38;5;28mprint\u001b[39m(\u001b[38;5;124m\"\u001b[39m\u001b[38;5;124mLLM_LABEL is :\u001b[39m\u001b[38;5;124m\"\u001b[39m, llm_label)\n\u001b[0;32m--> 132\u001b[0m     \u001b[38;5;28;01mfor\u001b[39;00m attribute, value \u001b[38;5;129;01min\u001b[39;00m llm_label\u001b[38;5;241m.\u001b[39mlabel\u001b[38;5;241m.\u001b[39mitems():\n\u001b[1;32m    133\u001b[0m         llm_labels_dict[attribute]\u001b[38;5;241m.\u001b[39mappend(\n\u001b[1;32m    134\u001b[0m             LLMAnnotation(\n\u001b[1;32m    135\u001b[0m                 successfully_labeled\u001b[38;5;241m=\u001b[39mllm_label\u001b[38;5;241m.\u001b[39msuccessfully_labeled,\n\u001b[0;32m   (...)\u001b[0m\n\u001b[1;32m    142\u001b[0m             )\n\u001b[1;32m    143\u001b[0m         )\n\u001b[1;32m    145\u001b[0m eval_metrics \u001b[38;5;241m=\u001b[39m []\n",
      "\u001b[0;31mAttributeError\u001b[0m: 'str' object has no attribute 'items'"
     ]
    }
   ],
   "source": [
    "# now, do the actual labeling\n",
    "ds = agent.run(ds)"
   ]
  },
  {
   "cell_type": "code",
   "execution_count": 19,
   "id": "7045720a-3e2a-432c-8f86-9d996e9a7980",
   "metadata": {},
   "outputs": [
    {
     "data": {
      "text/html": [
       "<pre style=\"white-space:pre;overflow-x:auto;line-height:normal;font-family:Menlo,'DejaVu Sans Mono',consolas,'Courier New',monospace\">┏━━━━━━━━━┳━━━━━━━━┳━━━━━━━━━┳━━━━━━━━┳━━━━━━━━━┳━━━━━━━━┳━━━━━━━━━┳━━━━━━━━┳━━━━━━━━━┳━━━━━━━━┳━━━━━━━━━┳━━━━━━━━┓\n",
       "┃<span style=\"font-weight: bold\"> Food_a… </span>┃<span style=\"font-weight: bold\"> Food_… </span>┃<span style=\"font-weight: bold\"> Food_a… </span>┃<span style=\"font-weight: bold\"> Sympt… </span>┃<span style=\"font-weight: bold\"> Sympto… </span>┃<span style=\"font-weight: bold\"> Sympt… </span>┃<span style=\"font-weight: bold\"> Locati… </span>┃<span style=\"font-weight: bold\"> Locat… </span>┃<span style=\"font-weight: bold\"> Locati… </span>┃<span style=\"font-weight: bold\"> Keywo… </span>┃<span style=\"font-weight: bold\"> Keywor… </span>┃<span style=\"font-weight: bold\"> Keywo… </span>┃\n",
       "┡━━━━━━━━━╇━━━━━━━━╇━━━━━━━━━╇━━━━━━━━╇━━━━━━━━━╇━━━━━━━━╇━━━━━━━━━╇━━━━━━━━╇━━━━━━━━━╇━━━━━━━━╇━━━━━━━━━╇━━━━━━━━┩\n",
       "│<span style=\"color: #008080; text-decoration-color: #008080; font-weight: bold\"> 10      </span>│<span style=\"color: #008080; text-decoration-color: #008080; font-weight: bold\"> 1.0    </span>│<span style=\"color: #008080; text-decoration-color: #008080; font-weight: bold\"> 0.8     </span>│<span style=\"color: #008080; text-decoration-color: #008080; font-weight: bold\"> 10     </span>│<span style=\"color: #008080; text-decoration-color: #008080; font-weight: bold\"> 1.0     </span>│<span style=\"color: #008080; text-decoration-color: #008080; font-weight: bold\"> 0.9    </span>│<span style=\"color: #008080; text-decoration-color: #008080; font-weight: bold\"> 10      </span>│<span style=\"color: #008080; text-decoration-color: #008080; font-weight: bold\"> 1.0    </span>│<span style=\"color: #008080; text-decoration-color: #008080; font-weight: bold\"> 0.8     </span>│<span style=\"color: #008080; text-decoration-color: #008080; font-weight: bold\"> 10     </span>│<span style=\"color: #008080; text-decoration-color: #008080; font-weight: bold\"> 1.0     </span>│<span style=\"color: #008080; text-decoration-color: #008080; font-weight: bold\"> 0.7    </span>│\n",
       "└─────────┴────────┴─────────┴────────┴─────────┴────────┴─────────┴────────┴─────────┴────────┴─────────┴────────┘\n",
       "</pre>\n"
      ],
      "text/plain": [
       "┏━━━━━━━━━┳━━━━━━━━┳━━━━━━━━━┳━━━━━━━━┳━━━━━━━━━┳━━━━━━━━┳━━━━━━━━━┳━━━━━━━━┳━━━━━━━━━┳━━━━━━━━┳━━━━━━━━━┳━━━━━━━━┓\n",
       "┃\u001b[1m \u001b[0m\u001b[1mFood_a…\u001b[0m\u001b[1m \u001b[0m┃\u001b[1m \u001b[0m\u001b[1mFood_…\u001b[0m\u001b[1m \u001b[0m┃\u001b[1m \u001b[0m\u001b[1mFood_a…\u001b[0m\u001b[1m \u001b[0m┃\u001b[1m \u001b[0m\u001b[1mSympt…\u001b[0m\u001b[1m \u001b[0m┃\u001b[1m \u001b[0m\u001b[1mSympto…\u001b[0m\u001b[1m \u001b[0m┃\u001b[1m \u001b[0m\u001b[1mSympt…\u001b[0m\u001b[1m \u001b[0m┃\u001b[1m \u001b[0m\u001b[1mLocati…\u001b[0m\u001b[1m \u001b[0m┃\u001b[1m \u001b[0m\u001b[1mLocat…\u001b[0m\u001b[1m \u001b[0m┃\u001b[1m \u001b[0m\u001b[1mLocati…\u001b[0m\u001b[1m \u001b[0m┃\u001b[1m \u001b[0m\u001b[1mKeywo…\u001b[0m\u001b[1m \u001b[0m┃\u001b[1m \u001b[0m\u001b[1mKeywor…\u001b[0m\u001b[1m \u001b[0m┃\u001b[1m \u001b[0m\u001b[1mKeywo…\u001b[0m\u001b[1m \u001b[0m┃\n",
       "┡━━━━━━━━━╇━━━━━━━━╇━━━━━━━━━╇━━━━━━━━╇━━━━━━━━━╇━━━━━━━━╇━━━━━━━━━╇━━━━━━━━╇━━━━━━━━━╇━━━━━━━━╇━━━━━━━━━╇━━━━━━━━┩\n",
       "│\u001b[1;36m \u001b[0m\u001b[1;36m10     \u001b[0m\u001b[1;36m \u001b[0m│\u001b[1;36m \u001b[0m\u001b[1;36m1.0   \u001b[0m\u001b[1;36m \u001b[0m│\u001b[1;36m \u001b[0m\u001b[1;36m0.8    \u001b[0m\u001b[1;36m \u001b[0m│\u001b[1;36m \u001b[0m\u001b[1;36m10    \u001b[0m\u001b[1;36m \u001b[0m│\u001b[1;36m \u001b[0m\u001b[1;36m1.0    \u001b[0m\u001b[1;36m \u001b[0m│\u001b[1;36m \u001b[0m\u001b[1;36m0.9   \u001b[0m\u001b[1;36m \u001b[0m│\u001b[1;36m \u001b[0m\u001b[1;36m10     \u001b[0m\u001b[1;36m \u001b[0m│\u001b[1;36m \u001b[0m\u001b[1;36m1.0   \u001b[0m\u001b[1;36m \u001b[0m│\u001b[1;36m \u001b[0m\u001b[1;36m0.8    \u001b[0m\u001b[1;36m \u001b[0m│\u001b[1;36m \u001b[0m\u001b[1;36m10    \u001b[0m\u001b[1;36m \u001b[0m│\u001b[1;36m \u001b[0m\u001b[1;36m1.0    \u001b[0m\u001b[1;36m \u001b[0m│\u001b[1;36m \u001b[0m\u001b[1;36m0.7   \u001b[0m\u001b[1;36m \u001b[0m│\n",
       "└─────────┴────────┴─────────┴────────┴─────────┴────────┴─────────┴────────┴─────────┴────────┴─────────┴────────┘\n"
      ]
     },
     "metadata": {},
     "output_type": "display_data"
    }
   ],
   "source": [
    "metrics = ds.eval()"
   ]
  },
  {
   "cell_type": "code",
   "execution_count": 20,
   "id": "4bcbd487-91d5-44af-85e5-c85798e68704",
   "metadata": {},
   "outputs": [],
   "source": [
    "ds.df.to_csv(output_path, index=False)\n",
    "ds.df.to_pickle(output_path.replace('.csv', '.pkl'))"
   ]
  },
  {
   "cell_type": "code",
   "execution_count": 21,
   "id": "fe50c93c-4f7a-49d4-9f10-b494559ff6d1",
   "metadata": {},
   "outputs": [],
   "source": [
    "class StopExecution(Exception):\n",
    "    def _render_traceback_(self):\n",
    "        return []\n",
    "    \n",
    "if not verify:\n",
    "    raise StopExecution"
   ]
  },
  {
   "cell_type": "markdown",
   "id": "4c1e32dd-03c5-4b1c-bab3-cdcaf4f5ccf0",
   "metadata": {},
   "source": [
    "# Verification Stage"
   ]
  },
  {
   "cell_type": "code",
   "execution_count": null,
   "id": "3107cb00-b025-4ac2-9974-ff9c7febaab5",
   "metadata": {},
   "outputs": [],
   "source": [
    "from utils import get_predictions, check_prediction, get_verify_df, construct_results"
   ]
  },
  {
   "cell_type": "code",
   "execution_count": null,
   "id": "620ea1cf-edcd-4571-b933-9ab481996026",
   "metadata": {},
   "outputs": [],
   "source": [
    "verify_question_column = f'{label_type}_verify_question'\n",
    "verify_answer_column = f'{label_type}_verify_answer'\n",
    "pos_column = f'{label_column}_pos'"
   ]
  },
  {
   "cell_type": "code",
   "execution_count": null,
   "id": "8556623a-3c8e-4efc-8adf-882360d5aecb",
   "metadata": {},
   "outputs": [],
   "source": [
    "test_data[[verify_question_column, pos_column]] = ds.df[[f'{label_column}_label']].apply(lambda x: get_predictions(x[f'{label_column}_label'], label_symbol), axis=1,result_type=\"expand\")"
   ]
  },
  {
   "cell_type": "code",
   "execution_count": null,
   "id": "28274a9b-c585-4c3a-948e-9282f140e82f",
   "metadata": {},
   "outputs": [],
   "source": [
    "test_data[verify_answer_column] = test_data[['CategorizedLabels', verify_question_column]].apply(lambda x: check_prediction(x['CategorizedLabels'], x[verify_question_column], label_type), axis=1)"
   ]
  },
  {
   "cell_type": "code",
   "execution_count": null,
   "id": "1b9fcf33-04ac-4ccf-b39d-e6b3b9cae196",
   "metadata": {},
   "outputs": [],
   "source": [
    "new_test_data = get_verify_df(test_data, verify_question_column, verify_answer_column, text_column, pos_column)"
   ]
  },
  {
   "cell_type": "code",
   "execution_count": null,
   "id": "f39e79a1-8832-48fe-95c8-5ebb1a0efb89",
   "metadata": {},
   "outputs": [],
   "source": [
    "verify_task_guideline = (f\"You are an expert at identifying {label_type} entities that are related to foodborne illness incident from text. \" \n",
    "                         f\"In the given text, your task is to verify if a given word is a {label_type} entity that {label_description[label_type].replace('are ', 'is ').replace('.', '')} in the given text. \"\n",
    "                         \"Use the following examples as a guide for your analysis and format your responses similarly.\")\n",
    "question = f'''Do you think the word \"{{{verify_question_column}}}\" in the given text is a {label_type} entity that {label_description[label_type].replace('are ', 'is ').replace('.', '')}?'''"
   ]
  },
  {
   "cell_type": "code",
   "execution_count": null,
   "id": "f299170c-dee7-4663-9c69-ba5ba1310e21",
   "metadata": {},
   "outputs": [],
   "source": [
    "output_verify_name = os.path.split(model_name)[-1] + '_' + few_shot_selection + '_COT_' + str(explanation_column) + '_cur_' + str(use_current_explanation) + '_ground_' + str(use_ground_explanation) + '_' + label_type + '_verify_' + os.path.split(data_path)[-1]\n",
    "output_verify_path = os.path.join(output_dir, output_verify_name)\n",
    "output_final_name = os.path.split(model_name)[-1] + '_' + few_shot_selection + '_COT_' + str(explanation_column) + '_cur_' + str(use_current_explanation) + '_ground_' + str(use_ground_explanation) + '_' + label_type + '_final_' + os.path.split(data_path)[-1]\n",
    "output_final_path = os.path.join(output_dir, output_final_name)"
   ]
  },
  {
   "cell_type": "code",
   "execution_count": null,
   "id": "a28d97b0-87b4-40b7-bc43-7135e3cbe7e9",
   "metadata": {},
   "outputs": [],
   "source": [
    "config = {\n",
    "    \"task_name\": task_name+'_verification',\n",
    "    \"task_type\": \"classification\",\n",
    "    \"dataset\": {\n",
    "        \"label_column\": verify_answer_column,\n",
    "        \"text_column\": text_column,\n",
    "        \"delimiter\": \",\",\n",
    "        \"label_description\": label_description \n",
    "    },\n",
    "    \"model\": {\n",
    "        \"provider\": em_provider,\n",
    "        \"name\": model_name,\n",
    "        \"params\": model_params\n",
    "    },\n",
    "    \"embedding\": {\n",
    "        \"provider\": em_provider,\n",
    "    },\n",
    "    \"prompt\": {\n",
    "        \"task_guidelines\": verify_task_guideline,\n",
    "        \"output_guidelines\": f'''You will answer with just the correct output label (\"Yes\" or \"No\") and nothing else.''',\n",
    "        \"labels\": [\n",
    "            \"Yes\",\n",
    "            \"No\"\n",
    "        ],\n",
    "        \"few_shot_examples\": verify_few_shot_path,\n",
    "        \"few_shot_selection\": few_shot_selection,\n",
    "        \"few_shot_num\": few_shot_num,\n",
    "        \"random_shuffle_examples\": random_shuffle_examples,\n",
    "        \"random_shuffle_examples_seed\": random_shuffle_examples_seed,\n",
    "        \"example_template\": f\"Context: {{{text_column}}}\\nQuestion: {question}\\nAnswer: {{{verify_answer_column}}}\"\n",
    "    }\n",
    "}\n",
    "\n",
    "config = NewAutoLabelConfig(config)"
   ]
  },
  {
   "cell_type": "code",
   "execution_count": null,
   "id": "27e8d888-20f0-4e12-9dbd-f52ca407b1ab",
   "metadata": {},
   "outputs": [],
   "source": [
    "agent = LabelingAgent(config=config, console_output=console_output, cache=cache)"
   ]
  },
  {
   "cell_type": "code",
   "execution_count": null,
   "id": "92763312-ebaa-48b2-9d85-546c37558f33",
   "metadata": {},
   "outputs": [],
   "source": [
    "verify_ds = AutolabelDataset(new_test_data.drop(['text_idx',pos_column], axis=1), config=config)"
   ]
  },
  {
   "cell_type": "code",
   "execution_count": null,
   "id": "2ad700d3-2a4e-4738-872b-c3fd8e13667f",
   "metadata": {},
   "outputs": [],
   "source": [
    "agent.plan(verify_ds)"
   ]
  },
  {
   "cell_type": "code",
   "execution_count": null,
   "id": "cd6839c9-9ddb-45c5-a719-7853f8b9fd1d",
   "metadata": {},
   "outputs": [],
   "source": [
    "# now, do the actual labeling\n",
    "verify_ds = agent.run(verify_ds)"
   ]
  },
  {
   "cell_type": "code",
   "execution_count": null,
   "id": "59777587-3757-4d4b-9a6e-46922b1b555c",
   "metadata": {},
   "outputs": [],
   "source": [
    "metrics = verify_ds.eval()"
   ]
  },
  {
   "cell_type": "code",
   "execution_count": null,
   "id": "6130d151-0d22-4156-a456-0b52d897efac",
   "metadata": {},
   "outputs": [],
   "source": [
    "new_test_data[f'{verify_answer_column}_label'] = verify_ds.df[f'{verify_answer_column}_label']"
   ]
  },
  {
   "cell_type": "code",
   "execution_count": null,
   "id": "2288fcfb-7934-434a-aa70-2c03e51b5144",
   "metadata": {},
   "outputs": [],
   "source": [
    "verify_ds.df['text_idx'] = new_test_data['text_idx']"
   ]
  },
  {
   "cell_type": "code",
   "execution_count": null,
   "id": "64ba58de-265c-4ec5-9e22-ba2497e09257",
   "metadata": {},
   "outputs": [],
   "source": [
    "verify_ds.df.to_csv(output_verify_path, index=False)\n",
    "verify_ds.df.to_pickle(output_verify_path.replace('.csv', '.pkl'))"
   ]
  },
  {
   "cell_type": "code",
   "execution_count": null,
   "id": "77168401-84f4-4c23-a4cc-3ca9613cac79",
   "metadata": {},
   "outputs": [],
   "source": [
    "new_result = construct_results(ds.df, new_test_data, f'{label_column}_label', f'{verify_answer_column}_label', \"text_idx\", pos_column, label_symbol)"
   ]
  },
  {
   "cell_type": "code",
   "execution_count": null,
   "id": "ccc112ac-5d11-4a10-92da-a67844115f83",
   "metadata": {},
   "outputs": [],
   "source": [
    "metrics = ds.eval()"
   ]
  },
  {
   "cell_type": "code",
   "execution_count": null,
   "id": "96f40a09-e1e0-4781-85fb-63d91caf9b6b",
   "metadata": {},
   "outputs": [],
   "source": [
    "new_result.to_csv(output_final_path, index=False)\n",
    "new_result.to_pickle(output_final_path.replace('.csv', '.pkl'))"
   ]
  }
 ],
 "metadata": {
  "kernelspec": {
   "display_name": "py3.9-visa",
   "language": "python",
   "name": "py3.9-visa"
  },
  "language_info": {
   "codemirror_mode": {
    "name": "ipython",
    "version": 3
   },
   "file_extension": ".py",
   "mimetype": "text/x-python",
   "name": "python",
   "nbconvert_exporter": "python",
   "pygments_lexer": "ipython3",
   "version": "3.9.12"
  }
 },
 "nbformat": 4,
 "nbformat_minor": 5
}
